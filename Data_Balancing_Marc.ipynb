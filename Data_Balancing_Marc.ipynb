{
  "nbformat": 4,
  "nbformat_minor": 0,
  "metadata": {
    "colab": {
      "name": "Data_Balancing_Marc.ipynb",
      "provenance": [],
      "authorship_tag": "ABX9TyPZzglZSTLR7+m0CTURKJNh",
      "include_colab_link": true
    },
    "kernelspec": {
      "name": "python3",
      "display_name": "Python 3"
    },
    "language_info": {
      "name": "python"
    }
  },
  "cells": [
    {
      "cell_type": "markdown",
      "metadata": {
        "id": "view-in-github",
        "colab_type": "text"
      },
      "source": [
        "<a href=\"https://colab.research.google.com/github/ematala/satellite-segmentation/blob/main/Data_Balancing_Marc.ipynb\" target=\"_parent\"><img src=\"https://colab.research.google.com/assets/colab-badge.svg\" alt=\"Open In Colab\"/></a>"
      ]
    },
    {
      "cell_type": "code",
      "metadata": {
        "id": "815Nwd4wanZ4"
      },
      "source": [
        "import numpy as np\n",
        "\n",
        "import matplotlib.pyplot as plt\n",
        "from matplotlib.colors import ListedColormap\n",
        "\n",
        "from sklearn.model_selection import train_test_split\n",
        "\n",
        "from imblearn.over_sampling import RandomOverSampler\n",
        "from imblearn.over_sampling import SMOTE, ADASYN, BorderlineSMOTE, SVMSMOTE\n",
        "from imblearn.combine import SMOTETomek, SMOTEENN"
      ],
      "execution_count": 45,
      "outputs": []
    },
    {
      "cell_type": "code",
      "metadata": {
        "colab": {
          "base_uri": "https://localhost:8080/"
        },
        "id": "V9M_F7mCZhgb",
        "outputId": "1fe831fe-7a02-4976-9037-eac9c0e23099"
      },
      "source": [
        "from google.colab import drive\n",
        "\n",
        "drive.mount('/content/gdrive')"
      ],
      "execution_count": 3,
      "outputs": [
        {
          "output_type": "stream",
          "text": [
            "Mounted at /content/gdrive\n"
          ],
          "name": "stdout"
        }
      ]
    },
    {
      "cell_type": "code",
      "metadata": {
        "id": "qQncdmBRXHm8"
      },
      "source": [
        "# load training data from npz file\n",
        "data = np.load('/content/gdrive/MyDrive/train.npz')\n",
        "train_data_raw = data['bands']\n",
        "labels_raw = data['lulc']"
      ],
      "execution_count": 22,
      "outputs": []
    },
    {
      "cell_type": "code",
      "metadata": {
        "id": "tRaoWyAoaCLp"
      },
      "source": [
        "classes = np.array(['No Data', 'Cultivated Land', 'Forest', 'Grassland', 'Shrubland', 'Water', 'Wetlands', 'Tundra', 'Artificial Surface', 'Bareland', 'Snow and Ice'])\n",
        "classes_without_empty_labels=np.array(['No Data', 'Cultivated Land', 'Forest', 'Grassland', 'Shrubland', 'Water', 'Artificial Surface', 'Bareland'])\n",
        "classes_without_no_data = np.array(['Cultivated Land', 'Forest', 'Grassland', 'Shrubland', 'Water', 'Wetlands', 'Tundra', 'Artificial Surface', 'Bareland', 'Snow and Ice'])"
      ],
      "execution_count": 26,
      "outputs": []
    },
    {
      "cell_type": "code",
      "metadata": {
        "id": "QdB6ZV1fhBNI"
      },
      "source": [
        "# Get indices where label = no data:\n",
        "no_data_indices = labels_raw != 0\n",
        "\n",
        "# Exclude them from training set:\n",
        "train_data = train_data_raw[no_data_indices]\n",
        "labels = labels_raw[no_data_indices]"
      ],
      "execution_count": 23,
      "outputs": []
    },
    {
      "cell_type": "code",
      "metadata": {
        "id": "S80ogNZSeoaj"
      },
      "source": [
        "# extract middle pixel data for each patch:\n",
        "train_data_center_points = train_data[:,:,16,16,:]\n",
        "\n",
        "num_data_points = 8692\n",
        "\n",
        "# reshape data to 2D\n",
        "train_data_center_points = train_data_center_points.reshape((num_data_points,72))\n",
        "\n",
        "\n",
        "# Split data into train and val set:\n",
        "X_train, X_val, y_train, y_val = train_test_split(train_data_center_points, labels, \n",
        "                                                    test_size=0.25, stratify = labels, random_state=42)"
      ],
      "execution_count": 24,
      "outputs": []
    },
    {
      "cell_type": "code",
      "metadata": {
        "colab": {
          "base_uri": "https://localhost:8080/",
          "height": 298
        },
        "id": "1As4GN4taAxP",
        "outputId": "253999a8-55c1-4985-ceed-16dba1913e4d"
      },
      "source": [
        "# Original Class distribution:\n",
        "plt.hist(labels_raw, bins=list(range(len(classes) + 1)))\n",
        "plt.xticks(ticks=list(map(lambda x: x+0.5, list(range(len(classes))))), labels=classes, rotation=90)\n",
        "plt.tight_layout()\n",
        "plt.show()"
      ],
      "execution_count": 25,
      "outputs": [
        {
          "output_type": "display_data",
          "data": {
            "image/png": "[encoded data removed]",
            "text/plain": [
              "<Figure size 432x288 with 1 Axes>"
            ]
          },
          "metadata": {
            "tags": [],
            "needs_background": "light"
          }
        }
      ]
    },
    {
      "cell_type": "code",
      "metadata": {
        "colab": {
          "base_uri": "https://localhost:8080/",
          "height": 298
        },
        "id": "exBaap8UhKpY",
        "outputId": "82a9423e-66c0-4c8b-a46d-023cf3bcbbd6"
      },
      "source": [
        "# Preprocessed Class distribution:\n",
        "plt.hist(labels, bins=list(range(len(classes_without_no_data) + 1)))\n",
        "plt.xticks(ticks=list(map(lambda x: x+1.5, list(range(len(classes_without_no_data))))), labels=classes_without_no_data, rotation=90)\n",
        "plt.tight_layout()\n",
        "plt.show()"
      ],
      "execution_count": 30,
      "outputs": [
        {
          "output_type": "display_data",
          "data": {
            "image/png": "[encoded data removed]",
            "text/plain": [
              "<Figure size 432x288 with 1 Axes>"
            ]
          },
          "metadata": {
            "tags": [],
            "needs_background": "light"
          }
        }
      ]
    },
    {
      "cell_type": "code",
      "metadata": {
        "colab": {
          "base_uri": "https://localhost:8080/"
        },
        "id": "Pp57bC9Ya9s3",
        "outputId": "55b26524-10be-4950-dad7-54a2b9c81ecc"
      },
      "source": [
        "# SMOTE Data Augmentation\n",
        "smote= SMOTE() # Data Augmentation by synthezising data until balanced\n",
        "#adasyn = ADASYN() # \n",
        "#smote_enn = SMOTEENN(random_state=0) # Combination of Under- and Oversampling\n",
        "#smote_tomek = SMOTETomek(random_state=0) # Combination of Under- and Oversampling\n",
        "train_data_SMOTE, labels_SMOTE = smote.fit_resample(train_data_center_points, labels)"
      ],
      "execution_count": 37,
      "outputs": [
        {
          "output_type": "stream",
          "text": [
            "/usr/local/lib/python3.7/dist-packages/sklearn/utils/deprecation.py:87: FutureWarning: Function safe_indexing is deprecated; safe_indexing is deprecated in version 0.22 and will be removed in version 0.24.\n",
            "  warnings.warn(msg, category=FutureWarning)\n",
            "/usr/local/lib/python3.7/dist-packages/sklearn/utils/deprecation.py:87: FutureWarning: Function safe_indexing is deprecated; safe_indexing is deprecated in version 0.22 and will be removed in version 0.24.\n",
            "  warnings.warn(msg, category=FutureWarning)\n",
            "/usr/local/lib/python3.7/dist-packages/sklearn/utils/deprecation.py:87: FutureWarning: Function safe_indexing is deprecated; safe_indexing is deprecated in version 0.22 and will be removed in version 0.24.\n",
            "  warnings.warn(msg, category=FutureWarning)\n",
            "/usr/local/lib/python3.7/dist-packages/sklearn/utils/deprecation.py:87: FutureWarning: Function safe_indexing is deprecated; safe_indexing is deprecated in version 0.22 and will be removed in version 0.24.\n",
            "  warnings.warn(msg, category=FutureWarning)\n",
            "/usr/local/lib/python3.7/dist-packages/sklearn/utils/deprecation.py:87: FutureWarning: Function safe_indexing is deprecated; safe_indexing is deprecated in version 0.22 and will be removed in version 0.24.\n",
            "  warnings.warn(msg, category=FutureWarning)\n",
            "/usr/local/lib/python3.7/dist-packages/sklearn/utils/deprecation.py:87: FutureWarning: Function safe_indexing is deprecated; safe_indexing is deprecated in version 0.22 and will be removed in version 0.24.\n",
            "  warnings.warn(msg, category=FutureWarning)\n"
          ],
          "name": "stderr"
        }
      ]
    },
    {
      "cell_type": "code",
      "metadata": {
        "colab": {
          "base_uri": "https://localhost:8080/",
          "height": 298
        },
        "id": "0TBMYccWjAS2",
        "outputId": "bdbc199b-1e6b-47ba-a73d-0d0522d90fcd"
      },
      "source": [
        "# SMOTE Preprocessing Class distribution:\n",
        "plt.hist(labels_SMOTE, bins=list(range(len(classes_without_no_data) + 1)))\n",
        "plt.xticks(ticks=list(map(lambda x: x+1.5, list(range(len(classes_without_no_data))))), labels=classes_without_no_data, rotation=90)\n",
        "plt.tight_layout()\n",
        "plt.show()"
      ],
      "execution_count": 38,
      "outputs": [
        {
          "output_type": "display_data",
          "data": {
            "image/png": "[encoded data removed]",
            "text/plain": [
              "<Figure size 432x288 with 1 Axes>"
            ]
          },
          "metadata": {
            "tags": [],
            "needs_background": "light"
          }
        }
      ]
    },
    {
      "cell_type": "code",
      "metadata": {
        "colab": {
          "base_uri": "https://localhost:8080/"
        },
        "id": "LlcDG2GsiRao",
        "outputId": "df51f88c-a1d5-40c3-f28b-7429c329c8fd"
      },
      "source": [
        "# Over Sampling Data Balancing\n",
        "\n",
        "ros = RandomOverSampler()\n",
        "train_data_ROS, labels_ROS = ros.fit_resample(train_data_center_points, labels)"
      ],
      "execution_count": 39,
      "outputs": [
        {
          "output_type": "stream",
          "text": [
            "/usr/local/lib/python3.7/dist-packages/sklearn/utils/deprecation.py:87: FutureWarning: Function safe_indexing is deprecated; safe_indexing is deprecated in version 0.22 and will be removed in version 0.24.\n",
            "  warnings.warn(msg, category=FutureWarning)\n"
          ],
          "name": "stderr"
        }
      ]
    },
    {
      "cell_type": "code",
      "metadata": {
        "colab": {
          "base_uri": "https://localhost:8080/",
          "height": 298
        },
        "id": "NTfWGvikYAzA",
        "outputId": "36ed6323-77f5-4cfa-f7d7-cf749020d222"
      },
      "source": [
        "# ROS Balancing Class distribution:\n",
        "plt.hist(labels_ROS, bins=list(range(len(classes_without_no_data) + 1)))\n",
        "plt.xticks(ticks=list(map(lambda x: x+1.5, list(range(len(classes_without_no_data))))), labels=classes_without_no_data, rotation=90)\n",
        "plt.tight_layout()\n",
        "plt.show()"
      ],
      "execution_count": 40,
      "outputs": [
        {
          "output_type": "display_data",
          "data": {
            "image/png": "[encoded data removed]",
            "text/plain": [
              "<Figure size 432x288 with 1 Axes>"
            ]
          },
          "metadata": {
            "tags": [],
            "needs_background": "light"
          }
        }
      ]
    }
  ]
}