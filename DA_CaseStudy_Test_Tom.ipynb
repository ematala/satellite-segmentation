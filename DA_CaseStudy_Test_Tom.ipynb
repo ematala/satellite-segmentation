{
  "nbformat": 4,
  "nbformat_minor": 0,
  "metadata": {
    "colab": {
      "name": "DA_CaseStudy_Test_Tom.ipynb",
      "provenance": [],
      "authorship_tag": "ABX9TyPT+DfmjwEFjd5PN9Bs1ovG",
      "include_colab_link": true
    },
    "kernelspec": {
      "name": "python3",
      "display_name": "Python 3"
    },
    "language_info": {
      "name": "python"
    }
  },
  "cells": [
    {
      "cell_type": "markdown",
      "metadata": {
        "id": "view-in-github",
        "colab_type": "text"
      },
      "source": [
        "<a href=\"https://colab.research.google.com/github/ematala/satellite-segmentation/blob/main/DA_CaseStudy_Test_Tom.ipynb\" target=\"_parent\"><img src=\"https://colab.research.google.com/assets/colab-badge.svg\" alt=\"Open In Colab\"/></a>"
      ]
    },
    {
      "cell_type": "code",
      "metadata": {
        "colab": {
          "base_uri": "https://localhost:8080/"
        },
        "id": "kIRu74IO4CrF",
        "outputId": "46728077-35b4-4cf6-d238-f318cdf25550"
      },
      "source": [
        "from google.colab import drive\n",
        "\n",
        "drive.mount('/content/gdrive')"
      ],
      "execution_count": null,
      "outputs": [
        {
          "output_type": "stream",
          "text": [
            "Mounted at /content/gdrive\n"
          ],
          "name": "stdout"
        }
      ]
    },
    {
      "cell_type": "code",
      "metadata": {
        "colab": {
          "base_uri": "https://localhost:8080/"
        },
        "id": "ZqRibSEA8Iz9",
        "outputId": "1601ad44-9873-4c26-930e-2e82f7be33b6"
      },
      "source": [
        "import numpy\n",
        "data = numpy.load('/content/gdrive/MyDrive/Colab Notebooks/train.npz')\n",
        "print(data.files)\n",
        "\n",
        "print(data['bands'].shape)"
      ],
      "execution_count": null,
      "outputs": [
        {
          "output_type": "stream",
          "text": [
            "(10000, 12, 33, 33, 6)\n"
          ],
          "name": "stdout"
        }
      ]
    }
  ]
}