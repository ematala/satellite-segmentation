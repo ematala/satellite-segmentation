{
  "nbformat": 4,
  "nbformat_minor": 0,
  "metadata": {
    "colab": {
      "name": "DA_CaseStudy_Test_Tom.ipynb",
      "provenance": [],
      "collapsed_sections": [],
      "include_colab_link": true
    },
    "interpreter": {
      "hash": "e67b401dea846c4b6e555a5b9f33a72976f4e6c154589e4934bc1706ab467be7"
    },
    "kernelspec": {
      "display_name": "Python 3.7.4 64-bit",
      "name": "python3"
    },
    "language_info": {
      "codemirror_mode": {
        "name": "ipython",
        "version": 3
      },
      "file_extension": ".py",
      "mimetype": "text/x-python",
      "name": "python",
      "nbconvert_exporter": "python",
      "pygments_lexer": "ipython3",
      "version": "3.7.4"
    }
  },
  "cells": [
    {
      "cell_type": "markdown",
      "metadata": {
        "id": "view-in-github",
        "colab_type": "text"
      },
      "source": [
        "<a href=\"https://colab.research.google.com/github/ematala/satellite-segmentation/blob/main/DA_CaseStudy_Test_Tom.ipynb\" target=\"_parent\"><img src=\"https://colab.research.google.com/assets/colab-badge.svg\" alt=\"Open In Colab\"/></a>"
      ]
    },
    {
      "cell_type": "code",
      "metadata": {
        "id": "P8yEa0pcUCU-"
      },
      "source": [
        "import pandas as pd\n",
        "import numpy as np\n",
        "import os\n",
        "import datetime\n",
        "import sklearn\n",
        "import matplotlib.pyplot as plt\n",
        "import math\n",
        "import getpass\n",
        "\n",
        "#  for LeNet-5\n",
        "from sklearn.model_selection import train_test_split\n",
        "# import tensorflow as tf\n",
        "# import keras\n",
        "# import keras.layers as layers\n",
        "# from keras.models import Sequential\n",
        "# from keras.preprocessing.image import ImageDataGenerator\n",
        "# from keras.utils.np_utils import to_categorical\n",
        "# from keras.callbacks import TensorBoard\n",
        "\n",
        "\n",
        "# for  3D CNN\n",
        "import keras\n",
        "from keras.models import Sequential\n",
        "from keras.layers import Dense, Flatten, Conv3D, MaxPooling3D, Dropout, BatchNormalization\n",
        "from keras.utils.np_utils import to_categorical"
      ],
      "execution_count": null,
      "outputs": []
    },
    {
      "cell_type": "code",
      "metadata": {
        "id": "kIRu74IO4CrF"
      },
      "source": [
        "if 'Tom' not in getpass.getuser():\n",
        "    from google.colab import drive\n",
        "    drive.mount('/content/gdrive')"
      ],
      "execution_count": null,
      "outputs": []
    },
    {
      "cell_type": "code",
      "metadata": {
        "id": "ZqRibSEA8Iz9"
      },
      "source": [
        "data = np.load('train.npz') if 'Tom' in getpass.getuser() else np.load('/content/gdrive/MyDrive/Colab Notebooks/train.npz') "
      ],
      "execution_count": null,
      "outputs": []
    },
    {
      "cell_type": "code",
      "metadata": {
        "id": "ebYO2t4EURYx"
      },
      "source": [
        "# separate bands and labels:\n",
        "train_data = data['bands']\n",
        "labels = data['lulc']"
      ],
      "execution_count": null,
      "outputs": []
    },
    {
      "cell_type": "code",
      "metadata": {
        "id": "-OcdAkYvUT6I"
      },
      "source": [
        "# add class labels manually\n",
        "classes = np.array(['No Data', 'Cultivated Land', 'Forest', 'Grassland', 'Shrubland', 'Water', 'Wetlands', 'Tundra', 'Artificial Surface', 'Bareland', 'Snow and Ice'])"
      ],
      "execution_count": null,
      "outputs": []
    },
    {
      "cell_type": "code",
      "metadata": {
        "colab": {
          "base_uri": "https://localhost:8080/"
        },
        "id": "Gr9PpsvyUdcb",
        "outputId": "c7f5afb5-8a3a-43cc-f68a-13463d1a436e"
      },
      "source": [
        "np.histogram(labels, bins=list(range(len(classes) + 1)))"
      ],
      "execution_count": null,
      "outputs": [
        {
          "output_type": "execute_result",
          "data": {
            "text/plain": [
              "(array([1308,  238, 5796, 1125,  770,   58,    0,    0,  217,  488,    0],\n",
              "       dtype=int64),\n",
              " array([ 0,  1,  2,  3,  4,  5,  6,  7,  8,  9, 10, 11]))"
            ]
          },
          "metadata": {
            "tags": []
          },
          "execution_count": 11
        }
      ]
    },
    {
      "cell_type": "code",
      "metadata": {
        "colab": {
          "base_uri": "https://localhost:8080/",
          "height": 298
        },
        "id": "IN-nM9VPVBBY",
        "outputId": "4c621cf5-c9c2-47f3-e83d-b24b98a3a34b"
      },
      "source": [
        "plt.hist(labels, bins=list(range(len(classes) + 1)))\n",
        "plt.xticks(ticks=list(map(lambda x: x+0.5, list(range(len(classes))))), labels=classes, rotation=90)\n",
        "plt.tight_layout()\n",
        "plt.show()"
      ],
      "execution_count": null,
      "outputs": [
        {
          "output_type": "display_data",
          "data": {
            "image/png": "[encoded data removed]",
            "text/plain": [
              "<Figure size 432x288 with 1 Axes>"
            ]
          },
          "metadata": {
            "tags": [],
            "needs_background": "light"
          }
        }
      ]
    },
    {
      "cell_type": "markdown",
      "metadata": {
        "id": "VvhW9q0xVIBQ"
      },
      "source": [
        "# **Experimental CNN**"
      ]
    },
    {
      "cell_type": "code",
      "metadata": {
        "colab": {
          "base_uri": "https://localhost:8080/",
          "height": 295
        },
        "id": "ZXtfE0w0cqxU",
        "outputId": "307a0e5c-9d00-49e6-91f6-5a97388de87c"
      },
      "source": [
        "train_labels_count = np.unique(labels, return_counts=True)\n",
        "dataframe_train_labels = pd.DataFrame({'Label':train_labels_count[0], 'Count':train_labels_count[1]})\n",
        "dataframe_train_labels"
      ],
      "execution_count": null,
      "outputs": [
        {
          "output_type": "execute_result",
          "data": {
            "text/html": [
              "<div>\n",
              "<style scoped>\n",
              "    .dataframe tbody tr th:only-of-type {\n",
              "        vertical-align: middle;\n",
              "    }\n",
              "\n",
              "    .dataframe tbody tr th {\n",
              "        vertical-align: top;\n",
              "    }\n",
              "\n",
              "    .dataframe thead th {\n",
              "        text-align: right;\n",
              "    }\n",
              "</style>\n",
              "<table border=\"1\" class=\"dataframe\">\n",
              "  <thead>\n",
              "    <tr style=\"text-align: right;\">\n",
              "      <th></th>\n",
              "      <th>Label</th>\n",
              "      <th>Count</th>\n",
              "    </tr>\n",
              "  </thead>\n",
              "  <tbody>\n",
              "    <tr>\n",
              "      <th>0</th>\n",
              "      <td>0</td>\n",
              "      <td>1308</td>\n",
              "    </tr>\n",
              "    <tr>\n",
              "      <th>1</th>\n",
              "      <td>1</td>\n",
              "      <td>238</td>\n",
              "    </tr>\n",
              "    <tr>\n",
              "      <th>2</th>\n",
              "      <td>2</td>\n",
              "      <td>5796</td>\n",
              "    </tr>\n",
              "    <tr>\n",
              "      <th>3</th>\n",
              "      <td>3</td>\n",
              "      <td>1125</td>\n",
              "    </tr>\n",
              "    <tr>\n",
              "      <th>4</th>\n",
              "      <td>4</td>\n",
              "      <td>770</td>\n",
              "    </tr>\n",
              "    <tr>\n",
              "      <th>5</th>\n",
              "      <td>5</td>\n",
              "      <td>58</td>\n",
              "    </tr>\n",
              "    <tr>\n",
              "      <th>6</th>\n",
              "      <td>8</td>\n",
              "      <td>217</td>\n",
              "    </tr>\n",
              "    <tr>\n",
              "      <th>7</th>\n",
              "      <td>9</td>\n",
              "      <td>488</td>\n",
              "    </tr>\n",
              "  </tbody>\n",
              "</table>\n",
              "</div>"
            ],
            "text/plain": [
              "   Label  Count\n",
              "0      0   1308\n",
              "1      1    238\n",
              "2      2   5796\n",
              "3      3   1125\n",
              "4      4    770\n",
              "5      5     58\n",
              "6      8    217\n",
              "7      9    488"
            ]
          },
          "metadata": {
            "tags": []
          },
          "execution_count": 13
        }
      ]
    },
    {
      "cell_type": "code",
      "metadata": {
        "id": "rR3kp7QrejsV"
      },
      "source": [
        "train = {}\n",
        "validation = {}\n",
        "train['features'], validation['features'], train['labels'], validation['labels'] = train_test_split(train_data, labels, test_size=0.2, random_state=0)"
      ],
      "execution_count": null,
      "outputs": []
    },
    {
      "cell_type": "code",
      "metadata": {
        "colab": {
          "base_uri": "https://localhost:8080/"
        },
        "id": "wLh6EtyQgAac",
        "outputId": "034c572f-5111-43d7-c5db-a4c6c07989ab"
      },
      "source": [
        "print('# of training images:', train['features'].shape[0])\n",
        "print('# of validation images:', validation['features'].shape[0])"
      ],
      "execution_count": null,
      "outputs": [
        {
          "output_type": "stream",
          "text": [
            "# of training images: 8000\n",
            "# of validation images: 2000\n"
          ],
          "name": "stdout"
        }
      ]
    },
    {
      "cell_type": "code",
      "metadata": {
        "id": "onzNLmY86zsn"
      },
      "source": [
        "# train['features'] = to_categorical(train['features'], 11)\n",
        "train['labels'] = to_categorical(train['labels'], 11)\n",
        "# validation['features'] = to_categorical(validation['features'], 11)\n",
        "validation['labels'] = to_categorical(validation['labels'], 11)"
      ],
      "execution_count": null,
      "outputs": []
    },
    {
      "cell_type": "code",
      "metadata": {
        "id": "6jBZiwJqVRQ5"
      },
      "source": [
        "# Try Google's LeNet-5\n",
        "\n",
        "# model = keras.Sequential()\n",
        "\n",
        "# model.add(layers.Conv3D(filters=6, kernel_size=(1, 1, 1), activation='relu', input_shape=(12,33,33,6)))\n",
        "# model.add(layers.AveragePooling3D())\n",
        "\n",
        "# model.add(layers.Conv3D(filters=16, kernel_size=(1, 1, 1), activation='relu'))\n",
        "# model.add(layers.AveragePooling3D())\n",
        "\n",
        "# model.add(layers.Flatten())\n",
        "\n",
        "# model.add(layers.Dense(units=120, activation='relu'))\n",
        "\n",
        "# model.add(layers.Dense(units=84, activation='relu'))\n",
        "\n",
        "# model.add(layers.Dense(units=11, activation = 'softmax'))"
      ],
      "execution_count": null,
      "outputs": []
    },
    {
      "cell_type": "code",
      "metadata": {
        "id": "nYSMuJqJq21v",
        "outputId": "c44588bb-5288-4ac9-fe4c-799f26878e2a"
      },
      "source": [
        "model = Sequential()\n",
        "model.add(Conv3D(32, kernel_size=(3, 3, 3), activation='relu', kernel_initializer='he_uniform', input_shape=(12,33,33,6)))\n",
        "model.add(MaxPooling3D(pool_size=(2, 2, 2)))\n",
        "model.add(BatchNormalization(center=True, scale=True))\n",
        "model.add(Dropout(0.5))\n",
        "model.add(Conv3D(64, kernel_size=(3, 3, 3), activation='relu', kernel_initializer='he_uniform'))\n",
        "model.add(MaxPooling3D(pool_size=(2, 2, 2)))\n",
        "model.add(BatchNormalization(center=True, scale=True))\n",
        "model.add(Dropout(0.5))\n",
        "model.add(Flatten())\n",
        "#model.add(MaxPooling3D(pool_size=(1, 5, 5)))\n",
        "model.add(Dense(256, activation='relu', kernel_initializer='he_uniform'))\n",
        "model.add(Dense(256, activation='relu', kernel_initializer='he_uniform'))\n",
        "model.add(Dense(11, activation='softmax'))\n",
        "\n",
        "# Compile the model\n",
        "model.compile(\n",
        "    'Adam',\n",
        "    loss='categorical_crossentropy',\n",
        "    metrics=['accuracy'],\n",
        ")\n",
        "model.summary()\n"
      ],
      "execution_count": null,
      "outputs": [
        {
          "output_type": "stream",
          "text": [
            "Model: \"sequential_4\"\n",
            "_________________________________________________________________\n",
            "Layer (type)                 Output Shape              Param #   \n",
            "=================================================================\n",
            "conv3d_8 (Conv3D)            (None, 10, 31, 31, 32)    5216      \n",
            "_________________________________________________________________\n",
            "max_pooling3d_8 (MaxPooling3 (None, 5, 15, 15, 32)     0         \n",
            "_________________________________________________________________\n",
            "batch_normalization_8 (Batch (None, 5, 15, 15, 32)     128       \n",
            "_________________________________________________________________\n",
            "dropout_8 (Dropout)          (None, 5, 15, 15, 32)     0         \n",
            "_________________________________________________________________\n",
            "conv3d_9 (Conv3D)            (None, 3, 13, 13, 64)     55360     \n",
            "_________________________________________________________________\n",
            "max_pooling3d_9 (MaxPooling3 (None, 1, 6, 6, 64)       0         \n",
            "_________________________________________________________________\n",
            "batch_normalization_9 (Batch (None, 1, 6, 6, 64)       256       \n",
            "_________________________________________________________________\n",
            "dropout_9 (Dropout)          (None, 1, 6, 6, 64)       0         \n",
            "_________________________________________________________________\n",
            "flatten_4 (Flatten)          (None, 2304)              0         \n",
            "_________________________________________________________________\n",
            "dense_12 (Dense)             (None, 256)               590080    \n",
            "_________________________________________________________________\n",
            "dense_13 (Dense)             (None, 256)               65792     \n",
            "_________________________________________________________________\n",
            "dense_14 (Dense)             (None, 11)                2827      \n",
            "=================================================================\n",
            "Total params: 719,659\n",
            "Trainable params: 719,467\n",
            "Non-trainable params: 192\n",
            "_________________________________________________________________\n"
          ],
          "name": "stdout"
        }
      ]
    },
    {
      "cell_type": "code",
      "metadata": {
        "id": "hDQdGQiKhfti",
        "outputId": "d05d64a4-9c97-4bde-ec6d-e38a2dd38544"
      },
      "source": [
        "# Fit data to model\n",
        "# history = model.fit(train_data, labels,\n",
        "#             batch_size=128,\n",
        "#             epochs=5,\n",
        "#             verbose=1,\n",
        "#             validation_split=0.2)\n",
        "\n",
        "history = model.fit(train['features'], train['labels'], batch_size=128, epochs=5, validation_data=(validation['features'], validation['labels']))"
      ],
      "execution_count": null,
      "outputs": [
        {
          "output_type": "stream",
          "text": [
            "Epoch 1/5\n",
            "63/63 [==============================] - 130s 2s/step - loss: 1.7366 - accuracy: 0.5098 - val_loss: 1.3421 - val_accuracy: 0.5880\n",
            "Epoch 2/5\n",
            "63/63 [==============================] - 128s 2s/step - loss: 1.0670 - accuracy: 0.6283 - val_loss: 2.2141 - val_accuracy: 0.5880\n",
            "Epoch 3/5\n",
            "63/63 [==============================] - 128s 2s/step - loss: 0.9463 - accuracy: 0.6703 - val_loss: 2.4026 - val_accuracy: 0.5880\n",
            "Epoch 4/5\n",
            "63/63 [==============================] - 128s 2s/step - loss: 0.8785 - accuracy: 0.6938 - val_loss: 1.8969 - val_accuracy: 0.5885\n",
            "Epoch 5/5\n",
            "63/63 [==============================] - 128s 2s/step - loss: 0.8253 - accuracy: 0.7069 - val_loss: 1.7972 - val_accuracy: 0.5965\n"
          ],
          "name": "stdout"
        }
      ]
    }
  ]
}