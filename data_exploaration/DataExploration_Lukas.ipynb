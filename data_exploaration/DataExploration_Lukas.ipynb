{
  "nbformat": 4,
  "nbformat_minor": 0,
  "metadata": {
    "language_info": {
      "codemirror_mode": {
        "name": "ipython",
        "version": 3
      },
      "file_extension": ".py",
      "mimetype": "text/x-python",
      "name": "python",
      "nbconvert_exporter": "python",
      "pygments_lexer": "ipython3",
      "version": "3.9.0"
    },
    "orig_nbformat": 4,
    "kernelspec": {
      "name": "python3",
      "display_name": "Python 3.9.0 64-bit ('.venv')"
    },
    "interpreter": {
      "hash": "97a6cc46bd9fda46ba14a7852b39713e156f1e9b147e397c1e4d5bba61d673ce"
    },
    "colab": {
      "name": "Data Exploration.ipynb",
      "provenance": [],
      "include_colab_link": true
    },
    "accelerator": "GPU"
  },
  "cells": [
    {
      "cell_type": "markdown",
      "metadata": {
        "id": "view-in-github",
        "colab_type": "text"
      },
      "source": [
        "<a href=\"https://colab.research.google.com/github/ematala/satellite-segmentation/blob/main/DataExploration_Lukas.ipynb\" target=\"_parent\"><img src=\"https://colab.research.google.com/assets/colab-badge.svg\" alt=\"Open In Colab\"/></a>"
      ]
    },
    {
      "cell_type": "code",
      "metadata": {
        "id": "wtn1pa_N7xfy"
      },
      "source": [
        "import tensorflow as tf\n",
        "from tensorflow import keras\n",
        "import numpy as np\n",
        "import pandas as pd\n",
        "import os\n",
        "import datetime\n",
        "import sklearn\n",
        "import matplotlib.pyplot as plt\n",
        "import math\n",
        "from google.colab import drive"
      ],
      "execution_count": 49,
      "outputs": []
    },
    {
      "cell_type": "code",
      "metadata": {
        "id": "XiyyjlMt70dS",
        "colab": {
          "base_uri": "https://localhost:8080/"
        },
        "outputId": "d23d4bd2-8ffc-4598-d3d1-80cb78e1e41f"
      },
      "source": [
        "drive.mount('/content/drive')\n",
        "data = np.load('/content/drive/MyDrive/Colab Notebooks/Data/train.npz')\n"
      ],
      "execution_count": 50,
      "outputs": [
        {
          "output_type": "stream",
          "text": [
            "Drive already mounted at /content/drive; to attempt to forcibly remount, call drive.mount(\"/content/drive\", force_remount=True).\n"
          ],
          "name": "stdout"
        }
      ]
    },
    {
      "cell_type": "code",
      "metadata": {
        "id": "Q5Yk4ti27xgt"
      },
      "source": [
        "# separate bands and labels:\n",
        "train_data = data['bands']\n",
        "labels = data['lulc']"
      ],
      "execution_count": 51,
      "outputs": []
    },
    {
      "cell_type": "markdown",
      "metadata": {
        "id": "KkvbIDnnYfZz"
      },
      "source": [
        " Data visualization\n"
      ]
    },
    {
      "cell_type": "code",
      "metadata": {
        "id": "2prbs3EFW3cs"
      },
      "source": [
        "# add class labels manually\n",
        "classes = np.array(['No Data', 'Cultivated Land', 'Forest', 'Grassland', 'Shrubland', 'Water', 'Wetlands', 'Tundra', 'Artificial Surface', 'Bareland', 'Snow and Ice'])"
      ],
      "execution_count": 52,
      "outputs": []
    },
    {
      "cell_type": "code",
      "metadata": {
        "id": "ePHxowaF7xgu",
        "colab": {
          "base_uri": "https://localhost:8080/",
          "height": 171
        },
        "outputId": "965c2f2d-f38e-4107-cad7-18c97bbd559b"
      },
      "source": [
        "np.histogram(lulc, bins=list(range(len(classes) + 1)))"
      ],
      "execution_count": 64,
      "outputs": [
        {
          "output_type": "error",
          "ename": "NameError",
          "evalue": "ignored",
          "traceback": [
            "\u001b[0;31m---------------------------------------------------------------------------\u001b[0m",
            "\u001b[0;31mNameError\u001b[0m                                 Traceback (most recent call last)",
            "\u001b[0;32m<ipython-input-64-b86e6153d449>\u001b[0m in \u001b[0;36m<module>\u001b[0;34m()\u001b[0m\n\u001b[0;32m----> 1\u001b[0;31m \u001b[0mnp\u001b[0m\u001b[0;34m.\u001b[0m\u001b[0mhistogram\u001b[0m\u001b[0;34m(\u001b[0m\u001b[0mlulc\u001b[0m\u001b[0;34m,\u001b[0m \u001b[0mbins\u001b[0m\u001b[0;34m=\u001b[0m\u001b[0mlist\u001b[0m\u001b[0;34m(\u001b[0m\u001b[0mrange\u001b[0m\u001b[0;34m(\u001b[0m\u001b[0mlen\u001b[0m\u001b[0;34m(\u001b[0m\u001b[0mclasses\u001b[0m\u001b[0;34m)\u001b[0m \u001b[0;34m+\u001b[0m \u001b[0;36m1\u001b[0m\u001b[0;34m)\u001b[0m\u001b[0;34m)\u001b[0m\u001b[0;34m)\u001b[0m\u001b[0;34m\u001b[0m\u001b[0;34m\u001b[0m\u001b[0m\n\u001b[0m",
            "\u001b[0;31mNameError\u001b[0m: name 'lulc' is not defined"
          ]
        }
      ]
    },
    {
      "cell_type": "code",
      "metadata": {
        "id": "HnSsoyTu8eQ7"
      },
      "source": [
        "plt.hist(lulc, bins=list(range(len(classes) + 1)))\n",
        "plt.xticks(ticks=list(map(lambda x: x+0.5, list(range(len(classes))))), labels=classes, rotation=90)\n",
        "plt.tight_layout()\n",
        "plt.show()"
      ],
      "execution_count": null,
      "outputs": []
    },
    {
      "cell_type": "markdown",
      "metadata": {
        "id": "n4ewDeBTaMUc"
      },
      "source": [
        "## First experiment"
      ]
    },
    {
      "cell_type": "code",
      "metadata": {
        "id": "0XXjJYTZaEPg",
        "colab": {
          "base_uri": "https://localhost:8080/"
        },
        "outputId": "14807216-7ac5-45d1-ad30-920f871bc87a"
      },
      "source": [
        "from tensorflow.keras.layers import InputLayer, Dense, Flatten, Conv2D, MaxPool2D, ReLU, BatchNormalization, GlobalAveragePooling2D, Dropout\n",
        "\n",
        "firstModel = keras.Sequential()\n",
        "\n",
        "firstModel.add(keras.layers.Conv3D(64, 3, input_shape=(12,33,33, 6), padding=\"same\", activation=\"relu\"))\n",
        "firstModel.add(keras.layers.Conv3D(64, 3, padding=\"same\", activation=\"relu\"))\n",
        "firstModel.add(keras.layers.MaxPool3D())\n",
        "firstModel.add(keras.layers.Conv3D(128, 3, padding=\"same\", activation=\"relu\"))\n",
        "firstModel.add(keras.layers.Conv3D(128, 3, padding=\"same\", activation=\"relu\"))\n",
        "firstModel.add(keras.layers.MaxPool3D())\n",
        "firstModel.add(keras.layers.Conv3D(256, 3, padding=\"same\", activation=\"relu\"))\n",
        "firstModel.add(keras.layers.Conv3D(256, 3, padding=\"same\", activation=\"relu\"))\n",
        "firstModel.add(keras.layers.Conv3D(256, 3, padding=\"same\", activation=\"relu\"))\n",
        "firstModel.add(keras.layers.MaxPool3D())\n",
        "firstModel.add(keras.layers.Conv3D(512, 3, padding=\"same\", activation=\"relu\"))\n",
        "firstModel.add(keras.layers.Conv3D(512, 3, padding=\"same\", activation=\"relu\"))\n",
        "firstModel.add(keras.layers.Conv3D(512, 3, padding=\"same\", activation=\"relu\"))\n",
        "firstModel.add(keras.layers.MaxPool3D(pool_size=(1,4,4)))\n",
        "firstModel.add(keras.layers.Dense(4096, activation=\"relu\"))\n",
        "firstModel.add(keras.layers.Dense(4096, activation=\"relu\"))\n",
        "firstModel.add(keras.layers.Dense(1000, activation=\"relu\"))\n",
        "firstModel.add(keras.layers.Dense(11, activation=\"softmax\"))\n",
        "\n",
        "firstModel.compile(\n",
        "  'Adam',\n",
        "  loss='sparse_categorical_crossentropy',\n",
        "  metrics=['accuracy'],\n",
        ")\n",
        "\n",
        "firstModel.summary()"
      ],
      "execution_count": 34,
      "outputs": [
        {
          "output_type": "stream",
          "text": [
            "Model: \"sequential_3\"\n",
            "_________________________________________________________________\n",
            "Layer (type)                 Output Shape              Param #   \n",
            "=================================================================\n",
            "conv3d_13 (Conv3D)           (None, 12, 33, 33, 64)    10432     \n",
            "_________________________________________________________________\n",
            "conv3d_14 (Conv3D)           (None, 12, 33, 33, 64)    110656    \n",
            "_________________________________________________________________\n",
            "max_pooling3d_5 (MaxPooling3 (None, 6, 16, 16, 64)     0         \n",
            "_________________________________________________________________\n",
            "conv3d_15 (Conv3D)           (None, 6, 16, 16, 128)    221312    \n",
            "_________________________________________________________________\n",
            "conv3d_16 (Conv3D)           (None, 6, 16, 16, 128)    442496    \n",
            "_________________________________________________________________\n",
            "max_pooling3d_6 (MaxPooling3 (None, 3, 8, 8, 128)      0         \n",
            "_________________________________________________________________\n",
            "conv3d_17 (Conv3D)           (None, 3, 8, 8, 256)      884992    \n",
            "_________________________________________________________________\n",
            "conv3d_18 (Conv3D)           (None, 3, 8, 8, 256)      1769728   \n",
            "_________________________________________________________________\n",
            "conv3d_19 (Conv3D)           (None, 3, 8, 8, 256)      1769728   \n",
            "_________________________________________________________________\n",
            "max_pooling3d_7 (MaxPooling3 (None, 1, 4, 4, 256)      0         \n",
            "_________________________________________________________________\n",
            "conv3d_20 (Conv3D)           (None, 1, 4, 4, 512)      3539456   \n",
            "_________________________________________________________________\n",
            "conv3d_21 (Conv3D)           (None, 1, 4, 4, 512)      7078400   \n",
            "_________________________________________________________________\n",
            "conv3d_22 (Conv3D)           (None, 1, 4, 4, 512)      7078400   \n",
            "_________________________________________________________________\n",
            "max_pooling3d_8 (MaxPooling3 (None, 1, 1, 1, 512)      0         \n",
            "_________________________________________________________________\n",
            "dense_4 (Dense)              (None, 1, 1, 1, 4096)     2101248   \n",
            "_________________________________________________________________\n",
            "dense_5 (Dense)              (None, 1, 1, 1, 4096)     16781312  \n",
            "_________________________________________________________________\n",
            "dense_6 (Dense)              (None, 1, 1, 1, 1000)     4097000   \n",
            "_________________________________________________________________\n",
            "dense_7 (Dense)              (None, 1, 1, 1, 11)       11011     \n",
            "=================================================================\n",
            "Total params: 45,896,171\n",
            "Trainable params: 45,896,171\n",
            "Non-trainable params: 0\n",
            "_________________________________________________________________\n"
          ],
          "name": "stdout"
        }
      ]
    },
    {
      "cell_type": "code",
      "metadata": {
        "id": "WqM_7APqm_1T",
        "outputId": "051ccad1-46c7-49ec-acda-eef2a5247f00",
        "colab": {
          "base_uri": "https://localhost:8080/"
        }
      },
      "source": [
        "history = firstModel.fit(train_data[:,2,:,:,:], labels, batch_size=32, validation_split=0.1, validation_batch_size=8, epochs=5)"
      ],
      "execution_count": 17,
      "outputs": [
        {
          "output_type": "stream",
          "text": [
            "Epoch 1/5\n",
            "282/282 [==============================] - 99s 352ms/step - loss: 1.3781 - accuracy: 0.5843 - val_loss: 1.3982 - val_accuracy: 0.5380\n",
            "Epoch 2/5\n",
            "282/282 [==============================] - 100s 353ms/step - loss: 1.3769 - accuracy: 0.5843 - val_loss: 1.3970 - val_accuracy: 0.5380\n",
            "Epoch 3/5\n",
            "282/282 [==============================] - 95s 337ms/step - loss: 1.3785 - accuracy: 0.5841 - val_loss: 1.3991 - val_accuracy: 0.5380\n",
            "Epoch 4/5\n",
            "282/282 [==============================] - 100s 353ms/step - loss: 1.3773 - accuracy: 0.5844 - val_loss: 1.4040 - val_accuracy: 0.5380\n",
            "Epoch 5/5\n",
            "282/282 [==============================] - 100s 353ms/step - loss: 1.3774 - accuracy: 0.5841 - val_loss: 1.3830 - val_accuracy: 0.5380\n"
          ],
          "name": "stdout"
        }
      ]
    },
    {
      "cell_type": "code",
      "metadata": {
        "id": "H9IY3Lvy91ae",
        "outputId": "fe2fc341-af3e-480f-d160-52906ce0c13f",
        "colab": {
          "base_uri": "https://localhost:8080/"
        }
      },
      "source": [
        "# This model is similar to the VGGNets\n",
        "from tensorflow.keras.layers import InputLayer, Dense, Flatten, Conv2D, MaxPool2D, ReLU, BatchNormalization, GlobalAveragePooling2D, Dropout\n",
        "from tensorflow.keras import models, layers\n",
        "\n",
        "model = models.Sequential()\n",
        "\n",
        "model.add(layers.Conv2D(filters=64, kernel_size=(3, 3), padding='same', activation=None, input_shape=(33,33,6)))\n",
        "model.add(layers.BatchNormalization())\n",
        "model.add(layers.ReLU()) \n",
        "model.add(layers.Conv2D(filters=64, kernel_size=(3, 3), padding='same', activation=None))\n",
        "model.add(layers.BatchNormalization())\n",
        "model.add(layers.ReLU()) \n",
        "model.add(layers.MaxPooling2D(pool_size=(2, 2), strides=(2, 2)))\n",
        "\n",
        "model.add(layers.Conv2D(filters=128, kernel_size=(3, 3), padding='same', activation=None))\n",
        "model.add(layers.BatchNormalization())\n",
        "model.add(layers.ReLU())\n",
        "model.add(layers.Conv2D(filters=128, kernel_size=(3, 3), padding='same', activation=None))\n",
        "model.add(layers.BatchNormalization())\n",
        "model.add(layers.ReLU()) \n",
        "model.add(layers.MaxPooling2D(pool_size=(2, 2), strides=(2, 2)))\n",
        "\n",
        "model.add(layers.Conv2D(filters=256, kernel_size=(3, 3), padding='same', activation=None))\n",
        "model.add(layers.BatchNormalization())\n",
        "model.add(layers.ReLU())\n",
        "model.add(layers.Conv2D(filters=256, kernel_size=(3, 3), padding='same', activation=None))\n",
        "model.add(layers.BatchNormalization())\n",
        "model.add(layers.ReLU()) \n",
        "model.add(layers.Conv2D(filters=256, kernel_size=(3, 3), padding='same', activation=None))\n",
        "model.add(layers.BatchNormalization())\n",
        "model.add(layers.ReLU()) \n",
        "model.add(layers.GlobalAveragePooling2D())\n",
        "\n",
        "model.add(layers.Dropout(0.4))\n",
        "model.add(layers.Dense(units=11, activation = 'softmax'))\n",
        "model.summary()\n",
        "\n",
        "model.compile(\n",
        "  'Adam',\n",
        "  loss='sparse_categorical_crossentropy',\n",
        "  metrics=['accuracy'],\n",
        ")\n"
      ],
      "execution_count": 62,
      "outputs": [
        {
          "output_type": "stream",
          "text": [
            "Model: \"sequential_6\"\n",
            "_________________________________________________________________\n",
            "Layer (type)                 Output Shape              Param #   \n",
            "=================================================================\n",
            "conv2d_14 (Conv2D)           (None, 33, 33, 64)        3520      \n",
            "_________________________________________________________________\n",
            "batch_normalization_14 (Batc (None, 33, 33, 64)        256       \n",
            "_________________________________________________________________\n",
            "re_lu_14 (ReLU)              (None, 33, 33, 64)        0         \n",
            "_________________________________________________________________\n",
            "conv2d_15 (Conv2D)           (None, 33, 33, 64)        36928     \n",
            "_________________________________________________________________\n",
            "batch_normalization_15 (Batc (None, 33, 33, 64)        256       \n",
            "_________________________________________________________________\n",
            "re_lu_15 (ReLU)              (None, 33, 33, 64)        0         \n",
            "_________________________________________________________________\n",
            "max_pooling2d_4 (MaxPooling2 (None, 16, 16, 64)        0         \n",
            "_________________________________________________________________\n",
            "conv2d_16 (Conv2D)           (None, 16, 16, 128)       73856     \n",
            "_________________________________________________________________\n",
            "batch_normalization_16 (Batc (None, 16, 16, 128)       512       \n",
            "_________________________________________________________________\n",
            "re_lu_16 (ReLU)              (None, 16, 16, 128)       0         \n",
            "_________________________________________________________________\n",
            "conv2d_17 (Conv2D)           (None, 16, 16, 128)       147584    \n",
            "_________________________________________________________________\n",
            "batch_normalization_17 (Batc (None, 16, 16, 128)       512       \n",
            "_________________________________________________________________\n",
            "re_lu_17 (ReLU)              (None, 16, 16, 128)       0         \n",
            "_________________________________________________________________\n",
            "max_pooling2d_5 (MaxPooling2 (None, 8, 8, 128)         0         \n",
            "_________________________________________________________________\n",
            "conv2d_18 (Conv2D)           (None, 8, 8, 256)         295168    \n",
            "_________________________________________________________________\n",
            "batch_normalization_18 (Batc (None, 8, 8, 256)         1024      \n",
            "_________________________________________________________________\n",
            "re_lu_18 (ReLU)              (None, 8, 8, 256)         0         \n",
            "_________________________________________________________________\n",
            "conv2d_19 (Conv2D)           (None, 8, 8, 256)         590080    \n",
            "_________________________________________________________________\n",
            "batch_normalization_19 (Batc (None, 8, 8, 256)         1024      \n",
            "_________________________________________________________________\n",
            "re_lu_19 (ReLU)              (None, 8, 8, 256)         0         \n",
            "_________________________________________________________________\n",
            "conv2d_20 (Conv2D)           (None, 8, 8, 256)         590080    \n",
            "_________________________________________________________________\n",
            "batch_normalization_20 (Batc (None, 8, 8, 256)         1024      \n",
            "_________________________________________________________________\n",
            "re_lu_20 (ReLU)              (None, 8, 8, 256)         0         \n",
            "_________________________________________________________________\n",
            "global_average_pooling2d_2 ( (None, 256)               0         \n",
            "_________________________________________________________________\n",
            "dropout_2 (Dropout)          (None, 256)               0         \n",
            "_________________________________________________________________\n",
            "dense_10 (Dense)             (None, 11)                2827      \n",
            "=================================================================\n",
            "Total params: 1,744,651\n",
            "Trainable params: 1,742,347\n",
            "Non-trainable params: 2,304\n",
            "_________________________________________________________________\n"
          ],
          "name": "stdout"
        }
      ]
    },
    {
      "cell_type": "code",
      "metadata": {
        "id": "INSa6jRU-jWw",
        "outputId": "0dce1081-ab5a-4c08-beab-7bc3ae3cd4f3",
        "colab": {
          "base_uri": "https://localhost:8080/"
        }
      },
      "source": [
        "history2 = model.fit(train_data[:,2,:,:,:], labels, batch_size=32, validation_split=0.1, validation_batch_size=8, epochs=100)"
      ],
      "execution_count": 63,
      "outputs": [
        {
          "output_type": "stream",
          "text": [
            "Epoch 1/100\n",
            "282/282 [==============================] - 6s 19ms/step - loss: 1.2845 - accuracy: 0.5820 - val_loss: 1.8912 - val_accuracy: 0.5380\n",
            "Epoch 2/100\n",
            "282/282 [==============================] - 5s 18ms/step - loss: 1.1462 - accuracy: 0.5971 - val_loss: 1.7597 - val_accuracy: 0.5930\n",
            "Epoch 3/100\n",
            "282/282 [==============================] - 5s 18ms/step - loss: 1.0866 - accuracy: 0.6104 - val_loss: 2.6728 - val_accuracy: 0.2830\n",
            "Epoch 4/100\n",
            "282/282 [==============================] - 5s 18ms/step - loss: 1.0280 - accuracy: 0.6250 - val_loss: 2.4228 - val_accuracy: 0.5570\n",
            "Epoch 5/100\n",
            "282/282 [==============================] - 5s 18ms/step - loss: 1.0080 - accuracy: 0.6308 - val_loss: 1.7922 - val_accuracy: 0.2940\n",
            "Epoch 6/100\n",
            "282/282 [==============================] - 5s 18ms/step - loss: 0.9667 - accuracy: 0.6434 - val_loss: 1.8387 - val_accuracy: 0.3590\n",
            "Epoch 7/100\n",
            "282/282 [==============================] - 5s 18ms/step - loss: 0.9464 - accuracy: 0.6490 - val_loss: 1.8653 - val_accuracy: 0.3860\n",
            "Epoch 8/100\n",
            "282/282 [==============================] - 5s 18ms/step - loss: 0.9473 - accuracy: 0.6504 - val_loss: 1.6570 - val_accuracy: 0.1390\n",
            "Epoch 9/100\n",
            "282/282 [==============================] - 5s 18ms/step - loss: 0.9244 - accuracy: 0.6584 - val_loss: 2.5499 - val_accuracy: 0.1620\n",
            "Epoch 10/100\n",
            "282/282 [==============================] - 5s 18ms/step - loss: 0.9061 - accuracy: 0.6680 - val_loss: 1.4362 - val_accuracy: 0.5240\n",
            "Epoch 11/100\n",
            "282/282 [==============================] - 5s 18ms/step - loss: 0.9106 - accuracy: 0.6649 - val_loss: 1.9153 - val_accuracy: 0.2130\n",
            "Epoch 12/100\n",
            "282/282 [==============================] - 5s 18ms/step - loss: 0.8921 - accuracy: 0.6690 - val_loss: 2.8401 - val_accuracy: 0.1570\n",
            "Epoch 13/100\n",
            "282/282 [==============================] - 5s 18ms/step - loss: 0.8863 - accuracy: 0.6742 - val_loss: 2.1214 - val_accuracy: 0.2850\n",
            "Epoch 14/100\n",
            "282/282 [==============================] - 5s 18ms/step - loss: 0.8774 - accuracy: 0.6759 - val_loss: 1.6085 - val_accuracy: 0.5480\n",
            "Epoch 15/100\n",
            "282/282 [==============================] - 5s 18ms/step - loss: 0.8707 - accuracy: 0.6807 - val_loss: 2.0706 - val_accuracy: 0.5630\n",
            "Epoch 16/100\n",
            "282/282 [==============================] - 5s 18ms/step - loss: 0.8579 - accuracy: 0.6814 - val_loss: 2.1871 - val_accuracy: 0.3000\n",
            "Epoch 17/100\n",
            "282/282 [==============================] - 5s 18ms/step - loss: 0.8475 - accuracy: 0.6841 - val_loss: 1.5641 - val_accuracy: 0.4570\n",
            "Epoch 18/100\n",
            "282/282 [==============================] - 5s 18ms/step - loss: 0.8332 - accuracy: 0.6929 - val_loss: 1.7130 - val_accuracy: 0.5570\n",
            "Epoch 19/100\n",
            "282/282 [==============================] - 5s 18ms/step - loss: 0.8279 - accuracy: 0.6951 - val_loss: 1.2607 - val_accuracy: 0.5990\n",
            "Epoch 20/100\n",
            "282/282 [==============================] - 5s 18ms/step - loss: 0.8322 - accuracy: 0.6950 - val_loss: 1.7425 - val_accuracy: 0.4070\n",
            "Epoch 21/100\n",
            "282/282 [==============================] - 5s 18ms/step - loss: 0.8207 - accuracy: 0.6980 - val_loss: 2.0757 - val_accuracy: 0.1860\n",
            "Epoch 22/100\n",
            "282/282 [==============================] - 5s 18ms/step - loss: 0.8119 - accuracy: 0.6968 - val_loss: 1.7601 - val_accuracy: 0.3660\n",
            "Epoch 23/100\n",
            "282/282 [==============================] - 5s 18ms/step - loss: 0.7993 - accuracy: 0.7038 - val_loss: 1.6779 - val_accuracy: 0.6260\n",
            "Epoch 24/100\n",
            "282/282 [==============================] - 5s 18ms/step - loss: 0.7960 - accuracy: 0.7044 - val_loss: 1.9185 - val_accuracy: 0.5830\n",
            "Epoch 25/100\n",
            "282/282 [==============================] - 5s 18ms/step - loss: 0.7757 - accuracy: 0.7104 - val_loss: 1.7707 - val_accuracy: 0.5800\n",
            "Epoch 26/100\n",
            "282/282 [==============================] - 5s 18ms/step - loss: 0.7736 - accuracy: 0.7131 - val_loss: 1.8617 - val_accuracy: 0.5790\n",
            "Epoch 27/100\n",
            "282/282 [==============================] - 5s 18ms/step - loss: 0.7583 - accuracy: 0.7202 - val_loss: 2.8279 - val_accuracy: 0.5630\n",
            "Epoch 28/100\n",
            "282/282 [==============================] - 5s 18ms/step - loss: 0.7607 - accuracy: 0.7172 - val_loss: 2.2239 - val_accuracy: 0.0970\n",
            "Epoch 29/100\n",
            "282/282 [==============================] - 5s 18ms/step - loss: 0.7457 - accuracy: 0.7221 - val_loss: 2.1287 - val_accuracy: 0.2590\n",
            "Epoch 30/100\n",
            "282/282 [==============================] - 5s 18ms/step - loss: 0.7322 - accuracy: 0.7317 - val_loss: 2.7138 - val_accuracy: 0.2880\n",
            "Epoch 31/100\n",
            "282/282 [==============================] - 5s 18ms/step - loss: 0.7285 - accuracy: 0.7287 - val_loss: 1.6068 - val_accuracy: 0.4200\n",
            "Epoch 32/100\n",
            "282/282 [==============================] - 5s 18ms/step - loss: 0.7164 - accuracy: 0.7310 - val_loss: 1.6082 - val_accuracy: 0.4780\n",
            "Epoch 33/100\n",
            "282/282 [==============================] - 5s 18ms/step - loss: 0.7020 - accuracy: 0.7346 - val_loss: 1.8152 - val_accuracy: 0.4880\n",
            "Epoch 34/100\n",
            "282/282 [==============================] - 5s 18ms/step - loss: 0.6907 - accuracy: 0.7419 - val_loss: 1.6264 - val_accuracy: 0.6180\n",
            "Epoch 35/100\n",
            "282/282 [==============================] - 5s 18ms/step - loss: 0.6795 - accuracy: 0.7503 - val_loss: 1.6806 - val_accuracy: 0.5050\n",
            "Epoch 36/100\n",
            "282/282 [==============================] - 5s 18ms/step - loss: 0.6770 - accuracy: 0.7478 - val_loss: 1.8390 - val_accuracy: 0.5810\n",
            "Epoch 37/100\n",
            "282/282 [==============================] - 5s 18ms/step - loss: 0.6637 - accuracy: 0.7528 - val_loss: 1.7551 - val_accuracy: 0.3640\n",
            "Epoch 38/100\n",
            "282/282 [==============================] - 5s 18ms/step - loss: 0.6481 - accuracy: 0.7577 - val_loss: 3.7328 - val_accuracy: 0.1250\n",
            "Epoch 39/100\n",
            "282/282 [==============================] - 5s 18ms/step - loss: 0.6220 - accuracy: 0.7650 - val_loss: 1.6338 - val_accuracy: 0.6470\n",
            "Epoch 40/100\n",
            "282/282 [==============================] - 5s 18ms/step - loss: 0.6223 - accuracy: 0.7664 - val_loss: 1.5457 - val_accuracy: 0.4820\n",
            "Epoch 41/100\n",
            "282/282 [==============================] - 5s 18ms/step - loss: 0.6159 - accuracy: 0.7670 - val_loss: 1.5634 - val_accuracy: 0.5790\n",
            "Epoch 42/100\n",
            "282/282 [==============================] - 5s 18ms/step - loss: 0.5816 - accuracy: 0.7782 - val_loss: 5.4584 - val_accuracy: 0.0960\n",
            "Epoch 43/100\n",
            "282/282 [==============================] - 5s 18ms/step - loss: 0.5856 - accuracy: 0.7769 - val_loss: 1.7003 - val_accuracy: 0.6130\n",
            "Epoch 44/100\n",
            "282/282 [==============================] - 5s 18ms/step - loss: 0.5726 - accuracy: 0.7842 - val_loss: 2.2179 - val_accuracy: 0.5870\n",
            "Epoch 45/100\n",
            "282/282 [==============================] - 5s 18ms/step - loss: 0.5442 - accuracy: 0.7944 - val_loss: 1.9536 - val_accuracy: 0.4050\n",
            "Epoch 46/100\n",
            "282/282 [==============================] - 5s 18ms/step - loss: 0.5242 - accuracy: 0.8039 - val_loss: 1.8199 - val_accuracy: 0.6230\n",
            "Epoch 47/100\n",
            "282/282 [==============================] - 5s 18ms/step - loss: 0.5278 - accuracy: 0.8030 - val_loss: 1.9140 - val_accuracy: 0.6020\n",
            "Epoch 48/100\n",
            "282/282 [==============================] - 5s 18ms/step - loss: 0.4974 - accuracy: 0.8180 - val_loss: 2.0687 - val_accuracy: 0.6200\n",
            "Epoch 49/100\n",
            "282/282 [==============================] - 5s 18ms/step - loss: 0.4928 - accuracy: 0.8113 - val_loss: 2.3288 - val_accuracy: 0.5840\n",
            "Epoch 50/100\n",
            "282/282 [==============================] - 5s 18ms/step - loss: 0.4676 - accuracy: 0.8192 - val_loss: 2.1924 - val_accuracy: 0.3960\n",
            "Epoch 51/100\n",
            "282/282 [==============================] - 5s 18ms/step - loss: 0.4543 - accuracy: 0.8254 - val_loss: 2.4589 - val_accuracy: 0.6000\n",
            "Epoch 52/100\n",
            "282/282 [==============================] - 5s 18ms/step - loss: 0.4295 - accuracy: 0.8334 - val_loss: 1.9621 - val_accuracy: 0.5880\n",
            "Epoch 53/100\n",
            "282/282 [==============================] - 5s 18ms/step - loss: 0.4111 - accuracy: 0.8430 - val_loss: 1.9610 - val_accuracy: 0.5810\n",
            "Epoch 54/100\n",
            "282/282 [==============================] - 5s 18ms/step - loss: 0.4032 - accuracy: 0.8458 - val_loss: 2.3966 - val_accuracy: 0.5010\n",
            "Epoch 55/100\n",
            "282/282 [==============================] - 5s 18ms/step - loss: 0.3837 - accuracy: 0.8529 - val_loss: 1.9515 - val_accuracy: 0.4690\n",
            "Epoch 56/100\n",
            "282/282 [==============================] - 5s 18ms/step - loss: 0.3732 - accuracy: 0.8606 - val_loss: 2.3179 - val_accuracy: 0.4260\n",
            "Epoch 57/100\n",
            "282/282 [==============================] - 5s 18ms/step - loss: 0.3415 - accuracy: 0.8722 - val_loss: 1.8215 - val_accuracy: 0.5550\n",
            "Epoch 58/100\n",
            "282/282 [==============================] - 5s 18ms/step - loss: 0.3185 - accuracy: 0.8774 - val_loss: 2.9625 - val_accuracy: 0.2420\n",
            "Epoch 59/100\n",
            "282/282 [==============================] - 5s 18ms/step - loss: 0.3119 - accuracy: 0.8852 - val_loss: 2.3468 - val_accuracy: 0.5520\n",
            "Epoch 60/100\n",
            "282/282 [==============================] - 5s 18ms/step - loss: 0.2961 - accuracy: 0.8897 - val_loss: 2.3542 - val_accuracy: 0.5650\n",
            "Epoch 61/100\n",
            "282/282 [==============================] - 5s 18ms/step - loss: 0.2745 - accuracy: 0.8952 - val_loss: 2.3423 - val_accuracy: 0.5480\n",
            "Epoch 62/100\n",
            "282/282 [==============================] - 5s 18ms/step - loss: 0.2626 - accuracy: 0.9020 - val_loss: 2.6052 - val_accuracy: 0.5270\n",
            "Epoch 63/100\n",
            "282/282 [==============================] - 5s 18ms/step - loss: 0.2565 - accuracy: 0.9052 - val_loss: 2.3575 - val_accuracy: 0.4930\n",
            "Epoch 64/100\n",
            "282/282 [==============================] - 5s 18ms/step - loss: 0.2439 - accuracy: 0.9097 - val_loss: 2.4358 - val_accuracy: 0.4360\n",
            "Epoch 65/100\n",
            "282/282 [==============================] - 5s 18ms/step - loss: 0.2348 - accuracy: 0.9128 - val_loss: 2.4842 - val_accuracy: 0.4270\n",
            "Epoch 66/100\n",
            "282/282 [==============================] - 5s 18ms/step - loss: 0.2083 - accuracy: 0.9242 - val_loss: 2.8425 - val_accuracy: 0.5860\n",
            "Epoch 67/100\n",
            "282/282 [==============================] - 5s 18ms/step - loss: 0.2081 - accuracy: 0.9226 - val_loss: 4.2496 - val_accuracy: 0.2690\n",
            "Epoch 68/100\n",
            "282/282 [==============================] - 5s 18ms/step - loss: 0.2166 - accuracy: 0.9183 - val_loss: 2.0934 - val_accuracy: 0.5950\n",
            "Epoch 69/100\n",
            "282/282 [==============================] - 5s 18ms/step - loss: 0.1659 - accuracy: 0.9389 - val_loss: 3.0148 - val_accuracy: 0.5510\n",
            "Epoch 70/100\n",
            "282/282 [==============================] - 5s 18ms/step - loss: 0.1784 - accuracy: 0.9307 - val_loss: 3.1243 - val_accuracy: 0.3490\n",
            "Epoch 71/100\n",
            "282/282 [==============================] - 5s 18ms/step - loss: 0.1763 - accuracy: 0.9360 - val_loss: 3.0620 - val_accuracy: 0.5590\n",
            "Epoch 72/100\n",
            "282/282 [==============================] - 5s 18ms/step - loss: 0.1579 - accuracy: 0.9439 - val_loss: 2.4595 - val_accuracy: 0.5550\n",
            "Epoch 73/100\n",
            "282/282 [==============================] - 5s 18ms/step - loss: 0.1797 - accuracy: 0.9357 - val_loss: 2.3078 - val_accuracy: 0.5670\n",
            "Epoch 74/100\n",
            "282/282 [==============================] - 5s 18ms/step - loss: 0.1497 - accuracy: 0.9456 - val_loss: 3.4098 - val_accuracy: 0.4170\n",
            "Epoch 75/100\n",
            "282/282 [==============================] - 5s 18ms/step - loss: 0.1556 - accuracy: 0.9412 - val_loss: 4.5393 - val_accuracy: 0.3650\n",
            "Epoch 76/100\n",
            "282/282 [==============================] - 5s 18ms/step - loss: 0.1503 - accuracy: 0.9488 - val_loss: 2.8197 - val_accuracy: 0.5810\n",
            "Epoch 77/100\n",
            "282/282 [==============================] - 5s 18ms/step - loss: 0.1507 - accuracy: 0.9437 - val_loss: 3.2293 - val_accuracy: 0.6180\n",
            "Epoch 78/100\n",
            "282/282 [==============================] - 5s 18ms/step - loss: 0.1222 - accuracy: 0.9547 - val_loss: 2.9485 - val_accuracy: 0.5900\n",
            "Epoch 79/100\n",
            "282/282 [==============================] - 5s 18ms/step - loss: 0.1020 - accuracy: 0.9632 - val_loss: 3.5884 - val_accuracy: 0.4810\n",
            "Epoch 80/100\n",
            "282/282 [==============================] - 5s 18ms/step - loss: 0.1288 - accuracy: 0.9534 - val_loss: 3.3388 - val_accuracy: 0.4680\n",
            "Epoch 81/100\n",
            "282/282 [==============================] - 5s 18ms/step - loss: 0.1231 - accuracy: 0.9561 - val_loss: 5.1249 - val_accuracy: 0.2480\n",
            "Epoch 82/100\n",
            "282/282 [==============================] - 5s 18ms/step - loss: 0.1243 - accuracy: 0.9562 - val_loss: 4.1663 - val_accuracy: 0.5500\n",
            "Epoch 83/100\n",
            "282/282 [==============================] - 5s 18ms/step - loss: 0.1272 - accuracy: 0.9548 - val_loss: 4.0014 - val_accuracy: 0.5240\n",
            "Epoch 84/100\n",
            "282/282 [==============================] - 5s 18ms/step - loss: 0.0948 - accuracy: 0.9679 - val_loss: 5.0044 - val_accuracy: 0.2860\n",
            "Epoch 85/100\n",
            "282/282 [==============================] - 5s 18ms/step - loss: 0.1047 - accuracy: 0.9631 - val_loss: 3.4573 - val_accuracy: 0.6100\n",
            "Epoch 86/100\n",
            "282/282 [==============================] - 5s 18ms/step - loss: 0.1103 - accuracy: 0.9602 - val_loss: 3.7257 - val_accuracy: 0.4150\n",
            "Epoch 87/100\n",
            "282/282 [==============================] - 5s 18ms/step - loss: 0.1018 - accuracy: 0.9647 - val_loss: 3.1831 - val_accuracy: 0.4470\n",
            "Epoch 88/100\n",
            "282/282 [==============================] - 5s 18ms/step - loss: 0.0765 - accuracy: 0.9739 - val_loss: 4.1852 - val_accuracy: 0.5970\n",
            "Epoch 89/100\n",
            "282/282 [==============================] - 5s 18ms/step - loss: 0.0995 - accuracy: 0.9644 - val_loss: 3.5575 - val_accuracy: 0.5490\n",
            "Epoch 90/100\n",
            "282/282 [==============================] - 5s 18ms/step - loss: 0.1067 - accuracy: 0.9639 - val_loss: 4.0994 - val_accuracy: 0.5950\n",
            "Epoch 91/100\n",
            "282/282 [==============================] - 5s 18ms/step - loss: 0.0877 - accuracy: 0.9709 - val_loss: 4.3134 - val_accuracy: 0.4050\n",
            "Epoch 92/100\n",
            "282/282 [==============================] - 5s 18ms/step - loss: 0.0790 - accuracy: 0.9720 - val_loss: 4.5022 - val_accuracy: 0.3680\n",
            "Epoch 93/100\n",
            "282/282 [==============================] - 5s 18ms/step - loss: 0.0799 - accuracy: 0.9722 - val_loss: 4.5591 - val_accuracy: 0.5400\n",
            "Epoch 94/100\n",
            "282/282 [==============================] - 5s 18ms/step - loss: 0.1246 - accuracy: 0.9560 - val_loss: 3.4045 - val_accuracy: 0.6090\n",
            "Epoch 95/100\n",
            "282/282 [==============================] - 5s 18ms/step - loss: 0.0731 - accuracy: 0.9736 - val_loss: 6.0412 - val_accuracy: 0.5780\n",
            "Epoch 96/100\n",
            "282/282 [==============================] - 5s 18ms/step - loss: 0.0718 - accuracy: 0.9758 - val_loss: 4.0085 - val_accuracy: 0.5600\n",
            "Epoch 97/100\n",
            "282/282 [==============================] - 5s 18ms/step - loss: 0.0619 - accuracy: 0.9789 - val_loss: 4.1918 - val_accuracy: 0.4740\n",
            "Epoch 98/100\n",
            "282/282 [==============================] - 5s 18ms/step - loss: 0.0858 - accuracy: 0.9698 - val_loss: 3.5179 - val_accuracy: 0.5360\n",
            "Epoch 99/100\n",
            "282/282 [==============================] - 5s 18ms/step - loss: 0.0820 - accuracy: 0.9716 - val_loss: 4.0520 - val_accuracy: 0.5850\n",
            "Epoch 100/100\n",
            "282/282 [==============================] - 5s 18ms/step - loss: 0.0870 - accuracy: 0.9720 - val_loss: 3.9696 - val_accuracy: 0.5780\n"
          ],
          "name": "stdout"
        }
      ]
    },
    {
      "cell_type": "code",
      "metadata": {
        "id": "BJPi15UBzQPV",
        "outputId": "4d4529e7-30c4-45df-e821-2476c1e62a89",
        "colab": {
          "base_uri": "https://localhost:8080/",
          "height": 320
        }
      },
      "source": [
        "import pandas as pd\n",
        "\n",
        "df = pd.DataFrame(history2.history).plot(figsize=(8, 5))\n",
        "df.plot(figsize=(8,5))\n",
        "plt.grid(True)\n",
        "plt.show()"
      ],
      "execution_count": 65,
      "outputs": [
        {
          "output_type": "display_data",
          "data": {
            "image/png": "[encoded data removed]",
            "text/plain": [
              "<Figure size 576x360 with 1 Axes>"
            ]
          },
          "metadata": {
            "tags": [],
            "needs_background": "light"
          }
        }
      ]
    },
    {
      "cell_type": "code",
      "metadata": {
        "id": "W7jonks15YZ_"
      },
      "source": [
        "  import sys\n",
        "  np.set_printoptions(threshold=sys.maxsize)"
      ],
      "execution_count": 27,
      "outputs": []
    },
    {
      "cell_type": "code",
      "metadata": {
        "id": "wNt4JklbydgA"
      },
      "source": [
        "predictions = model.predict(train_data[:,2,:,:,:]).reshape((10000,11))"
      ],
      "execution_count": 44,
      "outputs": []
    },
    {
      "cell_type": "code",
      "metadata": {
        "id": "S9Gsn_Y_6apK",
        "outputId": "a41c3b36-9523-4ca3-ab49-e0ee15972395",
        "colab": {
          "base_uri": "https://localhost:8080/"
        }
      },
      "source": [
        "indexes = tf.argmax(predictions, axis=1)\n",
        "print(indexes) # prints [0 2 2]"
      ],
      "execution_count": 45,
      "outputs": [
        {
          "output_type": "stream",
          "text": [
            "tf.Tensor(\n",
            "[2 2 2 2 2 2 2 2 2 2 2 2 2 2 2 2 2 2 2 2 2 2 2 2 2 2 2 2 2 2 2 2 2 2 2 2 2\n",
            " 2 2 2 2 2 2 2 2 2 2 2 2 2 2 2 2 2 2 2 2 2 2 2 2 2 2 2 2 2 3 2 2 2 2 2 2 2\n",
            " 2 2 2 2 2 2 2 2 2 2 2 2 2 2 2 2 2 2 2 2 2 2 2 2 2 2 2 2 2 2 2 2 2 2 2 2 2\n",
            " 2 2 2 2 2 2 2 2 2 2 2 2 2 2 2 2 2 2 2 2 2 2 2 2 2 2 2 2 2 2 2 2 2 2 2 2 2\n",
            " 2 2 2 2 2 2 2 2 2 2 2 2 2 2 2 2 2 2 2 2 2 2 2 2 2 2 2 2 2 2 2 2 2 2 2 2 2\n",
            " 2 2 2 2 2 2 2 2 2 2 2 2 2 2 2 2 2 2 2 2 2 2 2 2 2 2 2 2 2 2 2 2 2 2 2 2 2\n",
            " 2 2 2 2 2 2 2 2 2 2 2 2 2 2 2 2 2 2 2 2 2 2 2 2 2 2 2 2 2 2 2 2 2 2 2 2 2\n",
            " 2 2 2 2 2 2 2 2 2 2 2 2 2 2 2 2 2 2 2 2 2 2 2 2 2 2 2 2 2 2 2 2 2 2 2 2 2\n",
            " 2 2 2 2 2 2 2 2 2 2 2 2 2 2 2 2 2 2 2 2 2 2 2 2 2 2 2 2 2 2 2 2 2 2 2 2 2\n",
            " 2 2 2 2 2 2 2 2 2 2 2 2 2 2 2 2 2 2 2 2 2 2 2 2 2 2 2 2 2 2 2 2 2 2 2 2 2\n",
            " 2 2 2 2 2 2 2 2 2 2 2 2 2 2 2 2 2 2 2 2 2 2 2 2 2 2 2 2 2 2 2 2 2 2 2 2 2\n",
            " 2 2 2 2 2 2 2 2 2 2 3 2 2 2 2 2 2 2 2 2 2 2 2 2 2 2 2 2 2 2 2 2 2 2 2 2 2\n",
            " 2 2 2 2 2 2 2 2 2 2 2 2 3 2 2 2 2 2 2 2 2 3 2 2 2 2 2 2 2 2 2 2 2 2 2 2 3\n",
            " 2 2 2 2 2 2 2 2 2 2 3 2 2 2 2 2 2 2 2 2 2 2 2 2 2 2 2 2 2 2 2 3 2 2 2 2 2\n",
            " 3 2 2 2 3 2 2 3 2 2 2 2 2 2 2 2 2 2 2 3 2 2 2 2 2 2 2 2 2 2 2 2 3 2 2 2 2\n",
            " 2 2 2 2 2 2 2 2 2 2 2 2 2 2 2 2 2 2 2 2 2 2 2 2 2 2 2 2 2 2 2 2 2 2 2 2 2\n",
            " 2 2 2 2 2 2 3 2 2 2 2 2 2 2 2 2 2 2 2 2 2 2 2 2 2 2 2 2 2 2 2 2 2 2 2 2 2\n",
            " 2 2 2 2 2 2 2 2 2 2 2 2 2 2 2 2 2 2 2 2 2 2 2 2 2 2 2 2 2 2 2 2 2 2 2 2 2\n",
            " 2 2 2 2 2 2 2 2 2 2 2 2 2 2 2 2 2 2 2 2 2 2 2 2 2 2 2 2 2 2 2 2 2 2 2 2 2\n",
            " 2 2 2 2 2 2 2 2 2 2 2 2 2 2 2 2 2 2 2 2 2 2 2 2 2 2 2 2 2 2 2 2 2 2 2 2 2\n",
            " 2 2 2 2 2 2 2 2 2 2 2 2 2 2 2 2 2 2 2 2 2 2 2 2 2 2 2 2 2 2 2 2 2 2 2 2 2\n",
            " 2 2 2 2 2 2 2 2 2 2 2 2 2 2 2 2 2 2 2 2 2 2 2 2 2 2 2 2 2 2 2 2 2 2 2 2 2\n",
            " 2 2 2 2 2 2 2 2 2 2 2 2 2 2 2 2 2 2 2 2 2 2 2 2 2 2 2 2 2 2 2 2 2 2 2 2 2\n",
            " 2 2 2 2 2 2 2 2 2 2 2 2 2 2 2 2 2 2 2 2 2 2 2 2 2 2 2 2 2 2 2 2 2 2 2 2 2\n",
            " 2 2 2 2 3 2 2 2 2 2 2 2 2 2 2 2 2 2 2 2 2 2 2 2 2 2 2 2 2 2 2 2 2 2 2 2 2\n",
            " 2 2 2 2 2 2 2 2 2 2 2 2 2 2 2 2 2 2 2 2 2 2 2 2 2 2 2 2 2 2 2 2 2 2 2 2 2\n",
            " 2 2 2 2 2 2 2 2 2 2 2 2 2 2 2 2 2 2 2 2 2 2 2 2 2 2 2 2 2 2 2 2 2 2 2 2 2\n",
            " 2 2 2 2 2 2 2 2 2 2 2 2 2 2 2 2 2 2 2 2 2 2 2 2 2 2 2 2 2 2 2 2 2 2 2 2 2\n",
            " 2 2 2 2 2 2 2 2 2 2 2 2 2 2 2 2 2 2 2 2 2 2 2 2 2 2 2 2 2 2 2 2 2 2 2 2 2\n",
            " 2 2 2 2 2 2 2 2 2 2 2 2 2 2 2 2 2 2 2 2 2 2 2 2 2 2 2 2 2 2 2 2 2 2 2 2 2\n",
            " 2 2 2 2 2 2 2 2 2 2 2 2 2 2 2 2 2 2 2 2 2 2 2 2 2 2 2 2 2 2 2 2 2 2 2 2 2\n",
            " 2 2 2 2 2 2 2 2 2 2 2 2 2 2 2 2 2 2 2 2 2 2 2 2 2 2 2 2 2 2 2 2 2 2 2 2 2\n",
            " 2 2 2 2 2 2 2 2 2 2 2 2 2 2 2 2 2 2 2 2 2 2 2 2 2 2 2 2 2 2 2 2 2 2 2 2 2\n",
            " 2 2 2 2 2 2 2 2 2 2 2 2 2 2 2 2 2 2 2 2 2 2 2 2 2 2 2 2 2 2 2 2 2 2 2 2 2\n",
            " 2 2 2 2 2 2 2 2 2 2 2 2 2 2 2 2 2 2 2 2 2 2 2 2 2 2 2 2 2 2 2 2 2 2 2 2 2\n",
            " 2 2 2 2 2 2 2 2 2 2 2 2 2 2 2 2 2 2 2 2 2 2 2 2 2 2 2 2 2 2 2 2 2 2 2 2 2\n",
            " 2 2 2 2 2 2 2 2 2 2 2 2 2 2 2 2 2 2 2 2 2 2 2 2 2 2 2 2 2 2 2 2 2 2 2 2 2\n",
            " 2 2 2 2 2 2 2 2 2 2 2 2 2 2 2 2 2 2 2 2 2 2 2 2 2 2 2 2 2 2 2 2 2 2 5 2 2\n",
            " 2 2 2 2 2 2 2 2 5 2 2 2 2 2 2 2 2 2 2 2 2 2 2 2 2 2 2 2 2 2 2 2 2 2 2 2 2\n",
            " 2 2 2 2 2 2 2 2 2 2 2 2 2 2 2 2 2 2 2 2 2 2 2 2 2 2 2 2 2 2 2 2 2 2 2 2 2\n",
            " 2 2 2 2 2 2 2 2 2 2 2 2 2 2 2 2 2 2 2 2 2 2 2 2 2 2 2 2 3 2 2 2 2 2 2 2 2\n",
            " 2 2 3 2 2 2 2 2 2 2 2 2 2 2 2 2 2 2 2 2 2 2 2 2 2 2 2 2 2 2 2 2 2 2 2 2 2\n",
            " 2 3 2 2 3 2 2 2 2 2 2 2 2 2 2 2 2 2 2 2 2 2 2 2 2 2 2 2 2 2 2 2 2 2 2 2 2\n",
            " 2 2 2 2 2 2 2 2 2 2 2 2 2 2 2 2 2 2 2 2 2 2 2 2 3 2 2 2 2 2 2 2 2 2 2 2 2\n",
            " 2 2 2 2 2 2 2 2 2 2 2 2 2 2 2 2 2 2 2 2 2 2 2 2 2 2 2 2 2 2 2 2 2 2 2 2 2\n",
            " 2 2 2 2 2 2 2 2 2 2 2 2 2 2 2 2 2 2 2 2 2 2 2 2 2 2 2 2 2 2 2 2 2 2 2 2 2\n",
            " 2 2 2 2 2 2 2 2 2 2 2 2 2 2 2 2 2 2 2 2 2 2 2 2 2 2 2 2 2 2 2 2 2 2 2 2 2\n",
            " 2 2 2 2 2 2 2 2 2 2 2 2 2 2 2 2 2 2 2 2 2 2 2 2 2 2 2 2 2 2 2 2 2 2 2 2 2\n",
            " 2 2 2 2 2 2 2 2 2 2 2 2 2 2 2 2 2 2 2 2 2 2 2 2 2 2 2 2 2 2 2 2 2 2 2 2 2\n",
            " 2 2 2 2 2 2 2 2 2 2 2 2 2 2 2 2 2 2 2 2 2 2 2 2 2 2 2 2 2 2 2 2 2 2 2 2 2\n",
            " 2 2 2 2 2 2 2 2 2 2 2 2 2 2 2 2 2 2 2 2 2 2 2 3 2 2 2 2 2 2 2 2 2 2 2 2 2\n",
            " 2 2 2 2 2 2 2 2 2 2 2 2 2 2 2 2 2 2 2 2 2 2 2 2 2 2 2 2 2 2 2 2 2 2 2 2 2\n",
            " 2 2 2 2 2 2 2 2 2 2 2 2 2 2 3 2 2 2 2 2 2 2 2 2 2 2 2 2 2 2 2 2 2 2 2 2 2\n",
            " 2 2 2 2 2 2 2 2 2 2 2 2 2 2 2 2 2 2 2 2 2 2 2 2 2 2 2 2 2 2 2 2 2 2 2 2 2\n",
            " 2 2 2 2 2 2 2 2 2 2 2 2 2 2 2 2 2 2 2 2 2 2 2 2 2 2 2 2 2 2 2 2 2 2 2 2 2\n",
            " 2 2 2 2 2 2 3 2 2 2 2 2 2 2 2 2 2 2 2 2 2 2 2 2 2 2 2 2 2 2 2 2 2 2 2 2 2\n",
            " 2 2 2 2 2 2 2 2 2 2 2 3 2 2 2 2 2 2 2 2 2 2 2 2 2 2 2 2 2 2 2 2 2 2 2 2 2\n",
            " 2 2 2 2 2 2 2 2 2 2 2 2 2 2 2 2 2 2 2 2 2 2 2 2 2 2 2 2 2 2 2 2 2 2 2 2 2\n",
            " 2 2 2 3 2 2 2 2 2 2 2 2 2 2 2 2 2 2 2 2 2 2 2 2 2 2 2 2 2 2 2 2 2 2 2 2 2\n",
            " 2 2 2 2 2 2 2 2 2 2 2 2 2 2 2 2 2 2 2 2 4 4 2 4 4 2 2 4 2 4 2 2 4 2 2 2 4\n",
            " 2 4 2 2 4 2 4 2 3 4 2 4 2 2 4 2 2 2 2 2 2 2 4 2 2 2 4 2 4 2 3 4 4 4 3 2 2\n",
            " 4 2 2 3 2 2 2 2 2 2 2 2 4 2 4 2 4 4 2 4 2 2 2 2 2 4 4 2 2 2 2 2 2 4 4 2 2\n",
            " 2 4 4 2 2 2 2 4 2 4 2 2 3 2 3 2 2 2 2 3 4 2 2 4 2 2 2 4 4 3 2 2 2 4 2 2 4\n",
            " 2 2 2 2 2 2 2 2 2 2 2 2 4 2 4 2 3 2 2 2 2 2 2 2 4 2 2 2 2 2 2 3 2 4 4 4 2\n",
            " 2 4 2 2 2 2 4 2 2 2 2 4 2 4 4 2 2 2 2 4 2 4 2 2 2 2 2 2 2 4 2 4 2 2 4 2 2\n",
            " 2 2 4 2 2 4 2 2 2 2 2 2 2 2 2 2 2 2 2 2 2 2 2 4 2 2 2 2 2 2 2 2 2 2 4 2 2\n",
            " 2 4 2 2 2 2 2 2 2 2 2 2 2 2 2 2 4 2 2 2 2 2 2 2 2 2 2 2 2 2 2 2 2 2 2 2 2\n",
            " 2 2 2 2 2 2 2 2 2 2 4 2 2 2 2 2 2 2 2 2 2 2 2 2 2 2 2 2 2 4 2 2 2 2 2 2 2\n",
            " 2 2 2 2 2 2 2 2 4 2 2 2 2 2 2 2 2 2 2 2 2 2 2 2 2 2 2 2 2 2 2 2 2 2 2 2 2\n",
            " 2 2 2 4 2 2 2 2 2 2 2 4 2 2 2 2 2 2 2 2 2 2 2 2 2 2 2 2 2 2 2 2 2 2 2 2 2\n",
            " 2 2 2 2 2 2 2 2 2 2 9 4 4 2 2 9 4 4 2 9 4 9 9 9 9 9 9 4 2 4 4 2 4 9 4 2 2\n",
            " 4 9 9 2 4 9 2 4 9 9 9 9 4 2 9 9 9 9 9 9 9 4 4 9 2 9 9 2 2 2 9 9 4 2 9 9 2\n",
            " 9 2 9 4 9 4 9 2 9 9 4 9 2 4 4 4 9 9 4 2 9 9 2 9 9 4 9 9 4 9 4 9 2 4 9 4 9\n",
            " 2 4 9 4 9 4 9 2 2 4 4 9 4 9 4 9 9 4 2 9 9 4 4 4 4 4 4 9 4 9 9 2 9 2 9 9 9\n",
            " 2 2 9 4 9 2 9 9 9 4 4 4 9 4 9 9 9 9 9 9 9 9 4 9 2 9 4 9 2 4 4 4 2 4 4 9 3\n",
            " 4 2 4 9 4 9 4 9 9 2 9 9 2 9 2 9 9 9 9 9 9 2 9 9 4 9 4 2 2 2 9 2 2 2 2 2 9\n",
            " 9 4 2 2 4 9 2 9 9 2 2 9 2 2 2 4 2 4 2 2 2 2 2 2 2 9 2 2 2 9 9 2 2 9 2 2 2\n",
            " 2 9 2 2 2 2 4 2 4 2 4 4 2 9 2 4 2 9 2 2 4 4 2 2 2 9 2 2 2 2 2 2 9 2 2 9 2\n",
            " 4 4 2 2 9 9 2 2 2 2 2 2 2 2 2 4 2 9 2 2 2 9 9 2 2 2 2 2 2 2 9 4 2 4 4 2 9\n",
            " 2 2 9 4 2 2 2 2 4 9 2 2 2 2 2 4 2 9 2 2 9 2 2 9 4 9 4 2 2 9 2 2 4 2 2 2 2\n",
            " 2 4 4 9 2 2 4 9 4 4 9 9 2 2 9 4 2 2 4 2 2 2 9 4 2 2 4 2 2 4 2 2 9 2 2 4 9\n",
            " 2 9 2 2 9 9 2 2 9 2 2 2 9 2 2 9 2 2 2 9 9 2 4 9 2 9 4 2 2 2 2 9 2 2 2 9 9\n",
            " 2 2 9 2 9 9 2 2 2 2 2 2 2 9 9 2 2 9 4 9 2 4 4 2 2 2 9 3 2 2 2 9 9 2 4 2 9\n",
            " 2 2 2 2 2 2 9 2 2 2 2 9 9 2 9 9 2 4 9 2 2 9 2 9 2 2 2 2 9 2 2 9 2 2 2 9 2\n",
            " 9 4 9 2 2 2 4 2 9 2 2 2 9 2 2 2 2 9 2 9 2 2 2 2 2 2 4 9 9 9 2 9 2 9 9 9 2\n",
            " 3 9 2 2 2 9 9 2 9 2 2 9 2 2 9 9 9 2 2 9 2 9 2 9 2 2 9 9 9 4 4 9 4 2 2 2 2\n",
            " 2 9 2 2 9 2 9 9 4 2 2 9 2 2 2 9 2 4 2 2 2 2 2 0 2 2 2 2 0 2 2 2 2 2 0 0 2\n",
            " 0 2 2 2 2 0 0 0 2 2 2 2 2 0 0 2 0 2 2 2 2 2 2 2 2 2 2 2 2 2 2 2 2 9 2 2 2\n",
            " 2 0 2 2 2 2 0 2 2 2 0 2 0 2 2 2 2 2 2 2 2 2 2 2 2 2 2 2 2 2 2 2 2 0 2 2 2\n",
            " 2 2 2 9 3 2 2 2 2 2 2 2 2 2 2 2 2 2 0 2 2 2 2 2 2 0 0 2 2 0 2 0 2 2 2 0 2\n",
            " 2 2 2 2 2 2 0 2 2 2 0 2 2 2 0 2 2 2 2 2 2 2 2 2 2 2 2 2 0 3 2 0 2 2 0 2 2\n",
            " 0 3 2 9 0 2 2 2 2 2 0 0 2 2 2 2 2 2 2 2 3 0 2 2 2 0 2 2 0 2 3 2 2 0 2 2 2\n",
            " 0 0 0 0 0 0 2 0 0 0 2 0 0 2 0 0 2 2 2 2 0 2 0 0 2 0 0 0 0 3 2 0 0 2 0 0 2\n",
            " 0 0 2 0 2 3 0 0 0 0 2 2 2 2 0 0 0 0 0 0 0 0 0 2 0 0 0 0 0 0 0 0 0 2 0 0 0\n",
            " 2 0 0 0 2 0 0 2 0 0 0 2 2 2 0 0 2 2 0 2 0 2 2 0 2 0 0 2 2 0 0 0 0 0 0 0 0\n",
            " 2 0 0 0 0 0 0 0 0 0 0 2 0 2 0 0 0 0 0 0 0 0 0 0 0 0 0 2 0 2 2 0 0 0 0 0 0\n",
            " 2 0 0 0 0 0 0 0 0 0 2 0 0 0 2 0 0 0 2 0 0 0 2 2 0 0 2 0 0 0 2 0 0 2 0 2 0\n",
            " 0 0 2 0 0 0 0 0 0 0 2 2 2 2 2 2 2 2 2 2 2 2 2 2 2 2 2 2 2 2 2 2 2 2 2 2 2\n",
            " 2 2 2 2 2 2 2 2 2 2 2 2 2 2 2 2 2 2 2 2 2 2 2 2 2 2 2 2 2 2 2 2 2 2 2 2 2\n",
            " 2 2 2 2 2 2 2 2 2 2 2 2 2 2 2 2 2 2 2 2 2 2 2 2 2 2 2 2 2 2 2 2 2 2 2 2 2\n",
            " 2 2 2 2 2 2 2 2 2 2 2 2 2 2 2 2 2 2 2 2 2 2 2 2 2 2 2 2 2 2 2 2 2 2 2 2 2\n",
            " 2 2 2 2 2 2 2 2 2 2 2 2 2 2 2 2 2 2 2 2 2 2 2 2 2 2 2 2 2 2 2 2 2 2 2 2 2\n",
            " 2 2 2 2 2 2 2 2 2 2 2 2 2 2 2 2 2 2 2 2 2 2 2 2 2 2 2 2 2 2 2 2 2 2 2 2 2\n",
            " 2 2 2 2 2 2 2 2 2 2 2 2 2 2 2 2 2 2 2 2 2 2 2 2 2 2 2 2 2 2 2 2 2 2 2 2 2\n",
            " 2 2 2 2 2 2 2 2 2 2 2 2 2 2 2 2 2 2 2 2 2 2 2 2 2 2 2 2 2 2 2 2 2 2 2 2 2\n",
            " 2 2 2 2 2 2 2 2 2 2 2 2 2 2 2 2 2 2 2 2 2 2 2 2 2 2 2 2 2 2 2 2 2 2 2 2 2\n",
            " 2 2 2 2 2 2 2 2 2 2 2 2 2 2 2 2 2 2 2 2 2 2 2 2 2 2 2 2 2 2 2 2 2 2 2 2 2\n",
            " 2 2 2 2 2 2 2 2 2 2 2 2 2 2 2 2 2 2 2 2 2 2 2 2 2 2 2 2 2 2 2 2 2 2 2 2 2\n",
            " 2 2 2 2 2 2 2 2 2 2 2 2 2 2 2 2 2 2 2 2 2 2 2 2 2 2 2 2 2 2 2 2 2 2 2 2 2\n",
            " 2 2 2 2 2 2 2 2 2 2 2 2 2 2 2 2 2 2 2 2 2 2 2 2 2 2 2 2 2 2 2 2 2 2 2 2 2\n",
            " 2 2 2 2 2 2 2 2 2 2 2 2 2 2 2 2 2 2 2 2 2 2 2 2 2 2 2 2 2 2 2 2 2 2 2 2 2\n",
            " 2 2 2 2 2 2 2 2 2 3 2 2 2 2 2 2 2 2 2 2 2 2 2 2 2 2 2 2 2 2 2 2 2 2 2 2 2\n",
            " 2 2 2 2 2 2 2 2 2 2 2 2 2 2 2 2 2 2 2 2 2 2 2 2 2 2 2 2 2 2 2 2 2 2 2 2 2\n",
            " 2 2 2 2 2 2 2 2 2 2 2 2 2 2 2 2 2 2 2 2 2 2 2 2 2 2 2 2 2 2 2 2 2 2 2 2 2\n",
            " 2 2 2 2 2 2 2 2 2 2 2 2 2 2 2 2 2 2 2 2 2 2 2 2 2 2 2 2 2 2 2 2 2 2 2 2 2\n",
            " 2 2 2 2 2 2 2 2 2 2 2 2 2 2 2 2 2 2 2 2 2 2 2 2 2 2 2 2 2 2 2 2 2 2 2 2 2\n",
            " 2 2 2 2 2 2 2 2 2 2 2 2 2 2 2 2 2 2 2 2 2 2 2 2 2 2 2 2 2 2 2 2 2 2 2 2 2\n",
            " 2 2 2 2 2 2 2 2 2 2 2 2 2 2 2 2 2 2 2 2 2 2 2 2 2 2 2 2 2 2 2 2 2 2 2 2 2\n",
            " 2 2 2 2 2 2 2 2 2 2 2 2 2 2 2 2 2 2 2 2 2 2 2 2 2 2 2 2 2 2 2 2 2 2 2 2 2\n",
            " 2 2 2 2 2 2 2 2 2 2 2 2 2 2 2 2 2 2 2 2 2 2 2 2 2 2 2 2 2 2 2 2 2 2 2 2 2\n",
            " 2 2 2 2 2 2 2 2 2 2 2 2 2 2 2 2 2 2 2 2 2 2 2 2 2 2 2 2 2 2 2 2 2 2 2 2 2\n",
            " 2 2 2 2 2 2 2 2 2 2 2 2 2 2 2 2 2 2 2 2 2 2 2 2 2 2 2 2 2 2 2 2 2 2 2 2 2\n",
            " 2 2 2 2 2 2 2 2 2 2 2 2 2 2 2 2 2 2 2 2 2 2 2 2 2 2 2 2 3 2 2 2 2 2 3 2 2\n",
            " 2 2 2 2 2 2 2 2 2 2 2 2 2 2 2 2 2 2 2 2 2 2 2 2 2 2 2 2 2 2 2 2 2 2 2 2 2\n",
            " 2 2 2 2 2 2 2 2 2 2 2 2 2 2 2 2 2 2 2 2 2 2 2 2 2 2 2 2 2 2 2 2 2 2 2 2 2\n",
            " 2 2 2 2 2 2 2 2 2 2 2 2 2 2 2 2 2 2 2 2 2 2 2 2 2 2 2 2 2 2 2 2 2 2 2 2 2\n",
            " 2 2 2 2 2 2 2 2 2 2 2 2 2 2 2 2 2 2 2 2 2 2 2 2 2 2 2 2 2 2 2 2 2 2 2 2 2\n",
            " 2 2 2 2 2 2 2 2 2 2 2 2 2 2 2 2 2 2 2 2 2 2 2 2 2 2 2 2 2 2 2 2 2 2 2 2 2\n",
            " 2 2 2 2 2 2 2 2 2 2 2 2 2 2 2 2 2 2 2 2 2 2 2 2 2 2 2 2 2 2 2 2 2 2 2 2 2\n",
            " 2 2 2 2 2 2 2 2 2 2 2 2 2 2 2 2 2 2 2 2 2 2 2 2 2 2 2 2 2 2 2 2 2 2 2 2 2\n",
            " 2 2 2 2 2 2 2 2 2 2 2 2 2 2 2 2 2 2 2 2 2 2 2 2 2 2 2 2 2 2 2 2 2 2 2 2 2\n",
            " 2 2 2 2 2 2 2 2 2 2 2 2 2 2 2 2 2 2 2 2 2 2 2 2 2 2 2 2 2 2 2 2 2 2 2 2 2\n",
            " 2 2 2 2 2 2 2 2 2 2 2 2 2 2 2 2 2 2 2 2 2 2 2 2 2 2 2 2 2 2 2 2 2 2 2 2 2\n",
            " 2 2 2 2 2 2 2 2 2 2 2 2 2 2 2 2 2 2 2 2 2 2 2 2 2 2 2 2 2 2 2 2 2 2 2 2 2\n",
            " 2 2 2 2 2 2 2 2 2 2 2 2 2 2 2 2 2 2 2 2 2 2 2 2 2 2 2 2 2 2 2 2 2 2 2 2 2\n",
            " 2 2 2 2 2 2 2 2 2 2 2 2 2 3 2 2 2 2 2 2 2 2 2 2 2 2 2 2 2 2 2 2 2 2 2 2 2\n",
            " 2 2 2 2 2 2 2 2 2 2 2 2 2 2 2 2 2 2 2 2 2 2 2 3 2 2 2 2 2 2 2 2 2 2 2 2 2\n",
            " 2 2 2 2 2 2 2 2 2 2 2 2 2 2 2 2 2 2 2 2 2 2 2 2 2 2 2 2 2 2 2 2 2 2 2 2 2\n",
            " 2 2 2 2 2 2 2 2 2 2 2 2 2 2 2 2 2 2 2 2 2 2 2 2 2 2 2 2 2 2 2 2 2 2 2 2 2\n",
            " 2 2 2 2 2 2 2 2 2 2 2 2 2 2 2 2 2 2 2 2 2 2 2 2 2 2 2 2 2 2 2 2 2 2 2 2 2\n",
            " 2 2 2 2 2 2 2 2 2 2 2 2 2 2 2 2 2 2 2 2 3 2 2 2 2 2 2 2 3 2 3 2 2 2 2 2 2\n",
            " 2 2 2 2 2 3 2 2 2 2 2 2 2 2 2 2 2 2 3 2 2 3 2 2 2 2 2 2 3 2 2 2 2 2 2 2 2\n",
            " 2 2 2 2 2 3 1 2 2 2 2 2 2 2 2 2 2 2 2 2 2 2 2 2 2 2 3 2 2 2 2 2 2 2 3 3 2\n",
            " 2 2 2 2 2 2 2 2 2 2 2 2 2 2 3 2 2 2 2 2 2 2 2 2 2 2 2 2 2 2 2 2 2 2 2 2 2\n",
            " 2 2 2 2 2 2 2 2 2 2 2 2 2 2 2 2 2 3 2 2 3 2 2 2 2 3 2 2 2 2 2 2 2 2 2 2 2\n",
            " 2 2 2 2 2 2 3 2 2 2 2 2 2 2 2 2 2 2 3 2 2 2 2 2 2 2 2 2 2 2 2 2 2 3 2 2 2\n",
            " 3 2 3 2 2 2 2 2 2 2 2 2 2 2 2 2 2 2 2 2 2 2 2 3 2 2 2 2 2 2 2 2 2 3 3 2 2\n",
            " 2 2 2 3 2 2 2 2 2 2 3 2 2 2 4 2 2 2 2 3 2 2 2 2 2 3 2 2 2 2 2 2 2 2 2 2 2\n",
            " 2 2 2 2 2 2 2 2 2 2 2 2 2 2 2 2 2 2 2 2 3 2 2 2 2 2 2 2 2 2 2 2 2 2 2 2 2\n",
            " 2 3 2 2 2 2 2 2 2 2 2 2 2 2 2 2 2 2 2 2 2 2 2 5 2 2 2 3 2 2 2 3 2 2 2 2 2\n",
            " 2 2 2 3 2 2 2 2 2 3 3 2 3 2 2 2 2 2 2 2 2 2 2 2 2 2 2 2 2 2 2 3 2 2 2 3 2\n",
            " 2 2 2 2 2 2 2 3 2 2 2 2 2 2 2 2 2 2 2 2 2 2 2 2 2 2 2 2 2 2 2 2 2 2 2 2 2\n",
            " 2 2 2 2 2 2 2 2 2 2 2 2 2 2 2 2 2 2 2 2 2 2 2 2 2 2 2 2 2 2 2 2 2 2 2 2 2\n",
            " 2 2 2 2 2 2 2 2 2 2 2 2 2 2 2 2 2 2 2 2 2 2 2 2 2 2 2 2 2 2 2 2 2 2 2 2 2\n",
            " 2 2 2 2 2 2 2 2 2 2 2 2 2 2 2 2 2 2 2 2 2 2 2 2 2 2 2 2 2 2 2 2 2 2 2 2 2\n",
            " 2 2 2 2 2 2 2 2 2 2 2 2 2 2 2 2 2 2 2 2 2 2 2 2 2 2 2 2 2 2 2 2 2 2 2 2 2\n",
            " 2 2 2 2 2 2 2 2 2 2 2 2 2 2 2 2 2 2 2 2 2 2 2 2 2 2 2 2 2 2 2 2 2 2 2 2 2\n",
            " 2 2 2 2 2 2 2 2 2 2 2 2 2 2 2 2 2 2 2 2 2 2 2 2 2 2 2 2 2 2 2 2 2 2 2 2 2\n",
            " 2 2 2 2 2 2 2 2 2 2 2 2 2 2 2 2 2 2 2 2 2 2 2 2 2 2 2 2 2 2 2 2 2 2 2 2 2\n",
            " 2 2 2 2 2 2 2 2 2 2 2 2 2 2 2 2 2 2 2 2 2 2 2 2 2 2 2 2 2 2 2 2 2 2 2 2 2\n",
            " 2 2 2 2 2 2 2 2 2 2 2 2 2 2 2 2 2 2 2 2 2 2 2 2 2 2 2 2 2 2 2 2 2 2 2 2 2\n",
            " 2 2 2 2 2 2 2 2 2 2 2 2 2 2 2 2 2 2 2 2 2 2 2 2 2 2 2 2 2 2 2 2 2 2 2 2 2\n",
            " 2 2 2 2 2 2 2 2 2 2 2 2 2 2 2 2 2 2 2 2 2 2 2 2 2 2 2 2 2 2 2 2 2 2 2 2 2\n",
            " 2 2 2 2 2 2 2 2 2 2 2 2 2 2 2 2 2 2 2 2 2 2 2 2 2 2 2 2 2 2 2 2 2 2 2 2 2\n",
            " 2 2 2 2 2 2 2 2 2 2 2 2 2 2 2 2 2 2 2 2 2 2 2 2 2 2 2 2 2 2 2 2 2 2 2 2 2\n",
            " 2 2 2 2 2 2 2 2 2 2 2 2 2 2 2 2 2 2 2 2 2 2 2 2 2 2 2 2 2 2 2 2 2 2 2 2 2\n",
            " 2 2 2 2 2 2 2 2 2 2 2 2 2 2 2 2 2 2 2 2 2 2 2 2 2 2 2 2 2 2 2 2 2 2 2 2 2\n",
            " 2 2 2 2 2 2 2 2 2 2 2 2 2 2 2 2 2 2 2 2 2 2 2 2 2 2 2 2 2 2 2 2 2 2 2 2 2\n",
            " 2 2 2 2 2 2 2 2 2 2 2 2 2 2 2 2 2 2 2 2 2 2 2 2 2 2 2 2 2 2 2 2 2 2 2 2 2\n",
            " 2 2 2 2 2 2 2 2 2 2 2 2 2 2 2 2 2 2 2 2 2 2 2 2 2 2 2 2 2 2 2 2 2 2 2 2 2\n",
            " 2 2 2 2 2 2 2 2 2 2 2 2 2 2 2 2 2 2 2 2 2 2 2 2 2 2 2 2 2 2 2 2 2 2 2 2 2\n",
            " 2 2 2 2 2 2 2 2 2 2 2 2 2 2 2 2 2 2 2 2 2 2 2 2 2 2 2 2 2 2 2 2 2 2 2 2 2\n",
            " 2 2 2 2 2 2 2 2 2 2 2 2 2 2 2 2 2 2 2 2 2 2 2 2 2 2 2 2 2 2 2 2 2 2 2 2 2\n",
            " 2 2 2 2 2 2 2 2 2 2 2 2 2 2 3 2 2 2 2 2 2 2 2 2 2 2 2 2 2 2 2 2 2 2 2 2 2\n",
            " 2 2 2 2 2 2 2 2 2 2 2 2 2 2 2 2 2 2 2 2 2 2 2 2 3 2 2 2 2 2 2 2 2 2 2 2 2\n",
            " 2 2 2 2 2 2 2 2 2 2 2 2 2 3 2 2 2 2 2 2 2 2 2 2 3 2 2 2 2 2 2 2 2 2 2 2 2\n",
            " 2 2 2 2 2 2 2 2 2 2 2 2 2 2 2 2 2 2 2 2 2 2 2 2 2 2 2 2 2 2 2 2 2 2 3 2 2\n",
            " 2 2 2 2 2 2 2 2 2 2 2 2 2 2 2 2 2 2 2 2 2 2 2 2 2 2 2 2 2 2 2 2 2 2 2 2 2\n",
            " 2 2 2 2 2 2 2 2 2 2 2 2 2 2 2 2 2 2 2 2 2 2 2 2 2 2 2 2 2 2 2 2 2 2 2 2 2\n",
            " 2 2 2 2 2 2 2 2 2 2 2 2 2 3 2 2 2 2 2 2 2 2 2 2 2 2 2 2 2 2 2 2 2 2 2 2 2\n",
            " 2 2 2 2 2 2 2 2 2 2 2 2 2 2 2 2 2 2 2 2 2 2 2 2 2 2 2 2 2 2 2 2 2 2 2 2 2\n",
            " 2 2 2 2 2 2 2 2 2 2 2 2 2 2 2 2 2 2 2 2 2 2 2 2 2 2 2 2 2 2 2 2 2 2 2 2 2\n",
            " 2 2 2 2 2 2 2 2 2 2 2 2 2 2 2 2 2 2 2 2 2 2 2 2 2 2 2 2 2 2 2 2 2 2 2 2 2\n",
            " 2 2 2 2 2 2 2 2 2 2 2 2 2 2 2 2 2 2 2 2 2 2 2 2 2 2 2 2 2 2 2 2 2 2 2 2 2\n",
            " 2 2 2 2 2 2 2 2 2 2 2 2 2 2 2 2 2 2 2 2 2 2 2 2 2 2 2 2 2 2 2 2 2 2 2 2 2\n",
            " 2 2 2 2 2 2 2 2 2 2 2 2 2 2 2 2 2 2 2 2 2 2 2 2 2 2 2 2 4 4 2 2 2 2 2 2 2\n",
            " 2 2 2 2 2 2 2 2 2 2 2 2 2 2 2 2 2 2 2 2 2 2 2 2 2 2 2 2 2 2 2 2 2 2 4 2 2\n",
            " 2 2 2 2 2 2 2 2 2 2 2 2 2 2 2 2 2 2 2 2 2 2 2 2 2 2 2 2 2 2 2 2 2 2 2 2 2\n",
            " 2 2 2 2 2 2 2 2 2 2 2 2 2 2 2 2 2 2 2 2 4 2 2 2 2 2 2 2 2 2 2 2 2 2 2 2 2\n",
            " 2 2 2 2 2 2 2 2 2 4 2 2 2 2 2 2 4 2 2 2 2 2 2 2 2 2 2 2 2 2 2 4 2 2 4 2 4\n",
            " 2 4 4 2 2 2 2 2 4 2 4 2 4 2 2 4 2 2 2 2 2 2 2 2 2 2 2 2 2 2 2 2 2 2 2 2 2\n",
            " 2 4 2 2 2 4 2 2 2 2 2 2 2 2 2 2 2 4 2 2 2 4 2 2 4 2 2 2 2 2 2 4 2 2 2 2 2\n",
            " 2 2 2 2 2 2 2 2 4 2 2 2 2 4 2 4 2 4 2 2 2 4 2 2 2 2 2 2 2 2 2 2 2 2 2 4 2\n",
            " 2 2 2 2 2 2 2 2 2 2 2 2 2 2 2 2 2 2 2 4 2 2 2 2 2 2 2 2 2 2 2 2 2 2 2 2 2\n",
            " 4 2 2 2 2 2 2 2 2 2 2 2 2 2 2 2 2 2 2 2 2 2 2 2 2 2 2 2 2 2 2 2 2 2 2 2 2\n",
            " 2 2 2 2 2 2 2 2 3 2 2 2 2 2 2 2 2 2 2 2 2 2 2 2 0 2 2 2 2 2 2 2 2 2 2 2 2\n",
            " 2 5 2 2 2 2 2 2 2 2 2 2 2 2 2 2 2 3 0 2 2 2 2 2 2 2 2 2 2 2 2 2 2 2 2 2 2\n",
            " 2 2 2 2 2 2 2 0 2 2 2 2 2 2 2 2 2 2 2 2 2 2 2 2 2 2 2 2 2 2 2 2 2 2 2 2 2\n",
            " 2 2 2 2 2 2 2 2 2 2 2 2 2 2 2 2 2 2 2 2 2 2 2 2 2 2 2 2 2 2 2 2 2 2 2 2 2\n",
            " 2 2 2 2 2 2 2 2 2 2 2 2 2 2 2 2 2 2 2 2 2 2 2 2 2 2 2 2 2 2 2 2 2 2 0 2 2\n",
            " 2 9 4 2 2 4 2 2 4 4 2 4 4 2 2 4 2 4 2 2 9 4 2 2 2 2 2 2 4 2 2 4 4 2 4 4 2\n",
            " 2 2 4 2 2 9 2 2 2 2 4 4 2 2 4 2 9 2 2 2 2 4 2 4 2 4 9 2 2 2 2 2 2 2 2 2 2\n",
            " 2 2 2 2 2 2 2 2 2 2 2 2 2 4 2 2 2 2 2 2 2 2 2 2 4 2 2 2 2 9 2 2 4 2 2 2 2\n",
            " 2 2 2 2 2 2 2 2 2 2 2 2 2 2 2 4 2 2 4 9 2 2 2 2 2 2 2 2 4 2 2 2 2 4 4 2 2\n",
            " 2 4 4 9 2 9 2 2 2 2 4 2 2 2 2 4 2 2 2 2 4 4 2 2 4 2 2 2 2 2 9 2 2 2 2 9 4\n",
            " 2 4 2 2 4 4 2 2 2 2 4 2 2 4 2 2 2 2 9 9 2 4 2 9 2 2 2 2 9 9 4 4 2 2 9 2 2\n",
            " 2 9 9 2 4 9 2 2 9 2 2 4 2 2 4 9 2 4 9 2 2 2 2 4 9 2 2 4 2 2 2 9 2 4 2 4 9\n",
            " 2 9 2 4 3 2 4 4 2 4 4 9 2 2 2 4 4 2 2 9 4 2 2 2 4 4 2 2 9 2 9 4 9 3 2 3 2\n",
            " 2 4 2 2 2 2 3 2 4 2 2 2 2 2 2 9 4 2 2 2 2 4 2 4 2 9 2 9 2 2 4 2 4 9 2 2 2\n",
            " 2 2 9 2 2 9 4 2 9 2 4 2 2 2 4 2 2 9 9 4 4 4 2 2 2 9 2 4 9 2 2 2 9 9 2 9 2\n",
            " 2 2 2 2 2 9 2 2 4 2 2 9 2 2 9 3 2 2 2 9 9 2 4 2 4 4 9 9 2 4 2 9 2 4 9 9 4\n",
            " 2 9 9 9 9 9 2 9 2 2 9 4 2 4 9 9 2 9 2 9 4 4 2 9 9 2 9 9 9 9 9 9 4 9 9 2 9\n",
            " 9 2 2 4 2 2 9 9 2 2 9 2 2 9 2 2 2 2 2 2 9 9 9 2 9 4 9 9 4 9 4 2 2 9 9 2 4\n",
            " 9 2 2 9 9 4 9 4 2 2 2 9 9 2 2 4 2 4 9 2 9 9 2 9 4 2 2 2 9 2 2 9 9 2 2 9 2\n",
            " 2 2 2 9 9 4 9 2 4 9 2 9 2 4 9 9 2 2 2 9 2 9 9 9 9 2 2 9 9 9 4 9 2 9 9 4 2\n",
            " 4 2 2 9 9 2 4 9 4 4 2 9 9 9 4 9 4 2 2 2 9 2 9 4 9 2 2 2 9 9 4 9 2 2 2 9 9\n",
            " 2 4 9 9 9 4 9 9 9 2 4 4 2 2 2 2 2 2 2 2 9 4 2 2 4 9 2 2 9 2 2 4 2 2 2 2 2\n",
            " 2 2 2 2 2 2 2 2 2 2 2 2 2 2 2 4 2 2 9 9 2 2 2 2 2 2 4 2 2 2 2 2 2 2 4 9 2\n",
            " 2 9 2 2 2 2 2 2 2 2 2 2 9 2 4 2 9 9 4 2 2 4 2 2 2 2 4 2 2 2 2 2 9 2 2 2 2\n",
            " 2 2 2 9 2 2 2 2 2 2 2 2 2 9 9 9 4 2 2 2 2 2 2 2 2 9 2 9 4 2 9 2 2 2 2 2 2\n",
            " 2 2 2 2 9 2 9 2 3 2 2 2 4 2 2 2 2 2 2 2 2 2 2 2 2 2 2 2 2 2 2 9 2 2 9 2 2\n",
            " 2 2 2 2 2 9 2 9 9 2 2 2 2 2 2 2 2 2 2 2 2 2 2 2 0 0 2 2 2 2 2 2 2 0 2 2 2\n",
            " 2 2 2 0 2 2 2 2 2 2 2 2 2 3 2 2 2 2 2 2 2 2 2 2 2 2 2 2 2 2 2 2 0 0 2 2 2\n",
            " 2 2 2 2 2 2 2 0 2 2 2 2 2 2 2 2 2 2 2 2 2 2 2 2 2 2 2 2 2 2 2 2 2 2 2 2 0\n",
            " 2 2 2 2 2 2 2 2 2 2 2 0 2 2 2 0 2 2 2 2 2 2 2 2 2 2 2 2 2 2 2 2 2 2 2 2 2\n",
            " 2 2 0 2 2 2 3 2 2 2 2 2 2 2 2 9 2 2 0 2 0 2 2 2 2 2 2 2 2 2 0 2 2 2 2 2 2\n",
            " 2 0 2 2 0 2 2 2 2 2 2 2 2 2 2 0 2 2 2 2 2 2 2 2 2 2 2 2 2 3 2 2 2 2 2 2 2\n",
            " 0 0 2 2 0 2 2 2 2 2 2 2 0 2 2 2 0 2 0 2 2 2 2 0 2 2 2 0 2 2 0 2 2 2 2 2 0\n",
            " 2 2 2 2 2 2 0 2 2 2 2 0 2 0 2 0 2 2 2 2 2 2 2 2 2 2 0 0 0 0 2 2 2 0 2 2 2\n",
            " 0 2 0 2 2 0 2 2 2 2 2 2 2 2 2 2 2 2 0 2 0 0 0 2 0 2 2 2 0 2 2 2 0 2 0 0 2\n",
            " 2 0 2 2 2 2 2 2 2 2 2 0 2 2 2 2 0 2 2 2 2 2 2 0 2 2 0 0 2 0 0 2 2 2 2 2 0\n",
            " 2 0 0 2 0 2 0 2 2 2 2 2 2 0 0 0 0 0 2 2 0 2 2 2 2 2 2 0 2 2 2 2 2 2 2 0 2\n",
            " 2 2 2 2 2 2 0 2 2 0 0 2 2 2 2 2 2 2 2 2 2 2 2 2 2 2 2 2 2 2 2 2 2 3 2 2 2\n",
            " 2 2 2 2 2 2 2 2 2 2 2 2 2 2 2 2 3 2 2 2 2 2 2 2 2 2 2 2 2 2 2 2 2 2 2 2 2\n",
            " 2 2 2 2 2 2 2 2 2 2 2 2 2 2 2 2 2 2 2 2 2 2 2 2 2 2 2 2 2 2 2 2 2 2 2 2 2\n",
            " 2 2 2 2 2 2 2 2 2 2 2 2 2 2 2 2 2 2 2 2 2 2 2 2 2 2 3 2 2 2 2 2 2 2 2 2 2\n",
            " 2 2 2 2 2 3 2 2 2 2 2 2 2 2 2 2 2 2 2 2 2 2 2 2 2 2 2 2 2 2 2 2 2 2 2 2 2\n",
            " 2 2 2 2 2 2 2 2 2 2 2 2 2 2 2 2 2 2 2 2 2 2 2 2 2 2 2 2 2 2 2 2 2 2 2 2 2\n",
            " 2 2 2 3 2 2 2 2 3 2 2 2 2 2 3 2 3 2 2 2 3 2 2 3 2 2 2 2 2 2 2 2 2 2 2 2 2\n",
            " 2 2 2 2 2 2 2 2 2 2 2 3 2 2 2 2 2 2 2 2 2 2 2 2 2 2 2 2 2 2 2 2 2 2 2 2 2\n",
            " 2 2 2 2 2 2 2 2 3 2 2 3 2 2 2 2 2 2 2 2 2 2 2 2 2 2 2 2 2 2 3 3 2 2 2 2 2\n",
            " 2 3 2 2 2 2 2 2 2 2 3 2 2 3 3 2 2 3 2 2 2 2 2 2 2 2 2 2 2 3 3 2 2 2 2 2 2\n",
            " 2 2 2 2 2 2 2 2 2 2 2 2 2 2 2 2 2 2 2 2 2 2 2 2 2 2 2 2 2 2 2 2 2 2 2 2 2\n",
            " 2 2 2 2 2 3 2 2 2 2 2 2 3 2 2 2 2 2 2 2 2 2 2 2 2 2 2 2 2 2 2 2 2 2 2 2 2\n",
            " 2 2 2 2 2 2 2 2 2 2 2 2 2 2 2 2 2 2 2 2 2 2 3 2 2 2 2 2 2 2 2 2 2 2 2 2 2\n",
            " 2 2 2 2 2 2 2 2 2 2 2 2 2 2 2 2 2 2 2 2 2 2 2 2 2 2 2 2 2 2 2 2 2 2 2 2 2\n",
            " 2 3 2 2 3 2 2 2 2 2 2 2 2 2 2 2 2 3 2 2 2 2 2 2 2 2 2 2 2 2 2 2 2 2 2 2 2\n",
            " 2 2 2 2 2 2 2 2 2 2 2 2 2 2 3 2 2 2 2 2 2 2 2 2 2 2 2 2 2 2 2 2 2 2 2 2 2\n",
            " 2 2 2 2 2 2 2 2 2 2 2 3 2 2 2 2 2 2 2 2 2 2 3 2 2 2 2 2 2 2 2 2 2 2 2 2 2\n",
            " 2 2 2 2 2 2 2 2 2 2 2 2 2 2 2 2 2 2 2 2 2 2 2 2 2 2 2 2 2 2 2 2 2 2 2 2 2\n",
            " 2 2 2 2 2 2 2 2 2 2 2 2 2 2 2 2 2 2 2 2 2 2 2 2 2 2 2 2 2 2 2 2 2 2 2 2 2\n",
            " 2 2 2 2 2 2 2 2 2 2 2 2 2 2 2 2 2 2 2 2 2 2 2 2 2 2 2 2 2 2 2 2 2 2 2 2 2\n",
            " 2 2 2 2 2 2 2 2 2 2 2 2 2 2 2 2 2 2 2 2 2 2 2 2 2 2 2 2 2 2 2 2 2 2 2 2 2\n",
            " 2 2 2 2 2 2 2 2 2 2 2 2 2 2 2 2 2 2 2 2 2 2 2 2 2 2 2 2 2 2 2 2 2 2 2 2 2\n",
            " 2 2 2 2 2 2 2 2 2 2 2 2 2 2 2 2 2 2 2 2 2 2 2 2 2 2 2 2 2 2 2 2 2 2 2 2 2\n",
            " 2 2 2 2 2 2 2 2 2 2 2 2 2 2 2 2 2 2 2 2 2 2 2 2 2 2 2 2 2 2 2 2 2 2 2 2 2\n",
            " 2 2 2 2 2 2 2 2 2 2 2 2 2 2 2 2 2 2 2 2 2 2 2 2 2 2 2 2 2 2 2 2 2 2 2 2 2\n",
            " 2 2 2 2 2 2 2 2 2 2 2 2 3 2 2 2 2 2 2 2 2 2 2 2 2 2 2 2 2 2 2 2 2 2 2 2 2\n",
            " 2 2 2 2 2 2 2 2 2 2 2 2 2 2 2 2 2 2 2 2 2 2 2 2 2 2 2 2 2 2 2 2 2 2 2 2 2\n",
            " 2 2 2 2 2 2 2 2 2 2 2 2 2 2 2 2 2 2 2 2 2 2 2 2 2 2 2 2 2 2 2 2 2 2 2 2 2\n",
            " 2 2 3 2 2 2 2 2 2 2 2 2 2 2 2 2 2 2 2 2 2 2 2 2 2 2 2 2 2 2 2 2 2 2 2 2 2\n",
            " 2 2 2 2 2 2 2 2 2 2 2 2 2 2 2 2 2 2 2 2 2 2 2 2 2 2 2 2 2 2 2 2 2 2 2 2 2\n",
            " 2 2 2 2 2 2 2 2 2 2 2 2 2 2 2 2 2 2 2 2 2 2 2 2 2 2 2 2 2 2 2 2 2 2 2 2 2\n",
            " 2 2 2 2 2 2 2 2 2 2 2 2 2 2 2 2 2 2 2 2 2 2 2 2 2 2 2 2 2 2 2 2 2 2 2 2 2\n",
            " 2 2 2 2 3 2 2 2 2 2 2 2 2 2 2 2 2 2 2 2 2 2 2 2 2 2 2 2 2 2 2 2 3 2 2 9 4\n",
            " 2 9 4 2 2 2 2 2 2 2 9 9 2 9 4 2 4 4 9 4 4 2 9 2 4 2 9 4 2 2 2 2 2 2 9 2 4\n",
            " 2 9 9 9 2 9 2 2 2 9 2 2 4 4 9 2 2 4 2 9 4 2 4 2 4 9 2 2 2 2 4 2 4 2 4 2 2\n",
            " 2 9 4 4 2 2 4 2 4 4 2 2 4 2 2 4 2 2 4 2 2 2 4 4 2 2 2 2 9 2 2 2 2 2 9 2 9\n",
            " 4 2 2 4 4 4 2 2 2 2 2 2 4 2 4 4 2 4 4 2 2 2 2 4 9 2 2 4 4 9 2 2 2 4 2 9 2\n",
            " 2 2 9 2 2 9 4 9 4 2 2 2 9 9 4 9 4 2 2 9 4 2 2 4 4 2 2 2 9 2 4 9 4 2 9 9 9\n",
            " 2 2 2 4 4 2 9 2 4 2], shape=(10000,), dtype=int64)\n"
          ],
          "name": "stdout"
        }
      ]
    },
    {
      "cell_type": "code",
      "metadata": {
        "id": "IyBdTV8E_xlx",
        "outputId": "084659e0-c05b-4045-a6b0-140f5bbba993",
        "colab": {
          "base_uri": "https://localhost:8080/"
        }
      },
      "source": [
        "# plot histogram:\n",
        "np.histogram(indexes, bins=list(range(len(classes))))"
      ],
      "execution_count": 47,
      "outputs": [
        {
          "output_type": "execute_result",
          "data": {
            "text/plain": [
              "(array([ 254,    1, 8791,  139,  392,    4,    0,    0,    0,  419]),\n",
              " array([ 0,  1,  2,  3,  4,  5,  6,  7,  8,  9, 10]))"
            ]
          },
          "metadata": {
            "tags": []
          },
          "execution_count": 47
        }
      ]
    },
    {
      "cell_type": "code",
      "metadata": {
        "id": "fdJWi98nz6LY",
        "outputId": "06b10409-a7cc-49ed-b4f9-849bc6e94734",
        "colab": {
          "base_uri": "https://localhost:8080/",
          "height": 628
        }
      },
      "source": [
        "from matplotlib import pyplot\n",
        "pyplot.imshow(train_data[1,:,:,0:3])\n",
        "# show the figure\n",
        "pyplot.show()"
      ],
      "execution_count": 19,
      "outputs": [
        {
          "output_type": "error",
          "ename": "TypeError",
          "evalue": "ignored",
          "traceback": [
            "\u001b[0;31m---------------------------------------------------------------------------\u001b[0m",
            "\u001b[0;31mTypeError\u001b[0m                                 Traceback (most recent call last)",
            "\u001b[0;32m<ipython-input-19-944d52338cf6>\u001b[0m in \u001b[0;36m<module>\u001b[0;34m()\u001b[0m\n\u001b[1;32m      1\u001b[0m \u001b[0;32mfrom\u001b[0m \u001b[0mmatplotlib\u001b[0m \u001b[0;32mimport\u001b[0m \u001b[0mpyplot\u001b[0m\u001b[0;34m\u001b[0m\u001b[0;34m\u001b[0m\u001b[0m\n\u001b[0;32m----> 2\u001b[0;31m \u001b[0mpyplot\u001b[0m\u001b[0;34m.\u001b[0m\u001b[0mimshow\u001b[0m\u001b[0;34m(\u001b[0m\u001b[0mtrain_data\u001b[0m\u001b[0;34m[\u001b[0m\u001b[0;36m1\u001b[0m\u001b[0;34m,\u001b[0m\u001b[0;34m:\u001b[0m\u001b[0;34m,\u001b[0m\u001b[0;34m:\u001b[0m\u001b[0;34m,\u001b[0m\u001b[0;36m0\u001b[0m\u001b[0;34m:\u001b[0m\u001b[0;36m3\u001b[0m\u001b[0;34m]\u001b[0m\u001b[0;34m)\u001b[0m\u001b[0;34m\u001b[0m\u001b[0;34m\u001b[0m\u001b[0m\n\u001b[0m\u001b[1;32m      3\u001b[0m \u001b[0;31m# show the figure\u001b[0m\u001b[0;34m\u001b[0m\u001b[0;34m\u001b[0m\u001b[0;34m\u001b[0m\u001b[0m\n\u001b[1;32m      4\u001b[0m \u001b[0mpyplot\u001b[0m\u001b[0;34m.\u001b[0m\u001b[0mshow\u001b[0m\u001b[0;34m(\u001b[0m\u001b[0;34m)\u001b[0m\u001b[0;34m\u001b[0m\u001b[0;34m\u001b[0m\u001b[0m\n",
            "\u001b[0;32m/usr/local/lib/python3.7/dist-packages/matplotlib/pyplot.py\u001b[0m in \u001b[0;36mimshow\u001b[0;34m(X, cmap, norm, aspect, interpolation, alpha, vmin, vmax, origin, extent, shape, filternorm, filterrad, imlim, resample, url, data, **kwargs)\u001b[0m\n\u001b[1;32m   2649\u001b[0m         \u001b[0mfilternorm\u001b[0m\u001b[0;34m=\u001b[0m\u001b[0mfilternorm\u001b[0m\u001b[0;34m,\u001b[0m \u001b[0mfilterrad\u001b[0m\u001b[0;34m=\u001b[0m\u001b[0mfilterrad\u001b[0m\u001b[0;34m,\u001b[0m \u001b[0mimlim\u001b[0m\u001b[0;34m=\u001b[0m\u001b[0mimlim\u001b[0m\u001b[0;34m,\u001b[0m\u001b[0;34m\u001b[0m\u001b[0;34m\u001b[0m\u001b[0m\n\u001b[1;32m   2650\u001b[0m         resample=resample, url=url, **({\"data\": data} if data is not\n\u001b[0;32m-> 2651\u001b[0;31m         None else {}), **kwargs)\n\u001b[0m\u001b[1;32m   2652\u001b[0m     \u001b[0msci\u001b[0m\u001b[0;34m(\u001b[0m\u001b[0m__ret\u001b[0m\u001b[0;34m)\u001b[0m\u001b[0;34m\u001b[0m\u001b[0;34m\u001b[0m\u001b[0m\n\u001b[1;32m   2653\u001b[0m     \u001b[0;32mreturn\u001b[0m \u001b[0m__ret\u001b[0m\u001b[0;34m\u001b[0m\u001b[0;34m\u001b[0m\u001b[0m\n",
            "\u001b[0;32m/usr/local/lib/python3.7/dist-packages/matplotlib/__init__.py\u001b[0m in \u001b[0;36minner\u001b[0;34m(ax, data, *args, **kwargs)\u001b[0m\n\u001b[1;32m   1563\u001b[0m     \u001b[0;32mdef\u001b[0m \u001b[0minner\u001b[0m\u001b[0;34m(\u001b[0m\u001b[0max\u001b[0m\u001b[0;34m,\u001b[0m \u001b[0;34m*\u001b[0m\u001b[0margs\u001b[0m\u001b[0;34m,\u001b[0m \u001b[0mdata\u001b[0m\u001b[0;34m=\u001b[0m\u001b[0;32mNone\u001b[0m\u001b[0;34m,\u001b[0m \u001b[0;34m**\u001b[0m\u001b[0mkwargs\u001b[0m\u001b[0;34m)\u001b[0m\u001b[0;34m:\u001b[0m\u001b[0;34m\u001b[0m\u001b[0;34m\u001b[0m\u001b[0m\n\u001b[1;32m   1564\u001b[0m         \u001b[0;32mif\u001b[0m \u001b[0mdata\u001b[0m \u001b[0;32mis\u001b[0m \u001b[0;32mNone\u001b[0m\u001b[0;34m:\u001b[0m\u001b[0;34m\u001b[0m\u001b[0;34m\u001b[0m\u001b[0m\n\u001b[0;32m-> 1565\u001b[0;31m             \u001b[0;32mreturn\u001b[0m \u001b[0mfunc\u001b[0m\u001b[0;34m(\u001b[0m\u001b[0max\u001b[0m\u001b[0;34m,\u001b[0m \u001b[0;34m*\u001b[0m\u001b[0mmap\u001b[0m\u001b[0;34m(\u001b[0m\u001b[0msanitize_sequence\u001b[0m\u001b[0;34m,\u001b[0m \u001b[0margs\u001b[0m\u001b[0;34m)\u001b[0m\u001b[0;34m,\u001b[0m \u001b[0;34m**\u001b[0m\u001b[0mkwargs\u001b[0m\u001b[0;34m)\u001b[0m\u001b[0;34m\u001b[0m\u001b[0;34m\u001b[0m\u001b[0m\n\u001b[0m\u001b[1;32m   1566\u001b[0m \u001b[0;34m\u001b[0m\u001b[0m\n\u001b[1;32m   1567\u001b[0m         \u001b[0mbound\u001b[0m \u001b[0;34m=\u001b[0m \u001b[0mnew_sig\u001b[0m\u001b[0;34m.\u001b[0m\u001b[0mbind\u001b[0m\u001b[0;34m(\u001b[0m\u001b[0max\u001b[0m\u001b[0;34m,\u001b[0m \u001b[0;34m*\u001b[0m\u001b[0margs\u001b[0m\u001b[0;34m,\u001b[0m \u001b[0;34m**\u001b[0m\u001b[0mkwargs\u001b[0m\u001b[0;34m)\u001b[0m\u001b[0;34m\u001b[0m\u001b[0;34m\u001b[0m\u001b[0m\n",
            "\u001b[0;32m/usr/local/lib/python3.7/dist-packages/matplotlib/cbook/deprecation.py\u001b[0m in \u001b[0;36mwrapper\u001b[0;34m(*args, **kwargs)\u001b[0m\n\u001b[1;32m    356\u001b[0m                 \u001b[0;34mf\"%(removal)s.  If any parameter follows {name!r}, they \"\u001b[0m\u001b[0;34m\u001b[0m\u001b[0;34m\u001b[0m\u001b[0m\n\u001b[1;32m    357\u001b[0m                 f\"should be pass as keyword, not positionally.\")\n\u001b[0;32m--> 358\u001b[0;31m         \u001b[0;32mreturn\u001b[0m \u001b[0mfunc\u001b[0m\u001b[0;34m(\u001b[0m\u001b[0;34m*\u001b[0m\u001b[0margs\u001b[0m\u001b[0;34m,\u001b[0m \u001b[0;34m**\u001b[0m\u001b[0mkwargs\u001b[0m\u001b[0;34m)\u001b[0m\u001b[0;34m\u001b[0m\u001b[0;34m\u001b[0m\u001b[0m\n\u001b[0m\u001b[1;32m    359\u001b[0m \u001b[0;34m\u001b[0m\u001b[0m\n\u001b[1;32m    360\u001b[0m     \u001b[0;32mreturn\u001b[0m \u001b[0mwrapper\u001b[0m\u001b[0;34m\u001b[0m\u001b[0;34m\u001b[0m\u001b[0m\n",
            "\u001b[0;32m/usr/local/lib/python3.7/dist-packages/matplotlib/cbook/deprecation.py\u001b[0m in \u001b[0;36mwrapper\u001b[0;34m(*args, **kwargs)\u001b[0m\n\u001b[1;32m    356\u001b[0m                 \u001b[0;34mf\"%(removal)s.  If any parameter follows {name!r}, they \"\u001b[0m\u001b[0;34m\u001b[0m\u001b[0;34m\u001b[0m\u001b[0m\n\u001b[1;32m    357\u001b[0m                 f\"should be pass as keyword, not positionally.\")\n\u001b[0;32m--> 358\u001b[0;31m         \u001b[0;32mreturn\u001b[0m \u001b[0mfunc\u001b[0m\u001b[0;34m(\u001b[0m\u001b[0;34m*\u001b[0m\u001b[0margs\u001b[0m\u001b[0;34m,\u001b[0m \u001b[0;34m**\u001b[0m\u001b[0mkwargs\u001b[0m\u001b[0;34m)\u001b[0m\u001b[0;34m\u001b[0m\u001b[0;34m\u001b[0m\u001b[0m\n\u001b[0m\u001b[1;32m    359\u001b[0m \u001b[0;34m\u001b[0m\u001b[0m\n\u001b[1;32m    360\u001b[0m     \u001b[0;32mreturn\u001b[0m \u001b[0mwrapper\u001b[0m\u001b[0;34m\u001b[0m\u001b[0;34m\u001b[0m\u001b[0m\n",
            "\u001b[0;32m/usr/local/lib/python3.7/dist-packages/matplotlib/axes/_axes.py\u001b[0m in \u001b[0;36mimshow\u001b[0;34m(self, X, cmap, norm, aspect, interpolation, alpha, vmin, vmax, origin, extent, shape, filternorm, filterrad, imlim, resample, url, **kwargs)\u001b[0m\n\u001b[1;32m   5624\u001b[0m                               resample=resample, **kwargs)\n\u001b[1;32m   5625\u001b[0m \u001b[0;34m\u001b[0m\u001b[0m\n\u001b[0;32m-> 5626\u001b[0;31m         \u001b[0mim\u001b[0m\u001b[0;34m.\u001b[0m\u001b[0mset_data\u001b[0m\u001b[0;34m(\u001b[0m\u001b[0mX\u001b[0m\u001b[0;34m)\u001b[0m\u001b[0;34m\u001b[0m\u001b[0;34m\u001b[0m\u001b[0m\n\u001b[0m\u001b[1;32m   5627\u001b[0m         \u001b[0mim\u001b[0m\u001b[0;34m.\u001b[0m\u001b[0mset_alpha\u001b[0m\u001b[0;34m(\u001b[0m\u001b[0malpha\u001b[0m\u001b[0;34m)\u001b[0m\u001b[0;34m\u001b[0m\u001b[0;34m\u001b[0m\u001b[0m\n\u001b[1;32m   5628\u001b[0m         \u001b[0;32mif\u001b[0m \u001b[0mim\u001b[0m\u001b[0;34m.\u001b[0m\u001b[0mget_clip_path\u001b[0m\u001b[0;34m(\u001b[0m\u001b[0;34m)\u001b[0m \u001b[0;32mis\u001b[0m \u001b[0;32mNone\u001b[0m\u001b[0;34m:\u001b[0m\u001b[0;34m\u001b[0m\u001b[0;34m\u001b[0m\u001b[0m\n",
            "\u001b[0;32m/usr/local/lib/python3.7/dist-packages/matplotlib/image.py\u001b[0m in \u001b[0;36mset_data\u001b[0;34m(self, A)\u001b[0m\n\u001b[1;32m    697\u001b[0m                 or self._A.ndim == 3 and self._A.shape[-1] in [3, 4]):\n\u001b[1;32m    698\u001b[0m             raise TypeError(\"Invalid shape {} for image data\"\n\u001b[0;32m--> 699\u001b[0;31m                             .format(self._A.shape))\n\u001b[0m\u001b[1;32m    700\u001b[0m \u001b[0;34m\u001b[0m\u001b[0m\n\u001b[1;32m    701\u001b[0m         \u001b[0;32mif\u001b[0m \u001b[0mself\u001b[0m\u001b[0;34m.\u001b[0m\u001b[0m_A\u001b[0m\u001b[0;34m.\u001b[0m\u001b[0mndim\u001b[0m \u001b[0;34m==\u001b[0m \u001b[0;36m3\u001b[0m\u001b[0;34m:\u001b[0m\u001b[0;34m\u001b[0m\u001b[0;34m\u001b[0m\u001b[0m\n",
            "\u001b[0;31mTypeError\u001b[0m: Invalid shape (12, 33, 3, 6) for image data"
          ]
        },
        {
          "output_type": "display_data",
          "data": {
            "image/png": "[encoded data removed]",
            "text/plain": [
              "<Figure size 432x288 with 1 Axes>"
            ]
          },
          "metadata": {
            "tags": [],
            "needs_background": "light"
          }
        }
      ]
    }
  ]
}