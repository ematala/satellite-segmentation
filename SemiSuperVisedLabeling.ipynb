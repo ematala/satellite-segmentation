{
  "nbformat": 4,
  "nbformat_minor": 0,
  "metadata": {
    "colab": {
      "name": "SemiSuperVisedLabeling.ipynb",
      "provenance": [],
      "collapsed_sections": [],
      "include_colab_link": true
    },
    "kernelspec": {
      "name": "python3",
      "display_name": "Python 3"
    },
    "language_info": {
      "name": "python"
    }
  },
  "cells": [
    {
      "cell_type": "markdown",
      "metadata": {
        "id": "view-in-github",
        "colab_type": "text"
      },
      "source": [
        "<a href=\"https://colab.research.google.com/github/ematala/satellite-segmentation/blob/main/SemiSuperVisedLabeling.ipynb\" target=\"_parent\"><img src=\"https://colab.research.google.com/assets/colab-badge.svg\" alt=\"Open In Colab\"/></a>"
      ]
    },
    {
      "cell_type": "code",
      "metadata": {
        "id": "pnsVF2M3HntY"
      },
      "source": [
        "import os, datetime, math\n",
        "import numpy as np\n",
        "import tensorflow as tf\n",
        "import pandas as pd\n",
        "import matplotlib.pyplot as plt\n",
        "from sklearn.model_selection import train_test_split\n",
        "from sklearn.metrics import confusion_matrix, classification_report, accuracy_score, f1_score\n",
        "from seaborn import heatmap\n",
        "from sklearn.utils import class_weight"
      ],
      "execution_count": 1,
      "outputs": []
    },
    {
      "cell_type": "code",
      "metadata": {
        "id": "y0mQDVu7I_G0"
      },
      "source": [
        "%matplotlib inline"
      ],
      "execution_count": 2,
      "outputs": []
    },
    {
      "cell_type": "code",
      "metadata": {
        "colab": {
          "base_uri": "https://localhost:8080/"
        },
        "id": "Ywi4y83jJBuZ",
        "outputId": "679f5e7c-7264-4777-89ab-2730367b917a"
      },
      "source": [
        "from google.colab import drive\n",
        "drive.mount('/content/drive')"
      ],
      "execution_count": 3,
      "outputs": [
        {
          "output_type": "stream",
          "text": [
            "Drive already mounted at /content/drive; to attempt to forcibly remount, call drive.mount(\"/content/drive\", force_remount=True).\n"
          ],
          "name": "stdout"
        }
      ]
    },
    {
      "cell_type": "code",
      "metadata": {
        "id": "D4K7sXzTJECf"
      },
      "source": [
        "# !pfad angepasst wegen neuem account!\n",
        "data = np.load('/content/drive/MyDrive/Colab Notebooks/satellite-segmentation/data/train.npz')['bands']\n",
        "labels = np.load('/content/drive/MyDrive/Colab Notebooks/satellite-segmentation/data/train.npz')['lulc']\n",
        "\n",
        "classes = np.array(['No Data', 'Cultivated Land', 'Forest', 'Grassland', 'Shrubland', 'Water', 'Wetlands', 'Tundra', 'Artificial Surface', 'Bareland', 'Snow and Ice'])\n",
        "#x_test = np.load('/content/drive/MyDrive/Colab Notebooks/satellite-segmentation/data/public_test.npz')['bands']"
      ],
      "execution_count": 4,
      "outputs": []
    },
    {
      "cell_type": "code",
      "metadata": {
        "id": "d503jZTWrPNw"
      },
      "source": [
        "# set the pixel to extract\n",
        "PIXEL_X = 16\n",
        "PIXEL_Y = 16"
      ],
      "execution_count": 5,
      "outputs": []
    },
    {
      "cell_type": "code",
      "metadata": {
        "id": "do7rJ04HTaWY"
      },
      "source": [
        "def preprocess(x, y, labels=None):\n",
        "  x = x[y != 0, :, :, :, :] if labels == 'exclude_no_data' else x[y == 0, :, :, :, :] if labels == 'only_no_data' else x\n",
        "  y = y[y != 0] if labels == 'exclude_no_data' else y[y == 0] if labels == 'only_no_data' else y\n",
        "\n",
        "  x_train, x_val, y_train, y_val = train_test_split(x[:, :, PIXEL_X, PIXEL_Y, :].reshape((x.shape[0], x.shape[1] * x.shape[-1])), y, test_size=0.2, random_state=42, stratify = y)\n",
        "\n",
        "  return x_train, x_val, y_train, y_val"
      ],
      "execution_count": 6,
      "outputs": []
    },
    {
      "cell_type": "code",
      "metadata": {
        "colab": {
          "base_uri": "https://localhost:8080/",
          "height": 35
        },
        "id": "oLyCAVJDaq5v",
        "outputId": "6a3a776f-2959-4df3-e581-109261f146c6"
      },
      "source": [
        "# use only labelled data for training\n",
        "x_train, x_val, y_train, y_val = preprocess(data, labels, 'exclude_no_data')\n",
        "f'train: {x_train.shape} {y_train.shape}, validation: {x_val.shape} {y_val.shape}'"
      ],
      "execution_count": 7,
      "outputs": [
        {
          "output_type": "execute_result",
          "data": {
            "application/vnd.google.colaboratory.intrinsic+json": {
              "type": "string"
            },
            "text/plain": [
              "'train: (6953, 72) (6953,), validation: (1739, 72) (1739,)'"
            ]
          },
          "metadata": {
            "tags": []
          },
          "execution_count": 7
        }
      ]
    },
    {
      "cell_type": "code",
      "metadata": {
        "colab": {
          "base_uri": "https://localhost:8080/",
          "height": 297
        },
        "id": "-Mp_CLtSKaNy",
        "outputId": "94f8b1a5-87d4-4205-e60d-156dd5df14d9"
      },
      "source": [
        "plt.hist(y_train, bins=list(range(len(classes) + 1)), width=0.5, align='mid')\n",
        "plt.xticks(ticks=[i + 0.25 for i in range(len(classes))], labels=classes, rotation=90)\n",
        "plt.tight_layout()\n",
        "plt.show()"
      ],
      "execution_count": 8,
      "outputs": [
        {
          "output_type": "display_data",
          "data": {
            "image/png": "[encoded data removed]",
            "text/plain": [
              "<Figure size 432x288 with 1 Axes>"
            ]
          },
          "metadata": {
            "tags": [],
            "needs_background": "light"
          }
        }
      ]
    },
    {
      "cell_type": "code",
      "metadata": {
        "id": "ADWpofYuKRTu",
        "colab": {
          "base_uri": "https://localhost:8080/"
        },
        "outputId": "ce1bb983-adb3-4704-f73b-7e4ef7e8ee44"
      },
      "source": [
        "!pip install catboost\n",
        "from catboost import CatBoostClassifier"
      ],
      "execution_count": 9,
      "outputs": [
        {
          "output_type": "stream",
          "text": [
            "Requirement already satisfied: catboost in /usr/local/lib/python3.7/dist-packages (0.26)\n",
            "Requirement already satisfied: six in /usr/local/lib/python3.7/dist-packages (from catboost) (1.15.0)\n",
            "Requirement already satisfied: numpy>=1.16.0 in /usr/local/lib/python3.7/dist-packages (from catboost) (1.19.5)\n",
            "Requirement already satisfied: pandas>=0.24.0 in /usr/local/lib/python3.7/dist-packages (from catboost) (1.1.5)\n",
            "Requirement already satisfied: matplotlib in /usr/local/lib/python3.7/dist-packages (from catboost) (3.2.2)\n",
            "Requirement already satisfied: graphviz in /usr/local/lib/python3.7/dist-packages (from catboost) (0.10.1)\n",
            "Requirement already satisfied: plotly in /usr/local/lib/python3.7/dist-packages (from catboost) (4.4.1)\n",
            "Requirement already satisfied: scipy in /usr/local/lib/python3.7/dist-packages (from catboost) (1.4.1)\n",
            "Requirement already satisfied: python-dateutil>=2.7.3 in /usr/local/lib/python3.7/dist-packages (from pandas>=0.24.0->catboost) (2.8.1)\n",
            "Requirement already satisfied: pytz>=2017.2 in /usr/local/lib/python3.7/dist-packages (from pandas>=0.24.0->catboost) (2018.9)\n",
            "Requirement already satisfied: cycler>=0.10 in /usr/local/lib/python3.7/dist-packages (from matplotlib->catboost) (0.10.0)\n",
            "Requirement already satisfied: pyparsing!=2.0.4,!=2.1.2,!=2.1.6,>=2.0.1 in /usr/local/lib/python3.7/dist-packages (from matplotlib->catboost) (2.4.7)\n",
            "Requirement already satisfied: kiwisolver>=1.0.1 in /usr/local/lib/python3.7/dist-packages (from matplotlib->catboost) (1.3.1)\n",
            "Requirement already satisfied: retrying>=1.3.3 in /usr/local/lib/python3.7/dist-packages (from plotly->catboost) (1.3.3)\n"
          ],
          "name": "stdout"
        }
      ]
    },
    {
      "cell_type": "code",
      "metadata": {
        "colab": {
          "base_uri": "https://localhost:8080/"
        },
        "id": "YzMD6bJeeAxG",
        "outputId": "bd581f7b-932f-4081-e202-b717b52887d0"
      },
      "source": [
        "cbm = CatBoostClassifier(learning_rate=0.1, iterations=100, random_seed=42, logging_level='Verbose')\n",
        "cbm.fit(x_train, y_train)"
      ],
      "execution_count": 10,
      "outputs": [
        {
          "output_type": "stream",
          "text": [
            "0:\tlearn: 1.6601692\ttotal: 205ms\tremaining: 20.3s\n",
            "1:\tlearn: 1.4845736\ttotal: 340ms\tremaining: 16.7s\n",
            "2:\tlearn: 1.3504518\ttotal: 489ms\tremaining: 15.8s\n",
            "3:\tlearn: 1.2532687\ttotal: 636ms\tremaining: 15.3s\n",
            "4:\tlearn: 1.1706039\ttotal: 766ms\tremaining: 14.6s\n",
            "5:\tlearn: 1.1039608\ttotal: 905ms\tremaining: 14.2s\n",
            "6:\tlearn: 1.0474649\ttotal: 1.03s\tremaining: 13.8s\n",
            "7:\tlearn: 0.9988784\ttotal: 1.17s\tremaining: 13.4s\n",
            "8:\tlearn: 0.9562487\ttotal: 1.29s\tremaining: 13.1s\n",
            "9:\tlearn: 0.9191706\ttotal: 1.42s\tremaining: 12.8s\n",
            "10:\tlearn: 0.8875761\ttotal: 1.56s\tremaining: 12.6s\n",
            "11:\tlearn: 0.8618120\ttotal: 1.69s\tremaining: 12.4s\n",
            "12:\tlearn: 0.8376863\ttotal: 1.82s\tremaining: 12.2s\n",
            "13:\tlearn: 0.8141026\ttotal: 1.95s\tremaining: 12s\n",
            "14:\tlearn: 0.7946817\ttotal: 2.09s\tremaining: 11.8s\n",
            "15:\tlearn: 0.7748553\ttotal: 2.22s\tremaining: 11.6s\n",
            "16:\tlearn: 0.7585419\ttotal: 2.35s\tremaining: 11.5s\n",
            "17:\tlearn: 0.7436088\ttotal: 2.48s\tremaining: 11.3s\n",
            "18:\tlearn: 0.7318218\ttotal: 2.62s\tremaining: 11.2s\n",
            "19:\tlearn: 0.7199553\ttotal: 2.75s\tremaining: 11s\n",
            "20:\tlearn: 0.7085955\ttotal: 2.87s\tremaining: 10.8s\n",
            "21:\tlearn: 0.6989765\ttotal: 3s\tremaining: 10.6s\n",
            "22:\tlearn: 0.6885300\ttotal: 3.13s\tremaining: 10.5s\n",
            "23:\tlearn: 0.6800553\ttotal: 3.25s\tremaining: 10.3s\n",
            "24:\tlearn: 0.6724064\ttotal: 3.39s\tremaining: 10.2s\n",
            "25:\tlearn: 0.6652011\ttotal: 3.52s\tremaining: 10s\n",
            "26:\tlearn: 0.6586259\ttotal: 3.66s\tremaining: 9.89s\n",
            "27:\tlearn: 0.6522398\ttotal: 3.78s\tremaining: 9.72s\n",
            "28:\tlearn: 0.6449881\ttotal: 3.91s\tremaining: 9.56s\n",
            "29:\tlearn: 0.6383776\ttotal: 4.03s\tremaining: 9.4s\n",
            "30:\tlearn: 0.6330018\ttotal: 4.16s\tremaining: 9.25s\n",
            "31:\tlearn: 0.6278669\ttotal: 4.28s\tremaining: 9.11s\n",
            "32:\tlearn: 0.6218102\ttotal: 4.41s\tremaining: 8.95s\n",
            "33:\tlearn: 0.6178748\ttotal: 4.54s\tremaining: 8.81s\n",
            "34:\tlearn: 0.6145900\ttotal: 4.66s\tremaining: 8.65s\n",
            "35:\tlearn: 0.6122672\ttotal: 4.78s\tremaining: 8.49s\n",
            "36:\tlearn: 0.6071909\ttotal: 4.91s\tremaining: 8.35s\n",
            "37:\tlearn: 0.6041437\ttotal: 5.03s\tremaining: 8.2s\n",
            "38:\tlearn: 0.6008422\ttotal: 5.16s\tremaining: 8.07s\n",
            "39:\tlearn: 0.5972200\ttotal: 5.28s\tremaining: 7.92s\n",
            "40:\tlearn: 0.5942546\ttotal: 5.41s\tremaining: 7.79s\n",
            "41:\tlearn: 0.5917976\ttotal: 5.53s\tremaining: 7.64s\n",
            "42:\tlearn: 0.5883820\ttotal: 5.66s\tremaining: 7.51s\n",
            "43:\tlearn: 0.5851602\ttotal: 5.79s\tremaining: 7.36s\n",
            "44:\tlearn: 0.5828490\ttotal: 5.91s\tremaining: 7.22s\n",
            "45:\tlearn: 0.5791293\ttotal: 6.03s\tremaining: 7.08s\n",
            "46:\tlearn: 0.5771642\ttotal: 6.15s\tremaining: 6.93s\n",
            "47:\tlearn: 0.5728837\ttotal: 6.27s\tremaining: 6.79s\n",
            "48:\tlearn: 0.5685935\ttotal: 6.39s\tremaining: 6.66s\n",
            "49:\tlearn: 0.5672162\ttotal: 6.52s\tremaining: 6.52s\n",
            "50:\tlearn: 0.5642456\ttotal: 6.66s\tremaining: 6.39s\n",
            "51:\tlearn: 0.5607974\ttotal: 6.78s\tremaining: 6.26s\n",
            "52:\tlearn: 0.5577514\ttotal: 6.91s\tremaining: 6.12s\n",
            "53:\tlearn: 0.5549452\ttotal: 7.03s\tremaining: 5.99s\n",
            "54:\tlearn: 0.5525252\ttotal: 7.16s\tremaining: 5.86s\n",
            "55:\tlearn: 0.5499274\ttotal: 7.28s\tremaining: 5.72s\n",
            "56:\tlearn: 0.5479847\ttotal: 7.4s\tremaining: 5.58s\n",
            "57:\tlearn: 0.5452648\ttotal: 7.53s\tremaining: 5.45s\n",
            "58:\tlearn: 0.5424068\ttotal: 7.67s\tremaining: 5.33s\n",
            "59:\tlearn: 0.5389867\ttotal: 7.8s\tremaining: 5.2s\n",
            "60:\tlearn: 0.5365242\ttotal: 7.93s\tremaining: 5.07s\n",
            "61:\tlearn: 0.5333696\ttotal: 8.05s\tremaining: 4.93s\n",
            "62:\tlearn: 0.5305543\ttotal: 8.18s\tremaining: 4.8s\n",
            "63:\tlearn: 0.5287184\ttotal: 8.3s\tremaining: 4.67s\n",
            "64:\tlearn: 0.5274693\ttotal: 8.43s\tremaining: 4.54s\n",
            "65:\tlearn: 0.5251700\ttotal: 8.56s\tremaining: 4.41s\n",
            "66:\tlearn: 0.5237344\ttotal: 8.68s\tremaining: 4.28s\n",
            "67:\tlearn: 0.5214819\ttotal: 8.8s\tremaining: 4.14s\n",
            "68:\tlearn: 0.5191701\ttotal: 8.93s\tremaining: 4.01s\n",
            "69:\tlearn: 0.5182041\ttotal: 9.05s\tremaining: 3.88s\n",
            "70:\tlearn: 0.5164519\ttotal: 9.17s\tremaining: 3.75s\n",
            "71:\tlearn: 0.5148931\ttotal: 9.29s\tremaining: 3.61s\n",
            "72:\tlearn: 0.5122609\ttotal: 9.42s\tremaining: 3.48s\n",
            "73:\tlearn: 0.5110277\ttotal: 9.53s\tremaining: 3.35s\n",
            "74:\tlearn: 0.5084896\ttotal: 9.67s\tremaining: 3.22s\n",
            "75:\tlearn: 0.5072896\ttotal: 9.78s\tremaining: 3.09s\n",
            "76:\tlearn: 0.5055691\ttotal: 9.91s\tremaining: 2.96s\n",
            "77:\tlearn: 0.5043593\ttotal: 10s\tremaining: 2.83s\n",
            "78:\tlearn: 0.5027124\ttotal: 10.2s\tremaining: 2.7s\n",
            "79:\tlearn: 0.5004523\ttotal: 10.3s\tremaining: 2.57s\n",
            "80:\tlearn: 0.4989285\ttotal: 10.4s\tremaining: 2.44s\n",
            "81:\tlearn: 0.4966387\ttotal: 10.5s\tremaining: 2.31s\n",
            "82:\tlearn: 0.4955045\ttotal: 10.7s\tremaining: 2.19s\n",
            "83:\tlearn: 0.4941718\ttotal: 10.8s\tremaining: 2.06s\n",
            "84:\tlearn: 0.4917575\ttotal: 11s\tremaining: 1.93s\n",
            "85:\tlearn: 0.4893943\ttotal: 11.1s\tremaining: 1.8s\n",
            "86:\tlearn: 0.4879019\ttotal: 11.2s\tremaining: 1.68s\n",
            "87:\tlearn: 0.4871163\ttotal: 11.3s\tremaining: 1.54s\n",
            "88:\tlearn: 0.4858690\ttotal: 11.5s\tremaining: 1.42s\n",
            "89:\tlearn: 0.4842422\ttotal: 11.6s\tremaining: 1.29s\n",
            "90:\tlearn: 0.4830763\ttotal: 11.7s\tremaining: 1.16s\n",
            "91:\tlearn: 0.4813087\ttotal: 11.8s\tremaining: 1.03s\n",
            "92:\tlearn: 0.4801471\ttotal: 12s\tremaining: 901ms\n",
            "93:\tlearn: 0.4783184\ttotal: 12.1s\tremaining: 772ms\n",
            "94:\tlearn: 0.4772583\ttotal: 12.2s\tremaining: 643ms\n",
            "95:\tlearn: 0.4762044\ttotal: 12.3s\tremaining: 514ms\n",
            "96:\tlearn: 0.4742117\ttotal: 12.5s\tremaining: 385ms\n",
            "97:\tlearn: 0.4731868\ttotal: 12.6s\tremaining: 257ms\n",
            "98:\tlearn: 0.4724248\ttotal: 12.7s\tremaining: 128ms\n",
            "99:\tlearn: 0.4706139\ttotal: 12.8s\tremaining: 0us\n"
          ],
          "name": "stdout"
        },
        {
          "output_type": "execute_result",
          "data": {
            "text/plain": [
              "<catboost.core.CatBoostClassifier at 0x7fa65874d110>"
            ]
          },
          "metadata": {
            "tags": []
          },
          "execution_count": 10
        }
      ]
    },
    {
      "cell_type": "code",
      "metadata": {
        "colab": {
          "base_uri": "https://localhost:8080/"
        },
        "id": "8Vz_x624ea6K",
        "outputId": "c926c9aa-4258-4774-c68c-7b2f3d0165a8"
      },
      "source": [
        "# evaluate the model\n",
        "cbm_train = cbm.predict(x_train).reshape(-1)\n",
        "cbm_val = cbm.predict(x_val).reshape(-1)\n",
        "\n",
        "print('Training\\n')\n",
        "print(f'Accuracy: {accuracy_score(y_train, cbm_train)*100}')\n",
        "print(f'F1-Score: {f1_score(y_train, cbm_train, average=None)*100}')\n",
        "print(classification_report(y_train, cbm_train))\n",
        "\n",
        "print('\\n')\n",
        "\n",
        "print('Validation\\n')\n",
        "print(f'Accuracy: {accuracy_score(y_val, cbm_val)*100}')\n",
        "print(f'F1-Score: {f1_score(y_val, cbm_val, average=None)*100}')\n",
        "print(classification_report(y_val, cbm_val))"
      ],
      "execution_count": 11,
      "outputs": [
        {
          "output_type": "stream",
          "text": [
            "Training\n",
            "\n",
            "Accuracy: 84.3089313965195\n",
            "F1-Score: [52.29681979 92.70245304 66.70360111 49.67880086 66.66666667 60.\n",
            " 83.29177057]\n",
            "              precision    recall  f1-score   support\n",
            "\n",
            "           1       0.80      0.39      0.52       190\n",
            "           2       0.88      0.97      0.93      4637\n",
            "           3       0.67      0.67      0.67       900\n",
            "           4       0.73      0.38      0.50       616\n",
            "           5       1.00      0.50      0.67        46\n",
            "           8       0.84      0.47      0.60       174\n",
            "           9       0.81      0.86      0.83       390\n",
            "\n",
            "    accuracy                           0.84      6953\n",
            "   macro avg       0.82      0.60      0.67      6953\n",
            "weighted avg       0.84      0.84      0.83      6953\n",
            "\n",
            "\n",
            "\n",
            "Validation\n",
            "\n",
            "Accuracy: 80.448533640023\n",
            "F1-Score: [41.09589041 91.40752864 59.24276169 35.24229075 58.82352941 40.\n",
            " 74.03846154]\n",
            "              precision    recall  f1-score   support\n",
            "\n",
            "           1       0.60      0.31      0.41        48\n",
            "           2       0.87      0.96      0.91      1159\n",
            "           3       0.59      0.59      0.59       225\n",
            "           4       0.55      0.26      0.35       154\n",
            "           5       1.00      0.42      0.59        12\n",
            "           8       0.71      0.28      0.40        43\n",
            "           9       0.70      0.79      0.74        98\n",
            "\n",
            "    accuracy                           0.80      1739\n",
            "   macro avg       0.72      0.52      0.57      1739\n",
            "weighted avg       0.79      0.80      0.78      1739\n",
            "\n"
          ],
          "name": "stdout"
        }
      ]
    },
    {
      "cell_type": "code",
      "metadata": {
        "colab": {
          "base_uri": "https://localhost:8080/",
          "height": 592
        },
        "id": "PWebywVJfFsO",
        "outputId": "3efce209-0566-4872-eb4e-920fc6ebe6e2"
      },
      "source": [
        "plt.figure(figsize=[15, 10])\n",
        "plt.hist([y_val, cbm_val], width=0.25)\n",
        "plt.legend(['true class', 'predicted label'])\n",
        "plt.xticks([i + 0.25 for i in range(len(classes))], classes)\n",
        "plt.show()"
      ],
      "execution_count": 12,
      "outputs": [
        {
          "output_type": "display_data",
          "data": {
            "image/png": "[encoded data removed]",
            "text/plain": [
              "<Figure size 1080x720 with 1 Axes>"
            ]
          },
          "metadata": {
            "tags": [],
            "needs_background": "light"
          }
        }
      ]
    },
    {
      "cell_type": "code",
      "metadata": {
        "colab": {
          "base_uri": "https://localhost:8080/"
        },
        "id": "8LNSyGwKgK-5",
        "outputId": "904f4257-2781-45f5-fd25-43d41fcc36d1"
      },
      "source": [
        "# fit the model on full unlabelled data, i. e. combine the splits\n",
        "cbm.fit(np.concatenate((x_train, x_val)), np.concatenate((y_train, y_val)))"
      ],
      "execution_count": 13,
      "outputs": [
        {
          "output_type": "stream",
          "text": [
            "0:\tlearn: 1.6570101\ttotal: 144ms\tremaining: 14.2s\n",
            "1:\tlearn: 1.4789320\ttotal: 286ms\tremaining: 14s\n",
            "2:\tlearn: 1.3448165\ttotal: 436ms\tremaining: 14.1s\n",
            "3:\tlearn: 1.2443726\ttotal: 571ms\tremaining: 13.7s\n",
            "4:\tlearn: 1.1623761\ttotal: 708ms\tremaining: 13.5s\n",
            "5:\tlearn: 1.0940929\ttotal: 841ms\tremaining: 13.2s\n",
            "6:\tlearn: 1.0380999\ttotal: 975ms\tremaining: 13s\n",
            "7:\tlearn: 0.9908858\ttotal: 1.11s\tremaining: 12.7s\n",
            "8:\tlearn: 0.9487823\ttotal: 1.25s\tremaining: 12.7s\n",
            "9:\tlearn: 0.9167833\ttotal: 1.39s\tremaining: 12.6s\n",
            "10:\tlearn: 0.8846229\ttotal: 1.53s\tremaining: 12.4s\n",
            "11:\tlearn: 0.8581981\ttotal: 1.68s\tremaining: 12.3s\n",
            "12:\tlearn: 0.8347148\ttotal: 1.81s\tremaining: 12.1s\n",
            "13:\tlearn: 0.8130806\ttotal: 1.94s\tremaining: 11.9s\n",
            "14:\tlearn: 0.7936356\ttotal: 2.08s\tremaining: 11.8s\n",
            "15:\tlearn: 0.7754164\ttotal: 2.21s\tremaining: 11.6s\n",
            "16:\tlearn: 0.7573018\ttotal: 2.36s\tremaining: 11.5s\n",
            "17:\tlearn: 0.7428071\ttotal: 2.48s\tremaining: 11.3s\n",
            "18:\tlearn: 0.7311917\ttotal: 2.62s\tremaining: 11.2s\n",
            "19:\tlearn: 0.7193563\ttotal: 2.75s\tremaining: 11s\n",
            "20:\tlearn: 0.7080806\ttotal: 2.89s\tremaining: 10.9s\n",
            "21:\tlearn: 0.6985920\ttotal: 3.01s\tremaining: 10.7s\n",
            "22:\tlearn: 0.6881971\ttotal: 3.15s\tremaining: 10.5s\n",
            "23:\tlearn: 0.6802395\ttotal: 3.28s\tremaining: 10.4s\n",
            "24:\tlearn: 0.6723155\ttotal: 3.42s\tremaining: 10.3s\n",
            "25:\tlearn: 0.6645069\ttotal: 3.55s\tremaining: 10.1s\n",
            "26:\tlearn: 0.6583279\ttotal: 3.67s\tremaining: 9.94s\n",
            "27:\tlearn: 0.6520715\ttotal: 3.8s\tremaining: 9.77s\n",
            "28:\tlearn: 0.6450392\ttotal: 3.94s\tremaining: 9.66s\n",
            "29:\tlearn: 0.6399021\ttotal: 4.07s\tremaining: 9.49s\n",
            "30:\tlearn: 0.6339729\ttotal: 4.2s\tremaining: 9.36s\n",
            "31:\tlearn: 0.6285097\ttotal: 4.36s\tremaining: 9.26s\n",
            "32:\tlearn: 0.6237664\ttotal: 4.48s\tremaining: 9.1s\n",
            "33:\tlearn: 0.6203951\ttotal: 4.6s\tremaining: 8.94s\n",
            "34:\tlearn: 0.6158298\ttotal: 4.73s\tremaining: 8.79s\n",
            "35:\tlearn: 0.6111917\ttotal: 4.86s\tremaining: 8.63s\n",
            "36:\tlearn: 0.6079616\ttotal: 4.98s\tremaining: 8.49s\n",
            "37:\tlearn: 0.6032430\ttotal: 5.11s\tremaining: 8.34s\n",
            "38:\tlearn: 0.5983852\ttotal: 5.25s\tremaining: 8.22s\n",
            "39:\tlearn: 0.5942155\ttotal: 5.39s\tremaining: 8.08s\n",
            "40:\tlearn: 0.5916361\ttotal: 5.51s\tremaining: 7.93s\n",
            "41:\tlearn: 0.5884731\ttotal: 5.64s\tremaining: 7.79s\n",
            "42:\tlearn: 0.5851552\ttotal: 5.76s\tremaining: 7.64s\n",
            "43:\tlearn: 0.5824915\ttotal: 5.88s\tremaining: 7.49s\n",
            "44:\tlearn: 0.5784001\ttotal: 6.02s\tremaining: 7.36s\n",
            "45:\tlearn: 0.5759292\ttotal: 6.18s\tremaining: 7.25s\n",
            "46:\tlearn: 0.5720325\ttotal: 6.32s\tremaining: 7.12s\n",
            "47:\tlearn: 0.5698264\ttotal: 6.45s\tremaining: 6.99s\n",
            "48:\tlearn: 0.5662947\ttotal: 6.59s\tremaining: 6.86s\n",
            "49:\tlearn: 0.5634421\ttotal: 6.72s\tremaining: 6.72s\n",
            "50:\tlearn: 0.5606489\ttotal: 6.86s\tremaining: 6.59s\n",
            "51:\tlearn: 0.5571498\ttotal: 6.99s\tremaining: 6.45s\n",
            "52:\tlearn: 0.5547689\ttotal: 7.12s\tremaining: 6.31s\n",
            "53:\tlearn: 0.5531918\ttotal: 7.25s\tremaining: 6.17s\n",
            "54:\tlearn: 0.5513206\ttotal: 7.38s\tremaining: 6.04s\n",
            "55:\tlearn: 0.5494043\ttotal: 7.53s\tremaining: 5.91s\n",
            "56:\tlearn: 0.5470816\ttotal: 7.66s\tremaining: 5.78s\n",
            "57:\tlearn: 0.5450950\ttotal: 7.79s\tremaining: 5.64s\n",
            "58:\tlearn: 0.5423575\ttotal: 7.93s\tremaining: 5.51s\n",
            "59:\tlearn: 0.5394145\ttotal: 8.06s\tremaining: 5.37s\n",
            "60:\tlearn: 0.5376693\ttotal: 8.18s\tremaining: 5.23s\n",
            "61:\tlearn: 0.5362975\ttotal: 8.31s\tremaining: 5.09s\n",
            "62:\tlearn: 0.5339094\ttotal: 8.45s\tremaining: 4.96s\n",
            "63:\tlearn: 0.5321074\ttotal: 8.57s\tremaining: 4.82s\n",
            "64:\tlearn: 0.5307433\ttotal: 8.7s\tremaining: 4.68s\n",
            "65:\tlearn: 0.5289098\ttotal: 8.82s\tremaining: 4.55s\n",
            "66:\tlearn: 0.5273623\ttotal: 8.95s\tremaining: 4.41s\n",
            "67:\tlearn: 0.5251119\ttotal: 9.07s\tremaining: 4.27s\n",
            "68:\tlearn: 0.5221519\ttotal: 9.21s\tremaining: 4.14s\n",
            "69:\tlearn: 0.5202132\ttotal: 9.34s\tremaining: 4s\n",
            "70:\tlearn: 0.5190633\ttotal: 9.47s\tremaining: 3.87s\n",
            "71:\tlearn: 0.5174030\ttotal: 9.6s\tremaining: 3.73s\n",
            "72:\tlearn: 0.5157047\ttotal: 9.73s\tremaining: 3.6s\n",
            "73:\tlearn: 0.5146228\ttotal: 9.85s\tremaining: 3.46s\n",
            "74:\tlearn: 0.5120435\ttotal: 9.99s\tremaining: 3.33s\n",
            "75:\tlearn: 0.5104896\ttotal: 10.1s\tremaining: 3.19s\n",
            "76:\tlearn: 0.5091135\ttotal: 10.3s\tremaining: 3.06s\n",
            "77:\tlearn: 0.5083430\ttotal: 10.4s\tremaining: 2.92s\n",
            "78:\tlearn: 0.5068771\ttotal: 10.5s\tremaining: 2.79s\n",
            "79:\tlearn: 0.5046518\ttotal: 10.6s\tremaining: 2.66s\n",
            "80:\tlearn: 0.5035233\ttotal: 10.8s\tremaining: 2.52s\n",
            "81:\tlearn: 0.5016619\ttotal: 10.9s\tremaining: 2.39s\n",
            "82:\tlearn: 0.5005572\ttotal: 11s\tremaining: 2.26s\n",
            "83:\tlearn: 0.4989094\ttotal: 11.1s\tremaining: 2.12s\n",
            "84:\tlearn: 0.4977070\ttotal: 11.3s\tremaining: 1.99s\n",
            "85:\tlearn: 0.4951299\ttotal: 11.4s\tremaining: 1.86s\n",
            "86:\tlearn: 0.4936261\ttotal: 11.5s\tremaining: 1.72s\n",
            "87:\tlearn: 0.4927051\ttotal: 11.7s\tremaining: 1.59s\n",
            "88:\tlearn: 0.4916890\ttotal: 11.8s\tremaining: 1.46s\n",
            "89:\tlearn: 0.4906124\ttotal: 11.9s\tremaining: 1.32s\n",
            "90:\tlearn: 0.4893925\ttotal: 12s\tremaining: 1.19s\n",
            "91:\tlearn: 0.4883803\ttotal: 12.2s\tremaining: 1.06s\n",
            "92:\tlearn: 0.4874852\ttotal: 12.3s\tremaining: 926ms\n",
            "93:\tlearn: 0.4853049\ttotal: 12.4s\tremaining: 794ms\n",
            "94:\tlearn: 0.4843139\ttotal: 12.6s\tremaining: 661ms\n",
            "95:\tlearn: 0.4835476\ttotal: 12.7s\tremaining: 528ms\n",
            "96:\tlearn: 0.4829599\ttotal: 12.8s\tremaining: 396ms\n",
            "97:\tlearn: 0.4813941\ttotal: 12.9s\tremaining: 264ms\n",
            "98:\tlearn: 0.4799623\ttotal: 13.1s\tremaining: 132ms\n",
            "99:\tlearn: 0.4784504\ttotal: 13.2s\tremaining: 0us\n"
          ],
          "name": "stdout"
        },
        {
          "output_type": "execute_result",
          "data": {
            "text/plain": [
              "<catboost.core.CatBoostClassifier at 0x7fa65874d110>"
            ]
          },
          "metadata": {
            "tags": []
          },
          "execution_count": 13
        }
      ]
    },
    {
      "cell_type": "code",
      "metadata": {
        "id": "6lQqzqmAjAxa"
      },
      "source": [
        "# predict labels for unlabelled data\n",
        "transformed_data = data[:, :, PIXEL_X, PIXEL_Y, :].reshape((data.shape[0], data.shape[1] * data.shape[4]))\n",
        "predicted_labels = cbm.predict(transformed_data[labels == 0]).reshape(-1)\n",
        "new_labels = labels.copy()\n",
        "new_labels[labels == 0] = predicted_labels"
      ],
      "execution_count": 14,
      "outputs": []
    },
    {
      "cell_type": "code",
      "metadata": {
        "colab": {
          "base_uri": "https://localhost:8080/",
          "height": 35
        },
        "id": "BrolnS2UjA79",
        "outputId": "bb081640-5825-41bf-fa5c-5d182fb41282"
      },
      "source": [
        "# full data\n",
        "x_train, x_val, y_train, y_val = preprocess(data, new_labels)\n",
        "f'train: {x_train.shape} {y_train.shape}, validation: {x_val.shape} {y_val.shape}'"
      ],
      "execution_count": 15,
      "outputs": [
        {
          "output_type": "execute_result",
          "data": {
            "application/vnd.google.colaboratory.intrinsic+json": {
              "type": "string"
            },
            "text/plain": [
              "'train: (8000, 72) (8000,), validation: (2000, 72) (2000,)'"
            ]
          },
          "metadata": {
            "tags": []
          },
          "execution_count": 15
        }
      ]
    },
    {
      "cell_type": "code",
      "metadata": {
        "colab": {
          "base_uri": "https://localhost:8080/"
        },
        "id": "cPDZ41RcnPM9",
        "outputId": "d71608e2-8345-41fb-9095-1e963edccec3"
      },
      "source": [
        "# fit the model on full data with new labels\n",
        "cbm.fit(x_train, y_train)"
      ],
      "execution_count": 16,
      "outputs": [
        {
          "output_type": "stream",
          "text": [
            "0:\tlearn: 1.6442959\ttotal: 139ms\tremaining: 13.8s\n",
            "1:\tlearn: 1.4659800\ttotal: 278ms\tremaining: 13.6s\n",
            "2:\tlearn: 1.3259379\ttotal: 413ms\tremaining: 13.4s\n",
            "3:\tlearn: 1.2292418\ttotal: 549ms\tremaining: 13.2s\n",
            "4:\tlearn: 1.1440761\ttotal: 689ms\tremaining: 13.1s\n",
            "5:\tlearn: 1.0729942\ttotal: 821ms\tremaining: 12.9s\n",
            "6:\tlearn: 1.0145400\ttotal: 951ms\tremaining: 12.6s\n",
            "7:\tlearn: 0.9655785\ttotal: 1.09s\tremaining: 12.5s\n",
            "8:\tlearn: 0.9205841\ttotal: 1.22s\tremaining: 12.3s\n",
            "9:\tlearn: 0.8835288\ttotal: 1.34s\tremaining: 12.1s\n",
            "10:\tlearn: 0.8528315\ttotal: 1.47s\tremaining: 11.9s\n",
            "11:\tlearn: 0.8250368\ttotal: 1.6s\tremaining: 11.8s\n",
            "12:\tlearn: 0.7993238\ttotal: 1.74s\tremaining: 11.6s\n",
            "13:\tlearn: 0.7761850\ttotal: 1.87s\tremaining: 11.5s\n",
            "14:\tlearn: 0.7560408\ttotal: 2s\tremaining: 11.4s\n",
            "15:\tlearn: 0.7375523\ttotal: 2.13s\tremaining: 11.2s\n",
            "16:\tlearn: 0.7210793\ttotal: 2.27s\tremaining: 11.1s\n",
            "17:\tlearn: 0.7056824\ttotal: 2.39s\tremaining: 10.9s\n",
            "18:\tlearn: 0.6919654\ttotal: 2.52s\tremaining: 10.7s\n",
            "19:\tlearn: 0.6781475\ttotal: 2.65s\tremaining: 10.6s\n",
            "20:\tlearn: 0.6675580\ttotal: 2.78s\tremaining: 10.5s\n",
            "21:\tlearn: 0.6562278\ttotal: 2.91s\tremaining: 10.3s\n",
            "22:\tlearn: 0.6458732\ttotal: 3.04s\tremaining: 10.2s\n",
            "23:\tlearn: 0.6371005\ttotal: 3.17s\tremaining: 10s\n",
            "24:\tlearn: 0.6298589\ttotal: 3.3s\tremaining: 9.89s\n",
            "25:\tlearn: 0.6214234\ttotal: 3.43s\tremaining: 9.77s\n",
            "26:\tlearn: 0.6144984\ttotal: 3.57s\tremaining: 9.65s\n",
            "27:\tlearn: 0.6074390\ttotal: 3.7s\tremaining: 9.5s\n",
            "28:\tlearn: 0.6005831\ttotal: 3.83s\tremaining: 9.38s\n",
            "29:\tlearn: 0.5950743\ttotal: 3.96s\tremaining: 9.24s\n",
            "30:\tlearn: 0.5893356\ttotal: 4.11s\tremaining: 9.14s\n",
            "31:\tlearn: 0.5831916\ttotal: 4.25s\tremaining: 9.03s\n",
            "32:\tlearn: 0.5776477\ttotal: 4.39s\tremaining: 8.9s\n",
            "33:\tlearn: 0.5734189\ttotal: 4.51s\tremaining: 8.75s\n",
            "34:\tlearn: 0.5695956\ttotal: 4.63s\tremaining: 8.61s\n",
            "35:\tlearn: 0.5654831\ttotal: 4.75s\tremaining: 8.45s\n",
            "36:\tlearn: 0.5609514\ttotal: 4.88s\tremaining: 8.31s\n",
            "37:\tlearn: 0.5577393\ttotal: 5s\tremaining: 8.16s\n",
            "38:\tlearn: 0.5542224\ttotal: 5.14s\tremaining: 8.04s\n",
            "39:\tlearn: 0.5507806\ttotal: 5.27s\tremaining: 7.91s\n",
            "40:\tlearn: 0.5469430\ttotal: 5.4s\tremaining: 7.77s\n",
            "41:\tlearn: 0.5436738\ttotal: 5.52s\tremaining: 7.62s\n",
            "42:\tlearn: 0.5401135\ttotal: 5.65s\tremaining: 7.49s\n",
            "43:\tlearn: 0.5373297\ttotal: 5.77s\tremaining: 7.34s\n",
            "44:\tlearn: 0.5348935\ttotal: 5.89s\tremaining: 7.21s\n",
            "45:\tlearn: 0.5313791\ttotal: 6.02s\tremaining: 7.07s\n",
            "46:\tlearn: 0.5295796\ttotal: 6.16s\tremaining: 6.95s\n",
            "47:\tlearn: 0.5273571\ttotal: 6.28s\tremaining: 6.81s\n",
            "48:\tlearn: 0.5231810\ttotal: 6.41s\tremaining: 6.67s\n",
            "49:\tlearn: 0.5218003\ttotal: 6.54s\tremaining: 6.54s\n",
            "50:\tlearn: 0.5195917\ttotal: 6.67s\tremaining: 6.41s\n",
            "51:\tlearn: 0.5160640\ttotal: 6.8s\tremaining: 6.28s\n",
            "52:\tlearn: 0.5144353\ttotal: 6.92s\tremaining: 6.14s\n",
            "53:\tlearn: 0.5117589\ttotal: 7.05s\tremaining: 6.01s\n",
            "54:\tlearn: 0.5092992\ttotal: 7.19s\tremaining: 5.88s\n",
            "55:\tlearn: 0.5073053\ttotal: 7.32s\tremaining: 5.75s\n",
            "56:\tlearn: 0.5048729\ttotal: 7.45s\tremaining: 5.62s\n",
            "57:\tlearn: 0.5022835\ttotal: 7.57s\tremaining: 5.48s\n",
            "58:\tlearn: 0.4995637\ttotal: 7.7s\tremaining: 5.35s\n",
            "59:\tlearn: 0.4981168\ttotal: 7.82s\tremaining: 5.21s\n",
            "60:\tlearn: 0.4954192\ttotal: 7.94s\tremaining: 5.08s\n",
            "61:\tlearn: 0.4934414\ttotal: 8.06s\tremaining: 4.94s\n",
            "62:\tlearn: 0.4914472\ttotal: 8.2s\tremaining: 4.82s\n",
            "63:\tlearn: 0.4889386\ttotal: 8.33s\tremaining: 4.68s\n",
            "64:\tlearn: 0.4863824\ttotal: 8.46s\tremaining: 4.55s\n",
            "65:\tlearn: 0.4847186\ttotal: 8.58s\tremaining: 4.42s\n",
            "66:\tlearn: 0.4837737\ttotal: 8.71s\tremaining: 4.29s\n",
            "67:\tlearn: 0.4821204\ttotal: 8.84s\tremaining: 4.16s\n",
            "68:\tlearn: 0.4808967\ttotal: 8.96s\tremaining: 4.03s\n",
            "69:\tlearn: 0.4794785\ttotal: 9.08s\tremaining: 3.89s\n",
            "70:\tlearn: 0.4769754\ttotal: 9.22s\tremaining: 3.77s\n",
            "71:\tlearn: 0.4754491\ttotal: 9.35s\tremaining: 3.63s\n",
            "72:\tlearn: 0.4745348\ttotal: 9.47s\tremaining: 3.5s\n",
            "73:\tlearn: 0.4729871\ttotal: 9.59s\tremaining: 3.37s\n",
            "74:\tlearn: 0.4709195\ttotal: 9.72s\tremaining: 3.24s\n",
            "75:\tlearn: 0.4697505\ttotal: 9.84s\tremaining: 3.11s\n",
            "76:\tlearn: 0.4680972\ttotal: 9.97s\tremaining: 2.98s\n",
            "77:\tlearn: 0.4662703\ttotal: 10.1s\tremaining: 2.85s\n",
            "78:\tlearn: 0.4645961\ttotal: 10.2s\tremaining: 2.72s\n",
            "79:\tlearn: 0.4630788\ttotal: 10.4s\tremaining: 2.59s\n",
            "80:\tlearn: 0.4617159\ttotal: 10.5s\tremaining: 2.46s\n",
            "81:\tlearn: 0.4595305\ttotal: 10.6s\tremaining: 2.33s\n",
            "82:\tlearn: 0.4576860\ttotal: 10.7s\tremaining: 2.2s\n",
            "83:\tlearn: 0.4563444\ttotal: 10.9s\tremaining: 2.07s\n",
            "84:\tlearn: 0.4553803\ttotal: 11s\tremaining: 1.94s\n",
            "85:\tlearn: 0.4543959\ttotal: 11.1s\tremaining: 1.81s\n",
            "86:\tlearn: 0.4529607\ttotal: 11.2s\tremaining: 1.68s\n",
            "87:\tlearn: 0.4520859\ttotal: 11.3s\tremaining: 1.55s\n",
            "88:\tlearn: 0.4503808\ttotal: 11.5s\tremaining: 1.42s\n",
            "89:\tlearn: 0.4489352\ttotal: 11.6s\tremaining: 1.29s\n",
            "90:\tlearn: 0.4476696\ttotal: 11.7s\tremaining: 1.16s\n",
            "91:\tlearn: 0.4467085\ttotal: 11.8s\tremaining: 1.03s\n",
            "92:\tlearn: 0.4459798\ttotal: 12s\tremaining: 900ms\n",
            "93:\tlearn: 0.4448524\ttotal: 12.1s\tremaining: 771ms\n",
            "94:\tlearn: 0.4435113\ttotal: 12.2s\tremaining: 642ms\n",
            "95:\tlearn: 0.4419059\ttotal: 12.3s\tremaining: 514ms\n",
            "96:\tlearn: 0.4411963\ttotal: 12.5s\tremaining: 385ms\n",
            "97:\tlearn: 0.4396582\ttotal: 12.6s\tremaining: 257ms\n",
            "98:\tlearn: 0.4385594\ttotal: 12.7s\tremaining: 128ms\n",
            "99:\tlearn: 0.4378279\ttotal: 12.8s\tremaining: 0us\n"
          ],
          "name": "stdout"
        },
        {
          "output_type": "execute_result",
          "data": {
            "text/plain": [
              "<catboost.core.CatBoostClassifier at 0x7fa65874d110>"
            ]
          },
          "metadata": {
            "tags": []
          },
          "execution_count": 16
        }
      ]
    },
    {
      "cell_type": "code",
      "metadata": {
        "colab": {
          "base_uri": "https://localhost:8080/"
        },
        "id": "F4izrEagnf8g",
        "outputId": "7713dac1-1a95-4298-ba35-94e3d6823278"
      },
      "source": [
        "# evaluate the model\n",
        "cbm_train = cbm.predict(x_train).reshape(-1)\n",
        "cbm_val = cbm.predict(x_val).reshape(-1)\n",
        "\n",
        "print('Training\\n')\n",
        "print(f'Accuracy: {accuracy_score(y_train, cbm_train)*100}')\n",
        "print(f'F1-Score: {f1_score(y_train, cbm_train, average=None)*100}')\n",
        "print(classification_report(y_train, cbm_train))\n",
        "\n",
        "print('\\n')\n",
        "\n",
        "print('Validation\\n')\n",
        "print(f'Accuracy: {accuracy_score(y_val, cbm_val)*100}')\n",
        "print(f'F1-Score: {f1_score(y_val, cbm_val, average=None)*100}')\n",
        "print(classification_report(y_val, cbm_val))"
      ],
      "execution_count": 17,
      "outputs": [
        {
          "output_type": "stream",
          "text": [
            "Training\n",
            "\n",
            "Accuracy: 85.675\n",
            "F1-Score: [50.         93.4914361  70.04784689 47.83549784 64.70588235 58.97435897\n",
            " 84.0981857 ]\n",
            "              precision    recall  f1-score   support\n",
            "\n",
            "           1       0.78      0.37      0.50       193\n",
            "           2       0.90      0.98      0.93      5452\n",
            "           3       0.70      0.70      0.70      1041\n",
            "           4       0.74      0.35      0.48       624\n",
            "           5       1.00      0.48      0.65        46\n",
            "           8       0.81      0.46      0.59       198\n",
            "           9       0.80      0.88      0.84       446\n",
            "\n",
            "    accuracy                           0.86      8000\n",
            "   macro avg       0.82      0.60      0.67      8000\n",
            "weighted avg       0.85      0.86      0.84      8000\n",
            "\n",
            "\n",
            "\n",
            "Validation\n",
            "\n",
            "Accuracy: 82.6\n",
            "F1-Score: [33.8028169  92.10342418 64.98054475 34.54545455 73.68421053 47.88732394\n",
            " 76.54320988]\n",
            "              precision    recall  f1-score   support\n",
            "\n",
            "           1       0.52      0.25      0.34        48\n",
            "           2       0.88      0.97      0.92      1363\n",
            "           3       0.66      0.64      0.65       260\n",
            "           4       0.59      0.24      0.35       156\n",
            "           5       1.00      0.58      0.74        12\n",
            "           8       0.77      0.35      0.48        49\n",
            "           9       0.71      0.83      0.77       112\n",
            "\n",
            "    accuracy                           0.83      2000\n",
            "   macro avg       0.73      0.55      0.61      2000\n",
            "weighted avg       0.81      0.83      0.81      2000\n",
            "\n"
          ],
          "name": "stdout"
        }
      ]
    },
    {
      "cell_type": "code",
      "metadata": {
        "colab": {
          "base_uri": "https://localhost:8080/",
          "height": 592
        },
        "id": "FJgUhgqEnnsz",
        "outputId": "c494ee4e-4a64-4f0b-e721-7613c258b10c"
      },
      "source": [
        "plt.figure(figsize=[15, 10])\n",
        "plt.hist([y_val, cbm_val], width=0.25)\n",
        "plt.legend(['true class', 'predicted label'])\n",
        "plt.xticks([i + 0.25 for i in range(len(classes))], classes)\n",
        "plt.show()"
      ],
      "execution_count": 18,
      "outputs": [
        {
          "output_type": "display_data",
          "data": {
            "image/png": "[encoded data removed]",
            "text/plain": [
              "<Figure size 1080x720 with 1 Axes>"
            ]
          },
          "metadata": {
            "tags": [],
            "needs_background": "light"
          }
        }
      ]
    }
  ]
}