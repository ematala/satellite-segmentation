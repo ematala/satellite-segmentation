{
  "nbformat": 4,
  "nbformat_minor": 0,
  "metadata": {
    "language_info": {
      "codemirror_mode": {
        "name": "ipython",
        "version": 3
      },
      "file_extension": ".py",
      "mimetype": "text/x-python",
      "name": "python",
      "nbconvert_exporter": "python",
      "pygments_lexer": "ipython3",
      "version": "3.9.0"
    },
    "orig_nbformat": 4,
    "kernelspec": {
      "name": "python3",
      "display_name": "Python 3.9.0 64-bit ('.venv')"
    },
    "interpreter": {
      "hash": "97a6cc46bd9fda46ba14a7852b39713e156f1e9b147e397c1e4d5bba61d673ce"
    },
    "colab": {
      "name": "Data Exploration.ipynb",
      "provenance": []
    },
    "accelerator": "GPU"
  },
  "cells": [
    {
      "cell_type": "code",
      "metadata": {
        "id": "wtn1pa_N7xfy"
      },
      "source": [
        "import tensorflow as tf\n",
        "from tensorflow import keras\n",
        "import numpy as np\n",
        "import pandas as pd\n",
        "import os\n",
        "import datetime\n",
        "import sklearn\n",
        "import matplotlib.pyplot as plt\n",
        "import math\n",
        "from google.colab import drive"
      ],
      "execution_count": 18,
      "outputs": []
    },
    {
      "cell_type": "code",
      "metadata": {
        "id": "XiyyjlMt70dS",
        "colab": {
          "base_uri": "https://localhost:8080/"
        },
        "outputId": "c20095d5-bfe6-4804-8b31-02a68719ad7c"
      },
      "source": [
        "drive.mount('/content/drive')\n",
        "train_data = np.load('/content/drive/MyDrive/Colab Notebooks/Data/train.npz')\n"
      ],
      "execution_count": 19,
      "outputs": [
        {
          "output_type": "stream",
          "text": [
            "Drive already mounted at /content/drive; to attempt to forcibly remount, call drive.mount(\"/content/drive\", force_remount=True).\n"
          ],
          "name": "stdout"
        }
      ]
    },
    {
      "cell_type": "code",
      "metadata": {
        "id": "Q5Yk4ti27xgt"
      },
      "source": [
        "# separate bands and labels:\n",
        "bands = train_data['bands']\n",
        "labels = train_data['lulc']"
      ],
      "execution_count": 20,
      "outputs": []
    },
    {
      "cell_type": "markdown",
      "metadata": {
        "id": "KkvbIDnnYfZz"
      },
      "source": [
        " Data visualization\n"
      ]
    },
    {
      "cell_type": "code",
      "metadata": {
        "id": "2prbs3EFW3cs"
      },
      "source": [
        "# add class labels manually\n",
        "classes = np.array(['No Data', 'Cultivated Land', 'Forest', 'Grassland', 'Shrubland', 'Water', 'Wetlands', 'Tundra', 'Artificial Surface', 'Bareland', 'Snow and Ice'])"
      ],
      "execution_count": 21,
      "outputs": []
    },
    {
      "cell_type": "code",
      "metadata": {
        "id": "ePHxowaF7xgu",
        "colab": {
          "base_uri": "https://localhost:8080/"
        },
        "outputId": "07d1dac2-b760-4d7f-fdbd-2c21712361c6"
      },
      "source": [
        "# plot histogram:\n",
        "np.histogram(labels, bins=list(range(len(classes))))"
      ],
      "execution_count": 22,
      "outputs": [
        {
          "output_type": "execute_result",
          "data": {
            "text/plain": [
              "(array([1308,  238, 5796, 1125,  770,   58,    0,    0,  217,  488]),\n",
              " array([ 0,  1,  2,  3,  4,  5,  6,  7,  8,  9, 10]))"
            ]
          },
          "metadata": {
            "tags": []
          },
          "execution_count": 22
        }
      ]
    },
    {
      "cell_type": "code",
      "metadata": {
        "id": "HnSsoyTu8eQ7",
        "outputId": "82bcaf3d-cbe0-4546-d6b6-e3dd939e7487",
        "colab": {
          "base_uri": "https://localhost:8080/",
          "height": 298
        }
      },
      "source": [
        "plt.hist(labels, bins=list(range(len(classes))))\n",
        "plt.xticks(ticks=list(map(lambda x: x+0.5, list(range(len(classes))))), labels=classes, rotation=90)\n",
        "plt.tight_layout()\n",
        "plt.show()"
      ],
      "execution_count": 23,
      "outputs": [
        {
          "output_type": "display_data",
          "data": {
            "image/png": "[encoded data removed]",
            "text/plain": [
              "<Figure size 432x288 with 1 Axes>"
            ]
          },
          "metadata": {
            "tags": [],
            "needs_background": "light"
          }
        }
      ]
    },
    {
      "cell_type": "markdown",
      "metadata": {
        "id": "n4ewDeBTaMUc"
      },
      "source": [
        "## First experiment"
      ]
    },
    {
      "cell_type": "code",
      "metadata": {
        "id": "0XXjJYTZaEPg",
        "outputId": "32644adf-31fd-4a5e-f22a-ef732ba459c0",
        "colab": {
          "base_uri": "https://localhost:8080/"
        }
      },
      "source": [
        "from tensorflow.keras.layers import InputLayer, Dense, Flatten, Conv2D, MaxPool2D, ReLU, BatchNormalization, GlobalAveragePooling2D, Dropout\n",
        "\n",
        "model = keras.Sequential()\n",
        "\n",
        "model.add(keras.layers.Conv2D(10, 3, strides=1, input_shape=(None, None, 6)))\n",
        "model.add(keras.layers.Activation(\"relu\"))\n",
        "model.add(keras.layers.Conv2D(20, 5))\n",
        "model.add(keras.layers.Activation(\"relu\"))\n",
        "#model.add(keras.layers.MaxPooling2D(pool_size=3))\n",
        "model.add(keras.layers.Conv2D(40, 7))\n",
        "model.add(keras.layers.Activation(\"relu\"))\n",
        "model.add(keras.layers.Conv2D(40, 13))\n",
        "model.add(keras.layers.Activation(\"relu\"))\n",
        "model.add(keras.layers.Conv2D(400, 9))\n",
        "model.add(keras.layers.Activation(\"relu\"))\n",
        "model.add(keras.layers.Conv2D(400, 1))\n",
        "model.add(keras.layers.Activation(\"relu\"))\n",
        "model.add(keras.layers.Conv2D(11, 1))\n",
        "model.add(keras.layers.Activation(\"softmax\"))\n",
        "\n",
        "model.compile(\n",
        "  'Adam',\n",
        "  loss='sparse_categorical_crossentropy',\n",
        "  metrics=['accuracy'],\n",
        ")\n",
        "\n",
        "model.summary()"
      ],
      "execution_count": 26,
      "outputs": [
        {
          "output_type": "stream",
          "text": [
            "Model: \"sequential_5\"\n",
            "_________________________________________________________________\n",
            "Layer (type)                 Output Shape              Param #   \n",
            "=================================================================\n",
            "conv2d_4 (Conv2D)            (None, None, None, 10)    550       \n",
            "_________________________________________________________________\n",
            "activation (Activation)      (None, None, None, 10)    0         \n",
            "_________________________________________________________________\n",
            "conv2d_5 (Conv2D)            (None, None, None, 20)    5020      \n",
            "_________________________________________________________________\n",
            "activation_1 (Activation)    (None, None, None, 20)    0         \n",
            "_________________________________________________________________\n",
            "conv2d_6 (Conv2D)            (None, None, None, 40)    39240     \n",
            "_________________________________________________________________\n",
            "activation_2 (Activation)    (None, None, None, 40)    0         \n",
            "_________________________________________________________________\n",
            "conv2d_7 (Conv2D)            (None, None, None, 40)    270440    \n",
            "_________________________________________________________________\n",
            "activation_3 (Activation)    (None, None, None, 40)    0         \n",
            "_________________________________________________________________\n",
            "conv2d_8 (Conv2D)            (None, None, None, 400)   1296400   \n",
            "_________________________________________________________________\n",
            "activation_4 (Activation)    (None, None, None, 400)   0         \n",
            "_________________________________________________________________\n",
            "conv2d_9 (Conv2D)            (None, None, None, 400)   160400    \n",
            "_________________________________________________________________\n",
            "activation_5 (Activation)    (None, None, None, 400)   0         \n",
            "_________________________________________________________________\n",
            "conv2d_10 (Conv2D)           (None, None, None, 11)    4411      \n",
            "_________________________________________________________________\n",
            "activation_6 (Activation)    (None, None, None, 11)    0         \n",
            "=================================================================\n",
            "Total params: 1,776,461\n",
            "Trainable params: 1,776,461\n",
            "Non-trainable params: 0\n",
            "_________________________________________________________________\n"
          ],
          "name": "stdout"
        }
      ]
    },
    {
      "cell_type": "code",
      "metadata": {
        "id": "9utbtjUJm8hs"
      },
      "source": [
        "model.compile(loss=\"categorical_crossentropy\", optimizer=\"adam\", metrics=[\"accuracy\"])"
      ],
      "execution_count": 27,
      "outputs": []
    },
    {
      "cell_type": "code",
      "metadata": {
        "id": "WqM_7APqm_1T"
      },
      "source": [
        "history = model.fit(train_data, \n",
        "                    labels, \n",
        "                    epochs=15,\n",
        "                    batch_size=64,\n",
        "                    validation_split=0.1,\n",
        "                   )"
      ],
      "execution_count": null,
      "outputs": []
    }
  ]
}