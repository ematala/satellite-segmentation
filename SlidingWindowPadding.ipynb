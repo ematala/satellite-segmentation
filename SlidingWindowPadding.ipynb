{
  "nbformat": 4,
  "nbformat_minor": 5,
  "metadata": {
    "colab": {
      "name": "SlidingWindowPadding.ipynb",
      "provenance": [],
      "collapsed_sections": [],
      "include_colab_link": true
    },
    "kernelspec": {
      "display_name": "Python 3",
      "language": "python",
      "name": "python3"
    },
    "language_info": {
      "codemirror_mode": {
        "name": "ipython",
        "version": 3
      },
      "file_extension": ".py",
      "mimetype": "text/x-python",
      "name": "python",
      "nbconvert_exporter": "python",
      "pygments_lexer": "ipython3",
      "version": "3.9.4"
    },
    "accelerator": "GPU"
  },
  "cells": [
    {
      "cell_type": "markdown",
      "metadata": {
        "id": "view-in-github",
        "colab_type": "text"
      },
      "source": [
        "<a href=\"https://colab.research.google.com/github/ematala/satellite-segmentation/blob/main/SlidingWindowPadding.ipynb\" target=\"_parent\"><img src=\"https://colab.research.google.com/assets/colab-badge.svg\" alt=\"Open In Colab\"/></a>"
      ]
    },
    {
      "cell_type": "code",
      "metadata": {
        "id": "42f34e33"
      },
      "source": [
        "import sys\n",
        "import numpy\n",
        "import matplotlib.pyplot as plt"
      ],
      "id": "42f34e33",
      "execution_count": 6,
      "outputs": []
    },
    {
      "cell_type": "code",
      "metadata": {
        "id": "24fc82c4"
      },
      "source": [
        "# Class Names\n",
        "classes = numpy.array(['No Data', 'Cultivated Land', 'Forest', 'Grassland', 'Shrubland',\n",
        "                    'Water', 'Wetlands', 'Tundra', 'Artificial Surface',\n",
        "                    'Bareland', 'Snow and Ice'])"
      ],
      "id": "24fc82c4",
      "execution_count": 7,
      "outputs": []
    },
    {
      "cell_type": "code",
      "metadata": {
        "colab": {
          "base_uri": "https://localhost:8080/"
        },
        "id": "QXqjbMKK0HYt",
        "outputId": "823bf14b-aa3e-4092-d781-c91799199803"
      },
      "source": [
        "from google.colab import drive\n",
        "\n",
        "drive.mount('/content/gdrive')"
      ],
      "id": "QXqjbMKK0HYt",
      "execution_count": 8,
      "outputs": [
        {
          "output_type": "stream",
          "text": [
            "Drive already mounted at /content/gdrive; to attempt to forcibly remount, call drive.mount(\"/content/gdrive\", force_remount=True).\n"
          ],
          "name": "stdout"
        }
      ]
    },
    {
      "cell_type": "code",
      "metadata": {
        "id": "ff33e664"
      },
      "source": [
        "# load training data from npz file\n",
        "# data = numpy.load('/content/gdrive/MyDrive/train.npz')"
      ],
      "id": "ff33e664",
      "execution_count": 4,
      "outputs": []
    },
    {
      "cell_type": "code",
      "metadata": {
        "id": "7780fc81"
      },
      "source": [
        "# load test data from npz file\n",
        "public_test_data = numpy.load('/content/gdrive/MyDrive/public_test.npz')\n",
        "test_bands = public_test_data['bands']"
      ],
      "id": "7780fc81",
      "execution_count": 9,
      "outputs": []
    },
    {
      "cell_type": "markdown",
      "metadata": {
        "id": "aWSAWog2mjgM"
      },
      "source": [
        "## Exploratory"
      ],
      "id": "aWSAWog2mjgM"
    },
    {
      "cell_type": "code",
      "metadata": {
        "id": "2c5ecec8"
      },
      "source": [
        "n_months = 12\n",
        "n_classes = len(classes)\n",
        "n_channels = 6"
      ],
      "id": "2c5ecec8",
      "execution_count": 6,
      "outputs": []
    },
    {
      "cell_type": "code",
      "metadata": {
        "id": "30ebc31f"
      },
      "source": [
        "# Check for RGB Values in range\n",
        "for month in range(n_months):\n",
        "  rgb_img = test_bands[month][:, :, (2,1,0)]\n",
        "  mean = rgb_img.mean()\n",
        "  print(rgb_img.max(),\"max\")\n",
        "  print(rgb_img.min(),\"min\")"
      ],
      "id": "30ebc31f",
      "execution_count": null,
      "outputs": []
    },
    {
      "cell_type": "code",
      "metadata": {
        "colab": {
          "background_save": true
        },
        "id": "e047a498"
      },
      "source": [
        "# plot the train set\n",
        "f, axes = plt.subplots(1, n_months, figsize=(200,200))\n",
        "\n",
        "for month in range(n_months):\n",
        "    axes[month].imshow(test_bands[month][:, :, 0:3])"
      ],
      "id": "e047a498",
      "execution_count": null,
      "outputs": []
    },
    {
      "cell_type": "code",
      "metadata": {
        "colab": {
          "background_save": true
        },
        "id": "b679ad79"
      },
      "source": [
        "# plot the test set\n",
        "f, axes = plt.subplots(1, n_months, figsize=(300,300))\n",
        "\n",
        "for month in range(n_months):\n",
        "    axes[month].imshow(padded_bands[month][:, :, 0:3])"
      ],
      "id": "b679ad79",
      "execution_count": null,
      "outputs": []
    },
    {
      "cell_type": "markdown",
      "metadata": {
        "id": "KdmF5oKRnE_T"
      },
      "source": [
        "# Temporary CNN for Testing"
      ],
      "id": "KdmF5oKRnE_T"
    },
    {
      "cell_type": "code",
      "metadata": {
        "colab": {
          "base_uri": "https://localhost:8080/"
        },
        "id": "77e66b0f",
        "outputId": "970fb742-f6bb-4da6-a5d6-9ad848514bf8"
      },
      "source": [
        "# Tom CNN \n",
        "\n",
        "import keras\n",
        "from keras.models import Sequential\n",
        "from keras.layers import Dense, Flatten, Conv3D, MaxPooling3D, Dropout, BatchNormalization\n",
        "from keras.utils.np_utils import to_categorical\n",
        "\n",
        "model = Sequential()\n",
        "model.add(Conv3D(32, kernel_size=(1, 3, 3), activation='relu', kernel_initializer='he_uniform', input_shape=(12,33,33,6)))\n",
        "model.add(MaxPooling3D(pool_size=(2, 2, 2)))\n",
        "model.add(BatchNormalization(center=True, scale=True))\n",
        "model.add(Dropout(0.5))\n",
        "model.add(Conv3D(64, kernel_size=(1, 3, 3), activation='relu', kernel_initializer='he_uniform'))\n",
        "model.add(MaxPooling3D(pool_size=(2, 2, 2)))\n",
        "model.add(BatchNormalization(center=True, scale=True))\n",
        "model.add(Dropout(0.5))\n",
        "model.add(Flatten())\n",
        "model.add(Dense(256, activation='relu', kernel_initializer='he_uniform'))\n",
        "model.add(Dense(256, activation='relu', kernel_initializer='he_uniform'))\n",
        "model.add(Dense(11, activation='softmax'))\n",
        "\n",
        "# Compile the model\n",
        "model.compile(\n",
        "    'Adam',\n",
        "    loss='categorical_crossentropy',\n",
        "    metrics=['accuracy'],\n",
        ")\n",
        "model.summary()"
      ],
      "id": "77e66b0f",
      "execution_count": 6,
      "outputs": [
        {
          "output_type": "stream",
          "text": [
            "Model: \"sequential\"\n",
            "_________________________________________________________________\n",
            "Layer (type)                 Output Shape              Param #   \n",
            "=================================================================\n",
            "conv3d (Conv3D)              (None, 12, 31, 31, 32)    1760      \n",
            "_________________________________________________________________\n",
            "max_pooling3d (MaxPooling3D) (None, 6, 15, 15, 32)     0         \n",
            "_________________________________________________________________\n",
            "batch_normalization (BatchNo (None, 6, 15, 15, 32)     128       \n",
            "_________________________________________________________________\n",
            "dropout (Dropout)            (None, 6, 15, 15, 32)     0         \n",
            "_________________________________________________________________\n",
            "conv3d_1 (Conv3D)            (None, 6, 13, 13, 64)     18496     \n",
            "_________________________________________________________________\n",
            "max_pooling3d_1 (MaxPooling3 (None, 3, 6, 6, 64)       0         \n",
            "_________________________________________________________________\n",
            "batch_normalization_1 (Batch (None, 3, 6, 6, 64)       256       \n",
            "_________________________________________________________________\n",
            "dropout_1 (Dropout)          (None, 3, 6, 6, 64)       0         \n",
            "_________________________________________________________________\n",
            "flatten (Flatten)            (None, 6912)              0         \n",
            "_________________________________________________________________\n",
            "dense (Dense)                (None, 256)               1769728   \n",
            "_________________________________________________________________\n",
            "dense_1 (Dense)              (None, 256)               65792     \n",
            "_________________________________________________________________\n",
            "dense_2 (Dense)              (None, 11)                2827      \n",
            "=================================================================\n",
            "Total params: 1,858,987\n",
            "Trainable params: 1,858,795\n",
            "Non-trainable params: 192\n",
            "_________________________________________________________________\n"
          ],
          "name": "stdout"
        }
      ]
    },
    {
      "cell_type": "code",
      "metadata": {
        "id": "jqEiOf83YkxN"
      },
      "source": [
        "from sklearn.model_selection import train_test_split\n",
        "\n",
        "# separate bands and labels:\n",
        "train_data = data['bands']\n",
        "labels = data['lulc']\n",
        "\n",
        "# remove no_data\n",
        "labels_no_data = labels[labels != 0]\n",
        "train_data_no_data = train_data[labels != 0, :, :, :, :]\n",
        "\n",
        "train = {}\n",
        "validation = {}\n",
        "# with no_data removed\n",
        "train['features'], validation['features'], train['labels'], validation['labels'] = train_test_split(train_data_no_data, labels_no_data, test_size=0.2, random_state=0)\n",
        "\n",
        "val = validation['labels']\n",
        "train['labels'] = to_categorical(train['labels'], 11)\n",
        "validation['labels'] = to_categorical(validation['labels'], 11)"
      ],
      "id": "jqEiOf83YkxN",
      "execution_count": 7,
      "outputs": []
    },
    {
      "cell_type": "code",
      "metadata": {
        "colab": {
          "base_uri": "https://localhost:8080/"
        },
        "id": "1oolrZ0014fn",
        "outputId": "6cbc8f51-0934-4862-f3b8-7009fa580d4c"
      },
      "source": [
        "# Fit model\n",
        "history = model.fit(train['features'], train['labels'], batch_size=64, epochs=50, validation_data=(validation['features'], validation['labels']))"
      ],
      "id": "1oolrZ0014fn",
      "execution_count": 15,
      "outputs": [
        {
          "output_type": "stream",
          "text": [
            "Epoch 1/50\n",
            "109/109 [==============================] - 6s 45ms/step - loss: 0.5075 - accuracy: 0.8251 - val_loss: 1.5985 - val_accuracy: 0.6947\n",
            "Epoch 2/50\n",
            "109/109 [==============================] - 4s 40ms/step - loss: 0.4324 - accuracy: 0.8463 - val_loss: 1.3234 - val_accuracy: 0.7309\n",
            "Epoch 3/50\n",
            "109/109 [==============================] - 4s 40ms/step - loss: 0.4014 - accuracy: 0.8626 - val_loss: 1.3994 - val_accuracy: 0.7148\n",
            "Epoch 4/50\n",
            "109/109 [==============================] - 4s 40ms/step - loss: 0.3586 - accuracy: 0.8783 - val_loss: 1.4225 - val_accuracy: 0.6947\n",
            "Epoch 5/50\n",
            "109/109 [==============================] - 4s 40ms/step - loss: 0.3296 - accuracy: 0.8826 - val_loss: 1.2893 - val_accuracy: 0.7309\n",
            "Epoch 6/50\n",
            "109/109 [==============================] - 4s 40ms/step - loss: 0.3136 - accuracy: 0.8894 - val_loss: 1.8652 - val_accuracy: 0.7355\n",
            "Epoch 7/50\n",
            "109/109 [==============================] - 4s 40ms/step - loss: 0.2859 - accuracy: 0.9028 - val_loss: 1.6661 - val_accuracy: 0.7263\n",
            "Epoch 8/50\n",
            "109/109 [==============================] - 4s 40ms/step - loss: 0.2776 - accuracy: 0.8998 - val_loss: 1.2412 - val_accuracy: 0.7343\n",
            "Epoch 9/50\n",
            "109/109 [==============================] - 4s 40ms/step - loss: 0.2776 - accuracy: 0.9051 - val_loss: 1.6868 - val_accuracy: 0.7102\n",
            "Epoch 10/50\n",
            "109/109 [==============================] - 4s 39ms/step - loss: 0.2447 - accuracy: 0.9126 - val_loss: 1.8685 - val_accuracy: 0.7079\n",
            "Epoch 11/50\n",
            "109/109 [==============================] - 4s 40ms/step - loss: 0.1959 - accuracy: 0.9297 - val_loss: 1.5960 - val_accuracy: 0.7493\n",
            "Epoch 12/50\n",
            "109/109 [==============================] - 4s 40ms/step - loss: 0.2040 - accuracy: 0.9317 - val_loss: 1.3480 - val_accuracy: 0.7435\n",
            "Epoch 13/50\n",
            "109/109 [==============================] - 4s 40ms/step - loss: 0.1731 - accuracy: 0.9370 - val_loss: 1.4666 - val_accuracy: 0.7263\n",
            "Epoch 14/50\n",
            "109/109 [==============================] - 4s 40ms/step - loss: 0.1695 - accuracy: 0.9382 - val_loss: 1.8948 - val_accuracy: 0.7412\n",
            "Epoch 15/50\n",
            "109/109 [==============================] - 4s 39ms/step - loss: 0.1636 - accuracy: 0.9428 - val_loss: 1.7241 - val_accuracy: 0.7257\n",
            "Epoch 16/50\n",
            "109/109 [==============================] - 4s 40ms/step - loss: 0.1640 - accuracy: 0.9429 - val_loss: 2.6136 - val_accuracy: 0.7062\n",
            "Epoch 17/50\n",
            "109/109 [==============================] - 4s 40ms/step - loss: 0.1542 - accuracy: 0.9464 - val_loss: 1.6173 - val_accuracy: 0.7458\n",
            "Epoch 18/50\n",
            "109/109 [==============================] - 4s 40ms/step - loss: 0.1254 - accuracy: 0.9569 - val_loss: 1.6751 - val_accuracy: 0.7441\n",
            "Epoch 19/50\n",
            "109/109 [==============================] - 4s 40ms/step - loss: 0.1119 - accuracy: 0.9612 - val_loss: 1.4758 - val_accuracy: 0.7654\n",
            "Epoch 20/50\n",
            "109/109 [==============================] - 4s 41ms/step - loss: 0.1099 - accuracy: 0.9625 - val_loss: 2.2064 - val_accuracy: 0.7292\n",
            "Epoch 21/50\n",
            "109/109 [==============================] - 4s 40ms/step - loss: 0.1086 - accuracy: 0.9642 - val_loss: 1.9397 - val_accuracy: 0.7320\n",
            "Epoch 22/50\n",
            "109/109 [==============================] - 4s 40ms/step - loss: 0.1171 - accuracy: 0.9590 - val_loss: 2.0117 - val_accuracy: 0.7499\n",
            "Epoch 23/50\n",
            "109/109 [==============================] - 4s 40ms/step - loss: 0.0998 - accuracy: 0.9653 - val_loss: 1.6943 - val_accuracy: 0.7039\n",
            "Epoch 24/50\n",
            "109/109 [==============================] - 4s 40ms/step - loss: 0.1116 - accuracy: 0.9646 - val_loss: 1.9392 - val_accuracy: 0.7384\n",
            "Epoch 25/50\n",
            "109/109 [==============================] - 4s 40ms/step - loss: 0.0930 - accuracy: 0.9653 - val_loss: 1.7435 - val_accuracy: 0.7292\n",
            "Epoch 26/50\n",
            "109/109 [==============================] - 4s 40ms/step - loss: 0.0831 - accuracy: 0.9721 - val_loss: 1.5152 - val_accuracy: 0.7665\n",
            "Epoch 27/50\n",
            "109/109 [==============================] - 4s 40ms/step - loss: 0.0994 - accuracy: 0.9671 - val_loss: 1.8199 - val_accuracy: 0.7568\n",
            "Epoch 28/50\n",
            "109/109 [==============================] - 4s 40ms/step - loss: 0.0670 - accuracy: 0.9763 - val_loss: 1.5705 - val_accuracy: 0.7677\n",
            "Epoch 29/50\n",
            "109/109 [==============================] - 4s 40ms/step - loss: 0.0742 - accuracy: 0.9744 - val_loss: 1.6924 - val_accuracy: 0.7539\n",
            "Epoch 30/50\n",
            "109/109 [==============================] - 4s 40ms/step - loss: 0.0687 - accuracy: 0.9771 - val_loss: 2.4327 - val_accuracy: 0.7211\n",
            "Epoch 31/50\n",
            "109/109 [==============================] - 4s 40ms/step - loss: 0.0680 - accuracy: 0.9768 - val_loss: 2.5616 - val_accuracy: 0.7608\n",
            "Epoch 32/50\n",
            "109/109 [==============================] - 4s 40ms/step - loss: 0.0931 - accuracy: 0.9698 - val_loss: 1.9074 - val_accuracy: 0.7148\n",
            "Epoch 33/50\n",
            "109/109 [==============================] - 4s 40ms/step - loss: 0.0844 - accuracy: 0.9711 - val_loss: 1.9246 - val_accuracy: 0.7407\n",
            "Epoch 34/50\n",
            "109/109 [==============================] - 4s 40ms/step - loss: 0.0701 - accuracy: 0.9766 - val_loss: 2.5284 - val_accuracy: 0.7338\n",
            "Epoch 35/50\n",
            "109/109 [==============================] - 4s 40ms/step - loss: 0.0620 - accuracy: 0.9773 - val_loss: 1.9237 - val_accuracy: 0.7366\n",
            "Epoch 36/50\n",
            "109/109 [==============================] - 4s 40ms/step - loss: 0.0773 - accuracy: 0.9748 - val_loss: 2.5766 - val_accuracy: 0.7585\n",
            "Epoch 37/50\n",
            "109/109 [==============================] - 4s 41ms/step - loss: 0.0769 - accuracy: 0.9744 - val_loss: 1.7059 - val_accuracy: 0.7412\n",
            "Epoch 38/50\n",
            "109/109 [==============================] - 4s 40ms/step - loss: 0.0763 - accuracy: 0.9756 - val_loss: 2.1364 - val_accuracy: 0.7585\n",
            "Epoch 39/50\n",
            "109/109 [==============================] - 4s 40ms/step - loss: 0.0594 - accuracy: 0.9791 - val_loss: 2.5910 - val_accuracy: 0.7292\n",
            "Epoch 40/50\n",
            "109/109 [==============================] - 5s 42ms/step - loss: 0.0746 - accuracy: 0.9756 - val_loss: 2.2224 - val_accuracy: 0.7504\n",
            "Epoch 41/50\n",
            "109/109 [==============================] - 4s 40ms/step - loss: 0.0703 - accuracy: 0.9766 - val_loss: 2.0179 - val_accuracy: 0.7637\n",
            "Epoch 42/50\n",
            "109/109 [==============================] - 4s 40ms/step - loss: 0.0712 - accuracy: 0.9783 - val_loss: 2.3602 - val_accuracy: 0.7430\n",
            "Epoch 43/50\n",
            "109/109 [==============================] - 4s 41ms/step - loss: 0.0701 - accuracy: 0.9768 - val_loss: 1.6730 - val_accuracy: 0.7614\n",
            "Epoch 44/50\n",
            "109/109 [==============================] - 4s 40ms/step - loss: 0.0564 - accuracy: 0.9819 - val_loss: 2.1930 - val_accuracy: 0.7154\n",
            "Epoch 45/50\n",
            "109/109 [==============================] - 4s 40ms/step - loss: 0.0658 - accuracy: 0.9799 - val_loss: 2.8993 - val_accuracy: 0.7165\n",
            "Epoch 46/50\n",
            "109/109 [==============================] - 4s 39ms/step - loss: 0.0606 - accuracy: 0.9822 - val_loss: 3.7799 - val_accuracy: 0.7263\n",
            "Epoch 47/50\n",
            "109/109 [==============================] - 4s 40ms/step - loss: 0.0524 - accuracy: 0.9842 - val_loss: 1.5693 - val_accuracy: 0.7683\n",
            "Epoch 48/50\n",
            "109/109 [==============================] - 4s 40ms/step - loss: 0.0403 - accuracy: 0.9859 - val_loss: 2.5321 - val_accuracy: 0.7102\n",
            "Epoch 49/50\n",
            "109/109 [==============================] - 4s 40ms/step - loss: 0.0524 - accuracy: 0.9827 - val_loss: 2.8745 - val_accuracy: 0.7361\n",
            "Epoch 50/50\n",
            "109/109 [==============================] - 4s 40ms/step - loss: 0.0569 - accuracy: 0.9809 - val_loss: 1.9112 - val_accuracy: 0.7545\n"
          ],
          "name": "stdout"
        }
      ]
    },
    {
      "cell_type": "code",
      "metadata": {
        "colab": {
          "base_uri": "https://localhost:8080/"
        },
        "id": "xQmNIRhWxyGv",
        "outputId": "e554d3c2-38b5-462e-e361-e725db92bbba"
      },
      "source": [
        "model.save('/content/gdrive/MyDrive/DummyModel')"
      ],
      "id": "xQmNIRhWxyGv",
      "execution_count": 16,
      "outputs": [
        {
          "output_type": "stream",
          "text": [
            "INFO:tensorflow:Assets written to: /content/gdrive/MyDrive/DummyModel/assets\n"
          ],
          "name": "stdout"
        }
      ]
    },
    {
      "cell_type": "markdown",
      "metadata": {
        "id": "bVdNcd-rm3We"
      },
      "source": [
        "# Padded Sliding Window"
      ],
      "id": "bVdNcd-rm3We"
    },
    {
      "cell_type": "code",
      "metadata": {
        "id": "C3ogmEZ7yhrx"
      },
      "source": [
        "import keras\n",
        "from keras.models import load_model\n",
        "\n",
        "model = keras.models.load_model(\"/content/gdrive/MyDrive/DummyModel\")"
      ],
      "id": "C3ogmEZ7yhrx",
      "execution_count": 11,
      "outputs": []
    },
    {
      "cell_type": "code",
      "metadata": {
        "id": "8768499e"
      },
      "source": [
        "padded_bands = []\n",
        "for month in range(12):\n",
        "    padded_bands.append(numpy.pad(test_bands[month], ((16,16), (16,16), (0,0)), \"symmetric\"))\n",
        "\n",
        "padded_bands = numpy.asarray(padded_bands)"
      ],
      "id": "8768499e",
      "execution_count": 12,
      "outputs": []
    },
    {
      "cell_type": "code",
      "metadata": {
        "id": "cVisWkh1gms5"
      },
      "source": [
        "patches = []\n",
        "predictions = []\n",
        "\n",
        "for h in range(500):\n",
        "  for w in range(500):\n",
        "    patches.append(padded_bands[:, w:w+33, h:h+33, :])\n",
        "  temp_preds = model.predict(numpy.asarray(patches))\n",
        "  for pred in temp_preds:\n",
        "      predictions.append(numpy.argmax(pred))\n",
        "  del patches\n",
        "  del temp_preds\n",
        "  patches = []\n",
        "predictions = numpy.asarray(predictions)\n",
        "predictions = predictions.reshape(500, 500)\n"
      ],
      "id": "cVisWkh1gms5",
      "execution_count": 13,
      "outputs": []
    },
    {
      "cell_type": "code",
      "metadata": {
        "colab": {
          "base_uri": "https://localhost:8080/"
        },
        "id": "CFb2uk-M1YQI",
        "outputId": "963ff801-ece5-45aa-be9a-caaca1972402"
      },
      "source": [
        ""
      ],
      "id": "CFb2uk-M1YQI",
      "execution_count": 15,
      "outputs": [
        {
          "output_type": "stream",
          "text": [
            "[[1 1 1 ... 1 2 2]\n",
            " [1 1 1 ... 1 2 2]\n",
            " [1 1 1 ... 2 2 2]\n",
            " ...\n",
            " [2 2 2 ... 2 2 2]\n",
            " [2 2 2 ... 2 2 2]\n",
            " [2 2 2 ... 2 2 2]]\n"
          ],
          "name": "stdout"
        }
      ]
    }
  ]
}