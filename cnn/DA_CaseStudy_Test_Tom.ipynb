{
  "nbformat": 4,
  "nbformat_minor": 0,
  "metadata": {
    "colab": {
      "name": "DA_CaseStudy_Test_Tom.ipynb",
      "provenance": [],
      "collapsed_sections": [],
      "include_colab_link": true
    },
    "interpreter": {
      "hash": "e67b401dea846c4b6e555a5b9f33a72976f4e6c154589e4934bc1706ab467be7"
    },
    "kernelspec": {
      "display_name": "Python 3.7.4 64-bit",
      "name": "python3"
    },
    "language_info": {
      "codemirror_mode": {
        "name": "ipython",
        "version": 3
      },
      "file_extension": ".py",
      "mimetype": "text/x-python",
      "name": "python",
      "nbconvert_exporter": "python",
      "pygments_lexer": "ipython3",
      "version": "3.7.4"
    },
    "accelerator": "GPU"
  },
  "cells": [
    {
      "cell_type": "markdown",
      "metadata": {
        "id": "view-in-github",
        "colab_type": "text"
      },
      "source": [
        "<a href=\"https://colab.research.google.com/github/ematala/satellite-segmentation/blob/main/DA_CaseStudy_Test_Tom.ipynb\" target=\"_parent\"><img src=\"https://colab.research.google.com/assets/colab-badge.svg\" alt=\"Open In Colab\"/></a>"
      ]
    },
    {
      "cell_type": "code",
      "metadata": {
        "id": "P8yEa0pcUCU-"
      },
      "source": [
        "import pandas as pd\n",
        "import numpy as np\n",
        "import os\n",
        "import datetime\n",
        "import sklearn\n",
        "import matplotlib.pyplot as plt\n",
        "import math\n",
        "import getpass\n",
        "\n",
        "#  for LeNet-5\n",
        "from sklearn.model_selection import train_test_split\n",
        "# import tensorflow as tf\n",
        "# import keras\n",
        "# import keras.layers as layers\n",
        "# from keras.models import Sequential\n",
        "# from keras.preprocessing.image import ImageDataGenerator\n",
        "# from keras.utils.np_utils import to_categorical\n",
        "# from keras.callbacks import TensorBoard\n",
        "\n",
        "\n",
        "# for  3D CNN\n",
        "import keras\n",
        "from keras.models import Sequential\n",
        "from keras.layers import Dense, Flatten, Conv3D, MaxPooling3D, Dropout, BatchNormalization\n",
        "from keras.utils.np_utils import to_categorical"
      ],
      "execution_count": 1,
      "outputs": []
    },
    {
      "cell_type": "code",
      "metadata": {
        "colab": {
          "base_uri": "https://localhost:8080/"
        },
        "id": "kIRu74IO4CrF",
        "outputId": "fc63153e-d1f2-41cc-8112-180c50b1d3f9"
      },
      "source": [
        "if 'Tom' not in getpass.getuser():\n",
        "    from google.colab import drive\n",
        "    drive.mount('/content/gdrive')"
      ],
      "execution_count": 2,
      "outputs": [
        {
          "output_type": "stream",
          "text": [
            "Mounted at /content/gdrive\n"
          ],
          "name": "stdout"
        }
      ]
    },
    {
      "cell_type": "code",
      "metadata": {
        "id": "ZqRibSEA8Iz9"
      },
      "source": [
        "data = np.load('train.npz') if 'Tom' in getpass.getuser() else np.load('/content/gdrive/MyDrive/Colab Notebooks/train.npz') "
      ],
      "execution_count": 3,
      "outputs": []
    },
    {
      "cell_type": "code",
      "metadata": {
        "id": "ebYO2t4EURYx"
      },
      "source": [
        "# separate bands and labels:\n",
        "train_data = data['bands']\n",
        "labels = data['lulc']"
      ],
      "execution_count": 34,
      "outputs": []
    },
    {
      "cell_type": "code",
      "metadata": {
        "id": "-OcdAkYvUT6I"
      },
      "source": [
        "# add class labels manually\n",
        "classes = np.array(['No Data', 'Cultivated Land', 'Forest', 'Grassland', 'Shrubland', 'Water', 'Wetlands', 'Tundra', 'Artificial Surface', 'Bareland', 'Snow and Ice'])"
      ],
      "execution_count": 5,
      "outputs": []
    },
    {
      "cell_type": "code",
      "metadata": {
        "colab": {
          "base_uri": "https://localhost:8080/"
        },
        "id": "Gr9PpsvyUdcb",
        "outputId": "3607cbd0-95cb-4806-8351-bafd72b9875b"
      },
      "source": [
        "np.histogram(labels, bins=list(range(len(classes) + 1)))"
      ],
      "execution_count": 6,
      "outputs": [
        {
          "output_type": "execute_result",
          "data": {
            "text/plain": [
              "(array([1308,  238, 5796, 1125,  770,   58,    0,    0,  217,  488,    0]),\n",
              " array([ 0,  1,  2,  3,  4,  5,  6,  7,  8,  9, 10, 11]))"
            ]
          },
          "metadata": {
            "tags": []
          },
          "execution_count": 6
        }
      ]
    },
    {
      "cell_type": "code",
      "metadata": {
        "colab": {
          "base_uri": "https://localhost:8080/",
          "height": 298
        },
        "id": "IN-nM9VPVBBY",
        "outputId": "1839c0db-670b-4340-badc-3591e660e6c7"
      },
      "source": [
        "plt.hist(labels, bins=list(range(len(classes) + 1)))\n",
        "plt.xticks(ticks=list(map(lambda x: x+0.5, list(range(len(classes))))), labels=classes, rotation=90)\n",
        "plt.tight_layout()\n",
        "plt.show()"
      ],
      "execution_count": 7,
      "outputs": [
        {
          "output_type": "display_data",
          "data": {
            "image/png": "[encoded data removed]",
            "text/plain": [
              "<Figure size 432x288 with 1 Axes>"
            ]
          },
          "metadata": {
            "tags": [],
            "needs_background": "light"
          }
        }
      ]
    },
    {
      "cell_type": "markdown",
      "metadata": {
        "id": "VvhW9q0xVIBQ"
      },
      "source": [
        "# **Experimental CNN**"
      ]
    },
    {
      "cell_type": "code",
      "metadata": {
        "colab": {
          "base_uri": "https://localhost:8080/",
          "height": 295
        },
        "id": "ZXtfE0w0cqxU",
        "outputId": "fe05728d-41eb-4a0e-8fca-7f640fdf2dae"
      },
      "source": [
        "train_labels_count = np.unique(labels, return_counts=True)\n",
        "dataframe_train_labels = pd.DataFrame({'Label':train_labels_count[0], 'Count':train_labels_count[1]})\n",
        "dataframe_train_labels"
      ],
      "execution_count": 8,
      "outputs": [
        {
          "output_type": "execute_result",
          "data": {
            "text/html": [
              "<div>\n",
              "<style scoped>\n",
              "    .dataframe tbody tr th:only-of-type {\n",
              "        vertical-align: middle;\n",
              "    }\n",
              "\n",
              "    .dataframe tbody tr th {\n",
              "        vertical-align: top;\n",
              "    }\n",
              "\n",
              "    .dataframe thead th {\n",
              "        text-align: right;\n",
              "    }\n",
              "</style>\n",
              "<table border=\"1\" class=\"dataframe\">\n",
              "  <thead>\n",
              "    <tr style=\"text-align: right;\">\n",
              "      <th></th>\n",
              "      <th>Label</th>\n",
              "      <th>Count</th>\n",
              "    </tr>\n",
              "  </thead>\n",
              "  <tbody>\n",
              "    <tr>\n",
              "      <th>0</th>\n",
              "      <td>0</td>\n",
              "      <td>1308</td>\n",
              "    </tr>\n",
              "    <tr>\n",
              "      <th>1</th>\n",
              "      <td>1</td>\n",
              "      <td>238</td>\n",
              "    </tr>\n",
              "    <tr>\n",
              "      <th>2</th>\n",
              "      <td>2</td>\n",
              "      <td>5796</td>\n",
              "    </tr>\n",
              "    <tr>\n",
              "      <th>3</th>\n",
              "      <td>3</td>\n",
              "      <td>1125</td>\n",
              "    </tr>\n",
              "    <tr>\n",
              "      <th>4</th>\n",
              "      <td>4</td>\n",
              "      <td>770</td>\n",
              "    </tr>\n",
              "    <tr>\n",
              "      <th>5</th>\n",
              "      <td>5</td>\n",
              "      <td>58</td>\n",
              "    </tr>\n",
              "    <tr>\n",
              "      <th>6</th>\n",
              "      <td>8</td>\n",
              "      <td>217</td>\n",
              "    </tr>\n",
              "    <tr>\n",
              "      <th>7</th>\n",
              "      <td>9</td>\n",
              "      <td>488</td>\n",
              "    </tr>\n",
              "  </tbody>\n",
              "</table>\n",
              "</div>"
            ],
            "text/plain": [
              "   Label  Count\n",
              "0      0   1308\n",
              "1      1    238\n",
              "2      2   5796\n",
              "3      3   1125\n",
              "4      4    770\n",
              "5      5     58\n",
              "6      8    217\n",
              "7      9    488"
            ]
          },
          "metadata": {
            "tags": []
          },
          "execution_count": 8
        }
      ]
    },
    {
      "cell_type": "code",
      "metadata": {
        "id": "rR3kp7QrejsV",
        "colab": {
          "base_uri": "https://localhost:8080/"
        },
        "outputId": "e51ee932-d543-413c-b5ae-9004029f6387"
      },
      "source": [
        "train = {}\n",
        "validation = {}\n",
        "print(labels.shape)\n",
        "train['features'], validation['features'], train['labels'], validation['labels'] = train_test_split(train_data, labels, test_size=0.2, random_state=0)"
      ],
      "execution_count": 30,
      "outputs": [
        {
          "output_type": "stream",
          "text": [
            "(10000,)\n"
          ],
          "name": "stdout"
        }
      ]
    },
    {
      "cell_type": "code",
      "metadata": {
        "colab": {
          "base_uri": "https://localhost:8080/"
        },
        "id": "wLh6EtyQgAac",
        "outputId": "48fdb15f-effd-44ca-8206-5eeedfde99e4"
      },
      "source": [
        "print('# of training images:', train['features'].shape[0])\n",
        "print('# of validation images:', validation['features'].shape[0])"
      ],
      "execution_count": 10,
      "outputs": [
        {
          "output_type": "stream",
          "text": [
            "# of training images: 8000\n",
            "# of validation images: 2000\n"
          ],
          "name": "stdout"
        }
      ]
    },
    {
      "cell_type": "code",
      "metadata": {
        "id": "onzNLmY86zsn"
      },
      "source": [
        "val = validation['labels']\n",
        "# train['features'] = to_categorical(train['features'], 11)\n",
        "train['labels'] = to_categorical(train['labels'], 11)\n",
        "# validation['features'] = to_categorical(validation['features'], 11)\n",
        "validation['labels'] = to_categorical(validation['labels'], 11)"
      ],
      "execution_count": 26,
      "outputs": []
    },
    {
      "cell_type": "code",
      "metadata": {
        "id": "6jBZiwJqVRQ5"
      },
      "source": [
        "# Try Google's LeNet-5\n",
        "\n",
        "# model = keras.Sequential()\n",
        "\n",
        "# model.add(layers.Conv3D(filters=6, kernel_size=(1, 1, 1), activation='relu', input_shape=(12,33,33,6)))\n",
        "# model.add(layers.AveragePooling3D())\n",
        "\n",
        "# model.add(layers.Conv3D(filters=16, kernel_size=(1, 1, 1), activation='relu'))\n",
        "# model.add(layers.AveragePooling3D())\n",
        "\n",
        "# model.add(layers.Flatten())\n",
        "\n",
        "# model.add(layers.Dense(units=120, activation='relu'))\n",
        "\n",
        "# model.add(layers.Dense(units=84, activation='relu'))\n",
        "\n",
        "# model.add(layers.Dense(units=11, activation = 'softmax'))"
      ],
      "execution_count": 12,
      "outputs": []
    },
    {
      "cell_type": "code",
      "metadata": {
        "id": "nYSMuJqJq21v",
        "colab": {
          "base_uri": "https://localhost:8080/"
        },
        "outputId": "fcafd4b2-dfaa-4115-c3ed-8850bd7361e7"
      },
      "source": [
        "model = Sequential()\n",
        "model.add(Conv3D(32, kernel_size=(3, 3, 3), activation='relu', kernel_initializer='he_uniform', input_shape=(12,33,33,6)))\n",
        "model.add(MaxPooling3D(pool_size=(2, 2, 2)))\n",
        "model.add(BatchNormalization(center=True, scale=True))\n",
        "model.add(Dropout(0.5))\n",
        "model.add(Conv3D(64, kernel_size=(3, 3, 3), activation='relu', kernel_initializer='he_uniform'))\n",
        "model.add(MaxPooling3D(pool_size=(2, 2, 2)))\n",
        "model.add(BatchNormalization(center=True, scale=True))\n",
        "model.add(Dropout(0.5))\n",
        "model.add(Flatten())\n",
        "#model.add(MaxPooling3D(pool_size=(1, 5, 5)))\n",
        "model.add(Dense(256, activation='relu', kernel_initializer='he_uniform'))\n",
        "model.add(Dense(256, activation='relu', kernel_initializer='he_uniform'))\n",
        "model.add(Dense(11, activation='softmax'))\n",
        "\n",
        "# Compile the model\n",
        "model.compile(\n",
        "    'Adam',\n",
        "    loss='categorical_crossentropy',\n",
        "    metrics=['accuracy'],\n",
        ")\n",
        "model.summary()\n"
      ],
      "execution_count": 18,
      "outputs": [
        {
          "output_type": "stream",
          "text": [
            "Model: \"sequential_1\"\n",
            "_________________________________________________________________\n",
            "Layer (type)                 Output Shape              Param #   \n",
            "=================================================================\n",
            "conv3d_2 (Conv3D)            (None, 10, 31, 31, 32)    5216      \n",
            "_________________________________________________________________\n",
            "max_pooling3d_2 (MaxPooling3 (None, 5, 15, 15, 32)     0         \n",
            "_________________________________________________________________\n",
            "batch_normalization_2 (Batch (None, 5, 15, 15, 32)     128       \n",
            "_________________________________________________________________\n",
            "dropout_2 (Dropout)          (None, 5, 15, 15, 32)     0         \n",
            "_________________________________________________________________\n",
            "conv3d_3 (Conv3D)            (None, 3, 13, 13, 64)     55360     \n",
            "_________________________________________________________________\n",
            "max_pooling3d_3 (MaxPooling3 (None, 1, 6, 6, 64)       0         \n",
            "_________________________________________________________________\n",
            "batch_normalization_3 (Batch (None, 1, 6, 6, 64)       256       \n",
            "_________________________________________________________________\n",
            "dropout_3 (Dropout)          (None, 1, 6, 6, 64)       0         \n",
            "_________________________________________________________________\n",
            "flatten_1 (Flatten)          (None, 2304)              0         \n",
            "_________________________________________________________________\n",
            "dense_3 (Dense)              (None, 256)               590080    \n",
            "_________________________________________________________________\n",
            "dense_4 (Dense)              (None, 256)               65792     \n",
            "_________________________________________________________________\n",
            "dense_5 (Dense)              (None, 11)                2827      \n",
            "=================================================================\n",
            "Total params: 719,659\n",
            "Trainable params: 719,467\n",
            "Non-trainable params: 192\n",
            "_________________________________________________________________\n"
          ],
          "name": "stdout"
        }
      ]
    },
    {
      "cell_type": "code",
      "metadata": {
        "id": "hDQdGQiKhfti",
        "colab": {
          "base_uri": "https://localhost:8080/"
        },
        "outputId": "5da62cf7-37f4-4aee-fe7a-a6958fc6791a"
      },
      "source": [
        "# Fit data to model\n",
        "# history = model.fit(train_data, labels,\n",
        "#             batch_size=128,\n",
        "#             epochs=5,\n",
        "#             verbose=1,\n",
        "#             validation_split=0.2)\n",
        "\n",
        "history = model.fit(train['features'], train['labels'], batch_size=64, epochs=50, validation_data=(validation['features'], validation['labels']))"
      ],
      "execution_count": 21,
      "outputs": [
        {
          "output_type": "stream",
          "text": [
            "Epoch 1/50\n",
            "125/125 [==============================] - 5s 39ms/step - loss: 0.4076 - accuracy: 0.8480 - val_loss: 1.1830 - val_accuracy: 0.7145\n",
            "Epoch 2/50\n",
            "125/125 [==============================] - 5s 39ms/step - loss: 0.3923 - accuracy: 0.8584 - val_loss: 1.1166 - val_accuracy: 0.7185\n",
            "Epoch 3/50\n",
            "125/125 [==============================] - 5s 38ms/step - loss: 0.3679 - accuracy: 0.8656 - val_loss: 1.0469 - val_accuracy: 0.7360\n",
            "Epoch 4/50\n",
            "125/125 [==============================] - 5s 38ms/step - loss: 0.3656 - accuracy: 0.8700 - val_loss: 1.0277 - val_accuracy: 0.7205\n",
            "Epoch 5/50\n",
            "125/125 [==============================] - 5s 39ms/step - loss: 0.3603 - accuracy: 0.8685 - val_loss: 1.0510 - val_accuracy: 0.7125\n",
            "Epoch 6/50\n",
            "125/125 [==============================] - 5s 38ms/step - loss: 0.3265 - accuracy: 0.8830 - val_loss: 1.0119 - val_accuracy: 0.7410\n",
            "Epoch 7/50\n",
            "125/125 [==============================] - 5s 39ms/step - loss: 0.3038 - accuracy: 0.8903 - val_loss: 1.2226 - val_accuracy: 0.7140\n",
            "Epoch 8/50\n",
            "125/125 [==============================] - 5s 39ms/step - loss: 0.3077 - accuracy: 0.8871 - val_loss: 1.0480 - val_accuracy: 0.7535\n",
            "Epoch 9/50\n",
            "125/125 [==============================] - 5s 39ms/step - loss: 0.2858 - accuracy: 0.8960 - val_loss: 1.3222 - val_accuracy: 0.6945\n",
            "Epoch 10/50\n",
            "125/125 [==============================] - 5s 39ms/step - loss: 0.2887 - accuracy: 0.8936 - val_loss: 1.4165 - val_accuracy: 0.7090\n",
            "Epoch 11/50\n",
            "125/125 [==============================] - 5s 39ms/step - loss: 0.2559 - accuracy: 0.9080 - val_loss: 1.4585 - val_accuracy: 0.6955\n",
            "Epoch 12/50\n",
            "125/125 [==============================] - 5s 39ms/step - loss: 0.2555 - accuracy: 0.9034 - val_loss: 1.4028 - val_accuracy: 0.7085\n",
            "Epoch 13/50\n",
            "125/125 [==============================] - 5s 39ms/step - loss: 0.2494 - accuracy: 0.9090 - val_loss: 1.2466 - val_accuracy: 0.7390\n",
            "Epoch 14/50\n",
            "125/125 [==============================] - 5s 39ms/step - loss: 0.2535 - accuracy: 0.9086 - val_loss: 1.3235 - val_accuracy: 0.7145\n",
            "Epoch 15/50\n",
            "125/125 [==============================] - 5s 39ms/step - loss: 0.2156 - accuracy: 0.9210 - val_loss: 1.3084 - val_accuracy: 0.6990\n",
            "Epoch 16/50\n",
            "125/125 [==============================] - 5s 39ms/step - loss: 0.2221 - accuracy: 0.9193 - val_loss: 1.3693 - val_accuracy: 0.7145\n",
            "Epoch 17/50\n",
            "125/125 [==============================] - 5s 39ms/step - loss: 0.2147 - accuracy: 0.9261 - val_loss: 1.2875 - val_accuracy: 0.7260\n",
            "Epoch 18/50\n",
            "125/125 [==============================] - 5s 39ms/step - loss: 0.1886 - accuracy: 0.9311 - val_loss: 1.2409 - val_accuracy: 0.7320\n",
            "Epoch 19/50\n",
            "125/125 [==============================] - 5s 39ms/step - loss: 0.1869 - accuracy: 0.9346 - val_loss: 1.3940 - val_accuracy: 0.7250\n",
            "Epoch 20/50\n",
            "125/125 [==============================] - 5s 39ms/step - loss: 0.1902 - accuracy: 0.9320 - val_loss: 1.3687 - val_accuracy: 0.7040\n",
            "Epoch 21/50\n",
            "125/125 [==============================] - 5s 39ms/step - loss: 0.1769 - accuracy: 0.9376 - val_loss: 1.4347 - val_accuracy: 0.7325\n",
            "Epoch 22/50\n",
            "125/125 [==============================] - 5s 39ms/step - loss: 0.1946 - accuracy: 0.9296 - val_loss: 1.5126 - val_accuracy: 0.7090\n",
            "Epoch 23/50\n",
            "125/125 [==============================] - 5s 39ms/step - loss: 0.1785 - accuracy: 0.9364 - val_loss: 1.7178 - val_accuracy: 0.7090\n",
            "Epoch 24/50\n",
            "125/125 [==============================] - 5s 39ms/step - loss: 0.1895 - accuracy: 0.9311 - val_loss: 1.3580 - val_accuracy: 0.7290\n",
            "Epoch 25/50\n",
            "125/125 [==============================] - 5s 39ms/step - loss: 0.1653 - accuracy: 0.9429 - val_loss: 1.3091 - val_accuracy: 0.7385\n",
            "Epoch 26/50\n",
            "125/125 [==============================] - 5s 39ms/step - loss: 0.1592 - accuracy: 0.9466 - val_loss: 1.3690 - val_accuracy: 0.7285\n",
            "Epoch 27/50\n",
            "125/125 [==============================] - 5s 39ms/step - loss: 0.1476 - accuracy: 0.9474 - val_loss: 1.5247 - val_accuracy: 0.7335\n",
            "Epoch 28/50\n",
            "125/125 [==============================] - 5s 39ms/step - loss: 0.1412 - accuracy: 0.9499 - val_loss: 1.3268 - val_accuracy: 0.7300\n",
            "Epoch 29/50\n",
            "125/125 [==============================] - 5s 39ms/step - loss: 0.1401 - accuracy: 0.9499 - val_loss: 1.5702 - val_accuracy: 0.7190\n",
            "Epoch 30/50\n",
            "125/125 [==============================] - 5s 39ms/step - loss: 0.1571 - accuracy: 0.9460 - val_loss: 1.6550 - val_accuracy: 0.7190\n",
            "Epoch 31/50\n",
            "125/125 [==============================] - 5s 39ms/step - loss: 0.1370 - accuracy: 0.9514 - val_loss: 1.4661 - val_accuracy: 0.7445\n",
            "Epoch 32/50\n",
            "125/125 [==============================] - 5s 39ms/step - loss: 0.1428 - accuracy: 0.9501 - val_loss: 1.5539 - val_accuracy: 0.7395\n",
            "Epoch 33/50\n",
            "125/125 [==============================] - 5s 39ms/step - loss: 0.1276 - accuracy: 0.9553 - val_loss: 1.6288 - val_accuracy: 0.6815\n",
            "Epoch 34/50\n",
            "125/125 [==============================] - 5s 39ms/step - loss: 0.1179 - accuracy: 0.9600 - val_loss: 1.5106 - val_accuracy: 0.7360\n",
            "Epoch 35/50\n",
            "125/125 [==============================] - 5s 39ms/step - loss: 0.1186 - accuracy: 0.9586 - val_loss: 1.5355 - val_accuracy: 0.7260\n",
            "Epoch 36/50\n",
            "125/125 [==============================] - 5s 39ms/step - loss: 0.1347 - accuracy: 0.9535 - val_loss: 1.7604 - val_accuracy: 0.7205\n",
            "Epoch 37/50\n",
            "125/125 [==============================] - 5s 39ms/step - loss: 0.1414 - accuracy: 0.9506 - val_loss: 1.5191 - val_accuracy: 0.7220\n",
            "Epoch 38/50\n",
            "125/125 [==============================] - 5s 39ms/step - loss: 0.1104 - accuracy: 0.9625 - val_loss: 1.6982 - val_accuracy: 0.7080\n",
            "Epoch 39/50\n",
            "125/125 [==============================] - 5s 39ms/step - loss: 0.1253 - accuracy: 0.9564 - val_loss: 1.9583 - val_accuracy: 0.7165\n",
            "Epoch 40/50\n",
            "125/125 [==============================] - 5s 40ms/step - loss: 0.1317 - accuracy: 0.9539 - val_loss: 1.7642 - val_accuracy: 0.7210\n",
            "Epoch 41/50\n",
            "125/125 [==============================] - 5s 39ms/step - loss: 0.1310 - accuracy: 0.9538 - val_loss: 1.8744 - val_accuracy: 0.6805\n",
            "Epoch 42/50\n",
            "125/125 [==============================] - 5s 40ms/step - loss: 0.1088 - accuracy: 0.9613 - val_loss: 1.6454 - val_accuracy: 0.7355\n",
            "Epoch 43/50\n",
            "125/125 [==============================] - 5s 39ms/step - loss: 0.1127 - accuracy: 0.9631 - val_loss: 1.7749 - val_accuracy: 0.7290\n",
            "Epoch 44/50\n",
            "125/125 [==============================] - 5s 40ms/step - loss: 0.1132 - accuracy: 0.9613 - val_loss: 1.6533 - val_accuracy: 0.7285\n",
            "Epoch 45/50\n",
            "125/125 [==============================] - 5s 39ms/step - loss: 0.0950 - accuracy: 0.9668 - val_loss: 1.7150 - val_accuracy: 0.7210\n",
            "Epoch 46/50\n",
            "125/125 [==============================] - 5s 39ms/step - loss: 0.1110 - accuracy: 0.9620 - val_loss: 1.5611 - val_accuracy: 0.7465\n",
            "Epoch 47/50\n",
            "125/125 [==============================] - 5s 39ms/step - loss: 0.0909 - accuracy: 0.9709 - val_loss: 1.7186 - val_accuracy: 0.7305\n",
            "Epoch 48/50\n",
            "125/125 [==============================] - 5s 40ms/step - loss: 0.0923 - accuracy: 0.9693 - val_loss: 1.8550 - val_accuracy: 0.7095\n",
            "Epoch 49/50\n",
            "125/125 [==============================] - 5s 39ms/step - loss: 0.1177 - accuracy: 0.9595 - val_loss: 1.6873 - val_accuracy: 0.7145\n",
            "Epoch 50/50\n",
            "125/125 [==============================] - 5s 39ms/step - loss: 0.0970 - accuracy: 0.9643 - val_loss: 1.5240 - val_accuracy: 0.7395\n"
          ],
          "name": "stdout"
        }
      ]
    },
    {
      "cell_type": "code",
      "metadata": {
        "colab": {
          "base_uri": "https://localhost:8080/",
          "height": 320
        },
        "id": "6TDNTK6GanA4",
        "outputId": "2bb09d79-4dba-42fa-fd03-4f1b59278e20"
      },
      "source": [
        "df = pd.DataFrame(history.history).plot(figsize=(8, 5))\n",
        "df.plot(figsize=(8,5))\n",
        "plt.grid(True)\n",
        "plt.show()\n"
      ],
      "execution_count": 22,
      "outputs": [
        {
          "output_type": "display_data",
          "data": {
            "image/png": "[encoded data removed]",
            "text/plain": [
              "<Figure size 576x360 with 1 Axes>"
            ]
          },
          "metadata": {
            "tags": [],
            "needs_background": "light"
          }
        }
      ]
    },
    {
      "cell_type": "code",
      "metadata": {
        "colab": {
          "base_uri": "https://localhost:8080/"
        },
        "id": "3Wr0GlZacrAR",
        "outputId": "cc28cf88-207b-4df7-f334-c30f5614d198"
      },
      "source": [
        "preds = model.predict(validation['features'])\n",
        "np.histogram(preds.argmax(1), bins=list(range(len(classes) + 1)))"
      ],
      "execution_count": 23,
      "outputs": [
        {
          "output_type": "execute_result",
          "data": {
            "text/plain": [
              "(array([ 255,   55, 1168,  248,  122,   10,    0,    0,   37,  105,    0]),\n",
              " array([ 0,  1,  2,  3,  4,  5,  6,  7,  8,  9, 10, 11]))"
            ]
          },
          "metadata": {
            "tags": []
          },
          "execution_count": 23
        }
      ]
    },
    {
      "cell_type": "code",
      "metadata": {
        "id": "pTluPFrZc6wx"
      },
      "source": [
        "# Till's plot\n",
        "\n",
        "# true = val\n",
        "# print(val)\n",
        "# pred = preds\n",
        "# plt.figure(figsize=[15, 10])\n",
        "# plt.hist([true, pred], width = 0.25, histtype='bar', weights=[(np.zeros_like(true) + 1. / true.size), (np.zeros_like(pred) + 1. / pred.size)], align='mid')\n",
        "# plt.legend(['y True', 'y Prediction'])\n",
        "# plt.xticks([i + 0.25 for i in range(len(classes))], classes)\n",
        "# plt.show()"
      ],
      "execution_count": null,
      "outputs": []
    },
    {
      "cell_type": "code",
      "metadata": {
        "colab": {
          "base_uri": "https://localhost:8080/",
          "height": 297
        },
        "id": "OpgKpZODe3m3",
        "outputId": "18084ece-c5b2-4586-bfbe-38a36e0a7dbd"
      },
      "source": [
        "f, axes = plt.subplots(1, 2)\n",
        "\n",
        "axes[0].hist(labels, bins=list(range(len(classes) + 1)))\n",
        "axes[0].set_xticks(ticks=list(map(lambda x: x+0.5, list(range(len(classes))))))\n",
        "axes[0].set_xticklabels(classes, rotation=90, ha='right')\n",
        "axes[0].set_title('Actual classes')\n",
        "\n",
        "axes[1].hist(preds.argmax(1), bins=list(range(len(classes) + 1)))\n",
        "axes[1].set_xticks(ticks=list(map(lambda x: x+0.5, list(range(len(classes))))))\n",
        "axes[1].set_xticklabels(classes, rotation=90, ha='right')\n",
        "axes[1].set_title('Predictions')\n",
        "\n",
        "plt.tight_layout()\n",
        "plt.show()"
      ],
      "execution_count": 35,
      "outputs": [
        {
          "output_type": "display_data",
          "data": {
            "image/png": "[encoded data removed]",
            "text/plain": [
              "<Figure size 432x288 with 2 Axes>"
            ]
          },
          "metadata": {
            "tags": [],
            "needs_background": "light"
          }
        }
      ]
    }
  ]
}