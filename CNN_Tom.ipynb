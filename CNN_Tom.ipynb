{
  "nbformat": 4,
  "nbformat_minor": 0,
  "metadata": {
    "colab": {
      "name": "DA_CaseStudy_Test_Tom.ipynb",
      "provenance": [],
      "collapsed_sections": [],
      "include_colab_link": true
    },
    "interpreter": {
      "hash": "e67b401dea846c4b6e555a5b9f33a72976f4e6c154589e4934bc1706ab467be7"
    },
    "kernelspec": {
      "display_name": "Python 3.7.4 64-bit",
      "name": "python3"
    },
    "language_info": {
      "codemirror_mode": {
        "name": "ipython",
        "version": 3
      },
      "file_extension": ".py",
      "mimetype": "text/x-python",
      "name": "python",
      "nbconvert_exporter": "python",
      "pygments_lexer": "ipython3",
      "version": "3.7.4"
    },
    "accelerator": "GPU"
  },
  "cells": [
    {
      "cell_type": "markdown",
      "metadata": {
        "id": "view-in-github",
        "colab_type": "text"
      },
      "source": [
        "<a href=\"https://colab.research.google.com/github/ematala/satellite-segmentation/blob/main/CNN_Tom.ipynb\" target=\"_parent\"><img src=\"https://colab.research.google.com/assets/colab-badge.svg\" alt=\"Open In Colab\"/></a>"
      ]
    },
    {
      "cell_type": "code",
      "metadata": {
        "id": "P8yEa0pcUCU-"
      },
      "source": [
        "import pandas as pd\n",
        "import numpy as np\n",
        "import os\n",
        "import datetime\n",
        "import sklearn\n",
        "import matplotlib.pyplot as plt\n",
        "import math\n",
        "import getpass\n",
        "\n",
        "#  for LeNet-5\n",
        "from sklearn.model_selection import train_test_split\n",
        "# import tensorflow as tf\n",
        "# import keras\n",
        "# import keras.layers as layers\n",
        "# from keras.models import Sequential\n",
        "# from keras.preprocessing.image import ImageDataGenerator\n",
        "# from keras.utils.np_utils import to_categorical\n",
        "# from keras.callbacks import TensorBoard\n",
        "\n",
        "\n",
        "# for  3D CNN\n",
        "import keras\n",
        "from keras.models import Sequential\n",
        "from keras.layers import Dense, Flatten, Conv3D, MaxPooling3D, Dropout, BatchNormalization\n",
        "from keras.utils.np_utils import to_categorical"
      ],
      "execution_count": 1,
      "outputs": []
    },
    {
      "cell_type": "code",
      "metadata": {
        "colab": {
          "base_uri": "https://localhost:8080/"
        },
        "id": "kIRu74IO4CrF",
        "outputId": "b5d512c9-a752-4c2e-f225-a81e87d85f3a"
      },
      "source": [
        "if 'Tom' not in getpass.getuser():\n",
        "    from google.colab import drive\n",
        "    drive.mount('/content/gdrive')"
      ],
      "execution_count": 2,
      "outputs": [
        {
          "output_type": "stream",
          "text": [
            "Drive already mounted at /content/gdrive; to attempt to forcibly remount, call drive.mount(\"/content/gdrive\", force_remount=True).\n"
          ],
          "name": "stdout"
        }
      ]
    },
    {
      "cell_type": "code",
      "metadata": {
        "id": "ZqRibSEA8Iz9"
      },
      "source": [
        "data = np.load('train.npz') if 'Tom' in getpass.getuser() else np.load('/content/gdrive/MyDrive/Colab Notebooks/train.npz') "
      ],
      "execution_count": 3,
      "outputs": []
    },
    {
      "cell_type": "code",
      "metadata": {
        "id": "ebYO2t4EURYx"
      },
      "source": [
        "# separate bands and labels:\n",
        "train_data = data['bands']\n",
        "labels = data['lulc']"
      ],
      "execution_count": 4,
      "outputs": []
    },
    {
      "cell_type": "code",
      "metadata": {
        "colab": {
          "base_uri": "https://localhost:8080/"
        },
        "id": "5HP7GGTKhvmf",
        "outputId": "cae01164-7a39-4845-f157-7421d162c70a"
      },
      "source": [
        "# remove no_data\n",
        "labels_no_data = labels[labels != 0]\n",
        "train_data_no_data = train_data[labels != 0, :, :, :, :]\n",
        "print(labels_no_data.shape)\n",
        "print(train_data_no_data.shape)"
      ],
      "execution_count": 14,
      "outputs": [
        {
          "output_type": "stream",
          "text": [
            "(8692,)\n",
            "(8692, 12, 33, 33, 6)\n"
          ],
          "name": "stdout"
        }
      ]
    },
    {
      "cell_type": "code",
      "metadata": {
        "id": "-OcdAkYvUT6I"
      },
      "source": [
        "# add class labels manually\n",
        "classes = np.array(['No Data', 'Cultivated Land', 'Forest', 'Grassland', 'Shrubland', 'Water', 'Wetlands', 'Tundra', 'Artificial Surface', 'Bareland', 'Snow and Ice'])"
      ],
      "execution_count": 6,
      "outputs": []
    },
    {
      "cell_type": "code",
      "metadata": {
        "colab": {
          "base_uri": "https://localhost:8080/"
        },
        "id": "Gr9PpsvyUdcb",
        "outputId": "4dfecd26-890a-46a1-e8b6-89dd48351719"
      },
      "source": [
        "np.histogram(labels_no_data, bins=list(range(len(classes) + 1)))"
      ],
      "execution_count": 9,
      "outputs": [
        {
          "output_type": "execute_result",
          "data": {
            "text/plain": [
              "(array([   0,  238, 5796, 1125,  770,   58,    0,    0,  217,  488,    0]),\n",
              " array([ 0,  1,  2,  3,  4,  5,  6,  7,  8,  9, 10, 11]))"
            ]
          },
          "metadata": {
            "tags": []
          },
          "execution_count": 9
        }
      ]
    },
    {
      "cell_type": "code",
      "metadata": {
        "colab": {
          "base_uri": "https://localhost:8080/",
          "height": 298
        },
        "id": "IN-nM9VPVBBY",
        "outputId": "498ff11d-94cf-4cb9-c641-65233e7cc147"
      },
      "source": [
        "plt.hist(labels_no_data, bins=list(range(len(classes) + 1)))\n",
        "plt.xticks(ticks=list(map(lambda x: x+0.5, list(range(len(classes))))), labels=classes, rotation=90)\n",
        "plt.tight_layout()\n",
        "plt.show()"
      ],
      "execution_count": 10,
      "outputs": [
        {
          "output_type": "display_data",
          "data": {
            "image/png": "[encoded data removed]",
            "text/plain": [
              "<Figure size 432x288 with 1 Axes>"
            ]
          },
          "metadata": {
            "tags": [],
            "needs_background": "light"
          }
        }
      ]
    },
    {
      "cell_type": "markdown",
      "metadata": {
        "id": "VvhW9q0xVIBQ"
      },
      "source": [
        "# **Experimental CNN**"
      ]
    },
    {
      "cell_type": "code",
      "metadata": {
        "colab": {
          "base_uri": "https://localhost:8080/",
          "height": 295
        },
        "id": "ZXtfE0w0cqxU",
        "outputId": "ff881b76-edd5-47d9-c1f1-93ec8ff2df34"
      },
      "source": [
        "train_labels_count = np.unique(labels, return_counts=True)\n",
        "dataframe_train_labels = pd.DataFrame({'Label':train_labels_count[0], 'Count':train_labels_count[1]})\n",
        "dataframe_train_labels"
      ],
      "execution_count": 11,
      "outputs": [
        {
          "output_type": "execute_result",
          "data": {
            "text/html": [
              "<div>\n",
              "<style scoped>\n",
              "    .dataframe tbody tr th:only-of-type {\n",
              "        vertical-align: middle;\n",
              "    }\n",
              "\n",
              "    .dataframe tbody tr th {\n",
              "        vertical-align: top;\n",
              "    }\n",
              "\n",
              "    .dataframe thead th {\n",
              "        text-align: right;\n",
              "    }\n",
              "</style>\n",
              "<table border=\"1\" class=\"dataframe\">\n",
              "  <thead>\n",
              "    <tr style=\"text-align: right;\">\n",
              "      <th></th>\n",
              "      <th>Label</th>\n",
              "      <th>Count</th>\n",
              "    </tr>\n",
              "  </thead>\n",
              "  <tbody>\n",
              "    <tr>\n",
              "      <th>0</th>\n",
              "      <td>0</td>\n",
              "      <td>1308</td>\n",
              "    </tr>\n",
              "    <tr>\n",
              "      <th>1</th>\n",
              "      <td>1</td>\n",
              "      <td>238</td>\n",
              "    </tr>\n",
              "    <tr>\n",
              "      <th>2</th>\n",
              "      <td>2</td>\n",
              "      <td>5796</td>\n",
              "    </tr>\n",
              "    <tr>\n",
              "      <th>3</th>\n",
              "      <td>3</td>\n",
              "      <td>1125</td>\n",
              "    </tr>\n",
              "    <tr>\n",
              "      <th>4</th>\n",
              "      <td>4</td>\n",
              "      <td>770</td>\n",
              "    </tr>\n",
              "    <tr>\n",
              "      <th>5</th>\n",
              "      <td>5</td>\n",
              "      <td>58</td>\n",
              "    </tr>\n",
              "    <tr>\n",
              "      <th>6</th>\n",
              "      <td>8</td>\n",
              "      <td>217</td>\n",
              "    </tr>\n",
              "    <tr>\n",
              "      <th>7</th>\n",
              "      <td>9</td>\n",
              "      <td>488</td>\n",
              "    </tr>\n",
              "  </tbody>\n",
              "</table>\n",
              "</div>"
            ],
            "text/plain": [
              "   Label  Count\n",
              "0      0   1308\n",
              "1      1    238\n",
              "2      2   5796\n",
              "3      3   1125\n",
              "4      4    770\n",
              "5      5     58\n",
              "6      8    217\n",
              "7      9    488"
            ]
          },
          "metadata": {
            "tags": []
          },
          "execution_count": 11
        }
      ]
    },
    {
      "cell_type": "code",
      "metadata": {
        "id": "rR3kp7QrejsV"
      },
      "source": [
        "train = {}\n",
        "validation = {}\n",
        "# with no_data removed\n",
        "train['features'], validation['features'], train['labels'], validation['labels'] = train_test_split(train_data_no_data, labels_no_data, test_size=0.2, random_state=0)"
      ],
      "execution_count": 16,
      "outputs": []
    },
    {
      "cell_type": "code",
      "metadata": {
        "colab": {
          "base_uri": "https://localhost:8080/"
        },
        "id": "wLh6EtyQgAac",
        "outputId": "b928eb71-31d9-4a2a-babe-87194e88e258"
      },
      "source": [
        "print('# of training images:', train['features'].shape[0])\n",
        "print('# of validation images:', validation['features'].shape[0])"
      ],
      "execution_count": 17,
      "outputs": [
        {
          "output_type": "stream",
          "text": [
            "# of training images: 6953\n",
            "# of validation images: 1739\n"
          ],
          "name": "stdout"
        }
      ]
    },
    {
      "cell_type": "code",
      "metadata": {
        "id": "onzNLmY86zsn"
      },
      "source": [
        "val = validation['labels']\n",
        "train['labels'] = to_categorical(train['labels'], 11)\n",
        "validation['labels'] = to_categorical(validation['labels'], 11)"
      ],
      "execution_count": 18,
      "outputs": []
    },
    {
      "cell_type": "code",
      "metadata": {
        "id": "6jBZiwJqVRQ5"
      },
      "source": [
        "# Try Google's LeNet-5\n",
        "\n",
        "# model = keras.Sequential()\n",
        "\n",
        "# model.add(layers.Conv3D(filters=6, kernel_size=(1, 1, 1), activation='relu', input_shape=(12,33,33,6)))\n",
        "# model.add(layers.AveragePooling3D())\n",
        "\n",
        "# model.add(layers.Conv3D(filters=16, kernel_size=(1, 1, 1), activation='relu'))\n",
        "# model.add(layers.AveragePooling3D())\n",
        "\n",
        "# model.add(layers.Flatten())\n",
        "\n",
        "# model.add(layers.Dense(units=120, activation='relu'))\n",
        "\n",
        "# model.add(layers.Dense(units=84, activation='relu'))\n",
        "\n",
        "# model.add(layers.Dense(units=11, activation = 'softmax'))"
      ],
      "execution_count": null,
      "outputs": []
    },
    {
      "cell_type": "code",
      "metadata": {
        "id": "nYSMuJqJq21v",
        "colab": {
          "base_uri": "https://localhost:8080/"
        },
        "outputId": "647714cd-b644-4617-da30-1933a4a7216f"
      },
      "source": [
        "model = Sequential()\n",
        "model.add(Conv3D(32, kernel_size=(1, 3, 3), activation='relu', kernel_initializer='he_uniform', input_shape=(12,33,33,6)))\n",
        "model.add(MaxPooling3D(pool_size=(2, 2, 2)))\n",
        "model.add(BatchNormalization(center=True, scale=True))\n",
        "model.add(Dropout(0.5))\n",
        "model.add(Conv3D(64, kernel_size=(1, 3, 3), activation='relu', kernel_initializer='he_uniform'))\n",
        "model.add(MaxPooling3D(pool_size=(2, 2, 2)))\n",
        "model.add(BatchNormalization(center=True, scale=True))\n",
        "model.add(Dropout(0.5))\n",
        "model.add(Flatten())\n",
        "model.add(Dense(256, activation='relu', kernel_initializer='he_uniform'))\n",
        "model.add(Dense(256, activation='relu', kernel_initializer='he_uniform'))\n",
        "model.add(Dense(11, activation='softmax'))\n",
        "\n",
        "# Compile the model\n",
        "model.compile(\n",
        "    'Adam',\n",
        "    loss='categorical_crossentropy',\n",
        "    metrics=['accuracy'],\n",
        ")\n",
        "model.summary()\n"
      ],
      "execution_count": 19,
      "outputs": [
        {
          "output_type": "stream",
          "text": [
            "Model: \"sequential\"\n",
            "_________________________________________________________________\n",
            "Layer (type)                 Output Shape              Param #   \n",
            "=================================================================\n",
            "conv3d (Conv3D)              (None, 10, 31, 31, 32)    5216      \n",
            "_________________________________________________________________\n",
            "max_pooling3d (MaxPooling3D) (None, 5, 15, 15, 32)     0         \n",
            "_________________________________________________________________\n",
            "batch_normalization (BatchNo (None, 5, 15, 15, 32)     128       \n",
            "_________________________________________________________________\n",
            "dropout (Dropout)            (None, 5, 15, 15, 32)     0         \n",
            "_________________________________________________________________\n",
            "conv3d_1 (Conv3D)            (None, 3, 13, 13, 64)     55360     \n",
            "_________________________________________________________________\n",
            "max_pooling3d_1 (MaxPooling3 (None, 1, 6, 6, 64)       0         \n",
            "_________________________________________________________________\n",
            "batch_normalization_1 (Batch (None, 1, 6, 6, 64)       256       \n",
            "_________________________________________________________________\n",
            "dropout_1 (Dropout)          (None, 1, 6, 6, 64)       0         \n",
            "_________________________________________________________________\n",
            "flatten (Flatten)            (None, 2304)              0         \n",
            "_________________________________________________________________\n",
            "dense (Dense)                (None, 256)               590080    \n",
            "_________________________________________________________________\n",
            "dense_1 (Dense)              (None, 256)               65792     \n",
            "_________________________________________________________________\n",
            "dense_2 (Dense)              (None, 11)                2827      \n",
            "=================================================================\n",
            "Total params: 719,659\n",
            "Trainable params: 719,467\n",
            "Non-trainable params: 192\n",
            "_________________________________________________________________\n"
          ],
          "name": "stdout"
        }
      ]
    },
    {
      "cell_type": "code",
      "metadata": {
        "id": "hDQdGQiKhfti",
        "colab": {
          "base_uri": "https://localhost:8080/"
        },
        "outputId": "89928ce2-4cd4-4304-9e72-71d14d141e66"
      },
      "source": [
        "# Fit data to model\n",
        "# history = model.fit(train_data, labels,\n",
        "#             batch_size=128,\n",
        "#             epochs=5,\n",
        "#             verbose=1,\n",
        "#             validation_split=0.2)\n",
        "\n",
        "history = model.fit(train['features'], train['labels'], batch_size=64, epochs=50, validation_data=(validation['features'], validation['labels']))"
      ],
      "execution_count": 20,
      "outputs": [
        {
          "output_type": "stream",
          "text": [
            "Epoch 1/50\n",
            "109/109 [==============================] - 57s 97ms/step - loss: 1.4736 - accuracy: 0.6036 - val_loss: 1.5779 - val_accuracy: 0.6642\n",
            "Epoch 2/50\n",
            "109/109 [==============================] - 10s 92ms/step - loss: 0.8095 - accuracy: 0.7236 - val_loss: 1.4744 - val_accuracy: 0.7050\n",
            "Epoch 3/50\n",
            "109/109 [==============================] - 10s 88ms/step - loss: 0.7243 - accuracy: 0.7516 - val_loss: 1.0764 - val_accuracy: 0.6740\n",
            "Epoch 4/50\n",
            "109/109 [==============================] - 10s 92ms/step - loss: 0.6719 - accuracy: 0.7679 - val_loss: 1.4189 - val_accuracy: 0.6814\n",
            "Epoch 5/50\n",
            "109/109 [==============================] - 10s 88ms/step - loss: 0.6785 - accuracy: 0.7694 - val_loss: 0.9073 - val_accuracy: 0.7320\n",
            "Epoch 6/50\n",
            "109/109 [==============================] - 10s 89ms/step - loss: 0.6013 - accuracy: 0.7897 - val_loss: 1.0792 - val_accuracy: 0.6935\n",
            "Epoch 7/50\n",
            "109/109 [==============================] - 10s 89ms/step - loss: 0.5964 - accuracy: 0.7919 - val_loss: 0.8059 - val_accuracy: 0.7384\n",
            "Epoch 8/50\n",
            "109/109 [==============================] - 10s 89ms/step - loss: 0.5533 - accuracy: 0.8037 - val_loss: 0.7385 - val_accuracy: 0.7579\n",
            "Epoch 9/50\n",
            "109/109 [==============================] - 10s 89ms/step - loss: 0.5354 - accuracy: 0.8161 - val_loss: 0.6661 - val_accuracy: 0.7740\n",
            "Epoch 10/50\n",
            "109/109 [==============================] - 10s 89ms/step - loss: 0.5318 - accuracy: 0.8140 - val_loss: 0.7658 - val_accuracy: 0.7499\n",
            "Epoch 11/50\n",
            "109/109 [==============================] - 10s 89ms/step - loss: 0.4796 - accuracy: 0.8206 - val_loss: 0.9076 - val_accuracy: 0.7113\n",
            "Epoch 12/50\n",
            "109/109 [==============================] - 10s 88ms/step - loss: 0.4875 - accuracy: 0.8213 - val_loss: 0.7319 - val_accuracy: 0.7625\n",
            "Epoch 13/50\n",
            "109/109 [==============================] - 10s 92ms/step - loss: 0.4655 - accuracy: 0.8340 - val_loss: 0.7827 - val_accuracy: 0.7550\n",
            "Epoch 14/50\n",
            "109/109 [==============================] - 10s 88ms/step - loss: 0.4484 - accuracy: 0.8451 - val_loss: 0.8436 - val_accuracy: 0.7573\n",
            "Epoch 15/50\n",
            "109/109 [==============================] - 10s 93ms/step - loss: 0.4204 - accuracy: 0.8433 - val_loss: 0.7990 - val_accuracy: 0.7550\n",
            "Epoch 16/50\n",
            "109/109 [==============================] - 10s 89ms/step - loss: 0.4094 - accuracy: 0.8500 - val_loss: 0.7207 - val_accuracy: 0.7884\n",
            "Epoch 17/50\n",
            "109/109 [==============================] - 10s 88ms/step - loss: 0.3648 - accuracy: 0.8703 - val_loss: 0.7141 - val_accuracy: 0.7844\n",
            "Epoch 18/50\n",
            "109/109 [==============================] - 10s 93ms/step - loss: 0.3602 - accuracy: 0.8692 - val_loss: 0.9163 - val_accuracy: 0.7441\n",
            "Epoch 19/50\n",
            "109/109 [==============================] - 10s 89ms/step - loss: 0.3395 - accuracy: 0.8761 - val_loss: 0.9030 - val_accuracy: 0.7631\n",
            "Epoch 20/50\n",
            "109/109 [==============================] - 10s 89ms/step - loss: 0.3146 - accuracy: 0.8897 - val_loss: 0.8321 - val_accuracy: 0.7395\n",
            "Epoch 21/50\n",
            "109/109 [==============================] - 10s 88ms/step - loss: 0.3217 - accuracy: 0.8850 - val_loss: 0.8418 - val_accuracy: 0.7700\n",
            "Epoch 22/50\n",
            "109/109 [==============================] - 10s 92ms/step - loss: 0.2866 - accuracy: 0.9017 - val_loss: 0.8758 - val_accuracy: 0.7711\n",
            "Epoch 23/50\n",
            "109/109 [==============================] - 10s 88ms/step - loss: 0.2691 - accuracy: 0.8997 - val_loss: 0.8532 - val_accuracy: 0.7786\n",
            "Epoch 24/50\n",
            "109/109 [==============================] - 10s 89ms/step - loss: 0.2834 - accuracy: 0.8982 - val_loss: 0.9038 - val_accuracy: 0.7803\n",
            "Epoch 25/50\n",
            "109/109 [==============================] - 10s 93ms/step - loss: 0.2681 - accuracy: 0.9067 - val_loss: 0.8808 - val_accuracy: 0.7562\n",
            "Epoch 26/50\n",
            "109/109 [==============================] - 10s 90ms/step - loss: 0.2557 - accuracy: 0.9037 - val_loss: 0.9684 - val_accuracy: 0.7838\n",
            "Epoch 27/50\n",
            "109/109 [==============================] - 10s 93ms/step - loss: 0.2293 - accuracy: 0.9193 - val_loss: 0.9909 - val_accuracy: 0.7545\n",
            "Epoch 28/50\n",
            "109/109 [==============================] - 10s 89ms/step - loss: 0.2149 - accuracy: 0.9222 - val_loss: 0.9653 - val_accuracy: 0.7734\n",
            "Epoch 29/50\n",
            "109/109 [==============================] - 10s 92ms/step - loss: 0.2159 - accuracy: 0.9223 - val_loss: 1.0584 - val_accuracy: 0.7677\n",
            "Epoch 30/50\n",
            "109/109 [==============================] - 10s 89ms/step - loss: 0.2114 - accuracy: 0.9192 - val_loss: 1.1218 - val_accuracy: 0.7545\n",
            "Epoch 31/50\n",
            "109/109 [==============================] - 10s 93ms/step - loss: 0.1860 - accuracy: 0.9320 - val_loss: 1.0271 - val_accuracy: 0.7711\n",
            "Epoch 32/50\n",
            "109/109 [==============================] - 10s 93ms/step - loss: 0.1712 - accuracy: 0.9394 - val_loss: 1.0404 - val_accuracy: 0.7441\n",
            "Epoch 33/50\n",
            "109/109 [==============================] - 10s 88ms/step - loss: 0.1660 - accuracy: 0.9425 - val_loss: 1.0825 - val_accuracy: 0.7608\n",
            "Epoch 34/50\n",
            "109/109 [==============================] - 10s 89ms/step - loss: 0.1659 - accuracy: 0.9417 - val_loss: 1.0269 - val_accuracy: 0.7826\n",
            "Epoch 35/50\n",
            "109/109 [==============================] - 10s 89ms/step - loss: 0.1574 - accuracy: 0.9454 - val_loss: 1.1812 - val_accuracy: 0.7619\n",
            "Epoch 36/50\n",
            "109/109 [==============================] - 10s 88ms/step - loss: 0.1389 - accuracy: 0.9492 - val_loss: 1.0549 - val_accuracy: 0.7631\n",
            "Epoch 37/50\n",
            "109/109 [==============================] - 10s 93ms/step - loss: 0.1708 - accuracy: 0.9362 - val_loss: 1.0812 - val_accuracy: 0.7861\n",
            "Epoch 38/50\n",
            "109/109 [==============================] - 10s 89ms/step - loss: 0.1402 - accuracy: 0.9497 - val_loss: 1.1835 - val_accuracy: 0.7706\n",
            "Epoch 39/50\n",
            "109/109 [==============================] - 10s 89ms/step - loss: 0.1320 - accuracy: 0.9507 - val_loss: 1.1272 - val_accuracy: 0.7849\n",
            "Epoch 40/50\n",
            "109/109 [==============================] - 10s 89ms/step - loss: 0.1121 - accuracy: 0.9600 - val_loss: 1.1434 - val_accuracy: 0.7631\n",
            "Epoch 41/50\n",
            "109/109 [==============================] - 10s 89ms/step - loss: 0.1406 - accuracy: 0.9517 - val_loss: 1.1213 - val_accuracy: 0.7798\n",
            "Epoch 42/50\n",
            "109/109 [==============================] - 10s 89ms/step - loss: 0.1283 - accuracy: 0.9501 - val_loss: 1.2255 - val_accuracy: 0.7602\n",
            "Epoch 43/50\n",
            "109/109 [==============================] - 10s 89ms/step - loss: 0.1247 - accuracy: 0.9618 - val_loss: 1.1105 - val_accuracy: 0.7723\n",
            "Epoch 44/50\n",
            "109/109 [==============================] - 10s 89ms/step - loss: 0.1247 - accuracy: 0.9539 - val_loss: 1.2674 - val_accuracy: 0.7729\n",
            "Epoch 45/50\n",
            "109/109 [==============================] - 10s 88ms/step - loss: 0.1093 - accuracy: 0.9627 - val_loss: 1.3532 - val_accuracy: 0.7303\n",
            "Epoch 46/50\n",
            "109/109 [==============================] - 10s 89ms/step - loss: 0.1430 - accuracy: 0.9541 - val_loss: 1.2218 - val_accuracy: 0.7729\n",
            "Epoch 47/50\n",
            "109/109 [==============================] - 10s 93ms/step - loss: 0.1153 - accuracy: 0.9591 - val_loss: 1.1672 - val_accuracy: 0.7878\n",
            "Epoch 48/50\n",
            "109/109 [==============================] - 10s 89ms/step - loss: 0.0966 - accuracy: 0.9666 - val_loss: 1.3509 - val_accuracy: 0.7832\n",
            "Epoch 49/50\n",
            "109/109 [==============================] - 10s 89ms/step - loss: 0.0981 - accuracy: 0.9651 - val_loss: 1.3530 - val_accuracy: 0.7757\n",
            "Epoch 50/50\n",
            "109/109 [==============================] - 10s 88ms/step - loss: 0.1126 - accuracy: 0.9606 - val_loss: 1.3032 - val_accuracy: 0.7844\n"
          ],
          "name": "stdout"
        }
      ]
    },
    {
      "cell_type": "code",
      "metadata": {
        "colab": {
          "base_uri": "https://localhost:8080/",
          "height": 320
        },
        "id": "6TDNTK6GanA4",
        "outputId": "cd071e27-690a-49f3-fc1c-5c8a7d8f8989"
      },
      "source": [
        "df = pd.DataFrame(history.history).plot(figsize=(8, 5))\n",
        "df.plot(figsize=(8,5))\n",
        "plt.grid(True)\n",
        "plt.show()\n"
      ],
      "execution_count": 21,
      "outputs": [
        {
          "output_type": "display_data",
          "data": {
            "image/png": "[encoded data removed]",
            "text/plain": [
              "<Figure size 576x360 with 1 Axes>"
            ]
          },
          "metadata": {
            "tags": [],
            "needs_background": "light"
          }
        }
      ]
    },
    {
      "cell_type": "code",
      "metadata": {
        "colab": {
          "base_uri": "https://localhost:8080/"
        },
        "id": "3Wr0GlZacrAR",
        "outputId": "e698dc30-dc0d-4564-e915-10f069d90dff"
      },
      "source": [
        "preds = model.predict(validation['features'])\n",
        "np.histogram(preds.argmax(1), bins=list(range(len(classes) + 1)))"
      ],
      "execution_count": 22,
      "outputs": [
        {
          "output_type": "execute_result",
          "data": {
            "text/plain": [
              "(array([   0,   40, 1221,  208,  121,    9,    0,    0,   18,  122,    0]),\n",
              " array([ 0,  1,  2,  3,  4,  5,  6,  7,  8,  9, 10, 11]))"
            ]
          },
          "metadata": {
            "tags": []
          },
          "execution_count": 22
        }
      ]
    },
    {
      "cell_type": "code",
      "metadata": {
        "id": "pTluPFrZc6wx"
      },
      "source": [
        "# Till's plot\n",
        "\n",
        "# true = val\n",
        "# print(val)\n",
        "# pred = preds\n",
        "# plt.figure(figsize=[15, 10])\n",
        "# plt.hist([true, pred], width = 0.25, histtype='bar', weights=[(np.zeros_like(true) + 1. / true.size), (np.zeros_like(pred) + 1. / pred.size)], align='mid')\n",
        "# plt.legend(['y True', 'y Prediction'])\n",
        "# plt.xticks([i + 0.25 for i in range(len(classes))], classes)\n",
        "# plt.show()"
      ],
      "execution_count": null,
      "outputs": []
    },
    {
      "cell_type": "code",
      "metadata": {
        "colab": {
          "base_uri": "https://localhost:8080/"
        },
        "id": "QBkeJ1ZTvnP-",
        "outputId": "25310925-2d7e-4545-898e-81e28fdcfe73"
      },
      "source": [
        "# reshape labels\n",
        "# val_labels = list()\n",
        "# for i in range(validation['labels'].shape[0]):\n",
        "#   values.index(max(values))\n",
        "\n",
        "print(validation['labels'].shape[0])\n",
        "print(labels_no_data)"
      ],
      "execution_count": 32,
      "outputs": [
        {
          "output_type": "stream",
          "text": [
            "1739\n",
            "[3 2 2 ... 9 9 4]\n"
          ],
          "name": "stdout"
        }
      ]
    },
    {
      "cell_type": "code",
      "metadata": {
        "colab": {
          "base_uri": "https://localhost:8080/",
          "height": 431
        },
        "id": "OpgKpZODe3m3",
        "outputId": "80207955-bc30-481a-faea-82f8ce93848c"
      },
      "source": [
        "f, axes = plt.subplots(1, 2)\n",
        "\n",
        "\n",
        "axes[0].hist(validation['labels'], bins=list(range(len(classes) + 1)))\n",
        "axes[0].set_xticks(ticks=list(map(lambda x: x+0.5, list(range(len(classes))))))\n",
        "axes[0].set_xticklabels(classes, rotation=90, ha='right')\n",
        "axes[0].set_title('Actual classes')\n",
        "\n",
        "axes[1].hist(preds.argmax(1), bins=list(range(len(classes) + 1)))\n",
        "axes[1].set_xticks(ticks=list(map(lambda x: x+0.5, list(range(len(classes))))))\n",
        "axes[1].set_xticklabels(classes, rotation=90, ha='right')\n",
        "axes[1].set_title('Predictions')\n",
        "\n",
        "plt.tight_layout()\n",
        "plt.show()"
      ],
      "execution_count": 28,
      "outputs": [
        {
          "output_type": "stream",
          "text": [
            "[[0. 0. 1. ... 0. 0. 0.]\n",
            " [0. 0. 1. ... 0. 0. 0.]\n",
            " [0. 0. 1. ... 0. 0. 0.]\n",
            " ...\n",
            " [0. 0. 1. ... 0. 0. 0.]\n",
            " [0. 0. 1. ... 0. 0. 0.]\n",
            " [0. 0. 1. ... 0. 0. 0.]]\n",
            "[3 2 2 ... 9 9 4]\n"
          ],
          "name": "stdout"
        },
        {
          "output_type": "display_data",
          "data": {
            "image/png": "[encoded data removed]",
            "text/plain": [
              "<Figure size 432x288 with 2 Axes>"
            ]
          },
          "metadata": {
            "tags": [],
            "needs_background": "light"
          }
        }
      ]
    }
  ]
}