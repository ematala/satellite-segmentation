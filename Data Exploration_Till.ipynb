{
  "nbformat": 4,
  "nbformat_minor": 2,
  "metadata": {
    "language_info": {
      "codemirror_mode": {
        "name": "ipython",
        "version": 3
      },
      "file_extension": ".py",
      "mimetype": "text/x-python",
      "name": "python",
      "nbconvert_exporter": "python",
      "pygments_lexer": "ipython3",
      "version": "3.9.0"
    },
    "orig_nbformat": 4,
    "kernelspec": {
      "name": "python3",
      "display_name": "Python 3.9.0 64-bit ('.venv')"
    },
    "interpreter": {
      "hash": "97a6cc46bd9fda46ba14a7852b39713e156f1e9b147e397c1e4d5bba61d673ce"
    },
    "colab": {
      "name": "Data Exploration.ipynb",
      "provenance": []
    },
    "accelerator": "GPU"
  },
  "cells": [
    {
      "cell_type": "code",
      "execution_count": 45,
      "source": [
        "import numpy as np\n",
        "import matplotlib.pyplot as plt\n",
        "from sklearn.tree import DecisionTreeClassifier\n",
        "from sklearn.model_selection import GridSearchCV, RepeatedStratifiedKFold, train_test_split\n",
        "from sklearn.linear_model import Perceptron, LogisticRegression\n",
        "\n",
        "# personal scripts\n",
        "from plots import eval_hist, single_hist"
      ],
      "outputs": [],
      "metadata": {
        "id": "XiyyjlMt70dS",
        "colab": {
          "base_uri": "https://localhost:8080/"
        },
        "outputId": "8ef247e6-299b-447b-b514-4e04a02b555b"
      }
    },
    {
      "cell_type": "code",
      "execution_count": 46,
      "source": [
        "train_data = np.load('data/train.npz')\n",
        "train_data.files"
      ],
      "outputs": [
        {
          "output_type": "execute_result",
          "data": {
            "text/plain": [
              "['bands', 'lulc']"
            ]
          },
          "metadata": {},
          "execution_count": 46
        }
      ],
      "metadata": {
        "id": "Q5Yk4ti27xgt",
        "outputId": "48ab54fe-e1d6-4a69-fa39-31760c05aba3",
        "colab": {
          "base_uri": "https://localhost:8080/"
        }
      }
    },
    {
      "cell_type": "markdown",
      "source": [
        "# Data Exploration"
      ],
      "metadata": {
        "id": "NIcRRCSdHSnO"
      }
    },
    {
      "cell_type": "markdown",
      "source": [
        "## lulc data\n",
        "The lulc data contains the labels for the patches in bands."
      ],
      "metadata": {
        "id": "ekxwooexHsvn"
      }
    },
    {
      "cell_type": "code",
      "execution_count": 47,
      "source": [
        "a = train_data['lulc']\n",
        "single_hist(a)"
      ],
      "outputs": [
        {
          "output_type": "display_data",
          "data": {
            "text/plain": [
              "<Figure size 432x288 with 1 Axes>"
            ],
            "image/png": "[encoded data removed]"
          },
          "metadata": {
            "needs_background": "light"
          }
        }
      ],
      "metadata": {
        "id": "9X7z6CkE2EQc",
        "outputId": "f99b2ed4-c821-4801-de28-c55ebc9e506e",
        "colab": {
          "base_uri": "https://localhost:8080/"
        }
      }
    },
    {
      "cell_type": "markdown",
      "source": [
        "# Data preparation"
      ],
      "metadata": {}
    },
    {
      "cell_type": "code",
      "execution_count": 48,
      "source": [
        "bands = train_data['bands']\n",
        "y_true = train_data['lulc']"
      ],
      "outputs": [],
      "metadata": {
        "id": "HnSsoyTu8eQ7",
        "outputId": "13aff388-d3ce-490d-c4cd-a90286fd7081",
        "colab": {
          "base_uri": "https://localhost:8080/"
        }
      }
    },
    {
      "cell_type": "code",
      "execution_count": 49,
      "source": [
        "X = bands[:, :, 17, 17, :].reshape((10000, 12, 6))\n",
        "X.shape"
      ],
      "outputs": [
        {
          "output_type": "execute_result",
          "data": {
            "text/plain": [
              "(10000, 12, 6)"
            ]
          },
          "metadata": {},
          "execution_count": 49
        }
      ],
      "metadata": {}
    },
    {
      "cell_type": "code",
      "execution_count": 50,
      "source": [
        "X_train, X_val, y_train, y_val = train_test_split(X, y_true, test_size=0.3, random_state=42)"
      ],
      "outputs": [],
      "metadata": {}
    },
    {
      "cell_type": "code",
      "execution_count": 51,
      "source": [
        "nsamples, f_one, f_two = X_train.shape\n",
        "X_train_d2 = X_train.reshape((nsamples, f_one * f_two))\n",
        "\n",
        "nsamples, f_one, f_two = X_val.shape\n",
        "X_val_d2 = X_val.reshape((nsamples, f_one * f_two))"
      ],
      "outputs": [],
      "metadata": {}
    },
    {
      "cell_type": "markdown",
      "source": [
        "# 1. Decision tree classifier"
      ],
      "metadata": {}
    },
    {
      "cell_type": "code",
      "execution_count": 52,
      "source": [
        "clf = DecisionTreeClassifier(criterion='gini')\n",
        "clf.fit(X_train_d2, y_train)\n",
        "y_pred = clf.predict(X_val_d2)"
      ],
      "outputs": [],
      "metadata": {}
    },
    {
      "cell_type": "code",
      "execution_count": 53,
      "source": [
        "print(\"Tree depth: {:.2f}\".format(clf.get_depth()))\n",
        "print(\"Number of leafs: {:.2f}\".format(clf.get_n_leaves()))\n",
        "print(\"Accuracy on training set: {:.2f}\".format(clf.score(X_train_d2, y_train)))\n",
        "print(\"Accuracy on validation set: {:.2f}\".format(clf.score(X_val_d2, y_val)))\n",
        "eval_hist(y_val, y_pred)\n"
      ],
      "outputs": [
        {
          "output_type": "stream",
          "name": "stdout",
          "text": [
            "Tree depth: 27.00\n",
            "Number of leafs: 1104.00\n",
            "Accuracy on training set: 1.00\n",
            "Accuracy on validation set: 0.66\n"
          ]
        },
        {
          "output_type": "display_data",
          "data": {
            "text/plain": [
              "<Figure size 1080x720 with 1 Axes>"
            ],
            "image/png": "[encoded data removed]"
          },
          "metadata": {
            "needs_background": "light"
          }
        }
      ],
      "metadata": {}
    },
    {
      "cell_type": "markdown",
      "source": [
        "# 2. Perceptron\n",
        "Perveptron algorithm with grid search.\n",
        "\n",
        "From: [machinelearningmastery](https://machinelearningmastery.com/perceptron-algorithm-for-classification-in-python/)"
      ],
      "metadata": {}
    },
    {
      "cell_type": "code",
      "execution_count": 54,
      "source": [
        "# define model\n",
        "model = Perceptron()"
      ],
      "outputs": [],
      "metadata": {}
    },
    {
      "cell_type": "code",
      "execution_count": 55,
      "source": [
        "# define model evaluation method\n",
        "cv = RepeatedStratifiedKFold(n_splits=10, n_repeats=3, random_state=1)"
      ],
      "outputs": [],
      "metadata": {}
    },
    {
      "cell_type": "code",
      "execution_count": 56,
      "source": [
        "# define grid\n",
        "grid = dict()\n",
        "grid['eta0'] = [0.0001, 0.001, 0.01, 0.1, 1.0, 10.0, 100.0, 1000.0, 10000.0, 1000000.0]\n",
        "\n",
        "# define search\n",
        "search = GridSearchCV(model, grid, scoring='accuracy', cv=cv, n_jobs=-1)\n",
        "\n",
        "# perform the search\n",
        "results = search.fit(X_train_d2, y_train)"
      ],
      "outputs": [],
      "metadata": {}
    },
    {
      "cell_type": "code",
      "execution_count": 57,
      "source": [
        "# summarize\n",
        "print('Mean Accuracy: %.3f' % results.best_score_)\n",
        "print('Config: %s' % results.best_params_)\n",
        "\n",
        "# summarize all\n",
        "means = results.cv_results_['mean_test_score']\n",
        "params = results.cv_results_['params']\n",
        "for mean, param in zip(means, params):\n",
        "    print(\">%.3f with: %r\" % (mean, param))\n",
        "    "
      ],
      "outputs": [
        {
          "output_type": "stream",
          "name": "stdout",
          "text": [
            "Mean Accuracy: 0.610\n",
            "Config: {'eta0': 0.0001}\n",
            ">0.610 with: {'eta0': 0.0001}\n",
            ">0.610 with: {'eta0': 0.001}\n",
            ">0.604 with: {'eta0': 0.01}\n",
            ">0.603 with: {'eta0': 0.1}\n",
            ">0.607 with: {'eta0': 1.0}\n",
            ">0.609 with: {'eta0': 10.0}\n",
            ">0.608 with: {'eta0': 100.0}\n",
            ">0.609 with: {'eta0': 1000.0}\n",
            ">0.609 with: {'eta0': 10000.0}\n",
            ">0.609 with: {'eta0': 1000000.0}\n"
          ]
        }
      ],
      "metadata": {}
    },
    {
      "cell_type": "code",
      "execution_count": 58,
      "source": [
        "y_pred = search.predict(X_val_d2)\n",
        "\n",
        "print(\"Accuracy on training set: {:.2f}\".format(search.score(X_train_d2, y_train)))\n",
        "print(\"Accuracy on validation set: {:.2f}\".format(search.score(X_val_d2, y_val)))\n",
        "\n",
        "eval_hist(y_val, y_pred)"
      ],
      "outputs": [
        {
          "output_type": "stream",
          "name": "stdout",
          "text": [
            "Accuracy on training set: 0.58\n",
            "Accuracy on validation set: 0.57\n"
          ]
        },
        {
          "output_type": "display_data",
          "data": {
            "text/plain": [
              "<Figure size 1080x720 with 1 Axes>"
            ],
            "image/png": "[encoded data removed]"
          },
          "metadata": {
            "needs_background": "light"
          }
        }
      ],
      "metadata": {}
    },
    {
      "cell_type": "markdown",
      "source": [
        "# 3. Logistic regression"
      ],
      "metadata": {}
    },
    {
      "cell_type": "code",
      "execution_count": 60,
      "source": [
        "clf = LogisticRegression(random_state=42).fit(X_train_d2, y_train)\n",
        "y_pred = clf.predict(X_val_d2)"
      ],
      "outputs": [
        {
          "output_type": "stream",
          "name": "stderr",
          "text": [
            "/Users/tillhoffmann/Projects/uni/DA2/satellite-segmentation/venv/lib/python3.9/site-packages/sklearn/linear_model/_logistic.py:763: ConvergenceWarning: lbfgs failed to converge (status=1):\n",
            "STOP: TOTAL NO. of ITERATIONS REACHED LIMIT.\n",
            "\n",
            "Increase the number of iterations (max_iter) or scale the data as shown in:\n",
            "    https://scikit-learn.org/stable/modules/preprocessing.html\n",
            "Please also refer to the documentation for alternative solver options:\n",
            "    https://scikit-learn.org/stable/modules/linear_model.html#logistic-regression\n",
            "  n_iter_i = _check_optimize_result(\n"
          ]
        }
      ],
      "metadata": {}
    },
    {
      "cell_type": "code",
      "execution_count": 61,
      "source": [
        "print(\"Accuracy on training set: {:.2f}\".format(clf.score(X_train_d2, y_train)))\n",
        "print(\"Accuracy on validation set: {:.2f}\".format(clf.score(X_val_d2, y_val)))\n",
        "eval_hist(y_val, y_pred)"
      ],
      "outputs": [
        {
          "output_type": "stream",
          "name": "stdout",
          "text": [
            "Accuracy on training set: 0.70\n",
            "Accuracy on validation set: 0.68\n"
          ]
        },
        {
          "output_type": "display_data",
          "data": {
            "text/plain": [
              "<Figure size 1080x720 with 1 Axes>"
            ],
            "image/png": "[encoded data removed]"
          },
          "metadata": {
            "needs_background": "light"
          }
        }
      ],
      "metadata": {}
    }
  ]
}