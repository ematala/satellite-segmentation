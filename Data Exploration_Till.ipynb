{
  "nbformat": 4,
  "nbformat_minor": 0,
  "metadata": {
    "language_info": {
      "codemirror_mode": {
        "name": "ipython",
        "version": 3
      },
      "file_extension": ".py",
      "mimetype": "text/x-python",
      "name": "python",
      "nbconvert_exporter": "python",
      "pygments_lexer": "ipython3",
      "version": "3.9.0"
    },
    "orig_nbformat": 4,
    "kernelspec": {
      "name": "python3",
      "display_name": "Python 3.9.0 64-bit ('.venv')"
    },
    "interpreter": {
      "hash": "97a6cc46bd9fda46ba14a7852b39713e156f1e9b147e397c1e4d5bba61d673ce"
    },
    "colab": {
      "name": "Data Exploration.ipynb",
      "provenance": []
    },
    "accelerator": "GPU"
  },
  "cells": [
    {
      "cell_type": "code",
      "metadata": {
        "id": "XiyyjlMt70dS",
        "colab": {
          "base_uri": "https://localhost:8080/"
        },
        "outputId": "8ef247e6-299b-447b-b514-4e04a02b555b"
      },
      "source": [
        "from google.colab import drive\n",
        "drive.mount('/content/drive')"
      ],
      "execution_count": 2,
      "outputs": [
        {
          "output_type": "stream",
          "text": [
            "Drive already mounted at /content/drive; to attempt to forcibly remount, call drive.mount(\"/content/drive\", force_remount=True).\n"
          ],
          "name": "stdout"
        }
      ]
    },
    {
      "cell_type": "code",
      "metadata": {
        "id": "wtn1pa_N7xfy"
      },
      "source": [
        "import numpy as np"
      ],
      "execution_count": 2,
      "outputs": []
    },
    {
      "cell_type": "code",
      "metadata": {
        "id": "Q5Yk4ti27xgt",
        "outputId": "48ab54fe-e1d6-4a69-fa39-31760c05aba3",
        "colab": {
          "base_uri": "https://localhost:8080/"
        }
      },
      "source": [
        "train_data = np.load('/content/drive/MyDrive/Colab Notebooks/data/train.npz')\n",
        "train_data.files"
      ],
      "execution_count": 3,
      "outputs": [
        {
          "output_type": "execute_result",
          "data": {
            "text/plain": [
              "['bands', 'lulc']"
            ]
          },
          "metadata": {
            "tags": []
          },
          "execution_count": 3
        }
      ]
    },
    {
      "cell_type": "markdown",
      "metadata": {
        "id": "NIcRRCSdHSnO"
      },
      "source": [
        "# Data Exploration"
      ]
    },
    {
      "cell_type": "markdown",
      "metadata": {
        "id": "ekxwooexHsvn"
      },
      "source": [
        "## lulc data\n",
        "The lulc data contains the labels for the patches in bands."
      ]
    },
    {
      "cell_type": "code",
      "metadata": {
        "id": "9X7z6CkE2EQc",
        "outputId": "f99b2ed4-c821-4801-de28-c55ebc9e506e",
        "colab": {
          "base_uri": "https://localhost:8080/"
        }
      },
      "source": [
        "train_data['lulc'].shape"
      ],
      "execution_count": 7,
      "outputs": [
        {
          "output_type": "execute_result",
          "data": {
            "text/plain": [
              "(10000,)"
            ]
          },
          "metadata": {
            "tags": []
          },
          "execution_count": 7
        }
      ]
    },
    {
      "cell_type": "code",
      "metadata": {
        "id": "HnSsoyTu8eQ7",
        "outputId": "13aff388-d3ce-490d-c4cd-a90286fd7081",
        "colab": {
          "base_uri": "https://localhost:8080/"
        }
      },
      "source": [
        "from scipy import stats\n",
        "print(stats.describe(train_data['lulc']))"
      ],
      "execution_count": 18,
      "outputs": [
        {
          "output_type": "stream",
          "text": [
            "DescribeResult(nobs=10000, minmax=(0, 9), mean=2.4703, variance=3.9713150415041514, skewness=1.9631090291531166, kurtosis=4.272985574774644)\n"
          ],
          "name": "stdout"
        }
      ]
    },
    {
      "cell_type": "code",
      "metadata": {
        "id": "n4C9obL06W3d",
        "outputId": "084ce3b5-44d5-4b7e-db96-fe0ff1a6c6cf",
        "colab": {
          "base_uri": "https://localhost:8080/",
          "height": 337
        }
      },
      "source": [
        "import matplotlib.pyplot as plt\n",
        "a = train_data['lulc']\n",
        "\n",
        "n, bins, patches = plt.hist(a, bins='auto')\n",
        "\n",
        "ticks = np.arange(10)\n",
        "labels = ['No Data', 'Cultivated Land', 'Forest', 'Grassland', 'Shrubland', 'Water', 'Wetlands', 'Tundra', 'Artificial Surface', 'Bareland']\n",
        "plt.xticks(ticks, labels, rotation=45)\n",
        "plt.title('Number of classes that occur')\n",
        "plt.show()"
      ],
      "execution_count": 46,
      "outputs": [
        {
          "output_type": "display_data",
          "data": {
            "image/png": "[encoded data removed]",
            "text/plain": [
              "<Figure size 432x288 with 1 Axes>"
            ]
          },
          "metadata": {
            "tags": [],
            "needs_background": "light"
          }
        }
      ]
    },
    {
      "cell_type": "markdown",
      "metadata": {
        "id": "kFXAML8wHuQk"
      },
      "source": [
        "## bands data\n",
        "The bands data contains the terain patches."
      ]
    },
    {
      "cell_type": "code",
      "metadata": {
        "id": "E4u-hOuVH3Ik",
        "outputId": "8fceb958-4d40-4676-9379-d04c45f0d4d7",
        "colab": {
          "base_uri": "https://localhost:8080/"
        }
      },
      "source": [
        "train_data['bands'].shape"
      ],
      "execution_count": 4,
      "outputs": [
        {
          "output_type": "execute_result",
          "data": {
            "text/plain": [
              "(10000, 12, 33, 33, 6)"
            ]
          },
          "metadata": {
            "tags": []
          },
          "execution_count": 4
        }
      ]
    },
    {
      "cell_type": "code",
      "metadata": {
        "id": "fQgdcHKSI6jJ",
        "outputId": "0aabd36d-a7c7-4686-bf75-2bb0f6815b20",
        "colab": {
          "base_uri": "https://localhost:8080/"
        }
      },
      "source": [
        "train_data['bands'][1][1]\n"
      ],
      "execution_count": 5,
      "outputs": [
        {
          "output_type": "execute_result",
          "data": {
            "text/plain": [
              "array([[[0.1006, 0.0666, 0.0501, 0.0929, 0.0818, 0.0478],\n",
              "        [0.1023, 0.0667, 0.0514, 0.0849, 0.0818, 0.0478],\n",
              "        [0.1033, 0.0704, 0.0568, 0.1061, 0.1009, 0.064 ],\n",
              "        ...,\n",
              "        [0.0984, 0.0636, 0.0471, 0.0748, 0.0767, 0.0449],\n",
              "        [0.0949, 0.0594, 0.0405, 0.0555, 0.0767, 0.0449],\n",
              "        [0.0935, 0.0569, 0.0383, 0.0414, 0.031 , 0.018 ]],\n",
              "\n",
              "       [[0.1014, 0.0674, 0.0525, 0.0939, 0.0918, 0.0548],\n",
              "        [0.1051, 0.0725, 0.0565, 0.1032, 0.0918, 0.0548],\n",
              "        [0.1062, 0.0743, 0.0635, 0.1207, 0.1419, 0.0925],\n",
              "        ...,\n",
              "        [0.097 , 0.0628, 0.0435, 0.06  , 0.056 , 0.0344],\n",
              "        [0.0947, 0.0598, 0.0386, 0.0474, 0.056 , 0.0344],\n",
              "        [0.0962, 0.0587, 0.0377, 0.0448, 0.0391, 0.0268]],\n",
              "\n",
              "       [[0.1034, 0.0661, 0.0507, 0.0799, 0.0918, 0.0548],\n",
              "        [0.1034, 0.0738, 0.0598, 0.1047, 0.0918, 0.0548],\n",
              "        [0.1068, 0.077 , 0.0675, 0.1277, 0.1419, 0.0925],\n",
              "        ...,\n",
              "        [0.0964, 0.0619, 0.0426, 0.0533, 0.056 , 0.0344],\n",
              "        [0.0972, 0.0622, 0.0431, 0.0575, 0.056 , 0.0344],\n",
              "        [0.1002, 0.0644, 0.0469, 0.0567, 0.0391, 0.0268]],\n",
              "\n",
              "       ...,\n",
              "\n",
              "       [[0.1068, 0.0775, 0.0691, 0.1408, 0.1415, 0.0905],\n",
              "        [0.106 , 0.0744, 0.0645, 0.1276, 0.1415, 0.0905],\n",
              "        [0.1083, 0.0769, 0.0686, 0.1353, 0.1509, 0.0997],\n",
              "        ...,\n",
              "        [0.0963, 0.0567, 0.0377, 0.0381, 0.023 , 0.0133],\n",
              "        [0.0952, 0.0568, 0.0377, 0.0319, 0.023 , 0.0133],\n",
              "        [0.0954, 0.0579, 0.0366, 0.0337, 0.0206, 0.0118]],\n",
              "\n",
              "       [[0.1085, 0.0771, 0.0686, 0.1498, 0.1548, 0.0941],\n",
              "        [0.1066, 0.074 , 0.0664, 0.1383, 0.1548, 0.0941],\n",
              "        [0.1105, 0.0745, 0.0692, 0.1369, 0.1573, 0.0971],\n",
              "        ...,\n",
              "        [0.0947, 0.0574, 0.0386, 0.0419, 0.0335, 0.0207],\n",
              "        [0.0948, 0.0579, 0.0398, 0.0397, 0.0335, 0.0207],\n",
              "        [0.0957, 0.0579, 0.0387, 0.0409, 0.0262, 0.0154]],\n",
              "\n",
              "       [[0.1071, 0.0778, 0.0724, 0.1541, 0.1548, 0.0941],\n",
              "        [0.1085, 0.0798, 0.072 , 0.1442, 0.1548, 0.0941],\n",
              "        [0.1089, 0.0763, 0.0686, 0.1345, 0.1573, 0.0971],\n",
              "        ...,\n",
              "        [0.0985, 0.0622, 0.0421, 0.051 , 0.0335, 0.0207],\n",
              "        [0.0996, 0.0614, 0.0438, 0.0538, 0.0335, 0.0207],\n",
              "        [0.0963, 0.0599, 0.0395, 0.0459, 0.0262, 0.0154]]], dtype=float32)"
            ]
          },
          "metadata": {
            "tags": []
          },
          "execution_count": 5
        }
      ]
    }
  ]
}