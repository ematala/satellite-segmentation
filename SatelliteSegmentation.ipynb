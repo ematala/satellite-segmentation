{
  "nbformat": 4,
  "nbformat_minor": 0,
  "metadata": {
    "colab": {
      "name": "SatelliteSegmentation.ipynb",
      "provenance": [],
      "collapsed_sections": [],
      "toc_visible": true,
      "include_colab_link": true
    },
    "kernelspec": {
      "name": "python3",
      "display_name": "Python 3"
    },
    "language_info": {
      "name": "python"
    }
  },
  "cells": [
    {
      "cell_type": "markdown",
      "metadata": {
        "id": "view-in-github",
        "colab_type": "text"
      },
      "source": [
        "<a href=\"https://colab.research.google.com/github/ematala/satellite-segmentation/blob/main/SatelliteSegmentation.ipynb\" target=\"_parent\"><img src=\"https://colab.research.google.com/assets/colab-badge.svg\" alt=\"Open In Colab\"/></a>"
      ]
    },
    {
      "cell_type": "markdown",
      "metadata": {
        "id": "5DUFGtqzj_sE"
      },
      "source": [
        "# Initialization"
      ]
    },
    {
      "cell_type": "markdown",
      "metadata": {
        "id": "zQL0lZGBxuyW"
      },
      "source": [
        "## Imports"
      ]
    },
    {
      "cell_type": "code",
      "metadata": {
        "id": "pnsVF2M3HntY"
      },
      "source": [
        "import os, datetime, math\n",
        "import numpy as np\n",
        "import tensorflow as tf\n",
        "import pandas as pd\n",
        "import matplotlib.pyplot as plt\n",
        "from sklearn.model_selection import train_test_split\n",
        "from sklearn.metrics import confusion_matrix, classification_report, accuracy_score, f1_score\n",
        "from seaborn import heatmap\n",
        "from sklearn.utils import class_weight\n",
        "from matplotlib import cm\n",
        "from matplotlib.patches import Patch"
      ],
      "execution_count": null,
      "outputs": []
    },
    {
      "cell_type": "code",
      "metadata": {
        "id": "EB6mmwlNycQ3"
      },
      "source": [
        "!pip install catboost\n",
        "from catboost import CatBoostClassifier"
      ],
      "execution_count": null,
      "outputs": []
    },
    {
      "cell_type": "code",
      "metadata": {
        "colab": {
          "base_uri": "https://localhost:8080/"
        },
        "id": "Ywi4y83jJBuZ",
        "outputId": "29338bc6-2ef2-40a2-e561-25c433868971"
      },
      "source": [
        "# only run on colab\n",
        "from google.colab import drive\n",
        "drive.mount('/content/drive')"
      ],
      "execution_count": null,
      "outputs": [
        {
          "output_type": "stream",
          "text": [
            "Drive already mounted at /content/drive; to attempt to forcibly remount, call drive.mount(\"/content/drive\", force_remount=True).\n"
          ],
          "name": "stdout"
        }
      ]
    },
    {
      "cell_type": "code",
      "metadata": {
        "id": "y0mQDVu7I_G0"
      },
      "source": [
        "%matplotlib inline"
      ],
      "execution_count": null,
      "outputs": []
    },
    {
      "cell_type": "markdown",
      "metadata": {
        "id": "6f6N2JObxxaJ"
      },
      "source": [
        "## Global parameters"
      ]
    },
    {
      "cell_type": "code",
      "metadata": {
        "id": "d503jZTWrPNw"
      },
      "source": [
        "# paths\n",
        "PATH = '/content/drive/MyDrive/Colab Notebooks/satellite-segmentation/data/'\n",
        "\n",
        "# use gpu if possible\n",
        "TASK = 'GPU' if tf.config.list_physical_devices('GPU') else 'CPU'\n",
        "\n",
        "# set the pixel to extract\n",
        "PIXEL_X = 16\n",
        "PIXEL_Y = 16\n",
        "\n",
        "# training iterations\n",
        "ITERS = 2000\n",
        "\n",
        "# random seed\n",
        "SEED = 42"
      ],
      "execution_count": null,
      "outputs": []
    },
    {
      "cell_type": "markdown",
      "metadata": {
        "id": "BdovbuYuygmp"
      },
      "source": [
        "## Load data"
      ]
    },
    {
      "cell_type": "code",
      "metadata": {
        "id": "D4K7sXzTJECf"
      },
      "source": [
        "data = np.load(f'{PATH}train.npz')['bands']\n",
        "labels = np.load(f'{PATH}train.npz')['lulc']\n",
        "\n",
        "test = np.load(f'{PATH}public_test.npz')['bands']\n",
        "\n",
        "classes = np.array(['No Data', 'Cultivated Land', 'Forest', 'Grassland', 'Shrubland', 'Water', 'Wetlands', 'Tundra', 'Artificial Surface', 'Bareland', 'Snow and Ice'])"
      ],
      "execution_count": null,
      "outputs": []
    },
    {
      "cell_type": "markdown",
      "metadata": {
        "id": "QRvfsX0lyowc"
      },
      "source": [
        "## Preprocessing"
      ]
    },
    {
      "cell_type": "code",
      "metadata": {
        "id": "do7rJ04HTaWY"
      },
      "source": [
        "def preprocess(x, y, labels=None):\n",
        "  x = x[y != 0, :, :, :, :] if labels == 'exclude_no_data' else x[y == 0, :, :, :, :] if labels == 'only_no_data' else x\n",
        "  y = y[y != 0] if labels == 'exclude_no_data' else y[y == 0] if labels == 'only_no_data' else y\n",
        "\n",
        "  x_train, x_val, y_train, y_val = train_test_split(x[:, :, PIXEL_X, PIXEL_Y, :].reshape((x.shape[0], x.shape[1] * x.shape[-1])), y, test_size=0.2, random_state=42, stratify = y)\n",
        "\n",
        "  return x_train, x_val, y_train, y_val"
      ],
      "execution_count": null,
      "outputs": []
    },
    {
      "cell_type": "markdown",
      "metadata": {
        "id": "vR06gYbwx2m6"
      },
      "source": [
        "## Exploratory Data Analysis?"
      ]
    },
    {
      "cell_type": "code",
      "metadata": {
        "colab": {
          "base_uri": "https://localhost:8080/",
          "height": 298
        },
        "id": "-Mp_CLtSKaNy",
        "outputId": "091d7923-7a1b-4450-89c0-329666d62fd3"
      },
      "source": [
        "plt.hist(labels, bins=list(range(len(classes) + 1)), width=0.5, align='mid')\n",
        "plt.xticks(ticks=[i + 0.25 for i in range(len(classes))], labels=classes, rotation=90)\n",
        "plt.tight_layout()\n",
        "plt.show()"
      ],
      "execution_count": null,
      "outputs": [
        {
          "output_type": "display_data",
          "data": {
            "image/png": "[encoded data removed]",
            "text/plain": [
              "<Figure size 432x288 with 1 Axes>"
            ]
          },
          "metadata": {
            "tags": [],
            "needs_background": "light"
          }
        }
      ]
    },
    {
      "cell_type": "markdown",
      "metadata": {
        "id": "au9CSzoSjcHP"
      },
      "source": [
        "# Semi-Supervised Learning"
      ]
    },
    {
      "cell_type": "markdown",
      "metadata": {
        "id": "mFmGTlQJ088h"
      },
      "source": [
        "## Training with only labelled data"
      ]
    },
    {
      "cell_type": "code",
      "metadata": {
        "colab": {
          "base_uri": "https://localhost:8080/",
          "height": 35
        },
        "id": "oLyCAVJDaq5v",
        "outputId": "b4c65c93-12ee-46f9-95e7-03a533db19e2"
      },
      "source": [
        "# use only labelled data for training\n",
        "x_train, x_val, y_train, y_val = preprocess(data, labels, 'exclude_no_data')\n",
        "f'train: {x_train.shape} {y_train.shape}, validation: {x_val.shape} {y_val.shape}'"
      ],
      "execution_count": null,
      "outputs": [
        {
          "output_type": "execute_result",
          "data": {
            "application/vnd.google.colaboratory.intrinsic+json": {
              "type": "string"
            },
            "text/plain": [
              "'train: (6953, 72) (6953,), validation: (1739, 72) (1739,)'"
            ]
          },
          "metadata": {
            "tags": []
          },
          "execution_count": 9
        }
      ]
    },
    {
      "cell_type": "code",
      "metadata": {
        "id": "YzMD6bJeeAxG"
      },
      "source": [
        "cbm = CatBoostClassifier(learning_rate=0.1, iterations=ITERS, random_seed=SEED, logging_level='Silent', task_type=TASK)\n",
        "# fit on labelled data\n",
        "cbm.fit(x_train, y_train)"
      ],
      "execution_count": null,
      "outputs": []
    },
    {
      "cell_type": "code",
      "metadata": {
        "id": "8Vz_x624ea6K"
      },
      "source": [
        "# evaluate the model\n",
        "cbm_train = cbm.predict(x_train).reshape(-1)\n",
        "cbm_val = cbm.predict(x_val).reshape(-1)\n",
        "\n",
        "print('Training\\n')\n",
        "print(f'Accuracy: {accuracy_score(y_train, cbm_train)*100}')\n",
        "print(f'F1-Score: {f1_score(y_train, cbm_train, average=None)*100}')\n",
        "print(classification_report(y_train, cbm_train))\n",
        "\n",
        "print('\\n')\n",
        "\n",
        "print('Validation\\n')\n",
        "print(f'Accuracy: {accuracy_score(y_val, cbm_val)*100}')\n",
        "print(f'F1-Score: {f1_score(y_val, cbm_val, average=None)*100}')\n",
        "print(classification_report(y_val, cbm_val))"
      ],
      "execution_count": null,
      "outputs": []
    },
    {
      "cell_type": "code",
      "metadata": {
        "id": "8LNSyGwKgK-5"
      },
      "source": [
        "# fit the model on full labelled data, i. e. combine the splits\n",
        "cbm.fit(np.concatenate((x_train, x_val)), np.concatenate((y_train, y_val)))"
      ],
      "execution_count": null,
      "outputs": []
    },
    {
      "cell_type": "markdown",
      "metadata": {
        "id": "H7H8TFJN1Jh5"
      },
      "source": [
        "## Predict labels for unlabelled data"
      ]
    },
    {
      "cell_type": "code",
      "metadata": {
        "id": "6lQqzqmAjAxa"
      },
      "source": [
        "# predict labels for unlabelled data\n",
        "unlabelled_data_transformed = data[labels == 0, :, PIXEL_X, PIXEL_Y, :].reshape((data.shape[0], data.shape[1] * data.shape[-1]))\n",
        "predicted_labels = cbm.predict(unlabelled_data_transformed).reshape(-1)"
      ],
      "execution_count": null,
      "outputs": []
    },
    {
      "cell_type": "code",
      "metadata": {
        "id": "cPDZ41RcnPM9"
      },
      "source": [
        "# train the model on labelled training instances and add predicted labels\n",
        "x_train = np.concatenate((x_train, unlabelled_data_transformed))\n",
        "y_train = np.concatenate((y_train, predicted_labels))\n",
        "cbm.fit(x_train, y_train)"
      ],
      "execution_count": null,
      "outputs": []
    },
    {
      "cell_type": "code",
      "metadata": {
        "id": "F4izrEagnf8g"
      },
      "source": [
        "# evaluate the model\n",
        "cbm_train = cbm.predict(x_train).reshape(-1)\n",
        "cbm_val = cbm.predict(x_val).reshape(-1)\n",
        "\n",
        "print('Training\\n')\n",
        "print(f'Accuracy: {accuracy_score(y_train, cbm_train)*100}')\n",
        "print(f'F1-Score: {f1_score(y_train, cbm_train, average=None)*100}')\n",
        "print(classification_report(y_train, cbm_train))\n",
        "\n",
        "print('\\n')\n",
        "\n",
        "print('Validation\\n')\n",
        "print(f'Accuracy: {accuracy_score(y_val, cbm_val)*100}')\n",
        "print(f'F1-Score: {f1_score(y_val, cbm_val, average=None)*100}')\n",
        "print(classification_report(y_val, cbm_val))"
      ],
      "execution_count": null,
      "outputs": []
    },
    {
      "cell_type": "code",
      "metadata": {
        "id": "KxRt-c5R6Kw5"
      },
      "source": [
        "# confusion matrix\n",
        "preds = cbm_val\n",
        "preds_df = pd.DataFrame({'true':y_val, 'preds':preds})\n",
        "conf_df = pd.DataFrame(confusion_matrix(preds_df['true'], preds_df['preds']), index=classes[np.unique(preds)], columns=classes[np.unique(preds)])\n",
        "heatmap(conf_df, annot=True, fmt='d', cbar=False)\n",
        "\n",
        "plt.tight_layout()\n",
        "plt.show()"
      ],
      "execution_count": null,
      "outputs": []
    },
    {
      "cell_type": "markdown",
      "metadata": {
        "id": "P4mK-90o1TjI"
      },
      "source": [
        "## Full fit with only labelled data"
      ]
    },
    {
      "cell_type": "code",
      "metadata": {
        "id": "slMRdUEso2n7"
      },
      "source": [
        "# final step: fit the model on all labelled data\n",
        "labelled_data_transformed = data[labels != 0, :, PIXEL_X, PIXEL_Y, :].reshape((data.shape[0], data.shape[1] * data.shape[-1]))\n",
        "labelled_data_labels = labels[labels != 0]\n",
        "cbm.fit(labelled_data_transformed, labelled_data_labels)"
      ],
      "execution_count": null,
      "outputs": []
    },
    {
      "cell_type": "markdown",
      "metadata": {
        "id": "kqE-OXgP1fhm"
      },
      "source": [
        "## Full prediction of labels"
      ]
    },
    {
      "cell_type": "code",
      "metadata": {
        "id": "ccg66WIzrgfu"
      },
      "source": [
        "# predict labels for unlabelled data\n",
        "unlabelled_data_transformed = data[labels == 0, :, PIXEL_X, PIXEL_Y, :].reshape((data.shape[0], data.shape[1] * data.shape[-1]))\n",
        "predicted_labels = cbm.predict(unlabelled_data_transformed).reshape(-1)\n",
        "\n",
        "# overwrite existing labels without label\n",
        "new_labels = labels.copy()\n",
        "new_labels[labels == 0] = predicted_labels"
      ],
      "execution_count": null,
      "outputs": []
    },
    {
      "cell_type": "markdown",
      "metadata": {
        "id": "wwwm78HZ1lOf"
      },
      "source": [
        "## Fit final model on full data"
      ]
    },
    {
      "cell_type": "code",
      "metadata": {
        "id": "6ydh6-Z_sGPA"
      },
      "source": [
        "# fit model with full data\n",
        "full_data_transformed = data[:, :, PIXEL_X, PIXEL_Y, :].reshape((data.shape[0], data.shape[1] * data.shape[-1]))\n",
        "cbm.fit(full_data_transformed, new_labels)"
      ],
      "execution_count": null,
      "outputs": []
    },
    {
      "cell_type": "markdown",
      "metadata": {
        "id": "9HaHlmspTLNP"
      },
      "source": [
        "# Results"
      ]
    },
    {
      "cell_type": "markdown",
      "metadata": {
        "id": "3Yl0m4YgyTl9"
      },
      "source": [
        "## Metrics"
      ]
    },
    {
      "cell_type": "markdown",
      "metadata": {
        "id": "KJPTn3GGxjvv"
      },
      "source": [
        "## Visualization"
      ]
    },
    {
      "cell_type": "code",
      "metadata": {
        "id": "uldpZSxsj_ca"
      },
      "source": [
        "test_transformed = []\n",
        "for i in range(500):\n",
        "  for j in range(500):\n",
        "    pixel = test[:, i, j, :].reshape((72,))\n",
        "    test_transformed.append(pixel)\n",
        "\n",
        "test_transformed = np.array(test_transformed)\n",
        "\n",
        "pred = cbm.predict(test_transformed).reshape((500, 500))"
      ],
      "execution_count": null,
      "outputs": []
    },
    {
      "cell_type": "code",
      "metadata": {
        "id": "BGWPLjB8xl3_"
      },
      "source": [
        "# plot image and predicted labels\n",
        "month = 3\n",
        "\n",
        "f, (sat, lulc) = plt.subplots(1, 2, figsize=(20,10), dpi=96, tight_layout=True)\n",
        "\n",
        "band = 0.5 + 2.5 * (np.flip(test[month, :, :, :3], -1) + .3 - 0.5)\n",
        "sat.imshow(band, cmap='gray')\n",
        "sat.set_title(f'Test image\\nSize: 500 x 500\\nMonth: {month}')\n",
        "\n",
        "im = lulc.imshow(pred)\n",
        "colors = [im.cmap(im.norm(value)) for value in np.unique(pred).astype(int)]\n",
        "portions = np.array([round(x, 2) for x in np.histogram(pred, bins=range(len(classes)))[0] / pred.shape[0] ** 2 * 100])[np.unique(pred).astype(int)]\n",
        "patches = [Patch(color=colors[i], label=f'{portions[i]}% {classes[np.unique(pred).astype(int)[i]]}') for i in range(len(np.unique(pred).astype(int)))]\n",
        "\n",
        "lulc.legend(handles=patches, bbox_to_anchor=(1.05, 1), loc=2, borderaxespad=0. )\n",
        "lulc.set_title(f'Model: CatBoostClassifier \\n Iterations: {ITERS}\\nValidation accuracy: {accuracy_score(y_val, cbm_val)*100}%')\n",
        "\n",
        "plt.show()"
      ],
      "execution_count": null,
      "outputs": []
    },
    {
      "cell_type": "markdown",
      "metadata": {
        "id": "Ew_iTKUryJni"
      },
      "source": [
        "## Export"
      ]
    },
    {
      "cell_type": "code",
      "metadata": {
        "id": "5f4m3TQQ8Id4"
      },
      "source": [
        "# save plot, model and predictions\n",
        "f.savefig(f'{PATH}plot.png')\n",
        "np.save(f'{PATH}predictions.npy', pred)\n",
        "cbm.save_model(f'{PATH}model')"
      ],
      "execution_count": null,
      "outputs": []
    }
  ]
}