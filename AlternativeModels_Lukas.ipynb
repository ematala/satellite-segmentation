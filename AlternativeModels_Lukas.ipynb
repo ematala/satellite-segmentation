{
  "nbformat": 4,
  "nbformat_minor": 0,
  "metadata": {
    "language_info": {
      "codemirror_mode": {
        "name": "ipython",
        "version": 3
      },
      "file_extension": ".py",
      "mimetype": "text/x-python",
      "name": "python",
      "nbconvert_exporter": "python",
      "pygments_lexer": "ipython3",
      "version": "3.9.0"
    },
    "orig_nbformat": 4,
    "kernelspec": {
      "name": "python3",
      "display_name": "Python 3.9.0 64-bit ('.venv')"
    },
    "interpreter": {
      "hash": "97a6cc46bd9fda46ba14a7852b39713e156f1e9b147e397c1e4d5bba61d673ce"
    },
    "colab": {
      "name": "Data Exploration.ipynb",
      "provenance": [],
      "include_colab_link": true
    },
    "accelerator": "GPU"
  },
  "cells": [
    {
      "cell_type": "markdown",
      "metadata": {
        "id": "view-in-github",
        "colab_type": "text"
      },
      "source": [
        "<a href=\"https://colab.research.google.com/github/ematala/satellite-segmentation/blob/main/AlternativeModels_Lukas.ipynb\" target=\"_parent\"><img src=\"https://colab.research.google.com/assets/colab-badge.svg\" alt=\"Open In Colab\"/></a>"
      ]
    },
    {
      "cell_type": "code",
      "metadata": {
        "id": "wtn1pa_N7xfy"
      },
      "source": [
        "import tensorflow as tf\n",
        "from tensorflow import keras\n",
        "import numpy as np\n",
        "import pandas as pd\n",
        "import os\n",
        "import datetime\n",
        "import sklearn\n",
        "import matplotlib.pyplot as plt\n",
        "import math\n",
        "from google.colab import drive"
      ],
      "execution_count": 14,
      "outputs": []
    },
    {
      "cell_type": "code",
      "metadata": {
        "id": "XiyyjlMt70dS",
        "colab": {
          "base_uri": "https://localhost:8080/"
        },
        "outputId": "b15d53d6-04e7-4096-dce7-30c376ca6c70"
      },
      "source": [
        "drive.mount('/content/drive')\n",
        "data = np.load('/content/drive/MyDrive/Colab Notebooks/Data/train.npz')\n"
      ],
      "execution_count": 15,
      "outputs": [
        {
          "output_type": "stream",
          "text": [
            "Drive already mounted at /content/drive; to attempt to forcibly remount, call drive.mount(\"/content/drive\", force_remount=True).\n"
          ],
          "name": "stdout"
        }
      ]
    },
    {
      "cell_type": "code",
      "metadata": {
        "id": "Q5Yk4ti27xgt"
      },
      "source": [
        "# separate bands and labels:\n",
        "train_data = data['bands']\n",
        "labels = data['lulc']"
      ],
      "execution_count": 16,
      "outputs": []
    },
    {
      "cell_type": "code",
      "metadata": {
        "id": "lPqTR6wS4UGs",
        "outputId": "47f4c9b7-eb3f-4698-b5fe-f191b3ca21fa",
        "colab": {
          "base_uri": "https://localhost:8080/"
        }
      },
      "source": [
        "train_data.shape"
      ],
      "execution_count": 17,
      "outputs": [
        {
          "output_type": "execute_result",
          "data": {
            "text/plain": [
              "(10000, 12, 33, 33, 6)"
            ]
          },
          "metadata": {
            "tags": []
          },
          "execution_count": 17
        }
      ]
    },
    {
      "cell_type": "markdown",
      "metadata": {
        "id": "KkvbIDnnYfZz"
      },
      "source": [
        " Data visualization\n"
      ]
    },
    {
      "cell_type": "code",
      "metadata": {
        "id": "2prbs3EFW3cs"
      },
      "source": [
        "# add class labels manually\n",
        "classes = np.array(['No Data', 'Cultivated Land', 'Forest', 'Grassland', 'Shrubland', 'Water', 'Wetlands', 'Tundra', 'Artificial Surface', 'Bareland', 'Snow and Ice'])"
      ],
      "execution_count": 18,
      "outputs": []
    },
    {
      "cell_type": "code",
      "metadata": {
        "id": "ePHxowaF7xgu",
        "colab": {
          "base_uri": "https://localhost:8080/"
        },
        "outputId": "9ac4871e-f97e-4727-96b6-83f7867fc860"
      },
      "source": [
        "np.histogram(labels, bins=list(range(len(classes) + 1)))"
      ],
      "execution_count": 19,
      "outputs": [
        {
          "output_type": "execute_result",
          "data": {
            "text/plain": [
              "(array([1308,  238, 5796, 1125,  770,   58,    0,    0,  217,  488,    0]),\n",
              " array([ 0,  1,  2,  3,  4,  5,  6,  7,  8,  9, 10, 11]))"
            ]
          },
          "metadata": {
            "tags": []
          },
          "execution_count": 19
        }
      ]
    },
    {
      "cell_type": "code",
      "metadata": {
        "id": "HnSsoyTu8eQ7",
        "outputId": "ceebaa96-05b7-4685-dc86-bd4f621a1cb6",
        "colab": {
          "base_uri": "https://localhost:8080/",
          "height": 298
        }
      },
      "source": [
        "plt.hist(labels, bins=list(range(len(classes) + 1)))\n",
        "plt.xticks(ticks=list(map(lambda x: x+0.5, list(range(len(classes))))), labels=classes, rotation=90)\n",
        "plt.tight_layout()\n",
        "plt.show()"
      ],
      "execution_count": 20,
      "outputs": [
        {
          "output_type": "display_data",
          "data": {
            "image/png": "[encoded data removed]",
            "text/plain": [
              "<Figure size 432x288 with 1 Axes>"
            ]
          },
          "metadata": {
            "tags": [],
            "needs_background": "light"
          }
        }
      ]
    },
    {
      "cell_type": "markdown",
      "metadata": {
        "id": "n4ewDeBTaMUc"
      },
      "source": [
        "## First experiment"
      ]
    },
    {
      "cell_type": "code",
      "metadata": {
        "id": "0XXjJYTZaEPg",
        "colab": {
          "base_uri": "https://localhost:8080/"
        },
        "outputId": "14807216-7ac5-45d1-ad30-920f871bc87a"
      },
      "source": [
        "from tensorflow.keras.layers import InputLayer, Dense, Flatten, Conv2D, MaxPool2D, ReLU, BatchNormalization, GlobalAveragePooling2D, Dropout\n",
        "\n",
        "firstModel = keras.Sequential()\n",
        "\n",
        "firstModel.add(keras.layers.Conv3D(64, 3, input_shape=(12,33,33, 6), padding=\"same\", activation=\"relu\"))\n",
        "firstModel.add(keras.layers.Conv3D(64, 3, padding=\"same\", activation=\"relu\"))\n",
        "firstModel.add(keras.layers.MaxPool3D())\n",
        "firstModel.add(keras.layers.Conv3D(128, 3, padding=\"same\", activation=\"relu\"))\n",
        "firstModel.add(keras.layers.Conv3D(128, 3, padding=\"same\", activation=\"relu\"))\n",
        "firstModel.add(keras.layers.MaxPool3D())\n",
        "firstModel.add(keras.layers.Conv3D(256, 3, padding=\"same\", activation=\"relu\"))\n",
        "firstModel.add(keras.layers.Conv3D(256, 3, padding=\"same\", activation=\"relu\"))\n",
        "firstModel.add(keras.layers.Conv3D(256, 3, padding=\"same\", activation=\"relu\"))\n",
        "firstModel.add(keras.layers.MaxPool3D())\n",
        "firstModel.add(keras.layers.Conv3D(512, 3, padding=\"same\", activation=\"relu\"))\n",
        "firstModel.add(keras.layers.Conv3D(512, 3, padding=\"same\", activation=\"relu\"))\n",
        "firstModel.add(keras.layers.Conv3D(512, 3, padding=\"same\", activation=\"relu\"))\n",
        "firstModel.add(keras.layers.MaxPool3D(pool_size=(1,4,4)))\n",
        "firstModel.add(keras.layers.Dense(4096, activation=\"relu\"))\n",
        "firstModel.add(keras.layers.Dense(4096, activation=\"relu\"))\n",
        "firstModel.add(keras.layers.Dense(1000, activation=\"relu\"))\n",
        "firstModel.add(keras.layers.Dense(11, activation=\"softmax\"))\n",
        "\n",
        "firstModel.compile(\n",
        "  'Adam',\n",
        "  loss='sparse_categorical_crossentropy',\n",
        "  metrics=['accuracy'],\n",
        ")\n",
        "\n",
        "firstModel.summary()"
      ],
      "execution_count": null,
      "outputs": [
        {
          "output_type": "stream",
          "text": [
            "Model: \"sequential_3\"\n",
            "_________________________________________________________________\n",
            "Layer (type)                 Output Shape              Param #   \n",
            "=================================================================\n",
            "conv3d_13 (Conv3D)           (None, 12, 33, 33, 64)    10432     \n",
            "_________________________________________________________________\n",
            "conv3d_14 (Conv3D)           (None, 12, 33, 33, 64)    110656    \n",
            "_________________________________________________________________\n",
            "max_pooling3d_5 (MaxPooling3 (None, 6, 16, 16, 64)     0         \n",
            "_________________________________________________________________\n",
            "conv3d_15 (Conv3D)           (None, 6, 16, 16, 128)    221312    \n",
            "_________________________________________________________________\n",
            "conv3d_16 (Conv3D)           (None, 6, 16, 16, 128)    442496    \n",
            "_________________________________________________________________\n",
            "max_pooling3d_6 (MaxPooling3 (None, 3, 8, 8, 128)      0         \n",
            "_________________________________________________________________\n",
            "conv3d_17 (Conv3D)           (None, 3, 8, 8, 256)      884992    \n",
            "_________________________________________________________________\n",
            "conv3d_18 (Conv3D)           (None, 3, 8, 8, 256)      1769728   \n",
            "_________________________________________________________________\n",
            "conv3d_19 (Conv3D)           (None, 3, 8, 8, 256)      1769728   \n",
            "_________________________________________________________________\n",
            "max_pooling3d_7 (MaxPooling3 (None, 1, 4, 4, 256)      0         \n",
            "_________________________________________________________________\n",
            "conv3d_20 (Conv3D)           (None, 1, 4, 4, 512)      3539456   \n",
            "_________________________________________________________________\n",
            "conv3d_21 (Conv3D)           (None, 1, 4, 4, 512)      7078400   \n",
            "_________________________________________________________________\n",
            "conv3d_22 (Conv3D)           (None, 1, 4, 4, 512)      7078400   \n",
            "_________________________________________________________________\n",
            "max_pooling3d_8 (MaxPooling3 (None, 1, 1, 1, 512)      0         \n",
            "_________________________________________________________________\n",
            "dense_4 (Dense)              (None, 1, 1, 1, 4096)     2101248   \n",
            "_________________________________________________________________\n",
            "dense_5 (Dense)              (None, 1, 1, 1, 4096)     16781312  \n",
            "_________________________________________________________________\n",
            "dense_6 (Dense)              (None, 1, 1, 1, 1000)     4097000   \n",
            "_________________________________________________________________\n",
            "dense_7 (Dense)              (None, 1, 1, 1, 11)       11011     \n",
            "=================================================================\n",
            "Total params: 45,896,171\n",
            "Trainable params: 45,896,171\n",
            "Non-trainable params: 0\n",
            "_________________________________________________________________\n"
          ],
          "name": "stdout"
        }
      ]
    },
    {
      "cell_type": "code",
      "metadata": {
        "id": "WqM_7APqm_1T",
        "colab": {
          "base_uri": "https://localhost:8080/"
        },
        "outputId": "051ccad1-46c7-49ec-acda-eef2a5247f00"
      },
      "source": [
        "history = firstModel.fit(train_data[:,2,:,:,:], labels, batch_size=32, validation_split=0.1, validation_batch_size=8, epochs=5)"
      ],
      "execution_count": null,
      "outputs": [
        {
          "output_type": "stream",
          "text": [
            "Epoch 1/5\n",
            "282/282 [==============================] - 99s 352ms/step - loss: 1.3781 - accuracy: 0.5843 - val_loss: 1.3982 - val_accuracy: 0.5380\n",
            "Epoch 2/5\n",
            "282/282 [==============================] - 100s 353ms/step - loss: 1.3769 - accuracy: 0.5843 - val_loss: 1.3970 - val_accuracy: 0.5380\n",
            "Epoch 3/5\n",
            "282/282 [==============================] - 95s 337ms/step - loss: 1.3785 - accuracy: 0.5841 - val_loss: 1.3991 - val_accuracy: 0.5380\n",
            "Epoch 4/5\n",
            "282/282 [==============================] - 100s 353ms/step - loss: 1.3773 - accuracy: 0.5844 - val_loss: 1.4040 - val_accuracy: 0.5380\n",
            "Epoch 5/5\n",
            "282/282 [==============================] - 100s 353ms/step - loss: 1.3774 - accuracy: 0.5841 - val_loss: 1.3830 - val_accuracy: 0.5380\n"
          ],
          "name": "stdout"
        }
      ]
    },
    {
      "cell_type": "code",
      "metadata": {
        "id": "H9IY3Lvy91ae",
        "colab": {
          "base_uri": "https://localhost:8080/"
        },
        "outputId": "fe2fc341-af3e-480f-d160-52906ce0c13f"
      },
      "source": [
        "# This model is similar to the VGGNets\n",
        "from tensorflow.keras.layers import InputLayer, Dense, Flatten, Conv2D, MaxPool2D, ReLU, BatchNormalization, GlobalAveragePooling2D, Dropout\n",
        "from tensorflow.keras import models, layers\n",
        "\n",
        "model = models.Sequential()\n",
        "\n",
        "model.add(layers.Conv2D(filters=64, kernel_size=(3, 3), padding='same', activation=None, input_shape=(33,33,6)))\n",
        "model.add(layers.BatchNormalization())\n",
        "model.add(layers.ReLU()) \n",
        "model.add(layers.Conv2D(filters=64, kernel_size=(3, 3), padding='same', activation=None))\n",
        "model.add(layers.BatchNormalization())\n",
        "model.add(layers.ReLU()) \n",
        "model.add(layers.MaxPooling2D(pool_size=(2, 2), strides=(2, 2)))\n",
        "\n",
        "model.add(layers.Conv2D(filters=128, kernel_size=(3, 3), padding='same', activation=None))\n",
        "model.add(layers.BatchNormalization())\n",
        "model.add(layers.ReLU())\n",
        "model.add(layers.Conv2D(filters=128, kernel_size=(3, 3), padding='same', activation=None))\n",
        "model.add(layers.BatchNormalization())\n",
        "model.add(layers.ReLU()) \n",
        "model.add(layers.MaxPooling2D(pool_size=(2, 2), strides=(2, 2)))\n",
        "\n",
        "model.add(layers.Conv2D(filters=256, kernel_size=(3, 3), padding='same', activation=None))\n",
        "model.add(layers.BatchNormalization())\n",
        "model.add(layers.ReLU())\n",
        "model.add(layers.Conv2D(filters=256, kernel_size=(3, 3), padding='same', activation=None))\n",
        "model.add(layers.BatchNormalization())\n",
        "model.add(layers.ReLU()) \n",
        "model.add(layers.Conv2D(filters=256, kernel_size=(3, 3), padding='same', activation=None))\n",
        "model.add(layers.BatchNormalization())\n",
        "model.add(layers.ReLU()) \n",
        "model.add(layers.GlobalAveragePooling2D())\n",
        "\n",
        "model.add(layers.Dropout(0.4))\n",
        "model.add(layers.Dense(units=11, activation = 'softmax'))\n",
        "model.summary()\n",
        "\n",
        "model.compile(\n",
        "  'Adam',\n",
        "  loss='sparse_categorical_crossentropy',\n",
        "  metrics=['accuracy'],\n",
        ")\n"
      ],
      "execution_count": null,
      "outputs": [
        {
          "output_type": "stream",
          "text": [
            "Model: \"sequential_6\"\n",
            "_________________________________________________________________\n",
            "Layer (type)                 Output Shape              Param #   \n",
            "=================================================================\n",
            "conv2d_14 (Conv2D)           (None, 33, 33, 64)        3520      \n",
            "_________________________________________________________________\n",
            "batch_normalization_14 (Batc (None, 33, 33, 64)        256       \n",
            "_________________________________________________________________\n",
            "re_lu_14 (ReLU)              (None, 33, 33, 64)        0         \n",
            "_________________________________________________________________\n",
            "conv2d_15 (Conv2D)           (None, 33, 33, 64)        36928     \n",
            "_________________________________________________________________\n",
            "batch_normalization_15 (Batc (None, 33, 33, 64)        256       \n",
            "_________________________________________________________________\n",
            "re_lu_15 (ReLU)              (None, 33, 33, 64)        0         \n",
            "_________________________________________________________________\n",
            "max_pooling2d_4 (MaxPooling2 (None, 16, 16, 64)        0         \n",
            "_________________________________________________________________\n",
            "conv2d_16 (Conv2D)           (None, 16, 16, 128)       73856     \n",
            "_________________________________________________________________\n",
            "batch_normalization_16 (Batc (None, 16, 16, 128)       512       \n",
            "_________________________________________________________________\n",
            "re_lu_16 (ReLU)              (None, 16, 16, 128)       0         \n",
            "_________________________________________________________________\n",
            "conv2d_17 (Conv2D)           (None, 16, 16, 128)       147584    \n",
            "_________________________________________________________________\n",
            "batch_normalization_17 (Batc (None, 16, 16, 128)       512       \n",
            "_________________________________________________________________\n",
            "re_lu_17 (ReLU)              (None, 16, 16, 128)       0         \n",
            "_________________________________________________________________\n",
            "max_pooling2d_5 (MaxPooling2 (None, 8, 8, 128)         0         \n",
            "_________________________________________________________________\n",
            "conv2d_18 (Conv2D)           (None, 8, 8, 256)         295168    \n",
            "_________________________________________________________________\n",
            "batch_normalization_18 (Batc (None, 8, 8, 256)         1024      \n",
            "_________________________________________________________________\n",
            "re_lu_18 (ReLU)              (None, 8, 8, 256)         0         \n",
            "_________________________________________________________________\n",
            "conv2d_19 (Conv2D)           (None, 8, 8, 256)         590080    \n",
            "_________________________________________________________________\n",
            "batch_normalization_19 (Batc (None, 8, 8, 256)         1024      \n",
            "_________________________________________________________________\n",
            "re_lu_19 (ReLU)              (None, 8, 8, 256)         0         \n",
            "_________________________________________________________________\n",
            "conv2d_20 (Conv2D)           (None, 8, 8, 256)         590080    \n",
            "_________________________________________________________________\n",
            "batch_normalization_20 (Batc (None, 8, 8, 256)         1024      \n",
            "_________________________________________________________________\n",
            "re_lu_20 (ReLU)              (None, 8, 8, 256)         0         \n",
            "_________________________________________________________________\n",
            "global_average_pooling2d_2 ( (None, 256)               0         \n",
            "_________________________________________________________________\n",
            "dropout_2 (Dropout)          (None, 256)               0         \n",
            "_________________________________________________________________\n",
            "dense_10 (Dense)             (None, 11)                2827      \n",
            "=================================================================\n",
            "Total params: 1,744,651\n",
            "Trainable params: 1,742,347\n",
            "Non-trainable params: 2,304\n",
            "_________________________________________________________________\n"
          ],
          "name": "stdout"
        }
      ]
    },
    {
      "cell_type": "code",
      "metadata": {
        "id": "INSa6jRU-jWw"
      },
      "source": [
        "history2 = model.fit(train_data[:,2,:,:,:], labels, batch_size=32, validation_split=0.1, validation_batch_size=8, epochs=100)"
      ],
      "execution_count": null,
      "outputs": []
    },
    {
      "cell_type": "code",
      "metadata": {
        "id": "BJPi15UBzQPV",
        "colab": {
          "base_uri": "https://localhost:8080/",
          "height": 320
        },
        "outputId": "4d4529e7-30c4-45df-e821-2476c1e62a89"
      },
      "source": [
        "import pandas as pd\n",
        "\n",
        "df = pd.DataFrame(history2.history).plot(figsize=(8, 5))\n",
        "df.plot(figsize=(8,5))\n",
        "plt.grid(True)\n",
        "plt.show()"
      ],
      "execution_count": null,
      "outputs": [
        {
          "output_type": "display_data",
          "data": {
            "image/png": "[encoded data removed]",
            "text/plain": [
              "<Figure size 576x360 with 1 Axes>"
            ]
          },
          "metadata": {
            "tags": [],
            "needs_background": "light"
          }
        }
      ]
    },
    {
      "cell_type": "code",
      "metadata": {
        "id": "W7jonks15YZ_"
      },
      "source": [
        "  import sys\n",
        "  np.set_printoptions(threshold=sys.maxsize)"
      ],
      "execution_count": null,
      "outputs": []
    },
    {
      "cell_type": "code",
      "metadata": {
        "id": "wNt4JklbydgA"
      },
      "source": [
        "predictions = model.predict(train_data[:,2,:,:,:]).reshape((10000,11))"
      ],
      "execution_count": null,
      "outputs": []
    },
    {
      "cell_type": "code",
      "metadata": {
        "id": "S9Gsn_Y_6apK"
      },
      "source": [
        "indexes = tf.argmax(predictions, axis=1)\n",
        "print(indexes) # prints [0 2 2]"
      ],
      "execution_count": null,
      "outputs": []
    },
    {
      "cell_type": "code",
      "metadata": {
        "id": "IyBdTV8E_xlx",
        "colab": {
          "base_uri": "https://localhost:8080/"
        },
        "outputId": "084659e0-c05b-4045-a6b0-140f5bbba993"
      },
      "source": [
        "# plot histogram:\n",
        "np.histogram(indexes, bins=list(range(len(classes))))"
      ],
      "execution_count": null,
      "outputs": [
        {
          "output_type": "execute_result",
          "data": {
            "text/plain": [
              "(array([ 254,    1, 8791,  139,  392,    4,    0,    0,    0,  419]),\n",
              " array([ 0,  1,  2,  3,  4,  5,  6,  7,  8,  9, 10]))"
            ]
          },
          "metadata": {
            "tags": []
          },
          "execution_count": 47
        }
      ]
    },
    {
      "cell_type": "code",
      "metadata": {
        "id": "fdJWi98nz6LY"
      },
      "source": [
        "from matplotlib import pyplot\n",
        "pyplot.imshow(train_data[1,:,:,0:3])\n",
        "# show the figure\n",
        "pyplot.show()"
      ],
      "execution_count": null,
      "outputs": []
    },
    {
      "cell_type": "markdown",
      "metadata": {
        "id": "_iW3_w-n6F-O"
      },
      "source": [
        ""
      ]
    },
    {
      "cell_type": "markdown",
      "metadata": {
        "id": "NnE2UcKr6Klh"
      },
      "source": [
        "## Third experiment"
      ]
    },
    {
      "cell_type": "code",
      "metadata": {
        "id": "_QM-bVAL6FJh",
        "outputId": "d0d9bd56-3140-4fba-eac0-f6a5cb6352e7",
        "colab": {
          "base_uri": "https://localhost:8080/"
        }
      },
      "source": [
        "# This model is similar to the VGGNets\n",
        "from tensorflow.keras.layers import InputLayer, Dense, Flatten, Conv2D, MaxPool2D, MaxPool3D, ReLU, BatchNormalization, GlobalAveragePooling2D, Dropout\n",
        "from tensorflow.keras import models, layers\n",
        "\n",
        "model3 = models.Sequential()\n",
        "\n",
        "model3.add(layers.Conv2D(filters=64, kernel_size=(3, 3), padding='same', activation=None, input_shape=(33,33,6)))\n",
        "model3.add(layers.BatchNormalization())\n",
        "model3.add(layers.ReLU()) \n",
        "model3.add(layers.Conv2D(filters=64, kernel_size=(3, 3), padding='same', activation=None))\n",
        "model3.add(layers.BatchNormalization())\n",
        "model3.add(layers.ReLU()) \n",
        "model3.add(layers.MaxPooling2D(pool_size=(2, 2), strides=(2, 2)))\n",
        "\n",
        "model3.add(layers.GlobalAveragePooling2D())\n",
        "\n",
        "model3.add(layers.Dropout(0.4))\n",
        "model3.add(layers.Dense(units=11, activation = 'softmax'))\n",
        "model3.summary()\n",
        "\n",
        "model3.compile(\n",
        "  'Adam',\n",
        "  loss='sparse_categorical_crossentropy',\n",
        "  metrics=['accuracy'],\n",
        ")"
      ],
      "execution_count": 24,
      "outputs": [
        {
          "output_type": "stream",
          "text": [
            "Model: \"sequential_4\"\n",
            "_________________________________________________________________\n",
            "Layer (type)                 Output Shape              Param #   \n",
            "=================================================================\n",
            "conv2d_8 (Conv2D)            (None, 33, 33, 64)        3520      \n",
            "_________________________________________________________________\n",
            "batch_normalization_8 (Batch (None, 33, 33, 64)        256       \n",
            "_________________________________________________________________\n",
            "re_lu_8 (ReLU)               (None, 33, 33, 64)        0         \n",
            "_________________________________________________________________\n",
            "conv2d_9 (Conv2D)            (None, 33, 33, 64)        36928     \n",
            "_________________________________________________________________\n",
            "batch_normalization_9 (Batch (None, 33, 33, 64)        256       \n",
            "_________________________________________________________________\n",
            "re_lu_9 (ReLU)               (None, 33, 33, 64)        0         \n",
            "_________________________________________________________________\n",
            "max_pooling2d_3 (MaxPooling2 (None, 16, 16, 64)        0         \n",
            "_________________________________________________________________\n",
            "global_average_pooling2d_1 ( (None, 64)                0         \n",
            "_________________________________________________________________\n",
            "dropout_1 (Dropout)          (None, 64)                0         \n",
            "_________________________________________________________________\n",
            "dense_1 (Dense)              (None, 11)                715       \n",
            "=================================================================\n",
            "Total params: 41,675\n",
            "Trainable params: 41,419\n",
            "Non-trainable params: 256\n",
            "_________________________________________________________________\n"
          ],
          "name": "stdout"
        }
      ]
    },
    {
      "cell_type": "code",
      "metadata": {
        "id": "XCCmK_W3BFtg",
        "outputId": "2a29bf96-7aea-4293-974e-42252b7bff67",
        "colab": {
          "base_uri": "https://localhost:8080/"
        }
      },
      "source": [
        "history3 = model3.fit(train_data[:,6,:,:,:], labels, batch_size=32, validation_split=0.1, validation_batch_size=8, epochs=100)"
      ],
      "execution_count": 25,
      "outputs": [
        {
          "output_type": "stream",
          "text": [
            "Epoch 1/100\n",
            "282/282 [==============================] - 34s 9ms/step - loss: 1.2819 - accuracy: 0.5917 - val_loss: 1.4562 - val_accuracy: 0.5370\n",
            "Epoch 2/100\n",
            "282/282 [==============================] - 2s 7ms/step - loss: 1.1152 - accuracy: 0.6150 - val_loss: 1.2381 - val_accuracy: 0.6150\n",
            "Epoch 3/100\n",
            "282/282 [==============================] - 2s 7ms/step - loss: 1.0663 - accuracy: 0.6246 - val_loss: 1.5144 - val_accuracy: 0.5000\n",
            "Epoch 4/100\n",
            "282/282 [==============================] - 2s 7ms/step - loss: 1.0336 - accuracy: 0.6306 - val_loss: 1.2258 - val_accuracy: 0.5970\n",
            "Epoch 5/100\n",
            "282/282 [==============================] - 2s 8ms/step - loss: 1.0171 - accuracy: 0.6371 - val_loss: 2.7932 - val_accuracy: 0.1900\n",
            "Epoch 6/100\n",
            "282/282 [==============================] - 2s 7ms/step - loss: 0.9968 - accuracy: 0.6400 - val_loss: 1.4903 - val_accuracy: 0.1710\n",
            "Epoch 7/100\n",
            "282/282 [==============================] - 2s 7ms/step - loss: 0.9821 - accuracy: 0.6450 - val_loss: 1.4323 - val_accuracy: 0.4740\n",
            "Epoch 8/100\n",
            "282/282 [==============================] - 2s 7ms/step - loss: 0.9797 - accuracy: 0.6438 - val_loss: 1.1659 - val_accuracy: 0.6480\n",
            "Epoch 9/100\n",
            "282/282 [==============================] - 2s 7ms/step - loss: 0.9753 - accuracy: 0.6459 - val_loss: 1.9780 - val_accuracy: 0.2020\n",
            "Epoch 10/100\n",
            "282/282 [==============================] - 2s 7ms/step - loss: 0.9570 - accuracy: 0.6503 - val_loss: 1.9706 - val_accuracy: 0.5900\n",
            "Epoch 11/100\n",
            "282/282 [==============================] - 2s 7ms/step - loss: 0.9562 - accuracy: 0.6529 - val_loss: 1.0933 - val_accuracy: 0.6780\n",
            "Epoch 12/100\n",
            "282/282 [==============================] - 2s 7ms/step - loss: 0.9488 - accuracy: 0.6557 - val_loss: 1.5436 - val_accuracy: 0.4900\n",
            "Epoch 13/100\n",
            "282/282 [==============================] - 2s 7ms/step - loss: 0.9451 - accuracy: 0.6529 - val_loss: 1.2245 - val_accuracy: 0.6430\n",
            "Epoch 14/100\n",
            "282/282 [==============================] - 2s 8ms/step - loss: 0.9336 - accuracy: 0.6583 - val_loss: 1.1761 - val_accuracy: 0.6590\n",
            "Epoch 15/100\n",
            "282/282 [==============================] - 2s 7ms/step - loss: 0.9311 - accuracy: 0.6609 - val_loss: 1.1237 - val_accuracy: 0.6720\n",
            "Epoch 16/100\n",
            "282/282 [==============================] - 2s 7ms/step - loss: 0.9274 - accuracy: 0.6577 - val_loss: 1.5702 - val_accuracy: 0.5770\n",
            "Epoch 17/100\n",
            "282/282 [==============================] - 2s 7ms/step - loss: 0.9317 - accuracy: 0.6603 - val_loss: 2.0393 - val_accuracy: 0.4990\n",
            "Epoch 18/100\n",
            "282/282 [==============================] - 2s 8ms/step - loss: 0.9260 - accuracy: 0.6617 - val_loss: 1.7091 - val_accuracy: 0.5880\n",
            "Epoch 19/100\n",
            "282/282 [==============================] - 2s 8ms/step - loss: 0.9251 - accuracy: 0.6574 - val_loss: 1.2241 - val_accuracy: 0.6340\n",
            "Epoch 20/100\n",
            "282/282 [==============================] - 2s 8ms/step - loss: 0.9135 - accuracy: 0.6682 - val_loss: 1.2333 - val_accuracy: 0.6420\n",
            "Epoch 21/100\n",
            "282/282 [==============================] - 2s 7ms/step - loss: 0.9127 - accuracy: 0.6683 - val_loss: 1.4066 - val_accuracy: 0.6560\n",
            "Epoch 22/100\n",
            "282/282 [==============================] - 2s 7ms/step - loss: 0.9066 - accuracy: 0.6687 - val_loss: 1.3582 - val_accuracy: 0.6170\n",
            "Epoch 23/100\n",
            "282/282 [==============================] - 2s 7ms/step - loss: 0.9088 - accuracy: 0.6714 - val_loss: 1.6197 - val_accuracy: 0.4300\n",
            "Epoch 24/100\n",
            "282/282 [==============================] - 2s 7ms/step - loss: 0.9075 - accuracy: 0.6698 - val_loss: 1.1902 - val_accuracy: 0.5800\n",
            "Epoch 25/100\n",
            "282/282 [==============================] - 2s 7ms/step - loss: 0.9035 - accuracy: 0.6758 - val_loss: 0.8842 - val_accuracy: 0.6870\n",
            "Epoch 26/100\n",
            "282/282 [==============================] - 2s 8ms/step - loss: 0.9033 - accuracy: 0.6732 - val_loss: 1.3967 - val_accuracy: 0.6310\n",
            "Epoch 27/100\n",
            "282/282 [==============================] - 2s 7ms/step - loss: 0.9013 - accuracy: 0.6717 - val_loss: 1.2998 - val_accuracy: 0.6680\n",
            "Epoch 28/100\n",
            "282/282 [==============================] - 2s 7ms/step - loss: 0.9020 - accuracy: 0.6729 - val_loss: 1.5915 - val_accuracy: 0.6430\n",
            "Epoch 29/100\n",
            "282/282 [==============================] - 2s 7ms/step - loss: 0.8998 - accuracy: 0.6697 - val_loss: 1.3778 - val_accuracy: 0.5530\n",
            "Epoch 30/100\n",
            "282/282 [==============================] - 2s 7ms/step - loss: 0.8942 - accuracy: 0.6730 - val_loss: 1.6600 - val_accuracy: 0.5260\n",
            "Epoch 31/100\n",
            "282/282 [==============================] - 2s 8ms/step - loss: 0.8850 - accuracy: 0.6772 - val_loss: 1.1252 - val_accuracy: 0.6470\n",
            "Epoch 32/100\n",
            "282/282 [==============================] - 2s 7ms/step - loss: 0.8985 - accuracy: 0.6734 - val_loss: 2.0027 - val_accuracy: 0.5710\n",
            "Epoch 33/100\n",
            "282/282 [==============================] - 2s 7ms/step - loss: 0.8920 - accuracy: 0.6733 - val_loss: 1.1268 - val_accuracy: 0.5370\n",
            "Epoch 34/100\n",
            "282/282 [==============================] - 2s 7ms/step - loss: 0.8930 - accuracy: 0.6779 - val_loss: 1.4086 - val_accuracy: 0.4950\n",
            "Epoch 35/100\n",
            "282/282 [==============================] - 2s 7ms/step - loss: 0.8833 - accuracy: 0.6768 - val_loss: 1.2111 - val_accuracy: 0.6380\n",
            "Epoch 36/100\n",
            "282/282 [==============================] - 2s 7ms/step - loss: 0.8825 - accuracy: 0.6796 - val_loss: 1.2726 - val_accuracy: 0.5540\n",
            "Epoch 37/100\n",
            "282/282 [==============================] - 2s 7ms/step - loss: 0.8789 - accuracy: 0.6767 - val_loss: 1.1331 - val_accuracy: 0.6520\n",
            "Epoch 38/100\n",
            "282/282 [==============================] - 2s 8ms/step - loss: 0.8784 - accuracy: 0.6798 - val_loss: 1.9087 - val_accuracy: 0.3340\n",
            "Epoch 39/100\n",
            "282/282 [==============================] - 2s 7ms/step - loss: 0.8729 - accuracy: 0.6783 - val_loss: 1.2504 - val_accuracy: 0.7100\n",
            "Epoch 40/100\n",
            "282/282 [==============================] - 2s 8ms/step - loss: 0.8777 - accuracy: 0.6841 - val_loss: 0.9808 - val_accuracy: 0.7040\n",
            "Epoch 41/100\n",
            "282/282 [==============================] - 2s 7ms/step - loss: 0.8716 - accuracy: 0.6824 - val_loss: 0.9885 - val_accuracy: 0.6590\n",
            "Epoch 42/100\n",
            "282/282 [==============================] - 2s 7ms/step - loss: 0.8686 - accuracy: 0.6826 - val_loss: 1.8912 - val_accuracy: 0.6070\n",
            "Epoch 43/100\n",
            "282/282 [==============================] - 2s 8ms/step - loss: 0.8732 - accuracy: 0.6861 - val_loss: 1.3135 - val_accuracy: 0.5690\n",
            "Epoch 44/100\n",
            "282/282 [==============================] - 2s 7ms/step - loss: 0.8640 - accuracy: 0.6890 - val_loss: 1.3601 - val_accuracy: 0.6620\n",
            "Epoch 45/100\n",
            "282/282 [==============================] - 2s 8ms/step - loss: 0.8679 - accuracy: 0.6823 - val_loss: 1.2585 - val_accuracy: 0.6760\n",
            "Epoch 46/100\n",
            "282/282 [==============================] - 2s 7ms/step - loss: 0.8693 - accuracy: 0.6848 - val_loss: 0.9878 - val_accuracy: 0.6800\n",
            "Epoch 47/100\n",
            "282/282 [==============================] - 2s 8ms/step - loss: 0.8728 - accuracy: 0.6827 - val_loss: 1.8452 - val_accuracy: 0.5840\n",
            "Epoch 48/100\n",
            "282/282 [==============================] - 2s 8ms/step - loss: 0.8634 - accuracy: 0.6881 - val_loss: 1.1831 - val_accuracy: 0.6240\n",
            "Epoch 49/100\n",
            "282/282 [==============================] - 2s 7ms/step - loss: 0.8601 - accuracy: 0.6856 - val_loss: 1.2394 - val_accuracy: 0.6250\n",
            "Epoch 50/100\n",
            "282/282 [==============================] - 2s 8ms/step - loss: 0.8616 - accuracy: 0.6859 - val_loss: 1.2072 - val_accuracy: 0.6760\n",
            "Epoch 51/100\n",
            "282/282 [==============================] - 2s 7ms/step - loss: 0.8601 - accuracy: 0.6871 - val_loss: 1.0432 - val_accuracy: 0.6210\n",
            "Epoch 52/100\n",
            "282/282 [==============================] - 2s 7ms/step - loss: 0.8589 - accuracy: 0.6881 - val_loss: 1.1510 - val_accuracy: 0.6220\n",
            "Epoch 53/100\n",
            "282/282 [==============================] - 2s 8ms/step - loss: 0.8513 - accuracy: 0.6913 - val_loss: 1.6095 - val_accuracy: 0.3790\n",
            "Epoch 54/100\n",
            "282/282 [==============================] - 2s 7ms/step - loss: 0.8549 - accuracy: 0.6907 - val_loss: 1.4207 - val_accuracy: 0.6220\n",
            "Epoch 55/100\n",
            "282/282 [==============================] - 2s 7ms/step - loss: 0.8530 - accuracy: 0.6906 - val_loss: 1.1724 - val_accuracy: 0.6640\n",
            "Epoch 56/100\n",
            "282/282 [==============================] - 2s 7ms/step - loss: 0.8496 - accuracy: 0.6900 - val_loss: 2.1232 - val_accuracy: 0.1820\n",
            "Epoch 57/100\n",
            "282/282 [==============================] - 2s 7ms/step - loss: 0.8569 - accuracy: 0.6906 - val_loss: 0.9922 - val_accuracy: 0.7030\n",
            "Epoch 58/100\n",
            "282/282 [==============================] - 2s 7ms/step - loss: 0.8505 - accuracy: 0.6930 - val_loss: 1.3052 - val_accuracy: 0.6600\n",
            "Epoch 59/100\n",
            "282/282 [==============================] - 2s 7ms/step - loss: 0.8516 - accuracy: 0.6909 - val_loss: 1.1331 - val_accuracy: 0.6960\n",
            "Epoch 60/100\n",
            "282/282 [==============================] - 2s 7ms/step - loss: 0.8492 - accuracy: 0.6930 - val_loss: 1.2593 - val_accuracy: 0.5930\n",
            "Epoch 61/100\n",
            "282/282 [==============================] - 2s 7ms/step - loss: 0.8496 - accuracy: 0.6892 - val_loss: 1.3067 - val_accuracy: 0.5920\n",
            "Epoch 62/100\n",
            "282/282 [==============================] - 2s 7ms/step - loss: 0.8380 - accuracy: 0.6908 - val_loss: 1.3990 - val_accuracy: 0.5710\n",
            "Epoch 63/100\n",
            "282/282 [==============================] - 2s 7ms/step - loss: 0.8452 - accuracy: 0.6938 - val_loss: 1.0458 - val_accuracy: 0.6510\n",
            "Epoch 64/100\n",
            "282/282 [==============================] - 2s 8ms/step - loss: 0.8495 - accuracy: 0.6927 - val_loss: 1.2992 - val_accuracy: 0.4760\n",
            "Epoch 65/100\n",
            "282/282 [==============================] - 2s 8ms/step - loss: 0.8371 - accuracy: 0.6989 - val_loss: 1.7124 - val_accuracy: 0.3840\n",
            "Epoch 66/100\n",
            "282/282 [==============================] - 2s 8ms/step - loss: 0.8392 - accuracy: 0.6953 - val_loss: 1.2163 - val_accuracy: 0.6380\n",
            "Epoch 67/100\n",
            "282/282 [==============================] - 2s 7ms/step - loss: 0.8527 - accuracy: 0.6912 - val_loss: 0.9720 - val_accuracy: 0.7090\n",
            "Epoch 68/100\n",
            "282/282 [==============================] - 2s 7ms/step - loss: 0.8443 - accuracy: 0.6934 - val_loss: 1.1731 - val_accuracy: 0.5960\n",
            "Epoch 69/100\n",
            "282/282 [==============================] - 2s 8ms/step - loss: 0.8343 - accuracy: 0.6931 - val_loss: 0.9504 - val_accuracy: 0.6850\n",
            "Epoch 70/100\n",
            "282/282 [==============================] - 2s 8ms/step - loss: 0.8319 - accuracy: 0.6963 - val_loss: 1.2652 - val_accuracy: 0.5040\n",
            "Epoch 71/100\n",
            "282/282 [==============================] - 2s 7ms/step - loss: 0.8269 - accuracy: 0.7012 - val_loss: 1.3971 - val_accuracy: 0.5010\n",
            "Epoch 72/100\n",
            "282/282 [==============================] - 2s 7ms/step - loss: 0.8276 - accuracy: 0.7018 - val_loss: 1.6571 - val_accuracy: 0.2040\n",
            "Epoch 73/100\n",
            "282/282 [==============================] - 2s 8ms/step - loss: 0.8349 - accuracy: 0.6970 - val_loss: 0.9664 - val_accuracy: 0.7160\n",
            "Epoch 74/100\n",
            "282/282 [==============================] - 2s 7ms/step - loss: 0.8325 - accuracy: 0.6996 - val_loss: 1.3782 - val_accuracy: 0.6190\n",
            "Epoch 75/100\n",
            "282/282 [==============================] - 2s 7ms/step - loss: 0.8300 - accuracy: 0.6998 - val_loss: 0.9446 - val_accuracy: 0.7420\n",
            "Epoch 76/100\n",
            "282/282 [==============================] - 2s 8ms/step - loss: 0.8284 - accuracy: 0.7020 - val_loss: 1.1800 - val_accuracy: 0.6360\n",
            "Epoch 77/100\n",
            "282/282 [==============================] - 2s 8ms/step - loss: 0.8306 - accuracy: 0.6999 - val_loss: 1.1515 - val_accuracy: 0.6220\n",
            "Epoch 78/100\n",
            "282/282 [==============================] - 2s 8ms/step - loss: 0.8347 - accuracy: 0.6986 - val_loss: 1.4000 - val_accuracy: 0.6350\n",
            "Epoch 79/100\n",
            "282/282 [==============================] - 2s 8ms/step - loss: 0.8285 - accuracy: 0.6999 - val_loss: 1.2949 - val_accuracy: 0.5160\n",
            "Epoch 80/100\n",
            "282/282 [==============================] - 2s 8ms/step - loss: 0.8319 - accuracy: 0.6971 - val_loss: 1.0699 - val_accuracy: 0.6930\n",
            "Epoch 81/100\n",
            "282/282 [==============================] - 2s 7ms/step - loss: 0.8228 - accuracy: 0.6979 - val_loss: 1.5534 - val_accuracy: 0.4050\n",
            "Epoch 82/100\n",
            "282/282 [==============================] - 2s 7ms/step - loss: 0.8286 - accuracy: 0.7013 - val_loss: 1.1952 - val_accuracy: 0.6080\n",
            "Epoch 83/100\n",
            "282/282 [==============================] - 2s 7ms/step - loss: 0.8273 - accuracy: 0.7032 - val_loss: 1.3299 - val_accuracy: 0.6110\n",
            "Epoch 84/100\n",
            "282/282 [==============================] - 2s 7ms/step - loss: 0.8248 - accuracy: 0.7069 - val_loss: 1.7909 - val_accuracy: 0.3120\n",
            "Epoch 85/100\n",
            "282/282 [==============================] - 2s 8ms/step - loss: 0.8267 - accuracy: 0.6998 - val_loss: 1.4574 - val_accuracy: 0.6630\n",
            "Epoch 86/100\n",
            "282/282 [==============================] - 2s 7ms/step - loss: 0.8217 - accuracy: 0.6990 - val_loss: 1.1707 - val_accuracy: 0.6540\n",
            "Epoch 87/100\n",
            "282/282 [==============================] - 2s 7ms/step - loss: 0.8193 - accuracy: 0.7043 - val_loss: 1.6470 - val_accuracy: 0.4100\n",
            "Epoch 88/100\n",
            "282/282 [==============================] - 2s 7ms/step - loss: 0.8138 - accuracy: 0.7079 - val_loss: 1.7771 - val_accuracy: 0.2180\n",
            "Epoch 89/100\n",
            "282/282 [==============================] - 2s 7ms/step - loss: 0.8252 - accuracy: 0.6981 - val_loss: 1.3827 - val_accuracy: 0.6560\n",
            "Epoch 90/100\n",
            "282/282 [==============================] - 2s 8ms/step - loss: 0.8216 - accuracy: 0.7026 - val_loss: 1.3588 - val_accuracy: 0.5400\n",
            "Epoch 91/100\n",
            "282/282 [==============================] - 2s 7ms/step - loss: 0.8170 - accuracy: 0.7023 - val_loss: 1.0398 - val_accuracy: 0.7360\n",
            "Epoch 92/100\n",
            "282/282 [==============================] - 2s 7ms/step - loss: 0.8134 - accuracy: 0.7038 - val_loss: 1.4429 - val_accuracy: 0.6240\n",
            "Epoch 93/100\n",
            "282/282 [==============================] - 2s 8ms/step - loss: 0.8196 - accuracy: 0.7033 - val_loss: 1.1814 - val_accuracy: 0.6850\n",
            "Epoch 94/100\n",
            "282/282 [==============================] - 2s 7ms/step - loss: 0.8252 - accuracy: 0.7020 - val_loss: 1.2737 - val_accuracy: 0.7000\n",
            "Epoch 95/100\n",
            "282/282 [==============================] - 2s 8ms/step - loss: 0.8171 - accuracy: 0.6997 - val_loss: 1.2336 - val_accuracy: 0.6270\n",
            "Epoch 96/100\n",
            "282/282 [==============================] - 2s 8ms/step - loss: 0.8150 - accuracy: 0.7063 - val_loss: 1.4252 - val_accuracy: 0.6220\n",
            "Epoch 97/100\n",
            "282/282 [==============================] - 2s 8ms/step - loss: 0.8148 - accuracy: 0.7051 - val_loss: 1.0855 - val_accuracy: 0.6350\n",
            "Epoch 98/100\n",
            "282/282 [==============================] - 2s 8ms/step - loss: 0.8103 - accuracy: 0.7081 - val_loss: 1.1831 - val_accuracy: 0.6100\n",
            "Epoch 99/100\n",
            "282/282 [==============================] - 2s 7ms/step - loss: 0.8103 - accuracy: 0.7078 - val_loss: 1.2388 - val_accuracy: 0.7070\n",
            "Epoch 100/100\n",
            "282/282 [==============================] - 2s 8ms/step - loss: 0.8111 - accuracy: 0.7034 - val_loss: 1.1421 - val_accuracy: 0.5840\n"
          ],
          "name": "stdout"
        }
      ]
    },
    {
      "cell_type": "code",
      "metadata": {
        "id": "XT5eJKUcDX3K",
        "outputId": "984558eb-bd54-4632-8a4d-5dcefd3bb0c2",
        "colab": {
          "base_uri": "https://localhost:8080/",
          "height": 320
        }
      },
      "source": [
        "import pandas as pd\n",
        "\n",
        "df = pd.DataFrame(history3.history).plot(figsize=(8, 5))\n",
        "df.plot(figsize=(8,5))\n",
        "plt.grid(True)\n",
        "plt.show()"
      ],
      "execution_count": 26,
      "outputs": [
        {
          "output_type": "display_data",
          "data": {
            "image/png": "[encoded data removed]",
            "text/plain": [
              "<Figure size 576x360 with 1 Axes>"
            ]
          },
          "metadata": {
            "tags": [],
            "needs_background": "light"
          }
        }
      ]
    }
  ]
}