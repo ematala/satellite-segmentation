{
  "nbformat": 4,
  "nbformat_minor": 0,
  "metadata": {
    "colab": {
      "name": "Untitled0.ipynb",
      "provenance": [],
      "authorship_tag": "ABX9TyMN7y40TbZAO0d722nVKl10",
      "include_colab_link": true
    },
    "kernelspec": {
      "name": "python3",
      "display_name": "Python 3"
    },
    "language_info": {
      "name": "python"
    }
  },
  "cells": [
    {
      "cell_type": "markdown",
      "metadata": {
        "id": "view-in-github",
        "colab_type": "text"
      },
      "source": [
        "<a href=\"https://colab.research.google.com/github/ematala/satellite-segmentation/blob/main/AlternativeModels_Lukas.ipynb\" target=\"_parent\"><img src=\"https://colab.research.google.com/assets/colab-badge.svg\" alt=\"Open In Colab\"/></a>"
      ]
    },
    {
      "cell_type": "code",
      "metadata": {
        "id": "lIB8xh2PGG9Q"
      },
      "source": [
        "import tensorflow as tf\n",
        "from tensorflow import keras\n",
        "import numpy as np\n",
        "import pandas as pd\n",
        "import os\n",
        "import datetime\n",
        "import sklearn\n",
        "import matplotlib.pyplot as plt\n",
        "import math\n",
        "from google.colab import drive\n",
        "\n",
        "from sklearn.model_selection import train_test_split, GridSearchCV\n",
        "from sklearn.metrics import accuracy_score, classification_report, multilabel_confusion_matrix, confusion_matrix, plot_confusion_matrix\n",
        "from sklearn.neighbors import KNeighborsClassifier\n",
        "from sklearn.svm import SVC\n",
        "from sklearn.ensemble import AdaBoostClassifier, GradientBoostingClassifier\n",
        "\n",
        "import lightgbm as lgb\n"
      ],
      "execution_count": 122,
      "outputs": []
    },
    {
      "cell_type": "code",
      "metadata": {
        "colab": {
          "base_uri": "https://localhost:8080/"
        },
        "id": "VKvlW09tGItt",
        "outputId": "55068e2a-7dac-4f2a-9288-3d9e99e7c131"
      },
      "source": [
        "drive.mount('/content/drive')\n",
        "data = np.load('/content/drive/MyDrive/Colab Notebooks/Data/train.npz')\n"
      ],
      "execution_count": 25,
      "outputs": [
        {
          "output_type": "stream",
          "text": [
            "Drive already mounted at /content/drive; to attempt to forcibly remount, call drive.mount(\"/content/drive\", force_remount=True).\n"
          ],
          "name": "stdout"
        }
      ]
    },
    {
      "cell_type": "code",
      "metadata": {
        "id": "honQgIwtGKYh"
      },
      "source": [
        "# separate bands and labels:\n",
        "train_data = data['bands']\n",
        "labels = data['lulc']"
      ],
      "execution_count": 26,
      "outputs": []
    },
    {
      "cell_type": "code",
      "metadata": {
        "id": "hcmI4ne0JUlA"
      },
      "source": [
        "# add class labels manually\n",
        "classes = np.array(['No Data', 'Cultivated Land', 'Forest', 'Grassland', 'Shrubland', 'Water', 'Wetlands', 'Tundra', 'Artificial Surface', 'Bareland', 'Snow and Ice'])"
      ],
      "execution_count": 36,
      "outputs": []
    },
    {
      "cell_type": "code",
      "metadata": {
        "colab": {
          "base_uri": "https://localhost:8080/"
        },
        "id": "-sjnHTjZGX8o",
        "outputId": "87f6597f-de3d-49d2-aae6-0f4329e13590"
      },
      "source": [
        "train_data.shape"
      ],
      "execution_count": 27,
      "outputs": [
        {
          "output_type": "execute_result",
          "data": {
            "text/plain": [
              "(10000, 12, 33, 33, 6)"
            ]
          },
          "metadata": {
            "tags": []
          },
          "execution_count": 27
        }
      ]
    },
    {
      "cell_type": "code",
      "metadata": {
        "colab": {
          "base_uri": "https://localhost:8080/"
        },
        "id": "nNHTvMxYGQPx",
        "outputId": "ce246a6f-9c62-4ccd-eb0b-bf05e8af2013"
      },
      "source": [
        "# extract middle pixel data for each patch:\n",
        "train_data_center_points = train_data[:,:,17,17,:]\n",
        "train_data_center_points.shape"
      ],
      "execution_count": 28,
      "outputs": [
        {
          "output_type": "execute_result",
          "data": {
            "text/plain": [
              "(10000, 12, 6)"
            ]
          },
          "metadata": {
            "tags": []
          },
          "execution_count": 28
        }
      ]
    },
    {
      "cell_type": "code",
      "metadata": {
        "colab": {
          "base_uri": "https://localhost:8080/"
        },
        "id": "2B6IpOcXGkNP",
        "outputId": "bc7f3f9b-c057-44f6-b066-8420435b10f9"
      },
      "source": [
        "# reshape training data:\n",
        "train_data_center_points = train_data_center_points.reshape((10000,72))\n",
        "train_data_center_points.shape"
      ],
      "execution_count": 30,
      "outputs": [
        {
          "output_type": "execute_result",
          "data": {
            "text/plain": [
              "(10000, 72)"
            ]
          },
          "metadata": {
            "tags": []
          },
          "execution_count": 30
        }
      ]
    },
    {
      "cell_type": "code",
      "metadata": {
        "id": "H8pYXwuMG88o"
      },
      "source": [
        "# Split data into train and val set:\n",
        "X_train, X_val, y_train, y_val = train_test_split(train_data_center_points, labels, \n",
        "                                                    test_size=0.30, stratify = labels, random_state=42)"
      ],
      "execution_count": 105,
      "outputs": []
    },
    {
      "cell_type": "markdown",
      "metadata": {
        "id": "7hkKLQBcNQT4"
      },
      "source": [
        "# kNearestNeighbors Model\n"
      ]
    },
    {
      "cell_type": "code",
      "metadata": {
        "colab": {
          "base_uri": "https://localhost:8080/"
        },
        "id": "-wmGCueFHV0o",
        "outputId": "e46c3d9d-63fc-4e8e-b391-b6e317c3e5cc"
      },
      "source": [
        "knn = KNeighborsClassifier(n_neighbors=10)\n",
        "\n",
        "knn.fit(X_train, y_train)"
      ],
      "execution_count": 106,
      "outputs": [
        {
          "output_type": "execute_result",
          "data": {
            "text/plain": [
              "KNeighborsClassifier(algorithm='auto', leaf_size=30, metric='minkowski',\n",
              "                     metric_params=None, n_jobs=None, n_neighbors=10, p=2,\n",
              "                     weights='uniform')"
            ]
          },
          "metadata": {
            "tags": []
          },
          "execution_count": 106
        }
      ]
    },
    {
      "cell_type": "code",
      "metadata": {
        "colab": {
          "base_uri": "https://localhost:8080/"
        },
        "id": "S_TEfbnsHgXu",
        "outputId": "2d8d43cb-7b8e-4e51-b534-17d6eebd6466"
      },
      "source": [
        "# Predict the labels of test data\n",
        "\n",
        "knn_pred = knn.predict(X_val)\n",
        "\n",
        "print(f\"Accuracy: {accuracy_score(y_val, knn_pred)*100}\")\n",
        "\n",
        "print(classification_report(y_val, knn_pred))"
      ],
      "execution_count": 107,
      "outputs": [
        {
          "output_type": "stream",
          "text": [
            "Accuracy: 72.3\n",
            "              precision    recall  f1-score   support\n",
            "\n",
            "           0       0.73      0.68      0.70       392\n",
            "           1       0.44      0.32      0.37        72\n",
            "           2       0.76      0.94      0.84      1739\n",
            "           3       0.55      0.28      0.37       338\n",
            "           4       0.44      0.16      0.24       231\n",
            "           5       1.00      0.53      0.69        17\n",
            "           8       0.80      0.06      0.11        65\n",
            "           9       0.66      0.66      0.66       146\n",
            "\n",
            "    accuracy                           0.72      3000\n",
            "   macro avg       0.67      0.45      0.50      3000\n",
            "weighted avg       0.70      0.72      0.69      3000\n",
            "\n"
          ],
          "name": "stdout"
        }
      ]
    },
    {
      "cell_type": "code",
      "metadata": {
        "colab": {
          "base_uri": "https://localhost:8080/",
          "height": 297
        },
        "id": "gUvDiD-NJILl",
        "outputId": "804c4dd4-e352-4478-bda2-fdef17bc0eea"
      },
      "source": [
        "plt.hist(knn_pred, bins=list(range(len(classes) + 1)))\n",
        "plt.xticks(ticks=list(map(lambda x: x+0.5, list(range(len(classes))))), labels=classes, rotation=90)\n",
        "plt.tight_layout()\n",
        "plt.show()"
      ],
      "execution_count": 108,
      "outputs": [
        {
          "output_type": "display_data",
          "data": {
            "image/png": "[encoded data removed]",
            "text/plain": [
              "<Figure size 432x288 with 1 Axes>"
            ]
          },
          "metadata": {
            "tags": [],
            "needs_background": "light"
          }
        }
      ]
    },
    {
      "cell_type": "code",
      "metadata": {
        "id": "8tUbAhH8XHEM"
      },
      "source": [
        "true = y_val\n",
        "pred = knn_pred\n",
        "\n",
        "plt.figure(figsize=[15, 10])\n",
        "plt.hist([true, pred], width = 0.25, histtype='bar', weights=[(np.zeros_like(true) + 1. / true.size), (np.zeros_like(pred) + 1. / pred.size)], align='mid')\n",
        "# plt.hist(pred, color = 'y', width = 0.25, histtype='bar')\n",
        "classes = ['No Data', 'Cultivated Land', 'Forest', 'Grassland', 'Shrubland', 'Water', 'Wetlands', 'Tundra', 'Artificial Surface', 'Bareland']\n",
        "plt.legend(['y True', 'y Prediction'])\n",
        "\n",
        "plt.xticks([i + 0.25 for i in range(len(classes))], classes)\n",
        "plt.show()"
      ],
      "execution_count": null,
      "outputs": []
    },
    {
      "cell_type": "markdown",
      "metadata": {
        "id": "yYLg_qbGY5b-"
      },
      "source": [
        "GridSearch optimal k parameter:"
      ]
    },
    {
      "cell_type": "code",
      "metadata": {
        "colab": {
          "base_uri": "https://localhost:8080/"
        },
        "id": "D3qzfvTFY4Ho",
        "outputId": "95f384ac-ed6c-4a4d-d2fc-4ebd5582d89a"
      },
      "source": [
        "grid_search_params = {\n",
        "    'n_neighbors': [3,5,10,15,20],\n",
        "    'weights':['uniform', 'distance'],\n",
        "    'metric':['euclidean', 'manhattan']\n",
        "}\n",
        "\n",
        "gs = GridSearchCV(\n",
        "    KNeighborsClassifier(),\n",
        "    grid_search_params,\n",
        "    verbose = 1,\n",
        "    cv = 3,\n",
        "    n_jobs = -1\n",
        ")\n",
        "\n",
        "gs_results = gs.fit(X_train, y_train)\n"
      ],
      "execution_count": 126,
      "outputs": [
        {
          "output_type": "stream",
          "text": [
            "Fitting 3 folds for each of 20 candidates, totalling 60 fits\n"
          ],
          "name": "stdout"
        },
        {
          "output_type": "stream",
          "text": [
            "[Parallel(n_jobs=-1)]: Using backend LokyBackend with 2 concurrent workers.\n",
            "[Parallel(n_jobs=-1)]: Done  46 tasks      | elapsed:   44.1s\n",
            "[Parallel(n_jobs=-1)]: Done  60 out of  60 | elapsed:  1.0min finished\n"
          ],
          "name": "stderr"
        }
      ]
    },
    {
      "cell_type": "code",
      "metadata": {
        "colab": {
          "base_uri": "https://localhost:8080/"
        },
        "id": "KS1BGul5aReX",
        "outputId": "b3b5cdd3-d972-48d3-8531-b297465fe317"
      },
      "source": [
        "# Best accuracy score\n",
        "print('Best accuracy: ' + str(gs_results.best_score_))\n",
        "\n",
        "# Best paramters\n",
        "print('Best parameters: '+str(gs_results.best_params_))\n"
      ],
      "execution_count": 139,
      "outputs": [
        {
          "output_type": "stream",
          "text": [
            "Best accuracy: 0.7308554178323675\n",
            "Best parameters: {'metric': 'manhattan', 'n_neighbors': 10, 'weights': 'distance'}\n"
          ],
          "name": "stdout"
        }
      ]
    },
    {
      "cell_type": "code",
      "metadata": {
        "colab": {
          "base_uri": "https://localhost:8080/"
        },
        "id": "WPXGS8kfaqc_",
        "outputId": "e55eeeb9-7eb7-452d-b2cb-dac9c3ed9e3a"
      },
      "source": [
        "# Apply best model and get predictions:\n",
        "best_knn_predictions = gs_results.best_estimator_.predict(X_val)\n",
        "\n",
        "# Print accuracy:\n",
        "print(f\"Accuracy: {accuracy_score(y_val, best_knn_predictions)*100}\")"
      ],
      "execution_count": 140,
      "outputs": [
        {
          "output_type": "stream",
          "text": [
            "Accuracy: 74.86666666666667\n"
          ],
          "name": "stdout"
        }
      ]
    },
    {
      "cell_type": "code",
      "metadata": {
        "colab": {
          "base_uri": "https://localhost:8080/",
          "height": 592
        },
        "id": "XFALxFotbRy-",
        "outputId": "c225475b-b2ee-422d-ddde-40222d7c090f"
      },
      "source": [
        "true = y_val\n",
        "pred = best_knn_predictions\n",
        "\n",
        "plt.figure(figsize=[15, 10])\n",
        "plt.hist([true, pred], width = 0.25, histtype='bar', weights=[(np.zeros_like(true) + 1. / true.size), (np.zeros_like(pred) + 1. / pred.size)], align='mid')\n",
        "# plt.hist(pred, color = 'y', width = 0.25, histtype='bar')\n",
        "classes = ['No Data', 'Cultivated Land', 'Forest', 'Grassland', 'Shrubland', 'Water', 'Wetlands', 'Tundra', 'Artificial Surface', 'Bareland']\n",
        "plt.legend(['y True', 'y Prediction'])\n",
        "\n",
        "plt.xticks([i + 0.25 for i in range(len(classes))], classes)\n",
        "plt.show()"
      ],
      "execution_count": 141,
      "outputs": [
        {
          "output_type": "display_data",
          "data": {
            "image/png": "[encoded data removed]",
            "text/plain": [
              "<Figure size 1080x720 with 1 Axes>"
            ]
          },
          "metadata": {
            "tags": [],
            "needs_background": "light"
          }
        }
      ]
    },
    {
      "cell_type": "markdown",
      "metadata": {
        "id": "lM48lepDNtMM"
      },
      "source": [
        "# Support Vector Machines\n"
      ]
    },
    {
      "cell_type": "code",
      "metadata": {
        "colab": {
          "base_uri": "https://localhost:8080/"
        },
        "id": "js8XA_Z_NsCt",
        "outputId": "0cecfb6d-ca8a-4293-b35f-d9ddd3ea6104"
      },
      "source": [
        "svm = SVC(C=1.0, kernel='linear', degree=6, cache_size=1024)\n",
        "\n",
        "# Fit Data\n",
        "svm.fit(X_train, y_train)"
      ],
      "execution_count": 89,
      "outputs": [
        {
          "output_type": "execute_result",
          "data": {
            "text/plain": [
              "SVC(C=1.0, break_ties=False, cache_size=1024, class_weight=None, coef0=0.0,\n",
              "    decision_function_shape='ovr', degree=6, gamma='scale', kernel='linear',\n",
              "    max_iter=-1, probability=False, random_state=None, shrinking=True,\n",
              "    tol=0.001, verbose=False)"
            ]
          },
          "metadata": {
            "tags": []
          },
          "execution_count": 89
        }
      ]
    },
    {
      "cell_type": "code",
      "metadata": {
        "colab": {
          "base_uri": "https://localhost:8080/"
        },
        "id": "ImhSd1VdPo37",
        "outputId": "1753cf6c-ffbd-4018-a77a-b56478209a5f"
      },
      "source": [
        "# Predict labels for test data\n",
        "svm_pred = svm.predict(X_test)\n",
        "\n",
        "# Accuracy and Classification Reeport\n",
        "print(f\"Accuracy: {accuracy_score(y_val, svm_pred)*100}\")\n",
        "print(classification_report(y_val, svm_pred))"
      ],
      "execution_count": 90,
      "outputs": [
        {
          "output_type": "stream",
          "text": [
            "Accuracy: 45.86666666666667\n",
            "              precision    recall  f1-score   support\n",
            "\n",
            "           0       0.11      0.07      0.09       392\n",
            "           1       0.00      0.00      0.00        72\n",
            "           2       0.58      0.75      0.65      1739\n",
            "           3       0.11      0.09      0.10       338\n",
            "           4       0.16      0.04      0.07       231\n",
            "           5       0.00      0.00      0.00        17\n",
            "           8       0.00      0.00      0.00        65\n",
            "           9       0.03      0.03      0.03       146\n",
            "\n",
            "    accuracy                           0.46      3000\n",
            "   macro avg       0.12      0.12      0.12      3000\n",
            "weighted avg       0.38      0.46      0.41      3000\n",
            "\n"
          ],
          "name": "stdout"
        }
      ]
    },
    {
      "cell_type": "markdown",
      "metadata": {
        "id": "EpiR4jmnRCcW"
      },
      "source": [
        "# Gradient Boosting Classifiers\n"
      ]
    },
    {
      "cell_type": "markdown",
      "metadata": {
        "id": "KlyAotMJRHY3"
      },
      "source": [
        "## AdaBoost\n"
      ]
    },
    {
      "cell_type": "code",
      "metadata": {
        "colab": {
          "base_uri": "https://localhost:8080/"
        },
        "id": "jChPPWk-RWPQ",
        "outputId": "cdb5d35b-d73b-4102-dca0-df1532b986c6"
      },
      "source": [
        "adab = AdaBoostClassifier(n_estimators=250)\n",
        "\n",
        "# Fit Data\n",
        "adab.fit(X_train, y_train)\n"
      ],
      "execution_count": 95,
      "outputs": [
        {
          "output_type": "execute_result",
          "data": {
            "text/plain": [
              "AdaBoostClassifier(algorithm='SAMME.R', base_estimator=None, learning_rate=1.0,\n",
              "                   n_estimators=250, random_state=None)"
            ]
          },
          "metadata": {
            "tags": []
          },
          "execution_count": 95
        }
      ]
    },
    {
      "cell_type": "code",
      "metadata": {
        "colab": {
          "base_uri": "https://localhost:8080/"
        },
        "id": "-qhlqwZcR9jP",
        "outputId": "2f872bda-2019-414b-8be8-91c54679740f"
      },
      "source": [
        "# Predict labels for test data\n",
        "adab_pred = adab.predict(X_test)\n",
        "\n",
        "# Accuracy and Classification Reeport\n",
        "print(f\"Accuracy: {accuracy_score(y_val, adab_pred)*100}\")\n",
        "print(classification_report(y_val, adab_pred))"
      ],
      "execution_count": 96,
      "outputs": [
        {
          "output_type": "stream",
          "text": [
            "Accuracy: 28.46666666666667\n",
            "              precision    recall  f1-score   support\n",
            "\n",
            "           0       0.14      0.06      0.08       392\n",
            "           1       0.03      0.17      0.05        72\n",
            "           2       0.59      0.45      0.51      1739\n",
            "           3       0.11      0.05      0.07       338\n",
            "           4       0.08      0.01      0.02       231\n",
            "           5       0.00      0.06      0.01        17\n",
            "           8       0.02      0.05      0.03        65\n",
            "           9       0.04      0.11      0.06       146\n",
            "\n",
            "    accuracy                           0.28      3000\n",
            "   macro avg       0.13      0.12      0.10      3000\n",
            "weighted avg       0.38      0.28      0.32      3000\n",
            "\n"
          ],
          "name": "stdout"
        }
      ]
    },
    {
      "cell_type": "markdown",
      "metadata": {
        "id": "JLMAmy6ISoe9"
      },
      "source": [
        "## Gradient Boosting Classifier\n"
      ]
    },
    {
      "cell_type": "code",
      "metadata": {
        "colab": {
          "base_uri": "https://localhost:8080/"
        },
        "id": "oYA67CmOSndF",
        "outputId": "8a1fc0fa-9684-4105-8197-9adb4f79fdde"
      },
      "source": [
        "gbc = GradientBoostingClassifier()\n",
        "\n",
        "\n",
        "# Fit Data\n",
        "gbc.fit(X_train, y_train)\n"
      ],
      "execution_count": 100,
      "outputs": [
        {
          "output_type": "execute_result",
          "data": {
            "text/plain": [
              "GradientBoostingClassifier(ccp_alpha=0.0, criterion='friedman_mse', init=None,\n",
              "                           learning_rate=0.1, loss='deviance', max_depth=3,\n",
              "                           max_features=None, max_leaf_nodes=None,\n",
              "                           min_impurity_decrease=0.0, min_impurity_split=None,\n",
              "                           min_samples_leaf=1, min_samples_split=2,\n",
              "                           min_weight_fraction_leaf=0.0, n_estimators=100,\n",
              "                           n_iter_no_change=None, presort='deprecated',\n",
              "                           random_state=None, subsample=1.0, tol=0.0001,\n",
              "                           validation_fraction=0.1, verbose=0,\n",
              "                           warm_start=False)"
            ]
          },
          "metadata": {
            "tags": []
          },
          "execution_count": 100
        }
      ]
    },
    {
      "cell_type": "code",
      "metadata": {
        "colab": {
          "base_uri": "https://localhost:8080/"
        },
        "id": "iS6terpDTOdV",
        "outputId": "54e24f58-ff08-4c50-e039-af02c45e042f"
      },
      "source": [
        "# Predict labels for test data\n",
        "gbc_pred = gbc.predict(X_test)\n",
        "\n",
        "# Accuracy and Classification Reeport\n",
        "print(f\"Accuracy: {accuracy_score(y_val, gbc_pred)*100}\")\n",
        "print(classification_report(y_val, gbc_pred))"
      ],
      "execution_count": 102,
      "outputs": [
        {
          "output_type": "stream",
          "text": [
            "Accuracy: 41.266666666666666\n",
            "              precision    recall  f1-score   support\n",
            "\n",
            "           0       0.15      0.13      0.14       392\n",
            "           1       0.02      0.01      0.01        72\n",
            "           2       0.59      0.65      0.62      1739\n",
            "           3       0.12      0.11      0.11       338\n",
            "           4       0.07      0.04      0.05       231\n",
            "           5       0.00      0.00      0.00        17\n",
            "           8       0.02      0.02      0.02        65\n",
            "           9       0.02      0.02      0.02       146\n",
            "\n",
            "    accuracy                           0.41      3000\n",
            "   macro avg       0.12      0.12      0.12      3000\n",
            "weighted avg       0.38      0.41      0.40      3000\n",
            "\n"
          ],
          "name": "stdout"
        }
      ]
    },
    {
      "cell_type": "markdown",
      "metadata": {
        "id": "gID3hyFZVYC0"
      },
      "source": [
        "##lightGBM:\n"
      ]
    },
    {
      "cell_type": "code",
      "metadata": {
        "id": "cK5gdRJbVaub"
      },
      "source": [
        "d_train = lgb.Dataset(X_train, label=y_train)\n",
        "\n",
        "# Parameters\n",
        "params={}\n",
        "params['learning_rate']=0.03\n",
        "params['boosting_type']='gbdt' #GradientBoostingDecisionTree\n",
        "params['objective']='multiclass' #Multi-class target feature\n",
        "params['metric']='multi_logloss' #metric for multi-class\n",
        "params['max_depth']=15\n",
        "params['num_class']=11 #no.of unique values in the target class not inclusive of the end value\n",
        "\n",
        "lgb_model = lgb.train(params, d_train, 100)\n"
      ],
      "execution_count": 115,
      "outputs": []
    },
    {
      "cell_type": "code",
      "metadata": {
        "colab": {
          "base_uri": "https://localhost:8080/"
        },
        "id": "rekUvWIOVxLL",
        "outputId": "dd77baa0-9c4c-4d37-ddc4-b161789f4f1c"
      },
      "source": [
        "# prediction\n",
        "lgb_predictions = lgb_model.predict(X_val)\n",
        "lgb_pred = np.argmax(lgb_predictions, axis=1)\n",
        "\n",
        "# Accuracy and Classification Report\n",
        "print(f\"Accuracy: {accuracy_score(y_val, lgb_pred)*100}\")\n",
        "print(classification_report(y_val, lgb_pred))"
      ],
      "execution_count": 120,
      "outputs": [
        {
          "output_type": "stream",
          "text": [
            "Accuracy: 78.43333333333334\n",
            "              precision    recall  f1-score   support\n",
            "\n",
            "           0       0.86      0.69      0.76       392\n",
            "           1       0.62      0.28      0.38        72\n",
            "           2       0.82      0.97      0.89      1739\n",
            "           3       0.60      0.54      0.57       338\n",
            "           4       0.52      0.24      0.33       231\n",
            "           5       1.00      0.59      0.74        17\n",
            "           8       0.73      0.37      0.49        65\n",
            "           9       0.74      0.77      0.75       146\n",
            "\n",
            "    accuracy                           0.78      3000\n",
            "   macro avg       0.74      0.55      0.61      3000\n",
            "weighted avg       0.77      0.78      0.76      3000\n",
            "\n"
          ],
          "name": "stdout"
        }
      ]
    },
    {
      "cell_type": "code",
      "metadata": {
        "colab": {
          "base_uri": "https://localhost:8080/",
          "height": 592
        },
        "id": "rZ511o6lYJoC",
        "outputId": "1be08cf8-403b-4267-fe4a-1701684b57e5"
      },
      "source": [
        "true = y_val\n",
        "pred = lgb_pred\n",
        "\n",
        "plt.figure(figsize=[15, 10])\n",
        "plt.hist([true, pred], width = 0.25, histtype='bar', weights=[(np.zeros_like(true) + 1. / true.size), (np.zeros_like(pred) + 1. / pred.size)], align='mid')\n",
        "# plt.hist(pred, color = 'y', width = 0.25, histtype='bar')\n",
        "classes = ['No Data', 'Cultivated Land', 'Forest', 'Grassland', 'Shrubland', 'Water', 'Wetlands', 'Tundra', 'Artificial Surface', 'Bareland']\n",
        "plt.legend(['y True', 'y Prediction'])\n",
        "\n",
        "plt.xticks([i + 0.25 for i in range(len(classes))], classes)\n",
        "plt.show()"
      ],
      "execution_count": 121,
      "outputs": [
        {
          "output_type": "display_data",
          "data": {
            "image/png": "[encoded data removed]",
            "text/plain": [
              "<Figure size 1080x720 with 1 Axes>"
            ]
          },
          "metadata": {
            "tags": [],
            "needs_background": "light"
          }
        }
      ]
    }
  ]
}