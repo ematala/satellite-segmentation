{
  "nbformat": 4,
  "nbformat_minor": 0,
  "metadata": {
    "colab": {
      "name": "Copy of Untitled0.ipynb",
      "provenance": [],
      "authorship_tag": "ABX9TyOQT9HNIJmsADw164sFCA39",
      "include_colab_link": true
    },
    "kernelspec": {
      "name": "python3",
      "display_name": "Python 3"
    },
    "language_info": {
      "name": "python"
    },
    "accelerator": "GPU"
  },
  "cells": [
    {
      "cell_type": "markdown",
      "metadata": {
        "id": "view-in-github",
        "colab_type": "text"
      },
      "source": [
        "<a href=\"https://colab.research.google.com/github/ematala/satellite-segmentation/blob/main/AlternativeModels_Lukas.ipynb\" target=\"_parent\"><img src=\"https://colab.research.google.com/assets/colab-badge.svg\" alt=\"Open In Colab\"/></a>"
      ]
    },
    {
      "cell_type": "code",
      "metadata": {
        "id": "lIB8xh2PGG9Q"
      },
      "source": [
        "import tensorflow as tf\n",
        "from tensorflow import keras\n",
        "import numpy as np\n",
        "import pandas as pd\n",
        "import os\n",
        "import datetime\n",
        "import sklearn\n",
        "import matplotlib.pyplot as plt\n",
        "import math\n",
        "from google.colab import drive\n",
        "\n",
        "from sklearn.model_selection import train_test_split, GridSearchCV\n",
        "from sklearn.metrics import accuracy_score, classification_report, multilabel_confusion_matrix, confusion_matrix, plot_confusion_matrix\n",
        "from sklearn.neighbors import KNeighborsClassifier\n",
        "from sklearn.svm import SVC\n",
        "from sklearn.ensemble import AdaBoostClassifier, GradientBoostingClassifier\n",
        "\n",
        "import lightgbm as lgb\n",
        "import xgboost as xgb\n",
        "\n",
        "from seaborn import heatmap\n"
      ],
      "execution_count": null,
      "outputs": []
    },
    {
      "cell_type": "code",
      "metadata": {
        "colab": {
          "base_uri": "https://localhost:8080/"
        },
        "id": "VKvlW09tGItt",
        "outputId": "3d51ffa1-d2a0-41f9-cd07-48afcc0d2eed"
      },
      "source": [
        "drive.mount('/content/drive')\n",
        "data = np.load('/content/drive/MyDrive/Colab Notebooks/Data/train.npz')\n"
      ],
      "execution_count": null,
      "outputs": [
        {
          "output_type": "stream",
          "text": [
            "Drive already mounted at /content/drive; to attempt to forcibly remount, call drive.mount(\"/content/drive\", force_remount=True).\n"
          ],
          "name": "stdout"
        }
      ]
    },
    {
      "cell_type": "code",
      "metadata": {
        "id": "honQgIwtGKYh"
      },
      "source": [
        "# separate bands and labels:\n",
        "train_data = data['bands']\n",
        "labels = data['lulc']"
      ],
      "execution_count": null,
      "outputs": []
    },
    {
      "cell_type": "code",
      "metadata": {
        "id": "hcmI4ne0JUlA"
      },
      "source": [
        "# add class labels manually\n",
        "classes = np.array(['No Data', 'Cultivated Land', 'Forest', 'Grassland', 'Shrubland', 'Water', 'Wetlands', 'Tundra', 'Artificial Surface', 'Bareland', 'Snow and Ice'])\n",
        "classes_without_empty_labels=np.array(['No Data', 'Cultivated Land', 'Forest', 'Grassland', 'Shrubland', 'Water', 'Artificial Surface', 'Bareland'])\n"
      ],
      "execution_count": null,
      "outputs": []
    },
    {
      "cell_type": "code",
      "metadata": {
        "id": "SxB67j7eWQ3E",
        "colab": {
          "base_uri": "https://localhost:8080/",
          "height": 298
        },
        "outputId": "fb9b4979-71d8-4889-c925-30933e7ab00c"
      },
      "source": [
        "# Class distribution:\n",
        "plt.hist(labels, bins=list(range(len(classes) + 1)))\n",
        "plt.xticks(ticks=list(map(lambda x: x+0.5, list(range(len(classes))))), labels=classes, rotation=90)\n",
        "plt.tight_layout()\n",
        "plt.show()"
      ],
      "execution_count": null,
      "outputs": [
        {
          "output_type": "display_data",
          "data": {
            "image/png": "[encoded data removed]",
            "text/plain": [
              "<Figure size 432x288 with 1 Axes>"
            ]
          },
          "metadata": {
            "tags": [],
            "needs_background": "light"
          }
        }
      ]
    },
    {
      "cell_type": "code",
      "metadata": {
        "colab": {
          "base_uri": "https://localhost:8080/"
        },
        "id": "-sjnHTjZGX8o",
        "outputId": "54507b8b-c479-4281-f440-86927929184d"
      },
      "source": [
        "train_data.shape"
      ],
      "execution_count": null,
      "outputs": [
        {
          "output_type": "execute_result",
          "data": {
            "text/plain": [
              "(10000, 12, 33, 33, 6)"
            ]
          },
          "metadata": {
            "tags": []
          },
          "execution_count": 7
        }
      ]
    },
    {
      "cell_type": "markdown",
      "metadata": {
        "id": "p1ehdzDna6wo"
      },
      "source": [
        "Preprocessing: Extract Center Points from 33x33 Patches"
      ]
    },
    {
      "cell_type": "code",
      "metadata": {
        "colab": {
          "base_uri": "https://localhost:8080/"
        },
        "id": "nNHTvMxYGQPx",
        "outputId": "6a6147da-cc9d-4e46-9f06-f10e9b69aec6"
      },
      "source": [
        "# extract middle pixel data for each patch:\n",
        "train_data_center_points = train_data[:,:,17,17,:]\n",
        "train_data_center_points.shape"
      ],
      "execution_count": null,
      "outputs": [
        {
          "output_type": "execute_result",
          "data": {
            "text/plain": [
              "(10000, 12, 6)"
            ]
          },
          "metadata": {
            "tags": []
          },
          "execution_count": 8
        }
      ]
    },
    {
      "cell_type": "code",
      "metadata": {
        "colab": {
          "base_uri": "https://localhost:8080/"
        },
        "id": "2B6IpOcXGkNP",
        "outputId": "a0db1f4f-b60e-4c1f-971c-64735c15c34a"
      },
      "source": [
        "# reshape training data:\n",
        "train_data_center_points = train_data_center_points.reshape((10000,72))\n",
        "train_data_center_points.shape"
      ],
      "execution_count": null,
      "outputs": [
        {
          "output_type": "execute_result",
          "data": {
            "text/plain": [
              "(10000, 72)"
            ]
          },
          "metadata": {
            "tags": []
          },
          "execution_count": 9
        }
      ]
    },
    {
      "cell_type": "code",
      "metadata": {
        "id": "H8pYXwuMG88o"
      },
      "source": [
        "# Split data into train and val set:\n",
        "X_train, X_val, y_train, y_val = train_test_split(train_data_center_points, labels, \n",
        "                                                    test_size=0.30, stratify = labels, random_state=42)"
      ],
      "execution_count": null,
      "outputs": []
    },
    {
      "cell_type": "markdown",
      "metadata": {
        "id": "7hkKLQBcNQT4"
      },
      "source": [
        "# kNearestNeighbors Model\n"
      ]
    },
    {
      "cell_type": "code",
      "metadata": {
        "colab": {
          "base_uri": "https://localhost:8080/"
        },
        "id": "-wmGCueFHV0o",
        "outputId": "9a73d4d1-fd1e-4109-cfb6-7a5fa33eb09c"
      },
      "source": [
        "knn = KNeighborsClassifier(n_neighbors=10)\n",
        "\n",
        "knn.fit(X_train, y_train)"
      ],
      "execution_count": null,
      "outputs": [
        {
          "output_type": "execute_result",
          "data": {
            "text/plain": [
              "KNeighborsClassifier(algorithm='auto', leaf_size=30, metric='minkowski',\n",
              "                     metric_params=None, n_jobs=None, n_neighbors=10, p=2,\n",
              "                     weights='uniform')"
            ]
          },
          "metadata": {
            "tags": []
          },
          "execution_count": 11
        }
      ]
    },
    {
      "cell_type": "code",
      "metadata": {
        "colab": {
          "base_uri": "https://localhost:8080/"
        },
        "id": "S_TEfbnsHgXu",
        "outputId": "f6634179-e081-4f7c-e8a4-7b35ef379090"
      },
      "source": [
        "# Predict the labels of test data\n",
        "\n",
        "knn_pred = knn.predict(X_val)\n",
        "\n",
        "print(f\"Accuracy: {accuracy_score(y_val, knn_pred)*100}\")\n",
        "\n",
        "print(classification_report(y_val, knn_pred))"
      ],
      "execution_count": null,
      "outputs": [
        {
          "output_type": "stream",
          "text": [
            "Accuracy: 72.3\n",
            "              precision    recall  f1-score   support\n",
            "\n",
            "           0       0.73      0.68      0.70       392\n",
            "           1       0.44      0.32      0.37        72\n",
            "           2       0.76      0.94      0.84      1739\n",
            "           3       0.55      0.28      0.37       338\n",
            "           4       0.44      0.16      0.24       231\n",
            "           5       1.00      0.53      0.69        17\n",
            "           8       0.80      0.06      0.11        65\n",
            "           9       0.66      0.66      0.66       146\n",
            "\n",
            "    accuracy                           0.72      3000\n",
            "   macro avg       0.67      0.45      0.50      3000\n",
            "weighted avg       0.70      0.72      0.69      3000\n",
            "\n"
          ],
          "name": "stdout"
        }
      ]
    },
    {
      "cell_type": "code",
      "metadata": {
        "colab": {
          "base_uri": "https://localhost:8080/",
          "height": 297
        },
        "id": "gUvDiD-NJILl",
        "outputId": "0c2d52b0-730e-4e3f-fa72-bc2631203b42"
      },
      "source": [
        "plt.hist(knn_pred, bins=list(range(len(classes) + 1)))\n",
        "plt.xticks(ticks=list(map(lambda x: x+0.5, list(range(len(classes))))), labels=classes, rotation=90)\n",
        "plt.tight_layout()\n",
        "plt.show()"
      ],
      "execution_count": null,
      "outputs": [
        {
          "output_type": "display_data",
          "data": {
            "image/png": "[encoded data removed]",
            "text/plain": [
              "<Figure size 432x288 with 1 Axes>"
            ]
          },
          "metadata": {
            "tags": [],
            "needs_background": "light"
          }
        }
      ]
    },
    {
      "cell_type": "code",
      "metadata": {
        "id": "8tUbAhH8XHEM",
        "colab": {
          "base_uri": "https://localhost:8080/",
          "height": 592
        },
        "outputId": "a3bb2140-c48a-46a7-a9d3-bb03b4bf6572"
      },
      "source": [
        "true = y_val\n",
        "pred = knn_pred\n",
        "\n",
        "plt.figure(figsize=[15, 10])\n",
        "plt.hist([true, pred], width = 0.25, histtype='bar', weights=[(np.zeros_like(true) + 1. / true.size), (np.zeros_like(pred) + 1. / pred.size)], align='mid')\n",
        "# plt.hist(pred, color = 'y', width = 0.25, histtype='bar')\n",
        "classes = ['No Data', 'Cultivated Land', 'Forest', 'Grassland', 'Shrubland', 'Water', 'Wetlands', 'Tundra', 'Artificial Surface', 'Bareland']\n",
        "plt.legend(['y True', 'y Prediction'])\n",
        "\n",
        "plt.xticks([i + 0.25 for i in range(len(classes))], classes)\n",
        "plt.show()"
      ],
      "execution_count": null,
      "outputs": [
        {
          "output_type": "display_data",
          "data": {
            "image/png": "[encoded data removed]",
            "text/plain": [
              "<Figure size 1080x720 with 1 Axes>"
            ]
          },
          "metadata": {
            "tags": [],
            "needs_background": "light"
          }
        }
      ]
    },
    {
      "cell_type": "markdown",
      "metadata": {
        "id": "yYLg_qbGY5b-"
      },
      "source": [
        "GridSearch optimal k parameter:"
      ]
    },
    {
      "cell_type": "code",
      "metadata": {
        "colab": {
          "base_uri": "https://localhost:8080/"
        },
        "id": "D3qzfvTFY4Ho",
        "outputId": "e590c513-d771-437b-a723-a207e07a2152"
      },
      "source": [
        "grid_search_params = {\n",
        "    'n_neighbors': [3,5,10,15,20],\n",
        "    'weights':['uniform', 'distance'],\n",
        "    'metric':['euclidean', 'manhattan']\n",
        "}\n",
        "\n",
        "gs = GridSearchCV(\n",
        "    KNeighborsClassifier(),\n",
        "    grid_search_params,\n",
        "    verbose = 1,\n",
        "    cv = 3,\n",
        "    n_jobs = -1\n",
        ")\n",
        "\n",
        "gs_results = gs.fit(X_train, y_train)\n"
      ],
      "execution_count": null,
      "outputs": [
        {
          "output_type": "stream",
          "text": [
            "Fitting 3 folds for each of 20 candidates, totalling 60 fits\n"
          ],
          "name": "stdout"
        },
        {
          "output_type": "stream",
          "text": [
            "[Parallel(n_jobs=-1)]: Using backend LokyBackend with 2 concurrent workers.\n",
            "[Parallel(n_jobs=-1)]: Done  46 tasks      | elapsed:   31.8s\n",
            "[Parallel(n_jobs=-1)]: Done  60 out of  60 | elapsed:   44.7s finished\n"
          ],
          "name": "stderr"
        }
      ]
    },
    {
      "cell_type": "code",
      "metadata": {
        "colab": {
          "base_uri": "https://localhost:8080/"
        },
        "id": "KS1BGul5aReX",
        "outputId": "0eaa685e-923c-4292-ea18-a610446cb155"
      },
      "source": [
        "# Best accuracy score\n",
        "print('Best accuracy: ' + str(gs_results.best_score_))\n",
        "\n",
        "# Best paramters\n",
        "print('Best parameters: '+str(gs_results.best_params_))\n"
      ],
      "execution_count": null,
      "outputs": [
        {
          "output_type": "stream",
          "text": [
            "Best accuracy: 0.7308554178323675\n",
            "Best parameters: {'metric': 'manhattan', 'n_neighbors': 10, 'weights': 'distance'}\n"
          ],
          "name": "stdout"
        }
      ]
    },
    {
      "cell_type": "code",
      "metadata": {
        "colab": {
          "base_uri": "https://localhost:8080/"
        },
        "id": "WPXGS8kfaqc_",
        "outputId": "7730b3b8-0c4c-4969-d352-e2231e49703b"
      },
      "source": [
        "# Apply best model and get predictions:\n",
        "best_knn_predictions = gs_results.best_estimator_.predict(X_val)\n",
        "\n",
        "# Print accuracy:\n",
        "print(f\"Accuracy: {accuracy_score(y_val, best_knn_predictions)*100}\")"
      ],
      "execution_count": null,
      "outputs": [
        {
          "output_type": "stream",
          "text": [
            "Accuracy: 74.86666666666667\n"
          ],
          "name": "stdout"
        }
      ]
    },
    {
      "cell_type": "code",
      "metadata": {
        "colab": {
          "base_uri": "https://localhost:8080/",
          "height": 592
        },
        "id": "XFALxFotbRy-",
        "outputId": "b5919d45-ad89-448e-e29f-fbd0751fe997"
      },
      "source": [
        "true = y_val\n",
        "pred = best_knn_predictions\n",
        "\n",
        "plt.figure(figsize=[15, 10])\n",
        "plt.hist([true, pred], width = 0.25, histtype='bar', weights=[(np.zeros_like(true) + 1. / true.size), (np.zeros_like(pred) + 1. / pred.size)], align='mid')\n",
        "# plt.hist(pred, color = 'y', width = 0.25, histtype='bar')\n",
        "classes = ['No Data', 'Cultivated Land', 'Forest', 'Grassland', 'Shrubland', 'Water', 'Wetlands', 'Tundra', 'Artificial Surface', 'Bareland']\n",
        "plt.legend(['y True', 'y Prediction'])\n",
        "\n",
        "plt.xticks([i + 0.25 for i in range(len(classes))], classes)\n",
        "plt.show()"
      ],
      "execution_count": null,
      "outputs": [
        {
          "output_type": "display_data",
          "data": {
            "image/png": "[encoded data removed]",
            "text/plain": [
              "<Figure size 1080x720 with 1 Axes>"
            ]
          },
          "metadata": {
            "tags": [],
            "needs_background": "light"
          }
        }
      ]
    },
    {
      "cell_type": "markdown",
      "metadata": {
        "id": "lM48lepDNtMM"
      },
      "source": [
        "# Support Vector Machines\n"
      ]
    },
    {
      "cell_type": "code",
      "metadata": {
        "colab": {
          "base_uri": "https://localhost:8080/"
        },
        "id": "js8XA_Z_NsCt",
        "outputId": "6145e32d-3957-4830-f3a3-33a8e24bef1a"
      },
      "source": [
        "svm = SVC(C=1.0, kernel='linear', degree=6, cache_size=1024)\n",
        "\n",
        "# Fit Data\n",
        "svm.fit(X_train, y_train)"
      ],
      "execution_count": null,
      "outputs": [
        {
          "output_type": "execute_result",
          "data": {
            "text/plain": [
              "SVC(C=1.0, break_ties=False, cache_size=1024, class_weight=None, coef0=0.0,\n",
              "    decision_function_shape='ovr', degree=6, gamma='scale', kernel='linear',\n",
              "    max_iter=-1, probability=False, random_state=None, shrinking=True,\n",
              "    tol=0.001, verbose=False)"
            ]
          },
          "metadata": {
            "tags": []
          },
          "execution_count": 19
        }
      ]
    },
    {
      "cell_type": "code",
      "metadata": {
        "colab": {
          "base_uri": "https://localhost:8080/"
        },
        "id": "ImhSd1VdPo37",
        "outputId": "7b7de9ef-c018-4f7b-bfc2-2601df74fb5f"
      },
      "source": [
        "# Predict labels for test data\n",
        "svm_pred = svm.predict(X_val)\n",
        "\n",
        "# Accuracy and Classification Reeport\n",
        "print(f\"Accuracy: {accuracy_score(y_val, svm_pred)*100}\")\n",
        "print(classification_report(y_val, svm_pred))"
      ],
      "execution_count": null,
      "outputs": [
        {
          "output_type": "stream",
          "text": [
            "Accuracy: 69.76666666666667\n",
            "              precision    recall  f1-score   support\n",
            "\n",
            "           0       0.58      0.35      0.44       392\n",
            "           1       0.60      0.04      0.08        72\n",
            "           2       0.74      0.95      0.83      1739\n",
            "           3       0.49      0.41      0.44       338\n",
            "           4       0.50      0.17      0.26       231\n",
            "           5       0.90      0.53      0.67        17\n",
            "           8       1.00      0.03      0.06        65\n",
            "           9       0.72      0.76      0.74       146\n",
            "\n",
            "    accuracy                           0.70      3000\n",
            "   macro avg       0.69      0.41      0.44      3000\n",
            "weighted avg       0.68      0.70      0.65      3000\n",
            "\n"
          ],
          "name": "stdout"
        }
      ]
    },
    {
      "cell_type": "markdown",
      "metadata": {
        "id": "EpiR4jmnRCcW"
      },
      "source": [
        "# Gradient Boosting Classifiers\n"
      ]
    },
    {
      "cell_type": "markdown",
      "metadata": {
        "id": "KlyAotMJRHY3"
      },
      "source": [
        "## AdaBoost\n"
      ]
    },
    {
      "cell_type": "code",
      "metadata": {
        "colab": {
          "base_uri": "https://localhost:8080/"
        },
        "id": "jChPPWk-RWPQ",
        "outputId": "83ad7ce3-b5c6-455f-a71b-aa08f0fae9e1"
      },
      "source": [
        "adab = AdaBoostClassifier(n_estimators=250)\n",
        "\n",
        "# Fit Data\n",
        "adab.fit(X_train, y_train)\n"
      ],
      "execution_count": null,
      "outputs": [
        {
          "output_type": "execute_result",
          "data": {
            "text/plain": [
              "AdaBoostClassifier(algorithm='SAMME.R', base_estimator=None, learning_rate=1.0,\n",
              "                   n_estimators=250, random_state=None)"
            ]
          },
          "metadata": {
            "tags": []
          },
          "execution_count": 21
        }
      ]
    },
    {
      "cell_type": "code",
      "metadata": {
        "colab": {
          "base_uri": "https://localhost:8080/"
        },
        "id": "-qhlqwZcR9jP",
        "outputId": "4f206e28-8982-43a6-dfdd-ece50757936f"
      },
      "source": [
        "# Predict labels for test data\n",
        "adab_pred = adab.predict(X_val)\n",
        "\n",
        "# Accuracy and Classification Reeport\n",
        "print(f\"Accuracy: {accuracy_score(y_val, adab_pred)*100}\")\n",
        "print(classification_report(y_val, adab_pred))"
      ],
      "execution_count": null,
      "outputs": [
        {
          "output_type": "stream",
          "text": [
            "Accuracy: 46.5\n",
            "              precision    recall  f1-score   support\n",
            "\n",
            "           0       0.47      0.12      0.19       392\n",
            "           1       0.12      0.68      0.20        72\n",
            "           2       0.75      0.66      0.71      1739\n",
            "           3       0.26      0.17      0.20       338\n",
            "           4       0.18      0.06      0.09       231\n",
            "           5       0.03      0.53      0.06        17\n",
            "           8       0.04      0.14      0.06        65\n",
            "           9       0.40      0.37      0.38       146\n",
            "\n",
            "    accuracy                           0.47      3000\n",
            "   macro avg       0.28      0.34      0.24      3000\n",
            "weighted avg       0.56      0.47      0.49      3000\n",
            "\n"
          ],
          "name": "stdout"
        }
      ]
    },
    {
      "cell_type": "markdown",
      "metadata": {
        "id": "JLMAmy6ISoe9"
      },
      "source": [
        "## Gradient Boosting Classifier\n"
      ]
    },
    {
      "cell_type": "code",
      "metadata": {
        "colab": {
          "base_uri": "https://localhost:8080/"
        },
        "id": "oYA67CmOSndF",
        "outputId": "aa12c108-c114-4b22-d2d8-8ab2a45a6db5"
      },
      "source": [
        "gbc = GradientBoostingClassifier()\n",
        "\n",
        "\n",
        "# Fit Data\n",
        "gbc.fit(X_train, y_train)\n"
      ],
      "execution_count": null,
      "outputs": [
        {
          "output_type": "execute_result",
          "data": {
            "text/plain": [
              "GradientBoostingClassifier(ccp_alpha=0.0, criterion='friedman_mse', init=None,\n",
              "                           learning_rate=0.1, loss='deviance', max_depth=3,\n",
              "                           max_features=None, max_leaf_nodes=None,\n",
              "                           min_impurity_decrease=0.0, min_impurity_split=None,\n",
              "                           min_samples_leaf=1, min_samples_split=2,\n",
              "                           min_weight_fraction_leaf=0.0, n_estimators=100,\n",
              "                           n_iter_no_change=None, presort='deprecated',\n",
              "                           random_state=None, subsample=1.0, tol=0.0001,\n",
              "                           validation_fraction=0.1, verbose=0,\n",
              "                           warm_start=False)"
            ]
          },
          "metadata": {
            "tags": []
          },
          "execution_count": 23
        }
      ]
    },
    {
      "cell_type": "code",
      "metadata": {
        "colab": {
          "base_uri": "https://localhost:8080/"
        },
        "id": "iS6terpDTOdV",
        "outputId": "57186e82-9152-453f-d3df-6528c0e16de2"
      },
      "source": [
        "# Predict labels for test data\n",
        "gbc_pred = gbc.predict(X_val)\n",
        "\n",
        "# Accuracy and Classification Reeport\n",
        "print(f\"Accuracy: {accuracy_score(y_val, gbc_pred)*100}\")\n",
        "print(classification_report(y_val, gbc_pred))"
      ],
      "execution_count": null,
      "outputs": [
        {
          "output_type": "stream",
          "text": [
            "Accuracy: 77.2\n",
            "              precision    recall  f1-score   support\n",
            "\n",
            "           0       0.81      0.65      0.72       392\n",
            "           1       0.61      0.39      0.47        72\n",
            "           2       0.83      0.95      0.88      1739\n",
            "           3       0.59      0.55      0.57       338\n",
            "           4       0.47      0.22      0.30       231\n",
            "           5       0.75      0.53      0.62        17\n",
            "           8       0.61      0.38      0.47        65\n",
            "           9       0.66      0.77      0.71       146\n",
            "\n",
            "    accuracy                           0.77      3000\n",
            "   macro avg       0.67      0.56      0.59      3000\n",
            "weighted avg       0.75      0.77      0.75      3000\n",
            "\n"
          ],
          "name": "stdout"
        }
      ]
    },
    {
      "cell_type": "markdown",
      "metadata": {
        "id": "LQXZEm9OtEPK"
      },
      "source": [
        "##XGBoost:"
      ]
    },
    {
      "cell_type": "code",
      "metadata": {
        "id": "XpZH5WWgtIqC",
        "colab": {
          "base_uri": "https://localhost:8080/"
        },
        "outputId": "7e4d795d-fb47-4d7e-bcd2-e3a15c02984a"
      },
      "source": [
        "xgb_model = xgb.XGBClassifier(objective='multi:softmax', random_state=42)\n",
        "\n",
        "# Fit Data\n",
        "xgb_model.fit(X_train, y_train)"
      ],
      "execution_count": null,
      "outputs": [
        {
          "output_type": "execute_result",
          "data": {
            "text/plain": [
              "XGBClassifier(base_score=0.5, booster='gbtree', colsample_bylevel=1,\n",
              "              colsample_bynode=1, colsample_bytree=1, gamma=0,\n",
              "              learning_rate=0.1, max_delta_step=0, max_depth=3,\n",
              "              min_child_weight=1, missing=None, n_estimators=100, n_jobs=1,\n",
              "              nthread=None, objective='multi:softprob', random_state=42,\n",
              "              reg_alpha=0, reg_lambda=1, scale_pos_weight=1, seed=None,\n",
              "              silent=None, subsample=1, verbosity=1)"
            ]
          },
          "metadata": {
            "tags": []
          },
          "execution_count": 25
        }
      ]
    },
    {
      "cell_type": "code",
      "metadata": {
        "id": "2UFcgCYbtqtG",
        "colab": {
          "base_uri": "https://localhost:8080/"
        },
        "outputId": "2b3f9a1f-15be-493b-ff8a-8c67ece77c17"
      },
      "source": [
        "# Predict labels for test data\n",
        "xgb_pred = xgb_model.predict(X_val)\n",
        "\n",
        "# Accuracy and Classification Reeport\n",
        "print(f\"Accuracy: {accuracy_score(y_val, xgb_pred)*100}\")\n",
        "print(classification_report(y_val, xgb_pred))"
      ],
      "execution_count": null,
      "outputs": [
        {
          "output_type": "stream",
          "text": [
            "Accuracy: 76.56666666666668\n",
            "              precision    recall  f1-score   support\n",
            "\n",
            "           0       0.82      0.60      0.69       392\n",
            "           1       0.56      0.40      0.47        72\n",
            "           2       0.82      0.95      0.88      1739\n",
            "           3       0.54      0.54      0.54       338\n",
            "           4       0.51      0.21      0.30       231\n",
            "           5       1.00      0.53      0.69        17\n",
            "           8       0.72      0.35      0.47        65\n",
            "           9       0.66      0.80      0.72       146\n",
            "\n",
            "    accuracy                           0.77      3000\n",
            "   macro avg       0.70      0.55      0.60      3000\n",
            "weighted avg       0.75      0.77      0.75      3000\n",
            "\n"
          ],
          "name": "stdout"
        }
      ]
    },
    {
      "cell_type": "markdown",
      "metadata": {
        "id": "CisdHGFeunRN"
      },
      "source": [
        "GridSearch:"
      ]
    },
    {
      "cell_type": "code",
      "metadata": {
        "id": "r8JMOPKXuo0O"
      },
      "source": [
        "# A parameter grid for XGBoost\n",
        "xgb_grid_search_params = {\n",
        "        'min_child_weight': [1, 5, 10],\n",
        "        'gamma': [0.5, 1, 1.5, 2, 5],\n",
        "        'subsample': [0.6, 0.8, 1.0],\n",
        "        'colsample_bytree': [0.6, 0.8, 1.0],\n",
        "        'max_depth': [3, 4, 5]\n",
        "        }\n",
        "\n",
        "xgb_gs = GridSearchCV(\n",
        "    xgb.XGBClassifier(objective='multi:softmax', random_state=42),\n",
        "    xgb_grid_search_params,\n",
        "    verbose = 1,\n",
        "    cv = 5,\n",
        "    n_jobs = -1\n",
        ")\n",
        "\n",
        "gs_xgb_results = xgb_gs.fit(X_train, y_train)\n"
      ],
      "execution_count": null,
      "outputs": []
    },
    {
      "cell_type": "code",
      "metadata": {
        "id": "CLxdPkRDwMl0"
      },
      "source": [
        "# Best accuracy score\n",
        "print('Best accuracy: ' + str(gs_xgb_results.best_score_))\n",
        "\n",
        "# Best paramters\n",
        "print('Best parameters: '+str(gs_xgb_results.best_params_))\n"
      ],
      "execution_count": null,
      "outputs": []
    },
    {
      "cell_type": "markdown",
      "metadata": {
        "id": "gID3hyFZVYC0"
      },
      "source": [
        "##lightGBM:\n"
      ]
    },
    {
      "cell_type": "code",
      "metadata": {
        "id": "cK5gdRJbVaub"
      },
      "source": [
        "d_train = lgb.Dataset(X_train, label=y_train)\n",
        "\n",
        "# Parameters\n",
        "params={}\n",
        "params['learning_rate']=0.03\n",
        "params['boosting_type']='gbdt' #GradientBoostingDecisionTree\n",
        "params['objective']='multiclass' #Multi-class target feature\n",
        "params['metric']='multi_logloss' #metric for multi-class\n",
        "params['max_depth']=15\n",
        "params['num_class']=11 #no.of unique values in the target class not inclusive of the end value\n",
        "\n",
        "lgb_model = lgb.train(params, d_train, 100)\n"
      ],
      "execution_count": null,
      "outputs": []
    },
    {
      "cell_type": "code",
      "metadata": {
        "colab": {
          "base_uri": "https://localhost:8080/"
        },
        "id": "rekUvWIOVxLL",
        "outputId": "2ea492f1-2326-4f5f-94ba-29ec5f890a0d"
      },
      "source": [
        "# prediction\n",
        "lgb_predictions = lgb_model.predict(X_val)\n",
        "lgb_pred = np.argmax(lgb_predictions, axis=1)\n",
        "\n",
        "# Accuracy and Classification Report\n",
        "print(f\"Accuracy: {accuracy_score(y_val, lgb_pred)*100}\")\n",
        "print(classification_report(y_val, lgb_pred))"
      ],
      "execution_count": null,
      "outputs": [
        {
          "output_type": "stream",
          "text": [
            "Accuracy: 78.43333333333334\n",
            "              precision    recall  f1-score   support\n",
            "\n",
            "           0       0.86      0.69      0.76       392\n",
            "           1       0.62      0.28      0.38        72\n",
            "           2       0.82      0.97      0.89      1739\n",
            "           3       0.60      0.54      0.57       338\n",
            "           4       0.52      0.24      0.33       231\n",
            "           5       1.00      0.59      0.74        17\n",
            "           8       0.73      0.37      0.49        65\n",
            "           9       0.74      0.77      0.75       146\n",
            "\n",
            "    accuracy                           0.78      3000\n",
            "   macro avg       0.74      0.55      0.61      3000\n",
            "weighted avg       0.77      0.78      0.76      3000\n",
            "\n"
          ],
          "name": "stdout"
        }
      ]
    },
    {
      "cell_type": "code",
      "metadata": {
        "colab": {
          "base_uri": "https://localhost:8080/",
          "height": 592
        },
        "id": "rZ511o6lYJoC",
        "outputId": "a1fc6f8e-8038-42d3-9170-42b6dc28d83f"
      },
      "source": [
        "true = y_val\n",
        "pred = lgb_pred\n",
        "\n",
        "plt.figure(figsize=[15, 10])\n",
        "plt.hist([true, pred], width = 0.25, histtype='bar', weights=[(np.zeros_like(true) + 1. / true.size), (np.zeros_like(pred) + 1. / pred.size)], align='mid')\n",
        "# plt.hist(pred, color = 'y', width = 0.25, histtype='bar')\n",
        "classes = ['No Data', 'Cultivated Land', 'Forest', 'Grassland', 'Shrubland', 'Water', 'Wetlands', 'Tundra', 'Artificial Surface', 'Bareland']\n",
        "plt.legend(['y True', 'y Prediction'])\n",
        "\n",
        "plt.xticks([i + 0.25 for i in range(len(classes))], classes)\n",
        "plt.show()"
      ],
      "execution_count": null,
      "outputs": [
        {
          "output_type": "display_data",
          "data": {
            "image/png": "[encoded data removed]",
            "text/plain": [
              "<Figure size 1080x720 with 1 Axes>"
            ]
          },
          "metadata": {
            "tags": [],
            "needs_background": "light"
          }
        }
      ]
    },
    {
      "cell_type": "code",
      "metadata": {
        "id": "zFipBu9XZMa6",
        "colab": {
          "base_uri": "https://localhost:8080/"
        },
        "outputId": "10eeefc1-ffaf-4c86-ce45-3627ad45681f"
      },
      "source": [
        "np.histogram(pred, bins=list(range(len(classes) + 1)))"
      ],
      "execution_count": null,
      "outputs": [
        {
          "output_type": "execute_result",
          "data": {
            "text/plain": [
              "array([[8.96666667e-02, 3.33333333e-04, 2.86666667e-02, 9.66666667e-03,\n",
              "        1.00000000e-03, 0.00000000e+00, 1.33333333e-03, 0.00000000e+00],\n",
              "       [0.00000000e+00, 6.66666667e-03, 4.33333333e-03, 1.26666667e-02,\n",
              "        0.00000000e+00, 0.00000000e+00, 3.33333333e-04, 0.00000000e+00],\n",
              "       [6.66666667e-03, 6.66666667e-04, 5.60000000e-01, 7.00000000e-03,\n",
              "        4.00000000e-03, 0.00000000e+00, 3.33333333e-04, 1.00000000e-03],\n",
              "       [2.33333333e-03, 2.00000000e-03, 4.30000000e-02, 6.06666667e-02,\n",
              "        3.66666667e-03, 0.00000000e+00, 1.00000000e-03, 0.00000000e+00],\n",
              "       [3.00000000e-03, 0.00000000e+00, 3.66666667e-02, 6.33333333e-03,\n",
              "        1.86666667e-02, 0.00000000e+00, 0.00000000e+00, 1.23333333e-02],\n",
              "       [0.00000000e+00, 0.00000000e+00, 2.00000000e-03, 3.33333333e-04,\n",
              "        0.00000000e+00, 3.33333333e-03, 0.00000000e+00, 0.00000000e+00],\n",
              "       [2.00000000e-03, 1.00000000e-03, 6.00000000e-03, 4.66666667e-03,\n",
              "        0.00000000e+00, 0.00000000e+00, 8.00000000e-03, 0.00000000e+00],\n",
              "       [3.33333333e-04, 0.00000000e+00, 2.66666667e-03, 0.00000000e+00,\n",
              "        8.33333333e-03, 0.00000000e+00, 0.00000000e+00, 3.73333333e-02]])"
            ]
          },
          "metadata": {
            "tags": []
          },
          "execution_count": 60
        }
      ]
    },
    {
      "cell_type": "code",
      "metadata": {
        "id": "W8cpJj61Uaak",
        "colab": {
          "base_uri": "https://localhost:8080/",
          "height": 873
        },
        "outputId": "9eb97862-a2e9-4315-d9e3-60c85703c036"
      },
      "source": [
        "# Confusion Matrix:\n",
        "df_cm_lgb = pd.DataFrame(confusion_matrix(true, pred)/len(pred),index=classes_without_empty_labels,columns=classes_without_empty_labels)\n",
        "plt.figure(figsize = (12,12))\n",
        "heatmap(df_cm_lgb, annot=True, fmt='.2%')\n",
        "plt.tight_layout()\n",
        "plt.show()"
      ],
      "execution_count": null,
      "outputs": [
        {
          "output_type": "display_data",
          "data": {
            "image/png": "[encoded data removed]",
            "text/plain": [
              "<Figure size 864x864 with 2 Axes>"
            ]
          },
          "metadata": {
            "tags": [],
            "needs_background": "light"
          }
        }
      ]
    },
    {
      "cell_type": "markdown",
      "metadata": {
        "id": "SFEZjF7tksKq"
      },
      "source": [
        "Grid search optimal parameters:"
      ]
    },
    {
      "cell_type": "code",
      "metadata": {
        "id": "gWWQ3qVokxZo"
      },
      "source": [
        ""
      ],
      "execution_count": null,
      "outputs": []
    }
  ]
}